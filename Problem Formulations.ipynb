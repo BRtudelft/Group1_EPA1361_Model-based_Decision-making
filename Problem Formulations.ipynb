{
 "cells": [
  {
   "cell_type": "code",
   "execution_count": 5,
   "metadata": {
    "ExecuteTime": {
     "start_time": "2023-06-01T11:26:17.102725Z",
     "end_time": "2023-06-01T11:26:17.600293Z"
    }
   },
   "outputs": [],
   "source": [
    "import numpy as np\n",
    "import scipy as sp\n",
    "import pandas as pd\n",
    "import matplotlib.pyplot as plt\n",
    "import seaborn as sns\n",
    "import networkx as nx"
   ]
  },
  {
   "cell_type": "code",
   "execution_count": 6,
   "metadata": {
    "ExecuteTime": {
     "start_time": "2023-06-01T11:26:17.163111Z",
     "end_time": "2023-06-01T11:26:17.646889Z"
    }
   },
   "outputs": [
    {
     "name": "stdout",
     "output_type": "stream",
     "text": [
      "2.0.1\n",
      "3.1\n"
     ]
    }
   ],
   "source": [
    "# make sure pandas is version 1.0 or higher\n",
    "# make sure networkx is verion 2.4 or higher\n",
    "print(pd.__version__)\n",
    "print(nx.__version__)"
   ]
  },
  {
   "cell_type": "code",
   "execution_count": 7,
   "metadata": {
    "scrolled": true,
    "ExecuteTime": {
     "start_time": "2023-06-01T11:26:17.205552Z",
     "end_time": "2023-06-01T11:26:17.647617Z"
    }
   },
   "outputs": [],
   "source": [
    "from ema_workbench import (\n",
    "    Model,\n",
    "    Policy,\n",
    "    ema_logging,\n",
    "    SequentialEvaluator,\n",
    "    MultiprocessingEvaluator,\n",
    ")\n",
    "from dike_model_function import DikeNetwork  # @UnresolvedImport\n",
    "from problem_formulation import get_model_for_problem_formulation, sum_over, sum_over_time\n",
    "\n"
   ]
  },
  {
   "cell_type": "code",
   "execution_count": 10,
   "metadata": {
    "ExecuteTime": {
     "start_time": "2023-06-01T11:29:36.448877Z",
     "end_time": "2023-06-01T11:29:36.790870Z"
    }
   },
   "outputs": [],
   "source": [
    "ema_logging.log_to_stderr(ema_logging.INFO)\n",
    "\n",
    "# choose problem formulation number, between 0-5\n",
    "# each problem formulation has its own list of outcomes\n",
    "dike_model, planning_steps = get_model_for_problem_formulation(3)"
   ]
  },
  {
   "cell_type": "code",
   "execution_count": 11,
   "metadata": {
    "ExecuteTime": {
     "start_time": "2023-06-01T11:29:38.092970Z",
     "end_time": "2023-06-01T11:29:38.115297Z"
    }
   },
   "outputs": [
    {
     "name": "stdout",
     "output_type": "stream",
     "text": [
      "CategoricalParameter('discount rate 0', [0, 1, 2, 3])\n",
      "CategoricalParameter('discount rate 1', [0, 1, 2, 3])\n",
      "CategoricalParameter('discount rate 2', [0, 1, 2, 3])\n",
      "IntegerParameter('A.0_ID flood wave shape', 0, 132, resolution=None, default=None, variable_name=['A.0_ID flood wave shape'], pff=False)\n",
      "RealParameter('A.1_Bmax', 30, 350, resolution=None, default=None, variable_name=['A.1_Bmax'], pff=False)\n",
      "RealParameter('A.1_pfail', 0, 1, resolution=None, default=None, variable_name=['A.1_pfail'], pff=False)\n",
      "CategoricalParameter('A.1_Brate', [0, 1, 2])\n",
      "RealParameter('A.2_Bmax', 30, 350, resolution=None, default=None, variable_name=['A.2_Bmax'], pff=False)\n",
      "RealParameter('A.2_pfail', 0, 1, resolution=None, default=None, variable_name=['A.2_pfail'], pff=False)\n",
      "CategoricalParameter('A.2_Brate', [0, 1, 2])\n",
      "RealParameter('A.3_Bmax', 30, 350, resolution=None, default=None, variable_name=['A.3_Bmax'], pff=False)\n",
      "RealParameter('A.3_pfail', 0, 1, resolution=None, default=None, variable_name=['A.3_pfail'], pff=False)\n",
      "CategoricalParameter('A.3_Brate', [0, 1, 2])\n",
      "RealParameter('A.4_Bmax', 30, 350, resolution=None, default=None, variable_name=['A.4_Bmax'], pff=False)\n",
      "RealParameter('A.4_pfail', 0, 1, resolution=None, default=None, variable_name=['A.4_pfail'], pff=False)\n",
      "CategoricalParameter('A.4_Brate', [0, 1, 2])\n",
      "RealParameter('A.5_Bmax', 30, 350, resolution=None, default=None, variable_name=['A.5_Bmax'], pff=False)\n",
      "RealParameter('A.5_pfail', 0, 1, resolution=None, default=None, variable_name=['A.5_pfail'], pff=False)\n",
      "CategoricalParameter('A.5_Brate', [0, 1, 2])\n"
     ]
    }
   ],
   "source": [
    "# enlisting uncertainties, their types (RealParameter/IntegerParameter/CategoricalParameter), lower boundary, and upper boundary\n",
    "import copy\n",
    "\n",
    "for unc in dike_model.uncertainties:\n",
    "    print(repr(unc))\n",
    "\n",
    "uncertainties = copy.deepcopy(dike_model.uncertainties)"
   ]
  },
  {
   "cell_type": "code",
   "execution_count": 12,
   "metadata": {
    "ExecuteTime": {
     "start_time": "2023-06-01T11:29:39.208875Z",
     "end_time": "2023-06-01T11:29:39.234898Z"
    }
   },
   "outputs": [
    {
     "name": "stdout",
     "output_type": "stream",
     "text": [
      "IntegerParameter('0_RfR 0', 0, 1, resolution=None, default=None, variable_name=['0_RfR 0'], pff=False)\n",
      "IntegerParameter('0_RfR 1', 0, 1, resolution=None, default=None, variable_name=['0_RfR 1'], pff=False)\n",
      "IntegerParameter('0_RfR 2', 0, 1, resolution=None, default=None, variable_name=['0_RfR 2'], pff=False)\n",
      "IntegerParameter('1_RfR 0', 0, 1, resolution=None, default=None, variable_name=['1_RfR 0'], pff=False)\n",
      "IntegerParameter('1_RfR 1', 0, 1, resolution=None, default=None, variable_name=['1_RfR 1'], pff=False)\n",
      "IntegerParameter('1_RfR 2', 0, 1, resolution=None, default=None, variable_name=['1_RfR 2'], pff=False)\n",
      "IntegerParameter('2_RfR 0', 0, 1, resolution=None, default=None, variable_name=['2_RfR 0'], pff=False)\n",
      "IntegerParameter('2_RfR 1', 0, 1, resolution=None, default=None, variable_name=['2_RfR 1'], pff=False)\n",
      "IntegerParameter('2_RfR 2', 0, 1, resolution=None, default=None, variable_name=['2_RfR 2'], pff=False)\n",
      "IntegerParameter('3_RfR 0', 0, 1, resolution=None, default=None, variable_name=['3_RfR 0'], pff=False)\n",
      "IntegerParameter('3_RfR 1', 0, 1, resolution=None, default=None, variable_name=['3_RfR 1'], pff=False)\n",
      "IntegerParameter('3_RfR 2', 0, 1, resolution=None, default=None, variable_name=['3_RfR 2'], pff=False)\n",
      "IntegerParameter('4_RfR 0', 0, 1, resolution=None, default=None, variable_name=['4_RfR 0'], pff=False)\n",
      "IntegerParameter('4_RfR 1', 0, 1, resolution=None, default=None, variable_name=['4_RfR 1'], pff=False)\n",
      "IntegerParameter('4_RfR 2', 0, 1, resolution=None, default=None, variable_name=['4_RfR 2'], pff=False)\n",
      "IntegerParameter('EWS_DaysToThreat', 0, 4, resolution=None, default=None, variable_name=['EWS_DaysToThreat'], pff=False)\n",
      "IntegerParameter('A.1_DikeIncrease 0', 0, 10, resolution=None, default=None, variable_name=['A.1_DikeIncrease 0'], pff=False)\n",
      "IntegerParameter('A.1_DikeIncrease 1', 0, 10, resolution=None, default=None, variable_name=['A.1_DikeIncrease 1'], pff=False)\n",
      "IntegerParameter('A.1_DikeIncrease 2', 0, 10, resolution=None, default=None, variable_name=['A.1_DikeIncrease 2'], pff=False)\n",
      "IntegerParameter('A.2_DikeIncrease 0', 0, 10, resolution=None, default=None, variable_name=['A.2_DikeIncrease 0'], pff=False)\n",
      "IntegerParameter('A.2_DikeIncrease 1', 0, 10, resolution=None, default=None, variable_name=['A.2_DikeIncrease 1'], pff=False)\n",
      "IntegerParameter('A.2_DikeIncrease 2', 0, 10, resolution=None, default=None, variable_name=['A.2_DikeIncrease 2'], pff=False)\n",
      "IntegerParameter('A.3_DikeIncrease 0', 0, 10, resolution=None, default=None, variable_name=['A.3_DikeIncrease 0'], pff=False)\n",
      "IntegerParameter('A.3_DikeIncrease 1', 0, 10, resolution=None, default=None, variable_name=['A.3_DikeIncrease 1'], pff=False)\n",
      "IntegerParameter('A.3_DikeIncrease 2', 0, 10, resolution=None, default=None, variable_name=['A.3_DikeIncrease 2'], pff=False)\n",
      "IntegerParameter('A.4_DikeIncrease 0', 0, 10, resolution=None, default=None, variable_name=['A.4_DikeIncrease 0'], pff=False)\n",
      "IntegerParameter('A.4_DikeIncrease 1', 0, 10, resolution=None, default=None, variable_name=['A.4_DikeIncrease 1'], pff=False)\n",
      "IntegerParameter('A.4_DikeIncrease 2', 0, 10, resolution=None, default=None, variable_name=['A.4_DikeIncrease 2'], pff=False)\n",
      "IntegerParameter('A.5_DikeIncrease 0', 0, 10, resolution=None, default=None, variable_name=['A.5_DikeIncrease 0'], pff=False)\n",
      "IntegerParameter('A.5_DikeIncrease 1', 0, 10, resolution=None, default=None, variable_name=['A.5_DikeIncrease 1'], pff=False)\n",
      "IntegerParameter('A.5_DikeIncrease 2', 0, 10, resolution=None, default=None, variable_name=['A.5_DikeIncrease 2'], pff=False)\n"
     ]
    }
   ],
   "source": [
    "# enlisting policy levers, their types (RealParameter/IntegerParameter), lower boundary, and upper boundary\n",
    "for policy in dike_model.levers:\n",
    "    print(repr(policy))\n",
    "\n",
    "levers = copy.deepcopy(dike_model.levers)"
   ]
  },
  {
   "cell_type": "code",
   "execution_count": 13,
   "metadata": {
    "ExecuteTime": {
     "start_time": "2023-06-01T11:29:39.863865Z",
     "end_time": "2023-06-01T11:29:39.908509Z"
    }
   },
   "outputs": [
    {
     "name": "stdout",
     "output_type": "stream",
     "text": [
      "ScalarOutcome('A.1 Total Costs', variable_name=('A.1_Expected Annual Damage', 'A.1_Dike Investment Costs'), function=<function sum_over at 0x121c19e40>)\n",
      "ScalarOutcome('A.1_Expected Number of Deaths', variable_name=('A.1_Expected Number of Deaths',), function=<function sum_over at 0x121c19e40>)\n",
      "ScalarOutcome('A.2 Total Costs', variable_name=('A.2_Expected Annual Damage', 'A.2_Dike Investment Costs'), function=<function sum_over at 0x121c19e40>)\n",
      "ScalarOutcome('A.2_Expected Number of Deaths', variable_name=('A.2_Expected Number of Deaths',), function=<function sum_over at 0x121c19e40>)\n",
      "ScalarOutcome('A.3 Total Costs', variable_name=('A.3_Expected Annual Damage', 'A.3_Dike Investment Costs'), function=<function sum_over at 0x121c19e40>)\n",
      "ScalarOutcome('A.3_Expected Number of Deaths', variable_name=('A.3_Expected Number of Deaths',), function=<function sum_over at 0x121c19e40>)\n",
      "ScalarOutcome('A.4 Total Costs', variable_name=('A.4_Expected Annual Damage', 'A.4_Dike Investment Costs'), function=<function sum_over at 0x121c19e40>)\n",
      "ScalarOutcome('A.4_Expected Number of Deaths', variable_name=('A.4_Expected Number of Deaths',), function=<function sum_over at 0x121c19e40>)\n",
      "ScalarOutcome('A.5 Total Costs', variable_name=('A.5_Expected Annual Damage', 'A.5_Dike Investment Costs'), function=<function sum_over at 0x121c19e40>)\n",
      "ScalarOutcome('A.5_Expected Number of Deaths', variable_name=('A.5_Expected Number of Deaths',), function=<function sum_over at 0x121c19e40>)\n",
      "ScalarOutcome('RfR Total Costs', variable_name=('RfR Total Costs',), function=<function sum_over at 0x121c19e40>)\n",
      "ScalarOutcome('Expected Evacuation Costs', variable_name=('Expected Evacuation Costs',), function=<function sum_over at 0x121c19e40>)\n"
     ]
    }
   ],
   "source": [
    "# enlisting outcomes\n",
    "for outcome in dike_model.outcomes:\n",
    "    print(repr(outcome))"
   ]
  },
  {
   "cell_type": "code",
   "execution_count": 14,
   "metadata": {
    "ExecuteTime": {
     "start_time": "2023-06-01T11:29:40.501487Z",
     "end_time": "2023-06-01T11:31:33.669304Z"
    }
   },
   "outputs": [
    {
     "name": "stderr",
     "output_type": "stream",
     "text": [
      "[MainProcess/INFO] pool started with 4 workers\n",
      "[MainProcess/INFO] performing 50 scenarios * 4 policies * 1 model(s) = 200 experiments\n",
      "100%|████████████████████████████████████████| 200/200 [01:34<00:00,  2.12it/s]\n",
      "[MainProcess/INFO] experiments finished\n",
      "[MainProcess/INFO] terminating pool\n"
     ]
    }
   ],
   "source": [
    "# running the model through EMA workbench\n",
    "with MultiprocessingEvaluator(dike_model) as evaluator:\n",
    "    results = evaluator.perform_experiments(scenarios=50, policies=4)"
   ]
  },
  {
   "cell_type": "code",
   "execution_count": 15,
   "metadata": {
    "scrolled": true,
    "ExecuteTime": {
     "start_time": "2023-06-01T11:31:33.684555Z",
     "end_time": "2023-06-01T11:31:33.805162Z"
    }
   },
   "outputs": [
    {
     "name": "stdout",
     "output_type": "stream",
     "text": [
      "dict_keys(['A.1 Total Costs', 'A.1_Expected Number of Deaths', 'A.2 Total Costs', 'A.2_Expected Number of Deaths', 'A.3 Total Costs', 'A.3_Expected Number of Deaths', 'A.4 Total Costs', 'A.4_Expected Number of Deaths', 'A.5 Total Costs', 'A.5_Expected Number of Deaths', 'RfR Total Costs', 'Expected Evacuation Costs'])\n"
     ]
    },
    {
     "data": {
      "text/plain": "     A.0_ID flood wave shape    A.1_Bmax A.1_Brate  A.1_pfail    A.2_Bmax   \n0                         64  205.365210       1.0   0.288224  257.548185  \\\n1                         37   68.724598       1.5   0.497429  335.622581   \n2                        125   96.076736       1.5   0.597215  303.722036   \n3                        130  317.261748       1.0   0.250318  214.109489   \n4                         69  287.512843       1.5   0.193586   93.745051   \n..                       ...         ...       ...        ...         ...   \n195                       75  266.625886      10.0   0.985194   48.851730   \n196                       85  118.316062       1.0   0.762466  310.748269   \n197                       15   41.462346       1.0   0.430579  193.714610   \n198                       81   30.082128       1.0   0.215345  139.556062   \n199                        9  200.567461       1.5   0.749075  219.896502   \n\n    A.2_Brate  A.2_pfail    A.3_Bmax A.3_Brate  A.3_pfail  ...   \n0         1.5   0.393544  318.207520      10.0   0.783991  ...  \\\n1        10.0   0.939751   79.277629       1.0   0.626310  ...   \n2        10.0   0.793522  303.501131       1.0   0.835825  ...   \n3         1.0   0.131701  298.309262      10.0   0.609279  ...   \n4         1.5   0.851633  271.343696      10.0   0.371513  ...   \n..        ...        ...         ...       ...        ...  ...   \n195      10.0   0.457623   84.008456       1.0   0.425501  ...   \n196       1.5   0.572978  245.644430      10.0   0.451376  ...   \n197       1.5   0.264062  282.140231       1.5   0.840104  ...   \n198      10.0   0.709997  218.246392       1.5   0.184443  ...   \n199       1.5   0.663452   91.864066       1.0   0.312987  ...   \n\n     A.4_DikeIncrease 0 A.4_DikeIncrease 1  A.4_DikeIncrease 2   \n0                     6                  7                   4  \\\n1                     6                  7                   4   \n2                     6                  7                   4   \n3                     6                  7                   4   \n4                     6                  7                   4   \n..                  ...                ...                 ...   \n195                   0                  8                   0   \n196                   0                  8                   0   \n197                   0                  8                   0   \n198                   0                  8                   0   \n199                   0                  8                   0   \n\n     A.5_DikeIncrease 0 A.5_DikeIncrease 1  A.5_DikeIncrease 2   \n0                     9                  6                   1  \\\n1                     9                  6                   1   \n2                     9                  6                   1   \n3                     9                  6                   1   \n4                     9                  6                   1   \n..                  ...                ...                 ...   \n195                   2                  2                   9   \n196                   2                  2                   9   \n197                   2                  2                   9   \n198                   2                  2                   9   \n199                   2                  2                   9   \n\n    EWS_DaysToThreat scenario policy     model  \n0                  1        4      0  dikesnet  \n1                  1        5      0  dikesnet  \n2                  1        6      0  dikesnet  \n3                  1        7      0  dikesnet  \n4                  1        8      0  dikesnet  \n..               ...      ...    ...       ...  \n195                3       49      3  dikesnet  \n196                3       50      3  dikesnet  \n197                3       51      3  dikesnet  \n198                3       52      3  dikesnet  \n199                3       53      3  dikesnet  \n\n[200 rows x 53 columns]",
      "text/html": "<div>\n<style scoped>\n    .dataframe tbody tr th:only-of-type {\n        vertical-align: middle;\n    }\n\n    .dataframe tbody tr th {\n        vertical-align: top;\n    }\n\n    .dataframe thead th {\n        text-align: right;\n    }\n</style>\n<table border=\"1\" class=\"dataframe\">\n  <thead>\n    <tr style=\"text-align: right;\">\n      <th></th>\n      <th>A.0_ID flood wave shape</th>\n      <th>A.1_Bmax</th>\n      <th>A.1_Brate</th>\n      <th>A.1_pfail</th>\n      <th>A.2_Bmax</th>\n      <th>A.2_Brate</th>\n      <th>A.2_pfail</th>\n      <th>A.3_Bmax</th>\n      <th>A.3_Brate</th>\n      <th>A.3_pfail</th>\n      <th>...</th>\n      <th>A.4_DikeIncrease 0</th>\n      <th>A.4_DikeIncrease 1</th>\n      <th>A.4_DikeIncrease 2</th>\n      <th>A.5_DikeIncrease 0</th>\n      <th>A.5_DikeIncrease 1</th>\n      <th>A.5_DikeIncrease 2</th>\n      <th>EWS_DaysToThreat</th>\n      <th>scenario</th>\n      <th>policy</th>\n      <th>model</th>\n    </tr>\n  </thead>\n  <tbody>\n    <tr>\n      <th>0</th>\n      <td>64</td>\n      <td>205.365210</td>\n      <td>1.0</td>\n      <td>0.288224</td>\n      <td>257.548185</td>\n      <td>1.5</td>\n      <td>0.393544</td>\n      <td>318.207520</td>\n      <td>10.0</td>\n      <td>0.783991</td>\n      <td>...</td>\n      <td>6</td>\n      <td>7</td>\n      <td>4</td>\n      <td>9</td>\n      <td>6</td>\n      <td>1</td>\n      <td>1</td>\n      <td>4</td>\n      <td>0</td>\n      <td>dikesnet</td>\n    </tr>\n    <tr>\n      <th>1</th>\n      <td>37</td>\n      <td>68.724598</td>\n      <td>1.5</td>\n      <td>0.497429</td>\n      <td>335.622581</td>\n      <td>10.0</td>\n      <td>0.939751</td>\n      <td>79.277629</td>\n      <td>1.0</td>\n      <td>0.626310</td>\n      <td>...</td>\n      <td>6</td>\n      <td>7</td>\n      <td>4</td>\n      <td>9</td>\n      <td>6</td>\n      <td>1</td>\n      <td>1</td>\n      <td>5</td>\n      <td>0</td>\n      <td>dikesnet</td>\n    </tr>\n    <tr>\n      <th>2</th>\n      <td>125</td>\n      <td>96.076736</td>\n      <td>1.5</td>\n      <td>0.597215</td>\n      <td>303.722036</td>\n      <td>10.0</td>\n      <td>0.793522</td>\n      <td>303.501131</td>\n      <td>1.0</td>\n      <td>0.835825</td>\n      <td>...</td>\n      <td>6</td>\n      <td>7</td>\n      <td>4</td>\n      <td>9</td>\n      <td>6</td>\n      <td>1</td>\n      <td>1</td>\n      <td>6</td>\n      <td>0</td>\n      <td>dikesnet</td>\n    </tr>\n    <tr>\n      <th>3</th>\n      <td>130</td>\n      <td>317.261748</td>\n      <td>1.0</td>\n      <td>0.250318</td>\n      <td>214.109489</td>\n      <td>1.0</td>\n      <td>0.131701</td>\n      <td>298.309262</td>\n      <td>10.0</td>\n      <td>0.609279</td>\n      <td>...</td>\n      <td>6</td>\n      <td>7</td>\n      <td>4</td>\n      <td>9</td>\n      <td>6</td>\n      <td>1</td>\n      <td>1</td>\n      <td>7</td>\n      <td>0</td>\n      <td>dikesnet</td>\n    </tr>\n    <tr>\n      <th>4</th>\n      <td>69</td>\n      <td>287.512843</td>\n      <td>1.5</td>\n      <td>0.193586</td>\n      <td>93.745051</td>\n      <td>1.5</td>\n      <td>0.851633</td>\n      <td>271.343696</td>\n      <td>10.0</td>\n      <td>0.371513</td>\n      <td>...</td>\n      <td>6</td>\n      <td>7</td>\n      <td>4</td>\n      <td>9</td>\n      <td>6</td>\n      <td>1</td>\n      <td>1</td>\n      <td>8</td>\n      <td>0</td>\n      <td>dikesnet</td>\n    </tr>\n    <tr>\n      <th>...</th>\n      <td>...</td>\n      <td>...</td>\n      <td>...</td>\n      <td>...</td>\n      <td>...</td>\n      <td>...</td>\n      <td>...</td>\n      <td>...</td>\n      <td>...</td>\n      <td>...</td>\n      <td>...</td>\n      <td>...</td>\n      <td>...</td>\n      <td>...</td>\n      <td>...</td>\n      <td>...</td>\n      <td>...</td>\n      <td>...</td>\n      <td>...</td>\n      <td>...</td>\n      <td>...</td>\n    </tr>\n    <tr>\n      <th>195</th>\n      <td>75</td>\n      <td>266.625886</td>\n      <td>10.0</td>\n      <td>0.985194</td>\n      <td>48.851730</td>\n      <td>10.0</td>\n      <td>0.457623</td>\n      <td>84.008456</td>\n      <td>1.0</td>\n      <td>0.425501</td>\n      <td>...</td>\n      <td>0</td>\n      <td>8</td>\n      <td>0</td>\n      <td>2</td>\n      <td>2</td>\n      <td>9</td>\n      <td>3</td>\n      <td>49</td>\n      <td>3</td>\n      <td>dikesnet</td>\n    </tr>\n    <tr>\n      <th>196</th>\n      <td>85</td>\n      <td>118.316062</td>\n      <td>1.0</td>\n      <td>0.762466</td>\n      <td>310.748269</td>\n      <td>1.5</td>\n      <td>0.572978</td>\n      <td>245.644430</td>\n      <td>10.0</td>\n      <td>0.451376</td>\n      <td>...</td>\n      <td>0</td>\n      <td>8</td>\n      <td>0</td>\n      <td>2</td>\n      <td>2</td>\n      <td>9</td>\n      <td>3</td>\n      <td>50</td>\n      <td>3</td>\n      <td>dikesnet</td>\n    </tr>\n    <tr>\n      <th>197</th>\n      <td>15</td>\n      <td>41.462346</td>\n      <td>1.0</td>\n      <td>0.430579</td>\n      <td>193.714610</td>\n      <td>1.5</td>\n      <td>0.264062</td>\n      <td>282.140231</td>\n      <td>1.5</td>\n      <td>0.840104</td>\n      <td>...</td>\n      <td>0</td>\n      <td>8</td>\n      <td>0</td>\n      <td>2</td>\n      <td>2</td>\n      <td>9</td>\n      <td>3</td>\n      <td>51</td>\n      <td>3</td>\n      <td>dikesnet</td>\n    </tr>\n    <tr>\n      <th>198</th>\n      <td>81</td>\n      <td>30.082128</td>\n      <td>1.0</td>\n      <td>0.215345</td>\n      <td>139.556062</td>\n      <td>10.0</td>\n      <td>0.709997</td>\n      <td>218.246392</td>\n      <td>1.5</td>\n      <td>0.184443</td>\n      <td>...</td>\n      <td>0</td>\n      <td>8</td>\n      <td>0</td>\n      <td>2</td>\n      <td>2</td>\n      <td>9</td>\n      <td>3</td>\n      <td>52</td>\n      <td>3</td>\n      <td>dikesnet</td>\n    </tr>\n    <tr>\n      <th>199</th>\n      <td>9</td>\n      <td>200.567461</td>\n      <td>1.5</td>\n      <td>0.749075</td>\n      <td>219.896502</td>\n      <td>1.5</td>\n      <td>0.663452</td>\n      <td>91.864066</td>\n      <td>1.0</td>\n      <td>0.312987</td>\n      <td>...</td>\n      <td>0</td>\n      <td>8</td>\n      <td>0</td>\n      <td>2</td>\n      <td>2</td>\n      <td>9</td>\n      <td>3</td>\n      <td>53</td>\n      <td>3</td>\n      <td>dikesnet</td>\n    </tr>\n  </tbody>\n</table>\n<p>200 rows × 53 columns</p>\n</div>"
     },
     "execution_count": 15,
     "metadata": {},
     "output_type": "execute_result"
    }
   ],
   "source": [
    "# observing the simulation runs\n",
    "experiments, outcomes = results\n",
    "print(outcomes.keys())\n",
    "experiments"
   ]
  },
  {
   "cell_type": "code",
   "execution_count": 16,
   "metadata": {
    "ExecuteTime": {
     "start_time": "2023-06-01T11:31:33.827240Z",
     "end_time": "2023-06-01T11:31:33.892051Z"
    }
   },
   "outputs": [
    {
     "data": {
      "text/plain": "     A.1 Total Costs  A.1_Expected Number of Deaths  A.2 Total Costs   \n0       1.267450e+08                            0.0     1.585614e+08  \\\n1       1.267450e+08                            0.0     1.579233e+08   \n2       1.267450e+08                            0.0     1.579233e+08   \n3       1.267450e+08                            0.0     1.633207e+08   \n4       1.267450e+08                            0.0     1.579233e+08   \n..               ...                            ...              ...   \n195     3.588340e+08                            0.0     2.119675e+08   \n196     3.588340e+08                            0.0     2.119675e+08   \n197     3.588340e+08                            0.0     2.119675e+08   \n198     3.588340e+08                            0.0     2.119675e+08   \n199     3.588340e+08                            0.0     2.119675e+08   \n\n     A.2_Expected Number of Deaths  A.3 Total Costs   \n0                         0.000275     4.587651e+07  \\\n1                         0.000000     4.587651e+07   \n2                         0.000000     4.587651e+07   \n3                         0.002232     4.587651e+07   \n4                         0.000000     4.900186e+07   \n..                             ...              ...   \n195                       0.000000     1.026176e+08   \n196                       0.000000     1.026176e+08   \n197                       0.000000     1.026176e+08   \n198                       0.000000     1.101651e+08   \n199                       0.000000     1.026176e+08   \n\n     A.3_Expected Number of Deaths  A.4 Total Costs   \n0                         0.000000     4.503928e+07  \\\n1                         0.000000     4.503928e+07   \n2                         0.000000     4.503928e+07   \n3                         0.000000     4.503928e+07   \n4                         0.001886     4.503928e+07   \n..                             ...              ...   \n195                       0.000000     1.701990e+07   \n196                       0.000000     2.120159e+07   \n197                       0.000000     3.305454e+07   \n198                       0.001611     2.311652e+07   \n199                       0.000000     2.668786e+07   \n\n     A.4_Expected Number of Deaths  A.5 Total Costs   \n0                         0.000000     1.490532e+08  \\\n1                         0.000000     1.490532e+08   \n2                         0.000000     1.490532e+08   \n3                         0.000000     1.490532e+08   \n4                         0.000000     1.490532e+08   \n..                             ...              ...   \n195                       0.000074     2.149411e+08   \n196                       0.000244     1.178279e+08   \n197                       0.001141     1.178279e+08   \n198                       0.000419     1.178279e+08   \n199                       0.000875     1.203489e+08   \n\n     A.5_Expected Number of Deaths  RfR Total Costs  Expected Evacuation Costs  \n0                         0.000000     1.382500e+09                  20.318870  \n1                         0.000000     1.382500e+09                   0.000000  \n2                         0.000000     1.382500e+09                   0.000000  \n3                         0.000000     1.382500e+09                 174.039199  \n4                         0.000000     1.382500e+09                  62.217504  \n..                             ...              ...                        ...  \n195                       0.011939     4.543000e+08                7342.809555  \n196                       0.000000     4.543000e+08                 258.297669  \n197                       0.000000     4.543000e+08                1546.207117  \n198                       0.000000     4.543000e+08                 795.604471  \n199                       0.000210     4.543000e+08                1291.895760  \n\n[200 rows x 12 columns]",
      "text/html": "<div>\n<style scoped>\n    .dataframe tbody tr th:only-of-type {\n        vertical-align: middle;\n    }\n\n    .dataframe tbody tr th {\n        vertical-align: top;\n    }\n\n    .dataframe thead th {\n        text-align: right;\n    }\n</style>\n<table border=\"1\" class=\"dataframe\">\n  <thead>\n    <tr style=\"text-align: right;\">\n      <th></th>\n      <th>A.1 Total Costs</th>\n      <th>A.1_Expected Number of Deaths</th>\n      <th>A.2 Total Costs</th>\n      <th>A.2_Expected Number of Deaths</th>\n      <th>A.3 Total Costs</th>\n      <th>A.3_Expected Number of Deaths</th>\n      <th>A.4 Total Costs</th>\n      <th>A.4_Expected Number of Deaths</th>\n      <th>A.5 Total Costs</th>\n      <th>A.5_Expected Number of Deaths</th>\n      <th>RfR Total Costs</th>\n      <th>Expected Evacuation Costs</th>\n    </tr>\n  </thead>\n  <tbody>\n    <tr>\n      <th>0</th>\n      <td>1.267450e+08</td>\n      <td>0.0</td>\n      <td>1.585614e+08</td>\n      <td>0.000275</td>\n      <td>4.587651e+07</td>\n      <td>0.000000</td>\n      <td>4.503928e+07</td>\n      <td>0.000000</td>\n      <td>1.490532e+08</td>\n      <td>0.000000</td>\n      <td>1.382500e+09</td>\n      <td>20.318870</td>\n    </tr>\n    <tr>\n      <th>1</th>\n      <td>1.267450e+08</td>\n      <td>0.0</td>\n      <td>1.579233e+08</td>\n      <td>0.000000</td>\n      <td>4.587651e+07</td>\n      <td>0.000000</td>\n      <td>4.503928e+07</td>\n      <td>0.000000</td>\n      <td>1.490532e+08</td>\n      <td>0.000000</td>\n      <td>1.382500e+09</td>\n      <td>0.000000</td>\n    </tr>\n    <tr>\n      <th>2</th>\n      <td>1.267450e+08</td>\n      <td>0.0</td>\n      <td>1.579233e+08</td>\n      <td>0.000000</td>\n      <td>4.587651e+07</td>\n      <td>0.000000</td>\n      <td>4.503928e+07</td>\n      <td>0.000000</td>\n      <td>1.490532e+08</td>\n      <td>0.000000</td>\n      <td>1.382500e+09</td>\n      <td>0.000000</td>\n    </tr>\n    <tr>\n      <th>3</th>\n      <td>1.267450e+08</td>\n      <td>0.0</td>\n      <td>1.633207e+08</td>\n      <td>0.002232</td>\n      <td>4.587651e+07</td>\n      <td>0.000000</td>\n      <td>4.503928e+07</td>\n      <td>0.000000</td>\n      <td>1.490532e+08</td>\n      <td>0.000000</td>\n      <td>1.382500e+09</td>\n      <td>174.039199</td>\n    </tr>\n    <tr>\n      <th>4</th>\n      <td>1.267450e+08</td>\n      <td>0.0</td>\n      <td>1.579233e+08</td>\n      <td>0.000000</td>\n      <td>4.900186e+07</td>\n      <td>0.001886</td>\n      <td>4.503928e+07</td>\n      <td>0.000000</td>\n      <td>1.490532e+08</td>\n      <td>0.000000</td>\n      <td>1.382500e+09</td>\n      <td>62.217504</td>\n    </tr>\n    <tr>\n      <th>...</th>\n      <td>...</td>\n      <td>...</td>\n      <td>...</td>\n      <td>...</td>\n      <td>...</td>\n      <td>...</td>\n      <td>...</td>\n      <td>...</td>\n      <td>...</td>\n      <td>...</td>\n      <td>...</td>\n      <td>...</td>\n    </tr>\n    <tr>\n      <th>195</th>\n      <td>3.588340e+08</td>\n      <td>0.0</td>\n      <td>2.119675e+08</td>\n      <td>0.000000</td>\n      <td>1.026176e+08</td>\n      <td>0.000000</td>\n      <td>1.701990e+07</td>\n      <td>0.000074</td>\n      <td>2.149411e+08</td>\n      <td>0.011939</td>\n      <td>4.543000e+08</td>\n      <td>7342.809555</td>\n    </tr>\n    <tr>\n      <th>196</th>\n      <td>3.588340e+08</td>\n      <td>0.0</td>\n      <td>2.119675e+08</td>\n      <td>0.000000</td>\n      <td>1.026176e+08</td>\n      <td>0.000000</td>\n      <td>2.120159e+07</td>\n      <td>0.000244</td>\n      <td>1.178279e+08</td>\n      <td>0.000000</td>\n      <td>4.543000e+08</td>\n      <td>258.297669</td>\n    </tr>\n    <tr>\n      <th>197</th>\n      <td>3.588340e+08</td>\n      <td>0.0</td>\n      <td>2.119675e+08</td>\n      <td>0.000000</td>\n      <td>1.026176e+08</td>\n      <td>0.000000</td>\n      <td>3.305454e+07</td>\n      <td>0.001141</td>\n      <td>1.178279e+08</td>\n      <td>0.000000</td>\n      <td>4.543000e+08</td>\n      <td>1546.207117</td>\n    </tr>\n    <tr>\n      <th>198</th>\n      <td>3.588340e+08</td>\n      <td>0.0</td>\n      <td>2.119675e+08</td>\n      <td>0.000000</td>\n      <td>1.101651e+08</td>\n      <td>0.001611</td>\n      <td>2.311652e+07</td>\n      <td>0.000419</td>\n      <td>1.178279e+08</td>\n      <td>0.000000</td>\n      <td>4.543000e+08</td>\n      <td>795.604471</td>\n    </tr>\n    <tr>\n      <th>199</th>\n      <td>3.588340e+08</td>\n      <td>0.0</td>\n      <td>2.119675e+08</td>\n      <td>0.000000</td>\n      <td>1.026176e+08</td>\n      <td>0.000000</td>\n      <td>2.668786e+07</td>\n      <td>0.000875</td>\n      <td>1.203489e+08</td>\n      <td>0.000210</td>\n      <td>4.543000e+08</td>\n      <td>1291.895760</td>\n    </tr>\n  </tbody>\n</table>\n<p>200 rows × 12 columns</p>\n</div>"
     },
     "execution_count": 16,
     "metadata": {},
     "output_type": "execute_result"
    }
   ],
   "source": [
    "# only works because we have scalar outcomes\n",
    "pd.DataFrame(outcomes)"
   ]
  },
  {
   "cell_type": "code",
   "execution_count": 17,
   "metadata": {
    "ExecuteTime": {
     "start_time": "2023-06-01T11:31:33.848650Z",
     "end_time": "2023-06-01T11:31:33.892811Z"
    }
   },
   "outputs": [],
   "source": [
    "# defining specific policies\n",
    "# for example, policy 1 is about extra protection in upper boundary\n",
    "# policy 2 is about extra protection in lower boundary\n",
    "# policy 3 is extra protection in random locations\n",
    "\n",
    "\n",
    "def get_do_nothing_dict():\n",
    "    return {l.name: 0 for l in dike_model.levers}\n",
    "\n",
    "\n",
    "policies = [\n",
    "    Policy(\n",
    "        \"policy 1\",\n",
    "        **dict(\n",
    "            get_do_nothing_dict(),\n",
    "            **{\"0_RfR 0\": 1, \"0_RfR 1\": 1, \"0_RfR 2\": 1, \"A.1_DikeIncrease 0\": 5}\n",
    "        )\n",
    "    ),\n",
    "    Policy(\n",
    "        \"policy 2\",\n",
    "        **dict(\n",
    "            get_do_nothing_dict(),\n",
    "            **{\"4_RfR 0\": 1, \"4_RfR 1\": 1, \"4_RfR 2\": 1, \"A.5_DikeIncrease 0\": 5}\n",
    "        )\n",
    "    ),\n",
    "    Policy(\n",
    "        \"policy 3\",\n",
    "        **dict(\n",
    "            get_do_nothing_dict(),\n",
    "            **{\"1_RfR 0\": 1, \"2_RfR 1\": 1, \"3_RfR 2\": 1, \"A.3_DikeIncrease 0\": 5}\n",
    "        )\n",
    "    ),\n",
    "]"
   ]
  },
  {
   "cell_type": "code",
   "execution_count": 18,
   "metadata": {
    "ExecuteTime": {
     "start_time": "2023-06-01T11:31:33.869845Z",
     "end_time": "2023-06-01T11:33:54.883432Z"
    }
   },
   "outputs": [
    {
     "name": "stderr",
     "output_type": "stream",
     "text": [
      "[MainProcess/INFO] pool started with 4 workers\n",
      "[MainProcess/INFO] performing 100 scenarios * 3 policies * 1 model(s) = 300 experiments\n",
      "100%|████████████████████████████████████████| 300/300 [02:04<00:00,  2.41it/s]\n",
      "[MainProcess/INFO] experiments finished\n",
      "[MainProcess/INFO] terminating pool\n"
     ]
    }
   ],
   "source": [
    "# pass the policies list to EMA workbench experiment runs\n",
    "n_scenarios = 100\n",
    "with MultiprocessingEvaluator(dike_model) as evaluator:\n",
    "    results = evaluator.perform_experiments(n_scenarios, policies)"
   ]
  },
  {
   "cell_type": "code",
   "execution_count": 19,
   "metadata": {
    "ExecuteTime": {
     "start_time": "2023-06-01T11:33:54.895950Z",
     "end_time": "2023-06-01T11:33:54.902550Z"
    }
   },
   "outputs": [],
   "source": [
    "experiments, outcomes = results"
   ]
  },
  {
   "cell_type": "code",
   "execution_count": 20,
   "metadata": {
    "ExecuteTime": {
     "start_time": "2023-06-01T11:33:54.906759Z",
     "end_time": "2023-06-01T11:33:54.971341Z"
    }
   },
   "outputs": [
    {
     "data": {
      "text/plain": "     A.1 Total Costs  A.1_Expected Number of Deaths  A.2 Total Costs   \n0       5.397251e+07                       0.000000     1.156661e+07  \\\n1       5.397251e+07                       0.000000     5.671310e+08   \n2       5.397251e+07                       0.000000     3.731337e+07   \n3       5.397251e+07                       0.000000     2.162987e+08   \n4       5.397251e+07                       0.000000     1.953286e+07   \n..               ...                            ...              ...   \n295     0.000000e+00                       0.000000     4.356018e+07   \n296     0.000000e+00                       0.000000     1.787799e+08   \n297     1.440205e+09                       1.022319     0.000000e+00   \n298     1.169811e+09                       1.024516     0.000000e+00   \n299     0.000000e+00                       0.000000     2.898051e+06   \n\n     A.2_Expected Number of Deaths  A.3 Total Costs   \n0                         0.011501     7.888630e+07  \\\n1                         0.472584     0.000000e+00   \n2                         0.040572     7.060792e+07   \n3                         0.196223     1.383529e+09   \n4                         0.020430     7.534851e+07   \n..                             ...              ...   \n295                       0.039197     1.604427e+08   \n296                       0.153130     2.879840e+07   \n297                       0.000000     2.879840e+07   \n298                       0.000000     2.879840e+07   \n299                       0.002320     2.879840e+07   \n\n     A.3_Expected Number of Deaths  A.4 Total Costs   \n0                         0.144846     5.659730e+06  \\\n1                         0.000000     0.000000e+00   \n2                         0.143227     1.229056e+08   \n3                         2.327305     0.000000e+00   \n4                         0.146153     6.591179e+05   \n..                             ...              ...   \n295                       0.217699     0.000000e+00   \n296                       0.000000     0.000000e+00   \n297                       0.000000     7.500804e+06   \n298                       0.000000     0.000000e+00   \n299                       0.000000     1.390316e+07   \n\n     A.4_Expected Number of Deaths  A.5 Total Costs   \n0                         0.002992     4.194345e+07  \\\n1                         0.000000     6.903547e+08   \n2                         0.060313     0.000000e+00   \n3                         0.000000     0.000000e+00   \n4                         0.000397     3.510215e+08   \n..                             ...              ...   \n295                       0.000000     0.000000e+00   \n296                       0.000000     0.000000e+00   \n297                       0.003791     0.000000e+00   \n298                       0.000000     0.000000e+00   \n299                       0.005956     0.000000e+00   \n\n     A.5_Expected Number of Deaths  RfR Total Costs  Expected Evacuation Costs  \n0                         0.038655      253800000.0                        0.0  \n1                         0.539844      253800000.0                        0.0  \n2                         0.000000      253800000.0                        0.0  \n3                         0.000000      253800000.0                        0.0  \n4                         0.334829      253800000.0                        0.0  \n..                             ...              ...                        ...  \n295                       0.000000      369700000.0                        0.0  \n296                       0.000000      369700000.0                        0.0  \n297                       0.000000      369700000.0                        0.0  \n298                       0.000000      369700000.0                        0.0  \n299                       0.000000      369700000.0                        0.0  \n\n[300 rows x 12 columns]",
      "text/html": "<div>\n<style scoped>\n    .dataframe tbody tr th:only-of-type {\n        vertical-align: middle;\n    }\n\n    .dataframe tbody tr th {\n        vertical-align: top;\n    }\n\n    .dataframe thead th {\n        text-align: right;\n    }\n</style>\n<table border=\"1\" class=\"dataframe\">\n  <thead>\n    <tr style=\"text-align: right;\">\n      <th></th>\n      <th>A.1 Total Costs</th>\n      <th>A.1_Expected Number of Deaths</th>\n      <th>A.2 Total Costs</th>\n      <th>A.2_Expected Number of Deaths</th>\n      <th>A.3 Total Costs</th>\n      <th>A.3_Expected Number of Deaths</th>\n      <th>A.4 Total Costs</th>\n      <th>A.4_Expected Number of Deaths</th>\n      <th>A.5 Total Costs</th>\n      <th>A.5_Expected Number of Deaths</th>\n      <th>RfR Total Costs</th>\n      <th>Expected Evacuation Costs</th>\n    </tr>\n  </thead>\n  <tbody>\n    <tr>\n      <th>0</th>\n      <td>5.397251e+07</td>\n      <td>0.000000</td>\n      <td>1.156661e+07</td>\n      <td>0.011501</td>\n      <td>7.888630e+07</td>\n      <td>0.144846</td>\n      <td>5.659730e+06</td>\n      <td>0.002992</td>\n      <td>4.194345e+07</td>\n      <td>0.038655</td>\n      <td>253800000.0</td>\n      <td>0.0</td>\n    </tr>\n    <tr>\n      <th>1</th>\n      <td>5.397251e+07</td>\n      <td>0.000000</td>\n      <td>5.671310e+08</td>\n      <td>0.472584</td>\n      <td>0.000000e+00</td>\n      <td>0.000000</td>\n      <td>0.000000e+00</td>\n      <td>0.000000</td>\n      <td>6.903547e+08</td>\n      <td>0.539844</td>\n      <td>253800000.0</td>\n      <td>0.0</td>\n    </tr>\n    <tr>\n      <th>2</th>\n      <td>5.397251e+07</td>\n      <td>0.000000</td>\n      <td>3.731337e+07</td>\n      <td>0.040572</td>\n      <td>7.060792e+07</td>\n      <td>0.143227</td>\n      <td>1.229056e+08</td>\n      <td>0.060313</td>\n      <td>0.000000e+00</td>\n      <td>0.000000</td>\n      <td>253800000.0</td>\n      <td>0.0</td>\n    </tr>\n    <tr>\n      <th>3</th>\n      <td>5.397251e+07</td>\n      <td>0.000000</td>\n      <td>2.162987e+08</td>\n      <td>0.196223</td>\n      <td>1.383529e+09</td>\n      <td>2.327305</td>\n      <td>0.000000e+00</td>\n      <td>0.000000</td>\n      <td>0.000000e+00</td>\n      <td>0.000000</td>\n      <td>253800000.0</td>\n      <td>0.0</td>\n    </tr>\n    <tr>\n      <th>4</th>\n      <td>5.397251e+07</td>\n      <td>0.000000</td>\n      <td>1.953286e+07</td>\n      <td>0.020430</td>\n      <td>7.534851e+07</td>\n      <td>0.146153</td>\n      <td>6.591179e+05</td>\n      <td>0.000397</td>\n      <td>3.510215e+08</td>\n      <td>0.334829</td>\n      <td>253800000.0</td>\n      <td>0.0</td>\n    </tr>\n    <tr>\n      <th>...</th>\n      <td>...</td>\n      <td>...</td>\n      <td>...</td>\n      <td>...</td>\n      <td>...</td>\n      <td>...</td>\n      <td>...</td>\n      <td>...</td>\n      <td>...</td>\n      <td>...</td>\n      <td>...</td>\n      <td>...</td>\n    </tr>\n    <tr>\n      <th>295</th>\n      <td>0.000000e+00</td>\n      <td>0.000000</td>\n      <td>4.356018e+07</td>\n      <td>0.039197</td>\n      <td>1.604427e+08</td>\n      <td>0.217699</td>\n      <td>0.000000e+00</td>\n      <td>0.000000</td>\n      <td>0.000000e+00</td>\n      <td>0.000000</td>\n      <td>369700000.0</td>\n      <td>0.0</td>\n    </tr>\n    <tr>\n      <th>296</th>\n      <td>0.000000e+00</td>\n      <td>0.000000</td>\n      <td>1.787799e+08</td>\n      <td>0.153130</td>\n      <td>2.879840e+07</td>\n      <td>0.000000</td>\n      <td>0.000000e+00</td>\n      <td>0.000000</td>\n      <td>0.000000e+00</td>\n      <td>0.000000</td>\n      <td>369700000.0</td>\n      <td>0.0</td>\n    </tr>\n    <tr>\n      <th>297</th>\n      <td>1.440205e+09</td>\n      <td>1.022319</td>\n      <td>0.000000e+00</td>\n      <td>0.000000</td>\n      <td>2.879840e+07</td>\n      <td>0.000000</td>\n      <td>7.500804e+06</td>\n      <td>0.003791</td>\n      <td>0.000000e+00</td>\n      <td>0.000000</td>\n      <td>369700000.0</td>\n      <td>0.0</td>\n    </tr>\n    <tr>\n      <th>298</th>\n      <td>1.169811e+09</td>\n      <td>1.024516</td>\n      <td>0.000000e+00</td>\n      <td>0.000000</td>\n      <td>2.879840e+07</td>\n      <td>0.000000</td>\n      <td>0.000000e+00</td>\n      <td>0.000000</td>\n      <td>0.000000e+00</td>\n      <td>0.000000</td>\n      <td>369700000.0</td>\n      <td>0.0</td>\n    </tr>\n    <tr>\n      <th>299</th>\n      <td>0.000000e+00</td>\n      <td>0.000000</td>\n      <td>2.898051e+06</td>\n      <td>0.002320</td>\n      <td>2.879840e+07</td>\n      <td>0.000000</td>\n      <td>1.390316e+07</td>\n      <td>0.005956</td>\n      <td>0.000000e+00</td>\n      <td>0.000000</td>\n      <td>369700000.0</td>\n      <td>0.0</td>\n    </tr>\n  </tbody>\n</table>\n<p>300 rows × 12 columns</p>\n</div>"
     },
     "execution_count": 20,
     "metadata": {},
     "output_type": "execute_result"
    }
   ],
   "source": [
    "# only works because we have scalar outcomes\n",
    "pd.DataFrame(outcomes)"
   ]
  },
  {
   "cell_type": "code",
   "execution_count": null,
   "metadata": {
    "pycharm": {
     "name": "#%%"
    }
   },
   "outputs": [],
   "source": []
  }
 ],
 "metadata": {
  "kernelspec": {
   "display_name": "Python 3 (ipykernel)",
   "language": "python",
   "name": "python3"
  },
  "language_info": {
   "codemirror_mode": {
    "name": "ipython",
    "version": 3
   },
   "file_extension": ".py",
   "mimetype": "text/x-python",
   "name": "python",
   "nbconvert_exporter": "python",
   "pygments_lexer": "ipython3",
   "version": "3.9.16"
  }
 },
 "nbformat": 4,
 "nbformat_minor": 4
}
