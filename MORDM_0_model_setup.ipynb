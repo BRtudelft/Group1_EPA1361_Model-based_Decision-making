{
 "cells": [
  {
   "cell_type": "markdown",
   "source": [
    "# Model set-up\n",
    "Run with 2000 scenarios, no policies applies\n",
    "\n",
    "Can be later on added to the first chapter.\n",
    "\n",
    "Imports needed in the model set up are listed below"
   ],
   "metadata": {
    "collapsed": false
   }
  },
  {
   "cell_type": "code",
   "execution_count": 11,
   "outputs": [
    {
     "name": "stdout",
     "output_type": "stream",
     "text": [
      "2.0.1\n",
      "3.1\n"
     ]
    }
   ],
   "source": [
    "import pandas as pd\n",
    "import networkx as nx\n",
    "\n",
    "# make sure pandas is version 1.0 or higher\n",
    "# make sure networkx is verion 2.4 or higher\n",
    "print(pd.__version__)\n",
    "print(nx.__version__)"
   ],
   "metadata": {
    "collapsed": false,
    "ExecuteTime": {
     "start_time": "2023-06-12T13:50:08.441755Z",
     "end_time": "2023-06-12T13:50:08.450102Z"
    }
   }
  },
  {
   "cell_type": "code",
   "execution_count": 2,
   "outputs": [],
   "source": [
    "from ema_workbench import (\n",
    "    ema_logging,\n",
    "    MultiprocessingEvaluator,\n",
    "    Policy\n",
    ")\n",
    "from problem_formulation import get_model_for_problem_formulation"
   ],
   "metadata": {
    "collapsed": false,
    "ExecuteTime": {
     "start_time": "2023-06-12T13:47:04.334025Z",
     "end_time": "2023-06-12T13:47:05.437078Z"
    }
   }
  },
  {
   "cell_type": "markdown",
   "source": [
    "### Problem formulation"
   ],
   "metadata": {
    "collapsed": false
   }
  },
  {
   "cell_type": "code",
   "execution_count": 3,
   "outputs": [],
   "source": [
    "ema_logging.log_to_stderr(ema_logging.INFO)\n",
    "\n",
    "# choose problem formulation number, between 0-5\n",
    "# each problem formulation has its own list of outcomes\n",
    "# we chose #2 because Rijkswaterstaat is interested in highly aggregated outcomes\n",
    "dike_model, planning_steps = get_model_for_problem_formulation(2)"
   ],
   "metadata": {
    "collapsed": false,
    "ExecuteTime": {
     "start_time": "2023-06-12T13:47:05.438075Z",
     "end_time": "2023-06-12T13:47:05.732894Z"
    }
   }
  },
  {
   "cell_type": "markdown",
   "source": [
    "### Model zero policies"
   ],
   "metadata": {
    "collapsed": false,
    "ExecuteTime": {
     "start_time": "2023-06-12T11:15:24.328204Z",
     "end_time": "2023-06-12T11:15:24.331014Z"
    }
   },
   "outputs": [],
   "execution_count": 4
  },
  {
   "cell_type": "code",
   "execution_count": 4,
   "outputs": [],
   "source": [
    "def get_do_nothing_dict():\n",
    "    return {l.name: 0 for l in dike_model.levers}\n",
    "\n",
    "\n",
    "policies = [\n",
    "    Policy(\n",
    "        \"policy 0\",\n",
    "        **dict(\n",
    "            get_do_nothing_dict(),\n",
    "            **{}\n",
    "        )\n",
    "    )\n",
    "]"
   ],
   "metadata": {
    "collapsed": false,
    "ExecuteTime": {
     "start_time": "2023-06-12T13:47:05.723451Z",
     "end_time": "2023-06-12T13:47:05.732894Z"
    }
   }
  },
  {
   "cell_type": "markdown",
   "source": [
    "Run model #1:\n",
    "\n",
    "Assumptions:\n",
    "Scenario's: 2000\n",
    "Policy's: 0\n",
    "\n",
    "We chose to run the setup with 0 policies because those will be completely random\n",
    "and not useful for further analysis, but it would increase the runtime significantly."
   ],
   "metadata": {
    "collapsed": false
   }
  },
  {
   "cell_type": "code",
   "execution_count": 5,
   "outputs": [],
   "source": [
    "scenarios_base = 2000"
   ],
   "metadata": {
    "collapsed": false,
    "ExecuteTime": {
     "start_time": "2023-06-12T13:47:05.730899Z",
     "end_time": "2023-06-12T13:47:05.748410Z"
    }
   }
  },
  {
   "cell_type": "code",
   "execution_count": 6,
   "outputs": [
    {
     "name": "stderr",
     "output_type": "stream",
     "text": [
      "[MainProcess/INFO] pool started with 12 workers\n",
      "[MainProcess/INFO] performing 2000 scenarios * 1 policies * 1 model(s) = 2000 experiments\n",
      "100%|██████████████████████████████████████| 2000/2000 [02:40<00:00, 12.47it/s]\n",
      "[MainProcess/INFO] experiments finished\n",
      "[MainProcess/INFO] terminating pool\n"
     ]
    }
   ],
   "source": [
    "# running the model through EMA workbench\n",
    "with MultiprocessingEvaluator(dike_model) as evaluator:\n",
    "    results_base = evaluator.perform_experiments(scenarios_base, policies)"
   ],
   "metadata": {
    "collapsed": false,
    "ExecuteTime": {
     "start_time": "2023-06-12T13:47:05.740430Z",
     "end_time": "2023-06-12T13:50:07.275529Z"
    }
   }
  },
  {
   "cell_type": "markdown",
   "source": [
    "Results of 2000 scenarios and 0 policies saved to csv"
   ],
   "metadata": {
    "collapsed": false,
    "ExecuteTime": {
     "start_time": "2023-06-12T11:15:24.333010Z",
     "end_time": "2023-06-12T11:19:19.661577Z"
    }
   },
   "outputs": [
    {
     "name": "stderr",
     "output_type": "stream",
     "text": [
      "[MainProcess/INFO] pool started with 12 workers\n",
      "[MainProcess/INFO] performing 2000 scenarios * 1 policies * 1 model(s) = 2000 experiments\n",
      "100%|██████████████████████████████████████| 2000/2000 [03:33<00:00,  9.35it/s]\n",
      "[MainProcess/INFO] experiments finished\n",
      "[MainProcess/INFO] terminating pool\n"
     ]
    }
   ],
   "execution_count": 5
  },
  {
   "cell_type": "code",
   "execution_count": 12,
   "outputs": [],
   "source": [
    "experiments_base, outcomes_base = results_base\n",
    "# Policy distinction is necessary because of the legend.\n",
    "policies = experiments_base['policy']\n",
    "outcomes_2000s_0p = pd.DataFrame.from_dict(outcomes_base)\n",
    "outcomes_2000s_0p['policy'] = policies"
   ],
   "metadata": {
    "collapsed": false,
    "ExecuteTime": {
     "start_time": "2023-06-12T13:50:18.160909Z",
     "end_time": "2023-06-12T13:50:18.186236Z"
    }
   }
  },
  {
   "cell_type": "code",
   "execution_count": 13,
   "outputs": [
    {
     "data": {
      "text/plain": "      Expected Annual Damage  Dike Investment Costs  RfR Investment Costs   \n0               3.147613e+09                      0                   0.0  \\\n1               2.270690e+09                      0                   0.0   \n2               1.859947e+09                      0                   0.0   \n3               1.562664e+09                      0                   0.0   \n4               1.158286e+09                      0                   0.0   \n...                      ...                    ...                   ...   \n1995            3.682907e+09                      0                   0.0   \n1996            2.158885e+09                      0                   0.0   \n1997            5.704659e+08                      0                   0.0   \n1998            1.379375e+09                      0                   0.0   \n1999            2.295369e+09                      0                   0.0   \n\n      Evacuation Costs  Expected Number of Deaths    policy  \n0                  0.0                   2.672203  policy 0  \n1                  0.0                   1.513738  policy 0  \n2                  0.0                   2.761947  policy 0  \n3                  0.0                   2.707094  policy 0  \n4                  0.0                   0.771974  policy 0  \n...                ...                        ...       ...  \n1995               0.0                   2.875489  policy 0  \n1996               0.0                   1.514560  policy 0  \n1997               0.0                   0.526372  policy 0  \n1998               0.0                   2.587505  policy 0  \n1999               0.0                   1.607231  policy 0  \n\n[2000 rows x 6 columns]",
      "text/html": "<div>\n<style scoped>\n    .dataframe tbody tr th:only-of-type {\n        vertical-align: middle;\n    }\n\n    .dataframe tbody tr th {\n        vertical-align: top;\n    }\n\n    .dataframe thead th {\n        text-align: right;\n    }\n</style>\n<table border=\"1\" class=\"dataframe\">\n  <thead>\n    <tr style=\"text-align: right;\">\n      <th></th>\n      <th>Expected Annual Damage</th>\n      <th>Dike Investment Costs</th>\n      <th>RfR Investment Costs</th>\n      <th>Evacuation Costs</th>\n      <th>Expected Number of Deaths</th>\n      <th>policy</th>\n    </tr>\n  </thead>\n  <tbody>\n    <tr>\n      <th>0</th>\n      <td>3.147613e+09</td>\n      <td>0</td>\n      <td>0.0</td>\n      <td>0.0</td>\n      <td>2.672203</td>\n      <td>policy 0</td>\n    </tr>\n    <tr>\n      <th>1</th>\n      <td>2.270690e+09</td>\n      <td>0</td>\n      <td>0.0</td>\n      <td>0.0</td>\n      <td>1.513738</td>\n      <td>policy 0</td>\n    </tr>\n    <tr>\n      <th>2</th>\n      <td>1.859947e+09</td>\n      <td>0</td>\n      <td>0.0</td>\n      <td>0.0</td>\n      <td>2.761947</td>\n      <td>policy 0</td>\n    </tr>\n    <tr>\n      <th>3</th>\n      <td>1.562664e+09</td>\n      <td>0</td>\n      <td>0.0</td>\n      <td>0.0</td>\n      <td>2.707094</td>\n      <td>policy 0</td>\n    </tr>\n    <tr>\n      <th>4</th>\n      <td>1.158286e+09</td>\n      <td>0</td>\n      <td>0.0</td>\n      <td>0.0</td>\n      <td>0.771974</td>\n      <td>policy 0</td>\n    </tr>\n    <tr>\n      <th>...</th>\n      <td>...</td>\n      <td>...</td>\n      <td>...</td>\n      <td>...</td>\n      <td>...</td>\n      <td>...</td>\n    </tr>\n    <tr>\n      <th>1995</th>\n      <td>3.682907e+09</td>\n      <td>0</td>\n      <td>0.0</td>\n      <td>0.0</td>\n      <td>2.875489</td>\n      <td>policy 0</td>\n    </tr>\n    <tr>\n      <th>1996</th>\n      <td>2.158885e+09</td>\n      <td>0</td>\n      <td>0.0</td>\n      <td>0.0</td>\n      <td>1.514560</td>\n      <td>policy 0</td>\n    </tr>\n    <tr>\n      <th>1997</th>\n      <td>5.704659e+08</td>\n      <td>0</td>\n      <td>0.0</td>\n      <td>0.0</td>\n      <td>0.526372</td>\n      <td>policy 0</td>\n    </tr>\n    <tr>\n      <th>1998</th>\n      <td>1.379375e+09</td>\n      <td>0</td>\n      <td>0.0</td>\n      <td>0.0</td>\n      <td>2.587505</td>\n      <td>policy 0</td>\n    </tr>\n    <tr>\n      <th>1999</th>\n      <td>2.295369e+09</td>\n      <td>0</td>\n      <td>0.0</td>\n      <td>0.0</td>\n      <td>1.607231</td>\n      <td>policy 0</td>\n    </tr>\n  </tbody>\n</table>\n<p>2000 rows × 6 columns</p>\n</div>"
     },
     "execution_count": 13,
     "metadata": {},
     "output_type": "execute_result"
    }
   ],
   "source": [
    "# Print outcomes\n",
    "outcomes_2000s_0p"
   ],
   "metadata": {
    "collapsed": false,
    "ExecuteTime": {
     "start_time": "2023-06-12T13:50:20.323963Z",
     "end_time": "2023-06-12T13:50:20.351553Z"
    }
   }
  },
  {
   "cell_type": "code",
   "execution_count": 14,
   "outputs": [
    {
     "data": {
      "text/plain": "      A.0_ID flood wave shape    A.1_Bmax A.1_Brate  A.1_pfail    A.2_Bmax   \n0                         128  271.675341      10.0   0.379164  165.781286  \\\n1                          58  304.179294      10.0   0.205331  240.329032   \n2                         123  107.462785       1.5   0.526203  192.748450   \n3                          51   38.079313      10.0   0.722308  349.084823   \n4                          86  195.600047      10.0   0.394168  278.267534   \n...                       ...         ...       ...        ...         ...   \n1995                       42  280.652180      10.0   0.337516  242.661308   \n1996                       12  241.382778       1.0   0.048535  163.087103   \n1997                       31  137.321483       1.5   0.683471  192.368665   \n1998                       51   99.973268       1.0   0.719086  121.391228   \n1999                      125   49.993339      10.0   0.318792  227.210473   \n\n     A.2_Brate  A.2_pfail    A.3_Bmax A.3_Brate  A.3_pfail  ...   \n0         10.0   0.039913  145.845003      10.0   0.145768  ...  \\\n1          1.5   0.657808  298.958385      10.0   0.793443  ...   \n2         10.0   0.930140  250.486387       1.5   0.215615  ...   \n3          1.0   0.442463  324.991697      10.0   0.129341  ...   \n4          1.5   0.887804  168.085919       1.0   0.970170  ...   \n...        ...        ...         ...       ...        ...  ...   \n1995       1.0   0.047813  228.625525      10.0   0.183375  ...   \n1996      10.0   0.275943  147.999836       1.0   0.807344  ...   \n1997      10.0   0.160505  148.439730      10.0   0.802084  ...   \n1998      10.0   0.278877  272.981599      10.0   0.156535  ...   \n1999      10.0   0.987409  322.755616       1.5   0.836357  ...   \n\n      A.3_DikeIncrease 2 A.4_DikeIncrease 0  A.4_DikeIncrease 1   \n0                      0                  0                   0  \\\n1                      0                  0                   0   \n2                      0                  0                   0   \n3                      0                  0                   0   \n4                      0                  0                   0   \n...                  ...                ...                 ...   \n1995                   0                  0                   0   \n1996                   0                  0                   0   \n1997                   0                  0                   0   \n1998                   0                  0                   0   \n1999                   0                  0                   0   \n\n      A.4_DikeIncrease 2 A.5_DikeIncrease 0  A.5_DikeIncrease 1   \n0                      0                  0                   0  \\\n1                      0                  0                   0   \n2                      0                  0                   0   \n3                      0                  0                   0   \n4                      0                  0                   0   \n...                  ...                ...                 ...   \n1995                   0                  0                   0   \n1996                   0                  0                   0   \n1997                   0                  0                   0   \n1998                   0                  0                   0   \n1999                   0                  0                   0   \n\n     A.5_DikeIncrease 2 scenario    policy     model  \n0                     0        0  policy 0  dikesnet  \n1                     0        1  policy 0  dikesnet  \n2                     0        2  policy 0  dikesnet  \n3                     0        3  policy 0  dikesnet  \n4                     0        4  policy 0  dikesnet  \n...                 ...      ...       ...       ...  \n1995                  0     1995  policy 0  dikesnet  \n1996                  0     1996  policy 0  dikesnet  \n1997                  0     1997  policy 0  dikesnet  \n1998                  0     1998  policy 0  dikesnet  \n1999                  0     1999  policy 0  dikesnet  \n\n[2000 rows x 53 columns]",
      "text/html": "<div>\n<style scoped>\n    .dataframe tbody tr th:only-of-type {\n        vertical-align: middle;\n    }\n\n    .dataframe tbody tr th {\n        vertical-align: top;\n    }\n\n    .dataframe thead th {\n        text-align: right;\n    }\n</style>\n<table border=\"1\" class=\"dataframe\">\n  <thead>\n    <tr style=\"text-align: right;\">\n      <th></th>\n      <th>A.0_ID flood wave shape</th>\n      <th>A.1_Bmax</th>\n      <th>A.1_Brate</th>\n      <th>A.1_pfail</th>\n      <th>A.2_Bmax</th>\n      <th>A.2_Brate</th>\n      <th>A.2_pfail</th>\n      <th>A.3_Bmax</th>\n      <th>A.3_Brate</th>\n      <th>A.3_pfail</th>\n      <th>...</th>\n      <th>A.3_DikeIncrease 2</th>\n      <th>A.4_DikeIncrease 0</th>\n      <th>A.4_DikeIncrease 1</th>\n      <th>A.4_DikeIncrease 2</th>\n      <th>A.5_DikeIncrease 0</th>\n      <th>A.5_DikeIncrease 1</th>\n      <th>A.5_DikeIncrease 2</th>\n      <th>scenario</th>\n      <th>policy</th>\n      <th>model</th>\n    </tr>\n  </thead>\n  <tbody>\n    <tr>\n      <th>0</th>\n      <td>128</td>\n      <td>271.675341</td>\n      <td>10.0</td>\n      <td>0.379164</td>\n      <td>165.781286</td>\n      <td>10.0</td>\n      <td>0.039913</td>\n      <td>145.845003</td>\n      <td>10.0</td>\n      <td>0.145768</td>\n      <td>...</td>\n      <td>0</td>\n      <td>0</td>\n      <td>0</td>\n      <td>0</td>\n      <td>0</td>\n      <td>0</td>\n      <td>0</td>\n      <td>0</td>\n      <td>policy 0</td>\n      <td>dikesnet</td>\n    </tr>\n    <tr>\n      <th>1</th>\n      <td>58</td>\n      <td>304.179294</td>\n      <td>10.0</td>\n      <td>0.205331</td>\n      <td>240.329032</td>\n      <td>1.5</td>\n      <td>0.657808</td>\n      <td>298.958385</td>\n      <td>10.0</td>\n      <td>0.793443</td>\n      <td>...</td>\n      <td>0</td>\n      <td>0</td>\n      <td>0</td>\n      <td>0</td>\n      <td>0</td>\n      <td>0</td>\n      <td>0</td>\n      <td>1</td>\n      <td>policy 0</td>\n      <td>dikesnet</td>\n    </tr>\n    <tr>\n      <th>2</th>\n      <td>123</td>\n      <td>107.462785</td>\n      <td>1.5</td>\n      <td>0.526203</td>\n      <td>192.748450</td>\n      <td>10.0</td>\n      <td>0.930140</td>\n      <td>250.486387</td>\n      <td>1.5</td>\n      <td>0.215615</td>\n      <td>...</td>\n      <td>0</td>\n      <td>0</td>\n      <td>0</td>\n      <td>0</td>\n      <td>0</td>\n      <td>0</td>\n      <td>0</td>\n      <td>2</td>\n      <td>policy 0</td>\n      <td>dikesnet</td>\n    </tr>\n    <tr>\n      <th>3</th>\n      <td>51</td>\n      <td>38.079313</td>\n      <td>10.0</td>\n      <td>0.722308</td>\n      <td>349.084823</td>\n      <td>1.0</td>\n      <td>0.442463</td>\n      <td>324.991697</td>\n      <td>10.0</td>\n      <td>0.129341</td>\n      <td>...</td>\n      <td>0</td>\n      <td>0</td>\n      <td>0</td>\n      <td>0</td>\n      <td>0</td>\n      <td>0</td>\n      <td>0</td>\n      <td>3</td>\n      <td>policy 0</td>\n      <td>dikesnet</td>\n    </tr>\n    <tr>\n      <th>4</th>\n      <td>86</td>\n      <td>195.600047</td>\n      <td>10.0</td>\n      <td>0.394168</td>\n      <td>278.267534</td>\n      <td>1.5</td>\n      <td>0.887804</td>\n      <td>168.085919</td>\n      <td>1.0</td>\n      <td>0.970170</td>\n      <td>...</td>\n      <td>0</td>\n      <td>0</td>\n      <td>0</td>\n      <td>0</td>\n      <td>0</td>\n      <td>0</td>\n      <td>0</td>\n      <td>4</td>\n      <td>policy 0</td>\n      <td>dikesnet</td>\n    </tr>\n    <tr>\n      <th>...</th>\n      <td>...</td>\n      <td>...</td>\n      <td>...</td>\n      <td>...</td>\n      <td>...</td>\n      <td>...</td>\n      <td>...</td>\n      <td>...</td>\n      <td>...</td>\n      <td>...</td>\n      <td>...</td>\n      <td>...</td>\n      <td>...</td>\n      <td>...</td>\n      <td>...</td>\n      <td>...</td>\n      <td>...</td>\n      <td>...</td>\n      <td>...</td>\n      <td>...</td>\n      <td>...</td>\n    </tr>\n    <tr>\n      <th>1995</th>\n      <td>42</td>\n      <td>280.652180</td>\n      <td>10.0</td>\n      <td>0.337516</td>\n      <td>242.661308</td>\n      <td>1.0</td>\n      <td>0.047813</td>\n      <td>228.625525</td>\n      <td>10.0</td>\n      <td>0.183375</td>\n      <td>...</td>\n      <td>0</td>\n      <td>0</td>\n      <td>0</td>\n      <td>0</td>\n      <td>0</td>\n      <td>0</td>\n      <td>0</td>\n      <td>1995</td>\n      <td>policy 0</td>\n      <td>dikesnet</td>\n    </tr>\n    <tr>\n      <th>1996</th>\n      <td>12</td>\n      <td>241.382778</td>\n      <td>1.0</td>\n      <td>0.048535</td>\n      <td>163.087103</td>\n      <td>10.0</td>\n      <td>0.275943</td>\n      <td>147.999836</td>\n      <td>1.0</td>\n      <td>0.807344</td>\n      <td>...</td>\n      <td>0</td>\n      <td>0</td>\n      <td>0</td>\n      <td>0</td>\n      <td>0</td>\n      <td>0</td>\n      <td>0</td>\n      <td>1996</td>\n      <td>policy 0</td>\n      <td>dikesnet</td>\n    </tr>\n    <tr>\n      <th>1997</th>\n      <td>31</td>\n      <td>137.321483</td>\n      <td>1.5</td>\n      <td>0.683471</td>\n      <td>192.368665</td>\n      <td>10.0</td>\n      <td>0.160505</td>\n      <td>148.439730</td>\n      <td>10.0</td>\n      <td>0.802084</td>\n      <td>...</td>\n      <td>0</td>\n      <td>0</td>\n      <td>0</td>\n      <td>0</td>\n      <td>0</td>\n      <td>0</td>\n      <td>0</td>\n      <td>1997</td>\n      <td>policy 0</td>\n      <td>dikesnet</td>\n    </tr>\n    <tr>\n      <th>1998</th>\n      <td>51</td>\n      <td>99.973268</td>\n      <td>1.0</td>\n      <td>0.719086</td>\n      <td>121.391228</td>\n      <td>10.0</td>\n      <td>0.278877</td>\n      <td>272.981599</td>\n      <td>10.0</td>\n      <td>0.156535</td>\n      <td>...</td>\n      <td>0</td>\n      <td>0</td>\n      <td>0</td>\n      <td>0</td>\n      <td>0</td>\n      <td>0</td>\n      <td>0</td>\n      <td>1998</td>\n      <td>policy 0</td>\n      <td>dikesnet</td>\n    </tr>\n    <tr>\n      <th>1999</th>\n      <td>125</td>\n      <td>49.993339</td>\n      <td>10.0</td>\n      <td>0.318792</td>\n      <td>227.210473</td>\n      <td>10.0</td>\n      <td>0.987409</td>\n      <td>322.755616</td>\n      <td>1.5</td>\n      <td>0.836357</td>\n      <td>...</td>\n      <td>0</td>\n      <td>0</td>\n      <td>0</td>\n      <td>0</td>\n      <td>0</td>\n      <td>0</td>\n      <td>0</td>\n      <td>1999</td>\n      <td>policy 0</td>\n      <td>dikesnet</td>\n    </tr>\n  </tbody>\n</table>\n<p>2000 rows × 53 columns</p>\n</div>"
     },
     "execution_count": 14,
     "metadata": {},
     "output_type": "execute_result"
    }
   ],
   "source": [
    "experiments_2000s_0p = experiments_base\n",
    "experiments_2000s_0p"
   ],
   "metadata": {
    "collapsed": false,
    "ExecuteTime": {
     "start_time": "2023-06-12T13:50:24.005965Z",
     "end_time": "2023-06-12T13:50:24.029179Z"
    }
   }
  },
  {
   "cell_type": "code",
   "execution_count": 16,
   "outputs": [],
   "source": [
    "# Both saved to the data map as csv file\n",
    "outcomes_2000s_0p.to_csv('data/output_data/outcomes_2000s_0p.csv')\n",
    "experiments_2000s_0p.to_csv('data/output_data/experiments_2000s_0p.csv')"
   ],
   "metadata": {
    "collapsed": false,
    "ExecuteTime": {
     "start_time": "2023-06-12T13:50:39.370682Z",
     "end_time": "2023-06-12T13:50:39.431865Z"
    }
   }
  }
 ],
 "metadata": {
  "kernelspec": {
   "display_name": "Python 3",
   "language": "python",
   "name": "python3"
  },
  "language_info": {
   "codemirror_mode": {
    "name": "ipython",
    "version": 2
   },
   "file_extension": ".py",
   "mimetype": "text/x-python",
   "name": "python",
   "nbconvert_exporter": "python",
   "pygments_lexer": "ipython2",
   "version": "2.7.6"
  }
 },
 "nbformat": 4,
 "nbformat_minor": 0
}
