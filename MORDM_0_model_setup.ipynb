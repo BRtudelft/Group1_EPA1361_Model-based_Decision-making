{
 "cells": [
  {
   "cell_type": "markdown",
   "source": [
    "# Model set-up\n",
    "Run with 10000 scenarios, no policies applies\n",
    "\n",
    "Can be later on added to the first chapter.\n",
    "\n",
    "Imports needed in the model set up are listed below\n",
    "\n",
    "NOTE! Model variables must be updated to #scenarios\n"
   ],
   "metadata": {
    "collapsed": false
   }
  },
  {
   "cell_type": "code",
   "execution_count": 1,
   "outputs": [
    {
     "name": "stdout",
     "output_type": "stream",
     "text": [
      "2.0.1\n",
      "3.1\n"
     ]
    }
   ],
   "source": [
    "import pandas as pd\n",
    "import networkx as nx\n",
    "\n",
    "# make sure pandas is version 1.0 or higher\n",
    "# make sure networkx is verion 2.4 or higher\n",
    "print(pd.__version__)\n",
    "print(nx.__version__)"
   ],
   "metadata": {
    "collapsed": false,
    "ExecuteTime": {
     "start_time": "2023-06-14T09:31:13.721815Z",
     "end_time": "2023-06-14T09:31:13.865521Z"
    }
   }
  },
  {
   "cell_type": "code",
   "execution_count": 2,
   "outputs": [],
   "source": [
    "from ema_workbench import (\n",
    "    ema_logging,\n",
    "    MultiprocessingEvaluator,\n",
    "    Policy\n",
    ")\n",
    "from problem_formulation import get_model_for_problem_formulation"
   ],
   "metadata": {
    "collapsed": false,
    "ExecuteTime": {
     "start_time": "2023-06-14T09:31:13.959252Z",
     "end_time": "2023-06-14T09:31:15.258804Z"
    }
   }
  },
  {
   "cell_type": "markdown",
   "source": [
    "### Problem formulation"
   ],
   "metadata": {
    "collapsed": false
   }
  },
  {
   "cell_type": "code",
   "execution_count": 3,
   "outputs": [],
   "source": [
    "ema_logging.log_to_stderr(ema_logging.INFO)\n",
    "\n",
    "# choose problem formulation number, between 0-5\n",
    "# each problem formulation has its own list of outcomes\n",
    "# we chose #2 because Rijkswaterstaat is interested in highly aggregated outcomes\n",
    "dike_model, planning_steps = get_model_for_problem_formulation(2)"
   ],
   "metadata": {
    "collapsed": false,
    "ExecuteTime": {
     "start_time": "2023-06-14T09:31:15.258804Z",
     "end_time": "2023-06-14T09:31:15.533993Z"
    }
   }
  },
  {
   "cell_type": "markdown",
   "source": [
    "### Model zero policies"
   ],
   "metadata": {
    "collapsed": false,
    "ExecuteTime": {
     "start_time": "2023-06-12T11:15:24.328204Z",
     "end_time": "2023-06-12T11:15:24.331014Z"
    }
   },
   "outputs": [],
   "execution_count": 4
  },
  {
   "cell_type": "code",
   "execution_count": 4,
   "outputs": [],
   "source": [
    "def get_do_nothing_dict():\n",
    "    return {l.name: 0 for l in dike_model.levers}\n",
    "\n",
    "\n",
    "policies = [\n",
    "    Policy(\n",
    "        \"policy 0\",\n",
    "        **dict(\n",
    "            get_do_nothing_dict(),\n",
    "            **{}\n",
    "        )\n",
    "    )\n",
    "]"
   ],
   "metadata": {
    "collapsed": false,
    "ExecuteTime": {
     "start_time": "2023-06-14T09:31:17.108139Z",
     "end_time": "2023-06-14T09:31:17.108645Z"
    }
   }
  },
  {
   "cell_type": "markdown",
   "source": [
    "Run model #1:\n",
    "\n",
    "Assumptions:\n",
    "Scenario's: 20000\n",
    "Policy's: 0\n",
    "\n",
    "We chose to run the setup with 0 policies because those will be completely random\n",
    "and not useful for further analysis, but it would increase the runtime significantly."
   ],
   "metadata": {
    "collapsed": false
   }
  },
  {
   "cell_type": "code",
   "execution_count": 5,
   "outputs": [],
   "source": [
    "scenarios_base = 20000"
   ],
   "metadata": {
    "collapsed": false,
    "ExecuteTime": {
     "start_time": "2023-06-14T09:31:18.826765Z",
     "end_time": "2023-06-14T09:31:18.841690Z"
    }
   }
  },
  {
   "cell_type": "code",
   "execution_count": 6,
   "outputs": [
    {
     "name": "stderr",
     "output_type": "stream",
     "text": [
      "[MainProcess/INFO] pool started with 12 workers\n",
      "[MainProcess/INFO] performing 20000 scenarios * 1 policies * 1 model(s) = 20000 experiments\n",
      "100%|████████████████████████████████████| 20000/20000 [27:04<00:00, 12.31it/s]\n",
      "[MainProcess/INFO] experiments finished\n",
      "[MainProcess/INFO] terminating pool\n"
     ]
    }
   ],
   "source": [
    "# running the model through EMA workbench\n",
    "with MultiprocessingEvaluator(dike_model) as evaluator:\n",
    "    results_base = evaluator.perform_experiments(scenarios_base, policies)"
   ],
   "metadata": {
    "collapsed": false,
    "ExecuteTime": {
     "start_time": "2023-06-14T09:31:19.618645Z",
     "end_time": "2023-06-14T09:58:44.662853Z"
    }
   }
  },
  {
   "cell_type": "markdown",
   "source": [
    "Results of 20000 scenarios and 0 policies saved to csv"
   ],
   "metadata": {
    "collapsed": false,
    "ExecuteTime": {
     "start_time": "2023-06-12T11:15:24.333010Z",
     "end_time": "2023-06-12T11:19:19.661577Z"
    }
   },
   "outputs": [
    {
     "name": "stderr",
     "output_type": "stream",
     "text": [
      "[MainProcess/INFO] pool started with 12 workers\n",
      "[MainProcess/INFO] performing 2000 scenarios * 1 policies * 1 model(s) = 2000 experiments\n",
      "100%|██████████████████████████████████████| 2000/2000 [03:33<00:00,  9.35it/s]\n",
      "[MainProcess/INFO] experiments finished\n",
      "[MainProcess/INFO] terminating pool\n"
     ]
    }
   ],
   "execution_count": 5
  },
  {
   "cell_type": "code",
   "execution_count": 24,
   "outputs": [],
   "source": [
    "experiments_base, outcomes_base = results_base\n",
    "# Policy distinction is necessary because of the legend.\n",
    "policies = experiments_base['policy']\n",
    "outcomes_2000s_0p = pd.DataFrame.from_dict(outcomes_base)\n",
    "outcomes_2000s_0p['policy'] = policies"
   ],
   "metadata": {
    "collapsed": false,
    "ExecuteTime": {
     "start_time": "2023-06-14T09:59:21.877683Z",
     "end_time": "2023-06-14T09:59:21.882420Z"
    }
   }
  },
  {
   "cell_type": "code",
   "execution_count": 25,
   "outputs": [
    {
     "data": {
      "text/plain": "       Expected Annual Damage  Dike Investment Costs  RfR Investment Costs   \n0                2.118204e+08                      0                   0.0  \\\n1                1.507760e+09                      0                   0.0   \n2                1.874935e+09                      0                   0.0   \n3                2.346989e+09                      0                   0.0   \n4                1.106388e+09                      0                   0.0   \n...                       ...                    ...                   ...   \n19995            1.271563e+08                      0                   0.0   \n19996            2.282437e+09                      0                   0.0   \n19997            2.253348e+09                      0                   0.0   \n19998            6.192569e+08                      0                   0.0   \n19999            1.124515e+09                      0                   0.0   \n\n       Evacuation Costs  Expected Number of Deaths    policy  \n0                   0.0                   0.309755  policy 0  \n1                   0.0                   3.087211  policy 0  \n2                   0.0                   1.556953  policy 0  \n3                   0.0                   1.622508  policy 0  \n4                   0.0                   0.734634  policy 0  \n...                 ...                        ...       ...  \n19995               0.0                   0.112194  policy 0  \n19996               0.0                   1.601569  policy 0  \n19997               0.0                   1.845837  policy 0  \n19998               0.0                   0.449564  policy 0  \n19999               0.0                   1.846613  policy 0  \n\n[20000 rows x 6 columns]",
      "text/html": "<div>\n<style scoped>\n    .dataframe tbody tr th:only-of-type {\n        vertical-align: middle;\n    }\n\n    .dataframe tbody tr th {\n        vertical-align: top;\n    }\n\n    .dataframe thead th {\n        text-align: right;\n    }\n</style>\n<table border=\"1\" class=\"dataframe\">\n  <thead>\n    <tr style=\"text-align: right;\">\n      <th></th>\n      <th>Expected Annual Damage</th>\n      <th>Dike Investment Costs</th>\n      <th>RfR Investment Costs</th>\n      <th>Evacuation Costs</th>\n      <th>Expected Number of Deaths</th>\n      <th>policy</th>\n    </tr>\n  </thead>\n  <tbody>\n    <tr>\n      <th>0</th>\n      <td>2.118204e+08</td>\n      <td>0</td>\n      <td>0.0</td>\n      <td>0.0</td>\n      <td>0.309755</td>\n      <td>policy 0</td>\n    </tr>\n    <tr>\n      <th>1</th>\n      <td>1.507760e+09</td>\n      <td>0</td>\n      <td>0.0</td>\n      <td>0.0</td>\n      <td>3.087211</td>\n      <td>policy 0</td>\n    </tr>\n    <tr>\n      <th>2</th>\n      <td>1.874935e+09</td>\n      <td>0</td>\n      <td>0.0</td>\n      <td>0.0</td>\n      <td>1.556953</td>\n      <td>policy 0</td>\n    </tr>\n    <tr>\n      <th>3</th>\n      <td>2.346989e+09</td>\n      <td>0</td>\n      <td>0.0</td>\n      <td>0.0</td>\n      <td>1.622508</td>\n      <td>policy 0</td>\n    </tr>\n    <tr>\n      <th>4</th>\n      <td>1.106388e+09</td>\n      <td>0</td>\n      <td>0.0</td>\n      <td>0.0</td>\n      <td>0.734634</td>\n      <td>policy 0</td>\n    </tr>\n    <tr>\n      <th>...</th>\n      <td>...</td>\n      <td>...</td>\n      <td>...</td>\n      <td>...</td>\n      <td>...</td>\n      <td>...</td>\n    </tr>\n    <tr>\n      <th>19995</th>\n      <td>1.271563e+08</td>\n      <td>0</td>\n      <td>0.0</td>\n      <td>0.0</td>\n      <td>0.112194</td>\n      <td>policy 0</td>\n    </tr>\n    <tr>\n      <th>19996</th>\n      <td>2.282437e+09</td>\n      <td>0</td>\n      <td>0.0</td>\n      <td>0.0</td>\n      <td>1.601569</td>\n      <td>policy 0</td>\n    </tr>\n    <tr>\n      <th>19997</th>\n      <td>2.253348e+09</td>\n      <td>0</td>\n      <td>0.0</td>\n      <td>0.0</td>\n      <td>1.845837</td>\n      <td>policy 0</td>\n    </tr>\n    <tr>\n      <th>19998</th>\n      <td>6.192569e+08</td>\n      <td>0</td>\n      <td>0.0</td>\n      <td>0.0</td>\n      <td>0.449564</td>\n      <td>policy 0</td>\n    </tr>\n    <tr>\n      <th>19999</th>\n      <td>1.124515e+09</td>\n      <td>0</td>\n      <td>0.0</td>\n      <td>0.0</td>\n      <td>1.846613</td>\n      <td>policy 0</td>\n    </tr>\n  </tbody>\n</table>\n<p>20000 rows × 6 columns</p>\n</div>"
     },
     "execution_count": 25,
     "metadata": {},
     "output_type": "execute_result"
    }
   ],
   "source": [
    "# Print outcomes\n",
    "outcomes_2000s_0p"
   ],
   "metadata": {
    "collapsed": false,
    "ExecuteTime": {
     "start_time": "2023-06-14T09:59:22.114932Z",
     "end_time": "2023-06-14T09:59:22.138166Z"
    }
   }
  },
  {
   "cell_type": "code",
   "execution_count": 26,
   "outputs": [
    {
     "data": {
      "text/plain": "       A.0_ID flood wave shape    A.1_Bmax A.1_Brate  A.1_pfail    A.2_Bmax   \n0                          110  334.008648      10.0   0.729263  259.565899  \\\n1                           56  158.582973      10.0   0.641079  327.393379   \n2                           80  299.733430      10.0   0.184624  281.087283   \n3                           61  151.914404       1.5   0.153804  176.530917   \n4                           80  309.749958       1.0   0.422138  307.063572   \n...                        ...         ...       ...        ...         ...   \n19995                       24  219.930246       1.0   0.891368  275.617704   \n19996                       26  192.896909      10.0   0.061889  150.176897   \n19997                      103  128.071261       1.5   0.054128  110.143125   \n19998                      119  186.803366      10.0   0.462298  125.963852   \n19999                       21  175.973771       1.0   0.834620   32.073406   \n\n      A.2_Brate  A.2_pfail    A.3_Bmax A.3_Brate  A.3_pfail  ...   \n0          10.0   0.673660  104.948965      10.0   0.550382  ...  \\\n1           1.0   0.330776  253.114312       1.5   0.109510  ...   \n2           1.0   0.481512  105.280240       1.0   0.930467  ...   \n3          10.0   0.630006  272.552747      10.0   0.762337  ...   \n4          10.0   0.217711  331.690263       1.5   0.705076  ...   \n...         ...        ...         ...       ...        ...  ...   \n19995      10.0   0.423842   30.879098      10.0   0.889828  ...   \n19996       1.5   0.138363  299.317904       1.5   0.466195  ...   \n19997       1.5   0.690233   36.941079       1.5   0.445781  ...   \n19998       1.0   0.384373  327.711865      10.0   0.702281  ...   \n19999       1.0   0.891934  143.325430       1.5   0.223834  ...   \n\n       A.3_DikeIncrease 2 A.4_DikeIncrease 0  A.4_DikeIncrease 1   \n0                       0                  0                   0  \\\n1                       0                  0                   0   \n2                       0                  0                   0   \n3                       0                  0                   0   \n4                       0                  0                   0   \n...                   ...                ...                 ...   \n19995                   0                  0                   0   \n19996                   0                  0                   0   \n19997                   0                  0                   0   \n19998                   0                  0                   0   \n19999                   0                  0                   0   \n\n       A.4_DikeIncrease 2 A.5_DikeIncrease 0  A.5_DikeIncrease 1   \n0                       0                  0                   0  \\\n1                       0                  0                   0   \n2                       0                  0                   0   \n3                       0                  0                   0   \n4                       0                  0                   0   \n...                   ...                ...                 ...   \n19995                   0                  0                   0   \n19996                   0                  0                   0   \n19997                   0                  0                   0   \n19998                   0                  0                   0   \n19999                   0                  0                   0   \n\n      A.5_DikeIncrease 2 scenario    policy     model  \n0                      0        0  policy 0  dikesnet  \n1                      0        1  policy 0  dikesnet  \n2                      0        2  policy 0  dikesnet  \n3                      0        3  policy 0  dikesnet  \n4                      0        4  policy 0  dikesnet  \n...                  ...      ...       ...       ...  \n19995                  0    19995  policy 0  dikesnet  \n19996                  0    19996  policy 0  dikesnet  \n19997                  0    19997  policy 0  dikesnet  \n19998                  0    19998  policy 0  dikesnet  \n19999                  0    19999  policy 0  dikesnet  \n\n[20000 rows x 53 columns]",
      "text/html": "<div>\n<style scoped>\n    .dataframe tbody tr th:only-of-type {\n        vertical-align: middle;\n    }\n\n    .dataframe tbody tr th {\n        vertical-align: top;\n    }\n\n    .dataframe thead th {\n        text-align: right;\n    }\n</style>\n<table border=\"1\" class=\"dataframe\">\n  <thead>\n    <tr style=\"text-align: right;\">\n      <th></th>\n      <th>A.0_ID flood wave shape</th>\n      <th>A.1_Bmax</th>\n      <th>A.1_Brate</th>\n      <th>A.1_pfail</th>\n      <th>A.2_Bmax</th>\n      <th>A.2_Brate</th>\n      <th>A.2_pfail</th>\n      <th>A.3_Bmax</th>\n      <th>A.3_Brate</th>\n      <th>A.3_pfail</th>\n      <th>...</th>\n      <th>A.3_DikeIncrease 2</th>\n      <th>A.4_DikeIncrease 0</th>\n      <th>A.4_DikeIncrease 1</th>\n      <th>A.4_DikeIncrease 2</th>\n      <th>A.5_DikeIncrease 0</th>\n      <th>A.5_DikeIncrease 1</th>\n      <th>A.5_DikeIncrease 2</th>\n      <th>scenario</th>\n      <th>policy</th>\n      <th>model</th>\n    </tr>\n  </thead>\n  <tbody>\n    <tr>\n      <th>0</th>\n      <td>110</td>\n      <td>334.008648</td>\n      <td>10.0</td>\n      <td>0.729263</td>\n      <td>259.565899</td>\n      <td>10.0</td>\n      <td>0.673660</td>\n      <td>104.948965</td>\n      <td>10.0</td>\n      <td>0.550382</td>\n      <td>...</td>\n      <td>0</td>\n      <td>0</td>\n      <td>0</td>\n      <td>0</td>\n      <td>0</td>\n      <td>0</td>\n      <td>0</td>\n      <td>0</td>\n      <td>policy 0</td>\n      <td>dikesnet</td>\n    </tr>\n    <tr>\n      <th>1</th>\n      <td>56</td>\n      <td>158.582973</td>\n      <td>10.0</td>\n      <td>0.641079</td>\n      <td>327.393379</td>\n      <td>1.0</td>\n      <td>0.330776</td>\n      <td>253.114312</td>\n      <td>1.5</td>\n      <td>0.109510</td>\n      <td>...</td>\n      <td>0</td>\n      <td>0</td>\n      <td>0</td>\n      <td>0</td>\n      <td>0</td>\n      <td>0</td>\n      <td>0</td>\n      <td>1</td>\n      <td>policy 0</td>\n      <td>dikesnet</td>\n    </tr>\n    <tr>\n      <th>2</th>\n      <td>80</td>\n      <td>299.733430</td>\n      <td>10.0</td>\n      <td>0.184624</td>\n      <td>281.087283</td>\n      <td>1.0</td>\n      <td>0.481512</td>\n      <td>105.280240</td>\n      <td>1.0</td>\n      <td>0.930467</td>\n      <td>...</td>\n      <td>0</td>\n      <td>0</td>\n      <td>0</td>\n      <td>0</td>\n      <td>0</td>\n      <td>0</td>\n      <td>0</td>\n      <td>2</td>\n      <td>policy 0</td>\n      <td>dikesnet</td>\n    </tr>\n    <tr>\n      <th>3</th>\n      <td>61</td>\n      <td>151.914404</td>\n      <td>1.5</td>\n      <td>0.153804</td>\n      <td>176.530917</td>\n      <td>10.0</td>\n      <td>0.630006</td>\n      <td>272.552747</td>\n      <td>10.0</td>\n      <td>0.762337</td>\n      <td>...</td>\n      <td>0</td>\n      <td>0</td>\n      <td>0</td>\n      <td>0</td>\n      <td>0</td>\n      <td>0</td>\n      <td>0</td>\n      <td>3</td>\n      <td>policy 0</td>\n      <td>dikesnet</td>\n    </tr>\n    <tr>\n      <th>4</th>\n      <td>80</td>\n      <td>309.749958</td>\n      <td>1.0</td>\n      <td>0.422138</td>\n      <td>307.063572</td>\n      <td>10.0</td>\n      <td>0.217711</td>\n      <td>331.690263</td>\n      <td>1.5</td>\n      <td>0.705076</td>\n      <td>...</td>\n      <td>0</td>\n      <td>0</td>\n      <td>0</td>\n      <td>0</td>\n      <td>0</td>\n      <td>0</td>\n      <td>0</td>\n      <td>4</td>\n      <td>policy 0</td>\n      <td>dikesnet</td>\n    </tr>\n    <tr>\n      <th>...</th>\n      <td>...</td>\n      <td>...</td>\n      <td>...</td>\n      <td>...</td>\n      <td>...</td>\n      <td>...</td>\n      <td>...</td>\n      <td>...</td>\n      <td>...</td>\n      <td>...</td>\n      <td>...</td>\n      <td>...</td>\n      <td>...</td>\n      <td>...</td>\n      <td>...</td>\n      <td>...</td>\n      <td>...</td>\n      <td>...</td>\n      <td>...</td>\n      <td>...</td>\n      <td>...</td>\n    </tr>\n    <tr>\n      <th>19995</th>\n      <td>24</td>\n      <td>219.930246</td>\n      <td>1.0</td>\n      <td>0.891368</td>\n      <td>275.617704</td>\n      <td>10.0</td>\n      <td>0.423842</td>\n      <td>30.879098</td>\n      <td>10.0</td>\n      <td>0.889828</td>\n      <td>...</td>\n      <td>0</td>\n      <td>0</td>\n      <td>0</td>\n      <td>0</td>\n      <td>0</td>\n      <td>0</td>\n      <td>0</td>\n      <td>19995</td>\n      <td>policy 0</td>\n      <td>dikesnet</td>\n    </tr>\n    <tr>\n      <th>19996</th>\n      <td>26</td>\n      <td>192.896909</td>\n      <td>10.0</td>\n      <td>0.061889</td>\n      <td>150.176897</td>\n      <td>1.5</td>\n      <td>0.138363</td>\n      <td>299.317904</td>\n      <td>1.5</td>\n      <td>0.466195</td>\n      <td>...</td>\n      <td>0</td>\n      <td>0</td>\n      <td>0</td>\n      <td>0</td>\n      <td>0</td>\n      <td>0</td>\n      <td>0</td>\n      <td>19996</td>\n      <td>policy 0</td>\n      <td>dikesnet</td>\n    </tr>\n    <tr>\n      <th>19997</th>\n      <td>103</td>\n      <td>128.071261</td>\n      <td>1.5</td>\n      <td>0.054128</td>\n      <td>110.143125</td>\n      <td>1.5</td>\n      <td>0.690233</td>\n      <td>36.941079</td>\n      <td>1.5</td>\n      <td>0.445781</td>\n      <td>...</td>\n      <td>0</td>\n      <td>0</td>\n      <td>0</td>\n      <td>0</td>\n      <td>0</td>\n      <td>0</td>\n      <td>0</td>\n      <td>19997</td>\n      <td>policy 0</td>\n      <td>dikesnet</td>\n    </tr>\n    <tr>\n      <th>19998</th>\n      <td>119</td>\n      <td>186.803366</td>\n      <td>10.0</td>\n      <td>0.462298</td>\n      <td>125.963852</td>\n      <td>1.0</td>\n      <td>0.384373</td>\n      <td>327.711865</td>\n      <td>10.0</td>\n      <td>0.702281</td>\n      <td>...</td>\n      <td>0</td>\n      <td>0</td>\n      <td>0</td>\n      <td>0</td>\n      <td>0</td>\n      <td>0</td>\n      <td>0</td>\n      <td>19998</td>\n      <td>policy 0</td>\n      <td>dikesnet</td>\n    </tr>\n    <tr>\n      <th>19999</th>\n      <td>21</td>\n      <td>175.973771</td>\n      <td>1.0</td>\n      <td>0.834620</td>\n      <td>32.073406</td>\n      <td>1.0</td>\n      <td>0.891934</td>\n      <td>143.325430</td>\n      <td>1.5</td>\n      <td>0.223834</td>\n      <td>...</td>\n      <td>0</td>\n      <td>0</td>\n      <td>0</td>\n      <td>0</td>\n      <td>0</td>\n      <td>0</td>\n      <td>0</td>\n      <td>19999</td>\n      <td>policy 0</td>\n      <td>dikesnet</td>\n    </tr>\n  </tbody>\n</table>\n<p>20000 rows × 53 columns</p>\n</div>"
     },
     "execution_count": 26,
     "metadata": {},
     "output_type": "execute_result"
    }
   ],
   "source": [
    "experiments_2000s_0p = experiments_base\n",
    "experiments_2000s_0p"
   ],
   "metadata": {
    "collapsed": false,
    "ExecuteTime": {
     "start_time": "2023-06-14T09:59:27.776672Z",
     "end_time": "2023-06-14T09:59:27.803557Z"
    }
   }
  },
  {
   "cell_type": "code",
   "execution_count": 27,
   "outputs": [],
   "source": [
    "# Both saved to the data map as csv file\n",
    "outcomes_2000s_0p.to_csv('data/output_data/outcomes_2000s_0p.csv')\n",
    "experiments_2000s_0p.to_csv('data/output_data/experiments_2000s_0p.csv')"
   ],
   "metadata": {
    "collapsed": false,
    "ExecuteTime": {
     "start_time": "2023-06-14T09:59:29.026891Z",
     "end_time": "2023-06-14T09:59:29.523806Z"
    }
   }
  },
  {
   "cell_type": "code",
   "execution_count": 18,
   "outputs": [],
   "source": [],
   "metadata": {
    "collapsed": false,
    "ExecuteTime": {
     "start_time": "2023-06-12T16:37:11.567767Z",
     "end_time": "2023-06-12T16:37:11.570577Z"
    }
   }
  },
  {
   "cell_type": "code",
   "execution_count": null,
   "outputs": [],
   "source": [],
   "metadata": {
    "collapsed": false
   }
  }
 ],
 "metadata": {
  "kernelspec": {
   "display_name": "Python 3",
   "language": "python",
   "name": "python3"
  },
  "language_info": {
   "codemirror_mode": {
    "name": "ipython",
    "version": 2
   },
   "file_extension": ".py",
   "mimetype": "text/x-python",
   "name": "python",
   "nbconvert_exporter": "python",
   "pygments_lexer": "ipython2",
   "version": "2.7.6"
  }
 },
 "nbformat": 4,
 "nbformat_minor": 0
}
