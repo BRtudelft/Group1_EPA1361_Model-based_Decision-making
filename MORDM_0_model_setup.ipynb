{
 "cells": [
  {
   "cell_type": "markdown",
   "source": [
    "# Model set-up\n",
    "Run with 10000 scenarios, no policies applies\n",
    "\n",
    "Can be later on added to the first chapter.\n",
    "\n",
    "Imports needed in the model set up are listed below\n",
    "\n",
    "NOTE! Model variables must be updated to #scenarios\n"
   ],
   "metadata": {
    "collapsed": false
   }
  },
  {
   "cell_type": "code",
   "execution_count": 1,
   "outputs": [
    {
     "name": "stdout",
     "output_type": "stream",
     "text": [
      "2.0.1\n",
      "3.1\n"
     ]
    }
   ],
   "source": [
    "import pandas as pd\n",
    "import networkx as nx\n",
    "\n",
    "# make sure pandas is version 1.0 or higher\n",
    "# make sure networkx is verion 2.4 or higher\n",
    "print(pd.__version__)\n",
    "print(nx.__version__)"
   ],
   "metadata": {
    "collapsed": false,
    "ExecuteTime": {
     "start_time": "2023-06-14T09:31:13.721815Z",
     "end_time": "2023-06-14T09:31:13.865521Z"
    }
   }
  },
  {
   "cell_type": "code",
   "execution_count": 2,
   "outputs": [],
   "source": [
    "from ema_workbench import (\n",
    "    ema_logging,\n",
    "    MultiprocessingEvaluator,\n",
    "    Policy\n",
    ")\n",
    "from problem_formulation import get_model_for_problem_formulation"
   ],
   "metadata": {
    "collapsed": false,
    "ExecuteTime": {
     "start_time": "2023-06-14T09:31:13.959252Z",
     "end_time": "2023-06-14T09:31:15.258804Z"
    }
   }
  },
  {
   "cell_type": "markdown",
   "source": [
    "### Problem formulation"
   ],
   "metadata": {
    "collapsed": false
   }
  },
  {
   "cell_type": "code",
   "execution_count": 3,
   "outputs": [],
   "source": [
    "ema_logging.log_to_stderr(ema_logging.INFO)\n",
    "\n",
    "# choose problem formulation number, between 0-5\n",
    "# each problem formulation has its own list of outcomes\n",
    "# we chose #2 because Rijkswaterstaat is interested in highly aggregated outcomes\n",
    "dike_model, planning_steps = get_model_for_problem_formulation(2)"
   ],
   "metadata": {
    "collapsed": false,
    "ExecuteTime": {
     "start_time": "2023-06-14T09:31:15.258804Z",
     "end_time": "2023-06-14T09:31:15.533993Z"
    }
   }
  },
  {
   "cell_type": "markdown",
   "source": [
    "### Model zero policies"
   ],
   "metadata": {
    "collapsed": false,
    "ExecuteTime": {
     "start_time": "2023-06-12T11:15:24.328204Z",
     "end_time": "2023-06-12T11:15:24.331014Z"
    }
   },
   "outputs": [],
   "execution_count": 4
  },
  {
   "cell_type": "code",
   "execution_count": 4,
   "outputs": [],
   "source": [
    "def get_do_nothing_dict():\n",
    "    return {l.name: 0 for l in dike_model.levers}\n",
    "\n",
    "\n",
    "policies = [\n",
    "    Policy(\n",
    "        \"policy 0\",\n",
    "        **dict(\n",
    "            get_do_nothing_dict(),\n",
    "            **{}\n",
    "        )\n",
    "    )\n",
    "]"
   ],
   "metadata": {
    "collapsed": false,
    "ExecuteTime": {
     "start_time": "2023-06-14T09:31:17.108139Z",
     "end_time": "2023-06-14T09:31:17.108645Z"
    }
   }
  },
  {
   "cell_type": "markdown",
   "source": [
    "Run model #1:\n",
    "\n",
    "Assumptions:\n",
    "Scenario's: 20000\n",
    "Policy's: 0\n",
    "\n",
    "We chose to run the setup with 0 policies because those will be completely random\n",
    "and not useful for further analysis, but it would increase the runtime significantly."
   ],
   "metadata": {
    "collapsed": false
   }
  },
  {
   "cell_type": "code",
   "execution_count": 5,
   "outputs": [],
   "source": [
    "scenarios_base = 20000"
   ],
   "metadata": {
    "collapsed": false,
    "ExecuteTime": {
     "start_time": "2023-06-14T09:31:18.826765Z",
     "end_time": "2023-06-14T09:31:18.841690Z"
    }
   }
  },
  {
   "cell_type": "code",
   "execution_count": 6,
   "outputs": [
    {
     "name": "stderr",
     "output_type": "stream",
     "text": [
      "[MainProcess/INFO] pool started with 12 workers\n",
      "[MainProcess/INFO] performing 20000 scenarios * 1 policies * 1 model(s) = 20000 experiments\n",
      "100%|████████████████████████████████████| 20000/20000 [27:04<00:00, 12.31it/s]\n",
      "[MainProcess/INFO] experiments finished\n",
      "[MainProcess/INFO] terminating pool\n"
     ]
    }
   ],
   "source": [
    "# running the model through EMA workbench\n",
    "with MultiprocessingEvaluator(dike_model) as evaluator:\n",
    "    results_base = evaluator.perform_experiments(scenarios_base, policies)"
   ],
   "metadata": {
    "collapsed": false,
    "ExecuteTime": {
     "start_time": "2023-06-14T09:31:19.618645Z",
     "end_time": "2023-06-14T09:58:44.662853Z"
    }
   }
  },
  {
   "cell_type": "markdown",
   "source": [
    "Results of 20000 scenarios and 0 policies saved to csv"
   ],
   "metadata": {
    "collapsed": false,
    "ExecuteTime": {
     "start_time": "2023-06-12T11:15:24.333010Z",
     "end_time": "2023-06-12T11:19:19.661577Z"
    }
   },
   "outputs": [
    {
     "name": "stderr",
     "output_type": "stream",
     "text": [
      "[MainProcess/INFO] pool started with 12 workers\n",
      "[MainProcess/INFO] performing 2000 scenarios * 1 policies * 1 model(s) = 2000 experiments\n",
      "100%|██████████████████████████████████████| 2000/2000 [03:33<00:00,  9.35it/s]\n",
      "[MainProcess/INFO] experiments finished\n",
      "[MainProcess/INFO] terminating pool\n"
     ]
    }
   ],
   "execution_count": 5
  },
  {
   "cell_type": "code",
   "execution_count": 1,
   "outputs": [
    {
     "ename": "NameError",
     "evalue": "name 'results_base' is not defined",
     "output_type": "error",
     "traceback": [
      "\u001B[1;31m---------------------------------------------------------------------------\u001B[0m",
      "\u001B[1;31mNameError\u001B[0m                                 Traceback (most recent call last)",
      "Cell \u001B[1;32mIn[1], line 1\u001B[0m\n\u001B[1;32m----> 1\u001B[0m experiments_base, outcomes_base \u001B[38;5;241m=\u001B[39m \u001B[43mresults_base\u001B[49m\n\u001B[0;32m      2\u001B[0m \u001B[38;5;66;03m# Policy distinction is necessary because of the legend.\u001B[39;00m\n\u001B[0;32m      3\u001B[0m policies \u001B[38;5;241m=\u001B[39m experiments_base[\u001B[38;5;124m'\u001B[39m\u001B[38;5;124mpolicy\u001B[39m\u001B[38;5;124m'\u001B[39m]\n",
      "\u001B[1;31mNameError\u001B[0m: name 'results_base' is not defined"
     ]
    }
   ],
   "source": [
    "experiments_base, outcomes_base = results_base\n",
    "# Policy distinction is necessary because of the legend.\n",
    "policies = experiments_base['policy']\n",
    "outcomes_2000s_0p = pd.DataFrame.from_dict(outcomes_base)\n",
    "outcomes_2000s_0p['policy'] = policies"
   ],
   "metadata": {
    "collapsed": false,
    "ExecuteTime": {
     "start_time": "2023-06-14T09:59:21.877683Z",
     "end_time": "2023-06-14T09:59:21.882420Z"
    }
   }
  },
  {
   "cell_type": "code",
   "execution_count": null,
   "outputs": [],
   "source": [
    "# Print outcomes\n",
    "outcomes_2000s_0p"
   ],
   "metadata": {
    "collapsed": false,
    "ExecuteTime": {
     "start_time": "2023-06-14T09:59:22.114932Z",
     "end_time": "2023-06-14T09:59:22.138166Z"
    }
   }
  },
  {
   "cell_type": "code",
   "execution_count": null,
   "outputs": [],
   "source": [
    "experiments_2000s_0p = experiments_base\n",
    "experiments_2000s_0p"
   ],
   "metadata": {
    "collapsed": false,
    "ExecuteTime": {
     "start_time": "2023-06-14T09:59:27.776672Z",
     "end_time": "2023-06-14T09:59:27.803557Z"
    }
   }
  },
  {
   "cell_type": "code",
   "execution_count": null,
   "outputs": [],
   "source": [
    "# Both saved to the data map as csv file\n",
    "outcomes_2000s_0p.to_csv('data/output_data/outcomes_2000s_0p.csv')\n",
    "experiments_2000s_0p.to_csv('data/output_data/experiments_2000s_0p.csv')"
   ],
   "metadata": {
    "collapsed": false,
    "ExecuteTime": {
     "start_time": "2023-06-14T09:59:29.026891Z",
     "end_time": "2023-06-14T09:59:29.523806Z"
    }
   }
  },
  {
   "cell_type": "code",
   "execution_count": 18,
   "outputs": [],
   "source": [],
   "metadata": {
    "collapsed": false,
    "ExecuteTime": {
     "start_time": "2023-06-12T16:37:11.567767Z",
     "end_time": "2023-06-12T16:37:11.570577Z"
    }
   }
  },
  {
   "cell_type": "code",
   "execution_count": null,
   "outputs": [],
   "source": [],
   "metadata": {
    "collapsed": false
   }
  }
 ],
 "metadata": {
  "kernelspec": {
   "display_name": "Python 3",
   "language": "python",
   "name": "python3"
  },
  "language_info": {
   "codemirror_mode": {
    "name": "ipython",
    "version": 2
   },
   "file_extension": ".py",
   "mimetype": "text/x-python",
   "name": "python",
   "nbconvert_exporter": "python",
   "pygments_lexer": "ipython2",
   "version": "2.7.6"
  }
 },
 "nbformat": 4,
 "nbformat_minor": 0
}
