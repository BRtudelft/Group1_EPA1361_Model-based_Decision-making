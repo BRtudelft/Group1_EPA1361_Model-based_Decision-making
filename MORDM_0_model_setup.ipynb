{
 "cells": [
  {
   "cell_type": "markdown",
   "source": [
    "# Model set-up\n",
    "Run with 2000 scenarios, no policies applies\n",
    "\n",
    "Can be later on added to the first chapter.\n",
    "\n",
    "Imports"
   ],
   "metadata": {
    "collapsed": false
   }
  },
  {
   "cell_type": "code",
   "execution_count": 11,
   "outputs": [
    {
     "ename": "NameError",
     "evalue": "name 'Imports' is not defined",
     "output_type": "error",
     "traceback": [
      "\u001B[1;31m---------------------------------------------------------------------------\u001B[0m",
      "\u001B[1;31mNameError\u001B[0m                                 Traceback (most recent call last)",
      "Cell \u001B[1;32mIn[11], line 1\u001B[0m\n\u001B[1;32m----> 1\u001B[0m \u001B[43mImports\u001B[49m\n",
      "\u001B[1;31mNameError\u001B[0m: name 'Imports' is not defined"
     ]
    }
   ],
   "source": [
    "import pandas as pd\n",
    "import matplotlib.pyplot as plt\n",
    "import seaborn as sns\n",
    "import networkx as nx\n",
    "\n",
    "# make sure pandas is version 1.0 or higher\n",
    "# make sure networkx is verion 2.4 or higher\n",
    "print(pd.__version__)\n",
    "print(nx.__version__)"
   ],
   "metadata": {
    "collapsed": false,
    "ExecuteTime": {
     "start_time": "2023-06-12T11:09:08.932956Z",
     "end_time": "2023-06-12T11:09:09.165470Z"
    }
   }
  },
  {
   "cell_type": "code",
   "execution_count": 2,
   "outputs": [],
   "source": [
    "from ema_workbench import (\n",
    "    Model,\n",
    "    Policy,\n",
    "    ema_logging,\n",
    "    SequentialEvaluator,\n",
    "    MultiprocessingEvaluator,\n",
    ")\n",
    "from dike_model_function import DikeNetwork  # @UnresolvedImport\n",
    "from problem_formulation import get_model_for_problem_formulation, sum_over, sum_over_time\n"
   ],
   "metadata": {
    "collapsed": false,
    "ExecuteTime": {
     "start_time": "2023-06-12T11:15:22.846311Z",
     "end_time": "2023-06-12T11:15:24.024420Z"
    }
   }
  },
  {
   "cell_type": "markdown",
   "source": [
    "Problem formulation"
   ],
   "metadata": {
    "collapsed": false
   }
  },
  {
   "cell_type": "code",
   "execution_count": 3,
   "outputs": [],
   "source": [
    "ema_logging.log_to_stderr(ema_logging.INFO)\n",
    "\n",
    "# choose problem formulation number, between 0-5\n",
    "# each problem formulation has its own list of outcomes\n",
    "dike_model, planning_steps = get_model_for_problem_formulation(2)"
   ],
   "metadata": {
    "collapsed": false,
    "ExecuteTime": {
     "start_time": "2023-06-12T11:15:24.026414Z",
     "end_time": "2023-06-12T11:15:24.326209Z"
    }
   }
  },
  {
   "cell_type": "markdown",
   "source": [
    "Model zero policies"
   ],
   "metadata": {
    "collapsed": false,
    "ExecuteTime": {
     "start_time": "2023-06-12T11:15:24.328204Z",
     "end_time": "2023-06-12T11:15:24.331014Z"
    }
   },
   "outputs": [],
   "execution_count": 4
  },
  {
   "cell_type": "markdown",
   "source": [
    "Run model #1:\n",
    "\n",
    "Assumptions:\n",
    "Scenario's: 2000\n",
    "Policy's: 0"
   ],
   "metadata": {
    "collapsed": false
   }
  },
  {
   "cell_type": "code",
   "execution_count": null,
   "outputs": [
    {
     "name": "stderr",
     "output_type": "stream",
     "text": [
      "[MainProcess/INFO] pool started with 12 workers\n",
      "[MainProcess/INFO] performing 2000 scenarios * 1 policies * 1 model(s) = 2000 experiments\n",
      "  0%|                                                 | 0/2000 [00:00<?, ?it/s]"
     ]
    }
   ],
   "source": [
    "scenarios_base = 2000\n"
   ],
   "metadata": {
    "collapsed": false,
    "ExecuteTime": {
     "start_time": "2023-06-12T11:00:44.343151Z",
     "end_time": "2023-06-12T11:00:44.355579Z"
    }
   }
  },
  {
   "cell_type": "code",
   "execution_count": null,
   "outputs": [
    {
     "name": "stderr",
     "output_type": "stream",
     "text": [
      "[MainProcess/INFO] pool started with 12 workers\n",
      "[MainProcess/INFO] performing 2000 scenarios * 1 policies * 1 model(s) = 2000 experiments\n",
      " 19%|███████▍                               | 383/2000 [00:41<03:59,  6.76it/s]"
     ]
    }
   ],
   "source": [
    "# running the model through EMA workbench\n",
    "with MultiprocessingEvaluator(dike_model) as evaluator:\n",
    "    results_base = evaluator.perform_experiments(scenarios_base)"
   ],
   "metadata": {
    "collapsed": false,
    "ExecuteTime": {
     "start_time": "2023-06-12T10:52:00.413648Z",
     "end_time": "2023-06-12T10:55:53.468176Z"
    }
   }
  },
  {
   "cell_type": "markdown",
   "source": [
    "Results 2000 scenarios / 5 policies (saved to csv)"
   ],
   "metadata": {
    "collapsed": false,
    "ExecuteTime": {
     "start_time": "2023-06-12T11:15:24.333010Z",
     "end_time": "2023-06-12T11:19:19.661577Z"
    }
   },
   "outputs": [
    {
     "name": "stderr",
     "output_type": "stream",
     "text": [
      "[MainProcess/INFO] pool started with 12 workers\n",
      "[MainProcess/INFO] performing 2000 scenarios * 1 policies * 1 model(s) = 2000 experiments\n",
      "100%|██████████████████████████████████████| 2000/2000 [03:33<00:00,  9.35it/s]\n",
      "[MainProcess/INFO] experiments finished\n",
      "[MainProcess/INFO] terminating pool\n"
     ]
    }
   ],
   "execution_count": 5
  },
  {
   "cell_type": "code",
   "execution_count": null,
   "outputs": [],
   "source": [
    "experiments_base, outcomes_base = results_base\n",
    "policies = experiments_base['policy']\n",
    "outcomes_2000s_0p = pd.DataFrame.from_dict(outcomes_base)\n",
    "outcomes_2000s_0p['policy'] = policies\n"
   ],
   "metadata": {
    "collapsed": false,
    "ExecuteTime": {
     "start_time": "2023-06-12T10:57:11.635003Z",
     "end_time": "2023-06-12T10:57:11.648352Z"
    }
   }
  },
  {
   "cell_type": "code",
   "execution_count": 6,
   "outputs": [],
   "source": [
    "outcomes_2000s_0p"
   ],
   "metadata": {
    "collapsed": false,
    "ExecuteTime": {
     "start_time": "2023-06-12T11:19:27.265349Z",
     "end_time": "2023-06-12T11:19:27.277345Z"
    }
   }
  },
  {
   "cell_type": "code",
   "execution_count": 7,
   "outputs": [
    {
     "data": {
      "text/plain": "      Expected Annual Damage  Dike Investment Costs  RfR Investment Costs   \n0               1.882584e+08                      0                   0.0  \\\n1               1.039182e+09                      0                   0.0   \n2               9.152977e+08                      0                   0.0   \n3               4.608229e+08                      0                   0.0   \n4               2.776823e+09                      0                   0.0   \n...                      ...                    ...                   ...   \n1995            3.674243e+08                      0                   0.0   \n1996            1.917904e+09                      0                   0.0   \n1997            4.240269e+07                      0                   0.0   \n1998            4.900640e+09                      0                   0.0   \n1999            5.250440e+08                      0                   0.0   \n\n      Evacuation Costs  Expected Number of Deaths    policy  \n0                  0.0                   0.179969  policy 0  \n1                  0.0                   1.671262  policy 0  \n2                  0.0                   1.323831  policy 0  \n3                  0.0                   0.584433  policy 0  \n4                  0.0                   3.839870  policy 0  \n...                ...                        ...       ...  \n1995               0.0                   0.535035  policy 0  \n1996               0.0                   3.401053  policy 0  \n1997               0.0                   0.048261  policy 0  \n1998               0.0                   4.779904  policy 0  \n1999               0.0                   0.558333  policy 0  \n\n[2000 rows x 6 columns]",
      "text/html": "<div>\n<style scoped>\n    .dataframe tbody tr th:only-of-type {\n        vertical-align: middle;\n    }\n\n    .dataframe tbody tr th {\n        vertical-align: top;\n    }\n\n    .dataframe thead th {\n        text-align: right;\n    }\n</style>\n<table border=\"1\" class=\"dataframe\">\n  <thead>\n    <tr style=\"text-align: right;\">\n      <th></th>\n      <th>Expected Annual Damage</th>\n      <th>Dike Investment Costs</th>\n      <th>RfR Investment Costs</th>\n      <th>Evacuation Costs</th>\n      <th>Expected Number of Deaths</th>\n      <th>policy</th>\n    </tr>\n  </thead>\n  <tbody>\n    <tr>\n      <th>0</th>\n      <td>1.882584e+08</td>\n      <td>0</td>\n      <td>0.0</td>\n      <td>0.0</td>\n      <td>0.179969</td>\n      <td>policy 0</td>\n    </tr>\n    <tr>\n      <th>1</th>\n      <td>1.039182e+09</td>\n      <td>0</td>\n      <td>0.0</td>\n      <td>0.0</td>\n      <td>1.671262</td>\n      <td>policy 0</td>\n    </tr>\n    <tr>\n      <th>2</th>\n      <td>9.152977e+08</td>\n      <td>0</td>\n      <td>0.0</td>\n      <td>0.0</td>\n      <td>1.323831</td>\n      <td>policy 0</td>\n    </tr>\n    <tr>\n      <th>3</th>\n      <td>4.608229e+08</td>\n      <td>0</td>\n      <td>0.0</td>\n      <td>0.0</td>\n      <td>0.584433</td>\n      <td>policy 0</td>\n    </tr>\n    <tr>\n      <th>4</th>\n      <td>2.776823e+09</td>\n      <td>0</td>\n      <td>0.0</td>\n      <td>0.0</td>\n      <td>3.839870</td>\n      <td>policy 0</td>\n    </tr>\n    <tr>\n      <th>...</th>\n      <td>...</td>\n      <td>...</td>\n      <td>...</td>\n      <td>...</td>\n      <td>...</td>\n      <td>...</td>\n    </tr>\n    <tr>\n      <th>1995</th>\n      <td>3.674243e+08</td>\n      <td>0</td>\n      <td>0.0</td>\n      <td>0.0</td>\n      <td>0.535035</td>\n      <td>policy 0</td>\n    </tr>\n    <tr>\n      <th>1996</th>\n      <td>1.917904e+09</td>\n      <td>0</td>\n      <td>0.0</td>\n      <td>0.0</td>\n      <td>3.401053</td>\n      <td>policy 0</td>\n    </tr>\n    <tr>\n      <th>1997</th>\n      <td>4.240269e+07</td>\n      <td>0</td>\n      <td>0.0</td>\n      <td>0.0</td>\n      <td>0.048261</td>\n      <td>policy 0</td>\n    </tr>\n    <tr>\n      <th>1998</th>\n      <td>4.900640e+09</td>\n      <td>0</td>\n      <td>0.0</td>\n      <td>0.0</td>\n      <td>4.779904</td>\n      <td>policy 0</td>\n    </tr>\n    <tr>\n      <th>1999</th>\n      <td>5.250440e+08</td>\n      <td>0</td>\n      <td>0.0</td>\n      <td>0.0</td>\n      <td>0.558333</td>\n      <td>policy 0</td>\n    </tr>\n  </tbody>\n</table>\n<p>2000 rows × 6 columns</p>\n</div>"
     },
     "execution_count": 7,
     "metadata": {},
     "output_type": "execute_result"
    }
   ],
   "source": [
    "experiments_2000s_0p = experiments_base\n",
    "experiments_2000s_0p"
   ],
   "metadata": {
    "collapsed": false,
    "ExecuteTime": {
     "start_time": "2023-06-12T11:19:28.752915Z",
     "end_time": "2023-06-12T11:19:28.771241Z"
    }
   }
  },
  {
   "cell_type": "code",
   "execution_count": 8,
   "outputs": [
    {
     "data": {
      "text/plain": "      A.0_ID flood wave shape    A.1_Bmax A.1_Brate  A.1_pfail    A.2_Bmax   \n0                          40  342.678794      10.0   0.596634  288.908370  \\\n1                          75  335.268316       1.5   0.920663  124.590927   \n2                          14   70.922900       1.0   0.538127  100.675513   \n3                          67  282.699435       1.5   0.703346   89.043213   \n4                          14  130.946873      10.0   0.535470  151.268829   \n...                       ...         ...       ...        ...         ...   \n1995                       66  105.824179      10.0   0.827171  304.340241   \n1996                        6  197.838985       1.5   0.889614  139.491093   \n1997                       85  299.107407      10.0   0.987230  108.985073   \n1998                       94  221.440319      10.0   0.046065  211.603830   \n1999                       39  233.464513       1.5   0.613982   78.316254   \n\n     A.2_Brate  A.2_pfail    A.3_Bmax A.3_Brate  A.3_pfail  ...   \n0          1.0   0.635240  193.026130       1.5   0.803846  ...  \\\n1          1.0   0.302005  204.802225       1.0   0.243811  ...   \n2         10.0   0.978648  147.556589       1.0   0.344803  ...   \n3          1.5   0.951237  168.606134       1.0   0.444187  ...   \n4          1.0   0.162863  103.675961       1.0   0.107063  ...   \n...        ...        ...         ...       ...        ...  ...   \n1995      10.0   0.883102  205.892157      10.0   0.383975  ...   \n1996       1.5   0.862869  349.273818       1.5   0.075577  ...   \n1997      10.0   0.598530  248.220747      10.0   0.958235  ...   \n1998       1.5   0.454907  347.831836      10.0   0.008815  ...   \n1999       1.5   0.570571  254.560714      10.0   0.599852  ...   \n\n      A.3_DikeIncrease 2 A.4_DikeIncrease 0  A.4_DikeIncrease 1   \n0                      0                  0                   0  \\\n1                      0                  0                   0   \n2                      0                  0                   0   \n3                      0                  0                   0   \n4                      0                  0                   0   \n...                  ...                ...                 ...   \n1995                   0                  0                   0   \n1996                   0                  0                   0   \n1997                   0                  0                   0   \n1998                   0                  0                   0   \n1999                   0                  0                   0   \n\n      A.4_DikeIncrease 2 A.5_DikeIncrease 0  A.5_DikeIncrease 1   \n0                      0                  0                   0  \\\n1                      0                  0                   0   \n2                      0                  0                   0   \n3                      0                  0                   0   \n4                      0                  0                   0   \n...                  ...                ...                 ...   \n1995                   0                  0                   0   \n1996                   0                  0                   0   \n1997                   0                  0                   0   \n1998                   0                  0                   0   \n1999                   0                  0                   0   \n\n     A.5_DikeIncrease 2 scenario    policy     model  \n0                     0        0  policy 0  dikesnet  \n1                     0        1  policy 0  dikesnet  \n2                     0        2  policy 0  dikesnet  \n3                     0        3  policy 0  dikesnet  \n4                     0        4  policy 0  dikesnet  \n...                 ...      ...       ...       ...  \n1995                  0     1995  policy 0  dikesnet  \n1996                  0     1996  policy 0  dikesnet  \n1997                  0     1997  policy 0  dikesnet  \n1998                  0     1998  policy 0  dikesnet  \n1999                  0     1999  policy 0  dikesnet  \n\n[2000 rows x 53 columns]",
      "text/html": "<div>\n<style scoped>\n    .dataframe tbody tr th:only-of-type {\n        vertical-align: middle;\n    }\n\n    .dataframe tbody tr th {\n        vertical-align: top;\n    }\n\n    .dataframe thead th {\n        text-align: right;\n    }\n</style>\n<table border=\"1\" class=\"dataframe\">\n  <thead>\n    <tr style=\"text-align: right;\">\n      <th></th>\n      <th>A.0_ID flood wave shape</th>\n      <th>A.1_Bmax</th>\n      <th>A.1_Brate</th>\n      <th>A.1_pfail</th>\n      <th>A.2_Bmax</th>\n      <th>A.2_Brate</th>\n      <th>A.2_pfail</th>\n      <th>A.3_Bmax</th>\n      <th>A.3_Brate</th>\n      <th>A.3_pfail</th>\n      <th>...</th>\n      <th>A.3_DikeIncrease 2</th>\n      <th>A.4_DikeIncrease 0</th>\n      <th>A.4_DikeIncrease 1</th>\n      <th>A.4_DikeIncrease 2</th>\n      <th>A.5_DikeIncrease 0</th>\n      <th>A.5_DikeIncrease 1</th>\n      <th>A.5_DikeIncrease 2</th>\n      <th>scenario</th>\n      <th>policy</th>\n      <th>model</th>\n    </tr>\n  </thead>\n  <tbody>\n    <tr>\n      <th>0</th>\n      <td>40</td>\n      <td>342.678794</td>\n      <td>10.0</td>\n      <td>0.596634</td>\n      <td>288.908370</td>\n      <td>1.0</td>\n      <td>0.635240</td>\n      <td>193.026130</td>\n      <td>1.5</td>\n      <td>0.803846</td>\n      <td>...</td>\n      <td>0</td>\n      <td>0</td>\n      <td>0</td>\n      <td>0</td>\n      <td>0</td>\n      <td>0</td>\n      <td>0</td>\n      <td>0</td>\n      <td>policy 0</td>\n      <td>dikesnet</td>\n    </tr>\n    <tr>\n      <th>1</th>\n      <td>75</td>\n      <td>335.268316</td>\n      <td>1.5</td>\n      <td>0.920663</td>\n      <td>124.590927</td>\n      <td>1.0</td>\n      <td>0.302005</td>\n      <td>204.802225</td>\n      <td>1.0</td>\n      <td>0.243811</td>\n      <td>...</td>\n      <td>0</td>\n      <td>0</td>\n      <td>0</td>\n      <td>0</td>\n      <td>0</td>\n      <td>0</td>\n      <td>0</td>\n      <td>1</td>\n      <td>policy 0</td>\n      <td>dikesnet</td>\n    </tr>\n    <tr>\n      <th>2</th>\n      <td>14</td>\n      <td>70.922900</td>\n      <td>1.0</td>\n      <td>0.538127</td>\n      <td>100.675513</td>\n      <td>10.0</td>\n      <td>0.978648</td>\n      <td>147.556589</td>\n      <td>1.0</td>\n      <td>0.344803</td>\n      <td>...</td>\n      <td>0</td>\n      <td>0</td>\n      <td>0</td>\n      <td>0</td>\n      <td>0</td>\n      <td>0</td>\n      <td>0</td>\n      <td>2</td>\n      <td>policy 0</td>\n      <td>dikesnet</td>\n    </tr>\n    <tr>\n      <th>3</th>\n      <td>67</td>\n      <td>282.699435</td>\n      <td>1.5</td>\n      <td>0.703346</td>\n      <td>89.043213</td>\n      <td>1.5</td>\n      <td>0.951237</td>\n      <td>168.606134</td>\n      <td>1.0</td>\n      <td>0.444187</td>\n      <td>...</td>\n      <td>0</td>\n      <td>0</td>\n      <td>0</td>\n      <td>0</td>\n      <td>0</td>\n      <td>0</td>\n      <td>0</td>\n      <td>3</td>\n      <td>policy 0</td>\n      <td>dikesnet</td>\n    </tr>\n    <tr>\n      <th>4</th>\n      <td>14</td>\n      <td>130.946873</td>\n      <td>10.0</td>\n      <td>0.535470</td>\n      <td>151.268829</td>\n      <td>1.0</td>\n      <td>0.162863</td>\n      <td>103.675961</td>\n      <td>1.0</td>\n      <td>0.107063</td>\n      <td>...</td>\n      <td>0</td>\n      <td>0</td>\n      <td>0</td>\n      <td>0</td>\n      <td>0</td>\n      <td>0</td>\n      <td>0</td>\n      <td>4</td>\n      <td>policy 0</td>\n      <td>dikesnet</td>\n    </tr>\n    <tr>\n      <th>...</th>\n      <td>...</td>\n      <td>...</td>\n      <td>...</td>\n      <td>...</td>\n      <td>...</td>\n      <td>...</td>\n      <td>...</td>\n      <td>...</td>\n      <td>...</td>\n      <td>...</td>\n      <td>...</td>\n      <td>...</td>\n      <td>...</td>\n      <td>...</td>\n      <td>...</td>\n      <td>...</td>\n      <td>...</td>\n      <td>...</td>\n      <td>...</td>\n      <td>...</td>\n      <td>...</td>\n    </tr>\n    <tr>\n      <th>1995</th>\n      <td>66</td>\n      <td>105.824179</td>\n      <td>10.0</td>\n      <td>0.827171</td>\n      <td>304.340241</td>\n      <td>10.0</td>\n      <td>0.883102</td>\n      <td>205.892157</td>\n      <td>10.0</td>\n      <td>0.383975</td>\n      <td>...</td>\n      <td>0</td>\n      <td>0</td>\n      <td>0</td>\n      <td>0</td>\n      <td>0</td>\n      <td>0</td>\n      <td>0</td>\n      <td>1995</td>\n      <td>policy 0</td>\n      <td>dikesnet</td>\n    </tr>\n    <tr>\n      <th>1996</th>\n      <td>6</td>\n      <td>197.838985</td>\n      <td>1.5</td>\n      <td>0.889614</td>\n      <td>139.491093</td>\n      <td>1.5</td>\n      <td>0.862869</td>\n      <td>349.273818</td>\n      <td>1.5</td>\n      <td>0.075577</td>\n      <td>...</td>\n      <td>0</td>\n      <td>0</td>\n      <td>0</td>\n      <td>0</td>\n      <td>0</td>\n      <td>0</td>\n      <td>0</td>\n      <td>1996</td>\n      <td>policy 0</td>\n      <td>dikesnet</td>\n    </tr>\n    <tr>\n      <th>1997</th>\n      <td>85</td>\n      <td>299.107407</td>\n      <td>10.0</td>\n      <td>0.987230</td>\n      <td>108.985073</td>\n      <td>10.0</td>\n      <td>0.598530</td>\n      <td>248.220747</td>\n      <td>10.0</td>\n      <td>0.958235</td>\n      <td>...</td>\n      <td>0</td>\n      <td>0</td>\n      <td>0</td>\n      <td>0</td>\n      <td>0</td>\n      <td>0</td>\n      <td>0</td>\n      <td>1997</td>\n      <td>policy 0</td>\n      <td>dikesnet</td>\n    </tr>\n    <tr>\n      <th>1998</th>\n      <td>94</td>\n      <td>221.440319</td>\n      <td>10.0</td>\n      <td>0.046065</td>\n      <td>211.603830</td>\n      <td>1.5</td>\n      <td>0.454907</td>\n      <td>347.831836</td>\n      <td>10.0</td>\n      <td>0.008815</td>\n      <td>...</td>\n      <td>0</td>\n      <td>0</td>\n      <td>0</td>\n      <td>0</td>\n      <td>0</td>\n      <td>0</td>\n      <td>0</td>\n      <td>1998</td>\n      <td>policy 0</td>\n      <td>dikesnet</td>\n    </tr>\n    <tr>\n      <th>1999</th>\n      <td>39</td>\n      <td>233.464513</td>\n      <td>1.5</td>\n      <td>0.613982</td>\n      <td>78.316254</td>\n      <td>1.5</td>\n      <td>0.570571</td>\n      <td>254.560714</td>\n      <td>10.0</td>\n      <td>0.599852</td>\n      <td>...</td>\n      <td>0</td>\n      <td>0</td>\n      <td>0</td>\n      <td>0</td>\n      <td>0</td>\n      <td>0</td>\n      <td>0</td>\n      <td>1999</td>\n      <td>policy 0</td>\n      <td>dikesnet</td>\n    </tr>\n  </tbody>\n</table>\n<p>2000 rows × 53 columns</p>\n</div>"
     },
     "execution_count": 8,
     "metadata": {},
     "output_type": "execute_result"
    }
   ],
   "source": [
    "outcomes_2000s_0p.to_csv('output_data/outcomes_2000s_0p.csv')\n",
    "experiments_2000s_0p.to_csv('output_data/experiments_2000s_0p.csv')"
   ],
   "metadata": {
    "collapsed": false,
    "ExecuteTime": {
     "start_time": "2023-06-12T11:19:29.730094Z",
     "end_time": "2023-06-12T11:19:29.759641Z"
    }
   }
  },
  {
   "cell_type": "markdown",
   "source": [
    "Model random policies"
   ],
   "metadata": {
    "collapsed": false,
    "ExecuteTime": {
     "start_time": "2023-06-12T11:19:30.541661Z",
     "end_time": "2023-06-12T11:19:30.602945Z"
    }
   },
   "outputs": [],
   "execution_count": 9
  },
  {
   "cell_type": "code",
   "execution_count": 10,
   "outputs": [
    {
     "data": {
      "text/plain": "      Unnamed: 0  Expected Annual Damage  Dike Investment Costs   \n0              0            1.882584e+08                      0  \\\n1              1            1.039182e+09                      0   \n2              2            9.152977e+08                      0   \n3              3            4.608229e+08                      0   \n4              4            2.776823e+09                      0   \n...          ...                     ...                    ...   \n1995        1995            3.674243e+08                      0   \n1996        1996            1.917904e+09                      0   \n1997        1997            4.240269e+07                      0   \n1998        1998            4.900640e+09                      0   \n1999        1999            5.250440e+08                      0   \n\n      RfR Investment Costs  Evacuation Costs  Expected Number of Deaths   \n0                      0.0               0.0                   0.179969  \\\n1                      0.0               0.0                   1.671262   \n2                      0.0               0.0                   1.323831   \n3                      0.0               0.0                   0.584433   \n4                      0.0               0.0                   3.839870   \n...                    ...               ...                        ...   \n1995                   0.0               0.0                   0.535035   \n1996                   0.0               0.0                   3.401053   \n1997                   0.0               0.0                   0.048261   \n1998                   0.0               0.0                   4.779904   \n1999                   0.0               0.0                   0.558333   \n\n        policy  \n0     policy 0  \n1     policy 0  \n2     policy 0  \n3     policy 0  \n4     policy 0  \n...        ...  \n1995  policy 0  \n1996  policy 0  \n1997  policy 0  \n1998  policy 0  \n1999  policy 0  \n\n[2000 rows x 7 columns]",
      "text/html": "<div>\n<style scoped>\n    .dataframe tbody tr th:only-of-type {\n        vertical-align: middle;\n    }\n\n    .dataframe tbody tr th {\n        vertical-align: top;\n    }\n\n    .dataframe thead th {\n        text-align: right;\n    }\n</style>\n<table border=\"1\" class=\"dataframe\">\n  <thead>\n    <tr style=\"text-align: right;\">\n      <th></th>\n      <th>Unnamed: 0</th>\n      <th>Expected Annual Damage</th>\n      <th>Dike Investment Costs</th>\n      <th>RfR Investment Costs</th>\n      <th>Evacuation Costs</th>\n      <th>Expected Number of Deaths</th>\n      <th>policy</th>\n    </tr>\n  </thead>\n  <tbody>\n    <tr>\n      <th>0</th>\n      <td>0</td>\n      <td>1.882584e+08</td>\n      <td>0</td>\n      <td>0.0</td>\n      <td>0.0</td>\n      <td>0.179969</td>\n      <td>policy 0</td>\n    </tr>\n    <tr>\n      <th>1</th>\n      <td>1</td>\n      <td>1.039182e+09</td>\n      <td>0</td>\n      <td>0.0</td>\n      <td>0.0</td>\n      <td>1.671262</td>\n      <td>policy 0</td>\n    </tr>\n    <tr>\n      <th>2</th>\n      <td>2</td>\n      <td>9.152977e+08</td>\n      <td>0</td>\n      <td>0.0</td>\n      <td>0.0</td>\n      <td>1.323831</td>\n      <td>policy 0</td>\n    </tr>\n    <tr>\n      <th>3</th>\n      <td>3</td>\n      <td>4.608229e+08</td>\n      <td>0</td>\n      <td>0.0</td>\n      <td>0.0</td>\n      <td>0.584433</td>\n      <td>policy 0</td>\n    </tr>\n    <tr>\n      <th>4</th>\n      <td>4</td>\n      <td>2.776823e+09</td>\n      <td>0</td>\n      <td>0.0</td>\n      <td>0.0</td>\n      <td>3.839870</td>\n      <td>policy 0</td>\n    </tr>\n    <tr>\n      <th>...</th>\n      <td>...</td>\n      <td>...</td>\n      <td>...</td>\n      <td>...</td>\n      <td>...</td>\n      <td>...</td>\n      <td>...</td>\n    </tr>\n    <tr>\n      <th>1995</th>\n      <td>1995</td>\n      <td>3.674243e+08</td>\n      <td>0</td>\n      <td>0.0</td>\n      <td>0.0</td>\n      <td>0.535035</td>\n      <td>policy 0</td>\n    </tr>\n    <tr>\n      <th>1996</th>\n      <td>1996</td>\n      <td>1.917904e+09</td>\n      <td>0</td>\n      <td>0.0</td>\n      <td>0.0</td>\n      <td>3.401053</td>\n      <td>policy 0</td>\n    </tr>\n    <tr>\n      <th>1997</th>\n      <td>1997</td>\n      <td>4.240269e+07</td>\n      <td>0</td>\n      <td>0.0</td>\n      <td>0.0</td>\n      <td>0.048261</td>\n      <td>policy 0</td>\n    </tr>\n    <tr>\n      <th>1998</th>\n      <td>1998</td>\n      <td>4.900640e+09</td>\n      <td>0</td>\n      <td>0.0</td>\n      <td>0.0</td>\n      <td>4.779904</td>\n      <td>policy 0</td>\n    </tr>\n    <tr>\n      <th>1999</th>\n      <td>1999</td>\n      <td>5.250440e+08</td>\n      <td>0</td>\n      <td>0.0</td>\n      <td>0.0</td>\n      <td>0.558333</td>\n      <td>policy 0</td>\n    </tr>\n  </tbody>\n</table>\n<p>2000 rows × 7 columns</p>\n</div>"
     },
     "execution_count": 10,
     "metadata": {},
     "output_type": "execute_result"
    }
   ],
   "source": [
    "# Run model #2:\n",
    "#\n",
    "# Assumptions:\n",
    "# Scenarios: 2000\n",
    "# Policies: 500"
   ],
   "metadata": {
    "collapsed": false,
    "ExecuteTime": {
     "start_time": "2023-06-12T11:19:31.283648Z",
     "end_time": "2023-06-12T11:19:31.431630Z"
    }
   }
  },
  {
   "cell_type": "code",
   "execution_count": null,
   "outputs": [],
   "source": [
    "# scenarios = 2000\n",
    "# policies = 5"
   ],
   "metadata": {
    "collapsed": false
   }
  },
  {
   "cell_type": "code",
   "execution_count": null,
   "outputs": [],
   "source": [
    "# # running the model through EMA workbench\n",
    "# with MultiprocessingEvaluator(dike_model) as evaluator:\n",
    "#     results_base = evaluator.perform_experiments(scenarios, policies)"
   ],
   "metadata": {
    "collapsed": false
   }
  },
  {
   "cell_type": "markdown",
   "source": [
    "Results 2000 scenarios / 5 policies (saved to csv)"
   ],
   "metadata": {
    "collapsed": false
   },
   "outputs": []
  },
  {
   "cell_type": "code",
   "execution_count": null,
   "outputs": [],
   "source": [
    "# experiments, outcomes = results\n",
    "# policies = experiments['policy']\n",
    "# outcomes_random_2000s_5p = pd.DataFrame.from_dict(outcomes)\n",
    "# outcomes_random_2000s_5p['policy'] = policies"
   ],
   "metadata": {
    "collapsed": false
   }
  },
  {
   "cell_type": "code",
   "execution_count": null,
   "outputs": [],
   "source": [
    "# outcomes_random_2000s_5p"
   ],
   "metadata": {
    "collapsed": false
   }
  },
  {
   "cell_type": "code",
   "execution_count": null,
   "outputs": [],
   "source": [
    "# experiments_random_2000s_5p = experiments\n",
    "# experiments_random_2000s_5p"
   ],
   "metadata": {
    "collapsed": false
   }
  },
  {
   "cell_type": "code",
   "execution_count": null,
   "outputs": [],
   "source": [
    "# outcomes_random_2000s_5p.to_csv('output_data/outcomes_random_2000s_5p.csv')\n",
    "# experiments_random_2000s_5p.to_csv('output_data/experiments_random_2000s_5p.csv')"
   ],
   "metadata": {
    "collapsed": false
   }
  }
 ],
 "metadata": {
  "kernelspec": {
   "display_name": "Python 3",
   "language": "python",
   "name": "python3"
  },
  "language_info": {
   "codemirror_mode": {
    "name": "ipython",
    "version": 2
   },
   "file_extension": ".py",
   "mimetype": "text/x-python",
   "name": "python",
   "nbconvert_exporter": "python",
   "pygments_lexer": "ipython2",
   "version": "2.7.6"
  }
 },
 "nbformat": 4,
 "nbformat_minor": 0
}
