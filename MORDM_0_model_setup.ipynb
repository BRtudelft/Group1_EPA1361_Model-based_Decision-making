{
 "cells": [
  {
   "cell_type": "markdown",
   "source": [
    "# Model set-up\n",
    "Run with 10000 scenarios, no policies applies\n",
    "\n",
    "Can be later on added to the first chapter.\n",
    "\n",
    "Imports needed in the model set up are listed below\n",
    "\n",
    "NOTE! Model variables must be updated to #scenarios\n"
   ],
   "metadata": {
    "collapsed": false
   }
  },
  {
   "cell_type": "code",
   "execution_count": 1,
   "outputs": [
    {
     "name": "stdout",
     "output_type": "stream",
     "text": [
      "2.0.1\n",
      "3.1\n"
     ]
    }
   ],
   "source": [
    "import pandas as pd\n",
    "import networkx as nx\n",
    "\n",
    "# make sure pandas is version 1.0 or higher\n",
    "# make sure networkx is verion 2.4 or higher\n",
    "print(pd.__version__)\n",
    "print(nx.__version__)"
   ],
   "metadata": {
    "collapsed": false,
    "ExecuteTime": {
     "start_time": "2023-06-12T16:15:18.197198Z",
     "end_time": "2023-06-12T16:15:18.619935Z"
    }
   }
  },
  {
   "cell_type": "code",
   "execution_count": 2,
   "outputs": [],
   "source": [
    "from ema_workbench import (\n",
    "    ema_logging,\n",
    "    MultiprocessingEvaluator,\n",
    "    Policy\n",
    ")\n",
    "from problem_formulation import get_model_for_problem_formulation"
   ],
   "metadata": {
    "collapsed": false,
    "ExecuteTime": {
     "start_time": "2023-06-12T16:15:18.619935Z",
     "end_time": "2023-06-12T16:15:19.991895Z"
    }
   }
  },
  {
   "cell_type": "markdown",
   "source": [
    "### Problem formulation"
   ],
   "metadata": {
    "collapsed": false
   }
  },
  {
   "cell_type": "code",
   "execution_count": 3,
   "outputs": [],
   "source": [
    "ema_logging.log_to_stderr(ema_logging.INFO)\n",
    "\n",
    "# choose problem formulation number, between 0-5\n",
    "# each problem formulation has its own list of outcomes\n",
    "# we chose #2 because Rijkswaterstaat is interested in highly aggregated outcomes\n",
    "dike_model, planning_steps = get_model_for_problem_formulation(2)"
   ],
   "metadata": {
    "collapsed": false,
    "ExecuteTime": {
     "start_time": "2023-06-12T16:15:19.991895Z",
     "end_time": "2023-06-12T16:15:20.339932Z"
    }
   }
  },
  {
   "cell_type": "markdown",
   "source": [
    "### Model zero policies"
   ],
   "metadata": {
    "collapsed": false,
    "ExecuteTime": {
     "start_time": "2023-06-12T11:15:24.328204Z",
     "end_time": "2023-06-12T11:15:24.331014Z"
    }
   },
   "outputs": [],
   "execution_count": 4
  },
  {
   "cell_type": "code",
   "execution_count": 4,
   "outputs": [],
   "source": [
    "def get_do_nothing_dict():\n",
    "    return {l.name: 0 for l in dike_model.levers}\n",
    "\n",
    "\n",
    "policies = [\n",
    "    Policy(\n",
    "        \"policy 0\",\n",
    "        **dict(\n",
    "            get_do_nothing_dict(),\n",
    "            **{}\n",
    "        )\n",
    "    )\n",
    "]"
   ],
   "metadata": {
    "collapsed": false,
    "ExecuteTime": {
     "start_time": "2023-06-12T16:15:20.333514Z",
     "end_time": "2023-06-12T16:15:20.339932Z"
    }
   }
  },
  {
   "cell_type": "markdown",
   "source": [
    "Run model #1:\n",
    "\n",
    "Assumptions:\n",
    "Scenario's: 10000\n",
    "Policy's: 0\n",
    "\n",
    "We chose to run the setup with 0 policies because those will be completely random\n",
    "and not useful for further analysis, but it would increase the runtime significantly."
   ],
   "metadata": {
    "collapsed": false
   }
  },
  {
   "cell_type": "code",
   "execution_count": 5,
   "outputs": [],
   "source": [
    "scenarios_base = 10000"
   ],
   "metadata": {
    "collapsed": false,
    "ExecuteTime": {
     "start_time": "2023-06-12T16:15:22.232744Z",
     "end_time": "2023-06-12T16:15:22.248098Z"
    }
   }
  },
  {
   "cell_type": "code",
   "execution_count": 6,
   "outputs": [
    {
     "name": "stderr",
     "output_type": "stream",
     "text": [
      "[MainProcess/INFO] pool started with 12 workers\n",
      "[MainProcess/INFO] performing 10000 scenarios * 1 policies * 1 model(s) = 10000 experiments\n",
      "100%|████████████████████████████████████| 10000/10000 [13:28<00:00, 12.36it/s]\n",
      "[MainProcess/INFO] experiments finished\n",
      "[MainProcess/INFO] terminating pool\n"
     ]
    }
   ],
   "source": [
    "# running the model through EMA workbench\n",
    "with MultiprocessingEvaluator(dike_model) as evaluator:\n",
    "    results_base = evaluator.perform_experiments(scenarios_base, policies)"
   ],
   "metadata": {
    "collapsed": false,
    "ExecuteTime": {
     "start_time": "2023-06-12T16:15:26.206675Z",
     "end_time": "2023-06-12T16:29:17.441399Z"
    }
   }
  },
  {
   "cell_type": "markdown",
   "source": [
    "Results of 10000 scenarios and 0 policies saved to csv"
   ],
   "metadata": {
    "collapsed": false,
    "ExecuteTime": {
     "start_time": "2023-06-12T11:15:24.333010Z",
     "end_time": "2023-06-12T11:19:19.661577Z"
    }
   },
   "outputs": [
    {
     "name": "stderr",
     "output_type": "stream",
     "text": [
      "[MainProcess/INFO] pool started with 12 workers\n",
      "[MainProcess/INFO] performing 2000 scenarios * 1 policies * 1 model(s) = 2000 experiments\n",
      "100%|██████████████████████████████████████| 2000/2000 [03:33<00:00,  9.35it/s]\n",
      "[MainProcess/INFO] experiments finished\n",
      "[MainProcess/INFO] terminating pool\n"
     ]
    }
   ],
   "execution_count": 5
  },
  {
   "cell_type": "code",
   "execution_count": 15,
   "outputs": [],
   "source": [
    "experiments_base, outcomes_base = results_base\n",
    "# Policy distinction is necessary because of the legend.\n",
    "policies = experiments_base['policy']\n",
    "outcomes_2000s_0p = pd.DataFrame.from_dict(outcomes_base)\n",
    "outcomes_2000s_0p['policy'] = policies"
   ],
   "metadata": {
    "collapsed": false,
    "ExecuteTime": {
     "start_time": "2023-06-12T16:37:08.870045Z",
     "end_time": "2023-06-12T16:37:08.884656Z"
    }
   }
  },
  {
   "cell_type": "code",
   "execution_count": 16,
   "outputs": [
    {
     "data": {
      "text/plain": "      Expected Annual Damage  Dike Investment Costs  RfR Investment Costs   \n0               1.986207e+09                      0                   0.0  \\\n1               2.696877e+09                      0                   0.0   \n2               1.596509e+09                      0                   0.0   \n3               1.138063e+08                      0                   0.0   \n4               3.746615e+08                      0                   0.0   \n...                      ...                    ...                   ...   \n9995            9.646801e+08                      0                   0.0   \n9996            2.651796e+09                      0                   0.0   \n9997            1.776278e+08                      0                   0.0   \n9998            2.949368e+09                      0                   0.0   \n9999            2.669935e+08                      0                   0.0   \n\n      Evacuation Costs  Expected Number of Deaths    policy  \n0                  0.0                   1.601045  policy 0  \n1                  0.0                   1.935567  policy 0  \n2                  0.0                   3.316908  policy 0  \n3                  0.0                   0.158625  policy 0  \n4                  0.0                   0.458994  policy 0  \n...                ...                        ...       ...  \n9995               0.0                   1.033147  policy 0  \n9996               0.0                   3.500044  policy 0  \n9997               0.0                   0.248627  policy 0  \n9998               0.0                   2.110726  policy 0  \n9999               0.0                   0.283717  policy 0  \n\n[10000 rows x 6 columns]",
      "text/html": "<div>\n<style scoped>\n    .dataframe tbody tr th:only-of-type {\n        vertical-align: middle;\n    }\n\n    .dataframe tbody tr th {\n        vertical-align: top;\n    }\n\n    .dataframe thead th {\n        text-align: right;\n    }\n</style>\n<table border=\"1\" class=\"dataframe\">\n  <thead>\n    <tr style=\"text-align: right;\">\n      <th></th>\n      <th>Expected Annual Damage</th>\n      <th>Dike Investment Costs</th>\n      <th>RfR Investment Costs</th>\n      <th>Evacuation Costs</th>\n      <th>Expected Number of Deaths</th>\n      <th>policy</th>\n    </tr>\n  </thead>\n  <tbody>\n    <tr>\n      <th>0</th>\n      <td>1.986207e+09</td>\n      <td>0</td>\n      <td>0.0</td>\n      <td>0.0</td>\n      <td>1.601045</td>\n      <td>policy 0</td>\n    </tr>\n    <tr>\n      <th>1</th>\n      <td>2.696877e+09</td>\n      <td>0</td>\n      <td>0.0</td>\n      <td>0.0</td>\n      <td>1.935567</td>\n      <td>policy 0</td>\n    </tr>\n    <tr>\n      <th>2</th>\n      <td>1.596509e+09</td>\n      <td>0</td>\n      <td>0.0</td>\n      <td>0.0</td>\n      <td>3.316908</td>\n      <td>policy 0</td>\n    </tr>\n    <tr>\n      <th>3</th>\n      <td>1.138063e+08</td>\n      <td>0</td>\n      <td>0.0</td>\n      <td>0.0</td>\n      <td>0.158625</td>\n      <td>policy 0</td>\n    </tr>\n    <tr>\n      <th>4</th>\n      <td>3.746615e+08</td>\n      <td>0</td>\n      <td>0.0</td>\n      <td>0.0</td>\n      <td>0.458994</td>\n      <td>policy 0</td>\n    </tr>\n    <tr>\n      <th>...</th>\n      <td>...</td>\n      <td>...</td>\n      <td>...</td>\n      <td>...</td>\n      <td>...</td>\n      <td>...</td>\n    </tr>\n    <tr>\n      <th>9995</th>\n      <td>9.646801e+08</td>\n      <td>0</td>\n      <td>0.0</td>\n      <td>0.0</td>\n      <td>1.033147</td>\n      <td>policy 0</td>\n    </tr>\n    <tr>\n      <th>9996</th>\n      <td>2.651796e+09</td>\n      <td>0</td>\n      <td>0.0</td>\n      <td>0.0</td>\n      <td>3.500044</td>\n      <td>policy 0</td>\n    </tr>\n    <tr>\n      <th>9997</th>\n      <td>1.776278e+08</td>\n      <td>0</td>\n      <td>0.0</td>\n      <td>0.0</td>\n      <td>0.248627</td>\n      <td>policy 0</td>\n    </tr>\n    <tr>\n      <th>9998</th>\n      <td>2.949368e+09</td>\n      <td>0</td>\n      <td>0.0</td>\n      <td>0.0</td>\n      <td>2.110726</td>\n      <td>policy 0</td>\n    </tr>\n    <tr>\n      <th>9999</th>\n      <td>2.669935e+08</td>\n      <td>0</td>\n      <td>0.0</td>\n      <td>0.0</td>\n      <td>0.283717</td>\n      <td>policy 0</td>\n    </tr>\n  </tbody>\n</table>\n<p>10000 rows × 6 columns</p>\n</div>"
     },
     "execution_count": 16,
     "metadata": {},
     "output_type": "execute_result"
    }
   ],
   "source": [
    "# Print outcomes\n",
    "outcomes_2000s_0p"
   ],
   "metadata": {
    "collapsed": false,
    "ExecuteTime": {
     "start_time": "2023-06-12T16:37:09.213062Z",
     "end_time": "2023-06-12T16:37:09.223720Z"
    }
   }
  },
  {
   "cell_type": "code",
   "execution_count": 17,
   "outputs": [
    {
     "data": {
      "text/plain": "      A.0_ID flood wave shape    A.1_Bmax A.1_Brate  A.1_pfail    A.2_Bmax   \n0                          61  134.348299       1.0   0.373263  278.787589  \\\n1                          84  341.482872       1.5   0.250371  132.778759   \n2                          34   71.842881       1.5   0.674589  174.967160   \n3                          67  125.701108       1.0   0.958906  264.697525   \n4                          33  308.716810       1.5   0.801957  225.621011   \n...                       ...         ...       ...        ...         ...   \n9995                      113  286.940809       1.0   0.493206  285.141786   \n9996                       31   70.940490       1.5   0.509592  236.017550   \n9997                       62   62.268306      10.0   0.614386  249.667026   \n9998                        0  149.922446       1.0   0.198596  333.070524   \n9999                      110  171.599328      10.0   0.769224  338.549769   \n\n     A.2_Brate  A.2_pfail    A.3_Bmax A.3_Brate  A.3_pfail  ...   \n0          1.5   0.123904  335.347925       1.0   0.430371  ...  \\\n1          1.0   0.616244  316.889421      10.0   0.716677  ...   \n2          1.5   0.925791  132.242111       1.5   0.174435  ...   \n3          1.5   0.767267  142.481916       1.5   0.884780  ...   \n4          1.5   0.869416  134.194124       1.5   0.503269  ...   \n...        ...        ...         ...       ...        ...  ...   \n9995       1.0   0.278838  134.553210       1.0   0.910676  ...   \n9996      10.0   0.474265   79.841809       1.5   0.172862  ...   \n9997       1.0   0.882948   85.798808       1.5   0.857419  ...   \n9998       1.0   0.949565  205.179956      10.0   0.320397  ...   \n9999      10.0   0.468680  104.230941       1.5   0.548191  ...   \n\n      A.3_DikeIncrease 2 A.4_DikeIncrease 0  A.4_DikeIncrease 1   \n0                      0                  0                   0  \\\n1                      0                  0                   0   \n2                      0                  0                   0   \n3                      0                  0                   0   \n4                      0                  0                   0   \n...                  ...                ...                 ...   \n9995                   0                  0                   0   \n9996                   0                  0                   0   \n9997                   0                  0                   0   \n9998                   0                  0                   0   \n9999                   0                  0                   0   \n\n      A.4_DikeIncrease 2 A.5_DikeIncrease 0  A.5_DikeIncrease 1   \n0                      0                  0                   0  \\\n1                      0                  0                   0   \n2                      0                  0                   0   \n3                      0                  0                   0   \n4                      0                  0                   0   \n...                  ...                ...                 ...   \n9995                   0                  0                   0   \n9996                   0                  0                   0   \n9997                   0                  0                   0   \n9998                   0                  0                   0   \n9999                   0                  0                   0   \n\n     A.5_DikeIncrease 2 scenario    policy     model  \n0                     0        0  policy 0  dikesnet  \n1                     0        1  policy 0  dikesnet  \n2                     0        2  policy 0  dikesnet  \n3                     0        3  policy 0  dikesnet  \n4                     0        4  policy 0  dikesnet  \n...                 ...      ...       ...       ...  \n9995                  0     9995  policy 0  dikesnet  \n9996                  0     9996  policy 0  dikesnet  \n9997                  0     9997  policy 0  dikesnet  \n9998                  0     9998  policy 0  dikesnet  \n9999                  0     9999  policy 0  dikesnet  \n\n[10000 rows x 53 columns]",
      "text/html": "<div>\n<style scoped>\n    .dataframe tbody tr th:only-of-type {\n        vertical-align: middle;\n    }\n\n    .dataframe tbody tr th {\n        vertical-align: top;\n    }\n\n    .dataframe thead th {\n        text-align: right;\n    }\n</style>\n<table border=\"1\" class=\"dataframe\">\n  <thead>\n    <tr style=\"text-align: right;\">\n      <th></th>\n      <th>A.0_ID flood wave shape</th>\n      <th>A.1_Bmax</th>\n      <th>A.1_Brate</th>\n      <th>A.1_pfail</th>\n      <th>A.2_Bmax</th>\n      <th>A.2_Brate</th>\n      <th>A.2_pfail</th>\n      <th>A.3_Bmax</th>\n      <th>A.3_Brate</th>\n      <th>A.3_pfail</th>\n      <th>...</th>\n      <th>A.3_DikeIncrease 2</th>\n      <th>A.4_DikeIncrease 0</th>\n      <th>A.4_DikeIncrease 1</th>\n      <th>A.4_DikeIncrease 2</th>\n      <th>A.5_DikeIncrease 0</th>\n      <th>A.5_DikeIncrease 1</th>\n      <th>A.5_DikeIncrease 2</th>\n      <th>scenario</th>\n      <th>policy</th>\n      <th>model</th>\n    </tr>\n  </thead>\n  <tbody>\n    <tr>\n      <th>0</th>\n      <td>61</td>\n      <td>134.348299</td>\n      <td>1.0</td>\n      <td>0.373263</td>\n      <td>278.787589</td>\n      <td>1.5</td>\n      <td>0.123904</td>\n      <td>335.347925</td>\n      <td>1.0</td>\n      <td>0.430371</td>\n      <td>...</td>\n      <td>0</td>\n      <td>0</td>\n      <td>0</td>\n      <td>0</td>\n      <td>0</td>\n      <td>0</td>\n      <td>0</td>\n      <td>0</td>\n      <td>policy 0</td>\n      <td>dikesnet</td>\n    </tr>\n    <tr>\n      <th>1</th>\n      <td>84</td>\n      <td>341.482872</td>\n      <td>1.5</td>\n      <td>0.250371</td>\n      <td>132.778759</td>\n      <td>1.0</td>\n      <td>0.616244</td>\n      <td>316.889421</td>\n      <td>10.0</td>\n      <td>0.716677</td>\n      <td>...</td>\n      <td>0</td>\n      <td>0</td>\n      <td>0</td>\n      <td>0</td>\n      <td>0</td>\n      <td>0</td>\n      <td>0</td>\n      <td>1</td>\n      <td>policy 0</td>\n      <td>dikesnet</td>\n    </tr>\n    <tr>\n      <th>2</th>\n      <td>34</td>\n      <td>71.842881</td>\n      <td>1.5</td>\n      <td>0.674589</td>\n      <td>174.967160</td>\n      <td>1.5</td>\n      <td>0.925791</td>\n      <td>132.242111</td>\n      <td>1.5</td>\n      <td>0.174435</td>\n      <td>...</td>\n      <td>0</td>\n      <td>0</td>\n      <td>0</td>\n      <td>0</td>\n      <td>0</td>\n      <td>0</td>\n      <td>0</td>\n      <td>2</td>\n      <td>policy 0</td>\n      <td>dikesnet</td>\n    </tr>\n    <tr>\n      <th>3</th>\n      <td>67</td>\n      <td>125.701108</td>\n      <td>1.0</td>\n      <td>0.958906</td>\n      <td>264.697525</td>\n      <td>1.5</td>\n      <td>0.767267</td>\n      <td>142.481916</td>\n      <td>1.5</td>\n      <td>0.884780</td>\n      <td>...</td>\n      <td>0</td>\n      <td>0</td>\n      <td>0</td>\n      <td>0</td>\n      <td>0</td>\n      <td>0</td>\n      <td>0</td>\n      <td>3</td>\n      <td>policy 0</td>\n      <td>dikesnet</td>\n    </tr>\n    <tr>\n      <th>4</th>\n      <td>33</td>\n      <td>308.716810</td>\n      <td>1.5</td>\n      <td>0.801957</td>\n      <td>225.621011</td>\n      <td>1.5</td>\n      <td>0.869416</td>\n      <td>134.194124</td>\n      <td>1.5</td>\n      <td>0.503269</td>\n      <td>...</td>\n      <td>0</td>\n      <td>0</td>\n      <td>0</td>\n      <td>0</td>\n      <td>0</td>\n      <td>0</td>\n      <td>0</td>\n      <td>4</td>\n      <td>policy 0</td>\n      <td>dikesnet</td>\n    </tr>\n    <tr>\n      <th>...</th>\n      <td>...</td>\n      <td>...</td>\n      <td>...</td>\n      <td>...</td>\n      <td>...</td>\n      <td>...</td>\n      <td>...</td>\n      <td>...</td>\n      <td>...</td>\n      <td>...</td>\n      <td>...</td>\n      <td>...</td>\n      <td>...</td>\n      <td>...</td>\n      <td>...</td>\n      <td>...</td>\n      <td>...</td>\n      <td>...</td>\n      <td>...</td>\n      <td>...</td>\n      <td>...</td>\n    </tr>\n    <tr>\n      <th>9995</th>\n      <td>113</td>\n      <td>286.940809</td>\n      <td>1.0</td>\n      <td>0.493206</td>\n      <td>285.141786</td>\n      <td>1.0</td>\n      <td>0.278838</td>\n      <td>134.553210</td>\n      <td>1.0</td>\n      <td>0.910676</td>\n      <td>...</td>\n      <td>0</td>\n      <td>0</td>\n      <td>0</td>\n      <td>0</td>\n      <td>0</td>\n      <td>0</td>\n      <td>0</td>\n      <td>9995</td>\n      <td>policy 0</td>\n      <td>dikesnet</td>\n    </tr>\n    <tr>\n      <th>9996</th>\n      <td>31</td>\n      <td>70.940490</td>\n      <td>1.5</td>\n      <td>0.509592</td>\n      <td>236.017550</td>\n      <td>10.0</td>\n      <td>0.474265</td>\n      <td>79.841809</td>\n      <td>1.5</td>\n      <td>0.172862</td>\n      <td>...</td>\n      <td>0</td>\n      <td>0</td>\n      <td>0</td>\n      <td>0</td>\n      <td>0</td>\n      <td>0</td>\n      <td>0</td>\n      <td>9996</td>\n      <td>policy 0</td>\n      <td>dikesnet</td>\n    </tr>\n    <tr>\n      <th>9997</th>\n      <td>62</td>\n      <td>62.268306</td>\n      <td>10.0</td>\n      <td>0.614386</td>\n      <td>249.667026</td>\n      <td>1.0</td>\n      <td>0.882948</td>\n      <td>85.798808</td>\n      <td>1.5</td>\n      <td>0.857419</td>\n      <td>...</td>\n      <td>0</td>\n      <td>0</td>\n      <td>0</td>\n      <td>0</td>\n      <td>0</td>\n      <td>0</td>\n      <td>0</td>\n      <td>9997</td>\n      <td>policy 0</td>\n      <td>dikesnet</td>\n    </tr>\n    <tr>\n      <th>9998</th>\n      <td>0</td>\n      <td>149.922446</td>\n      <td>1.0</td>\n      <td>0.198596</td>\n      <td>333.070524</td>\n      <td>1.0</td>\n      <td>0.949565</td>\n      <td>205.179956</td>\n      <td>10.0</td>\n      <td>0.320397</td>\n      <td>...</td>\n      <td>0</td>\n      <td>0</td>\n      <td>0</td>\n      <td>0</td>\n      <td>0</td>\n      <td>0</td>\n      <td>0</td>\n      <td>9998</td>\n      <td>policy 0</td>\n      <td>dikesnet</td>\n    </tr>\n    <tr>\n      <th>9999</th>\n      <td>110</td>\n      <td>171.599328</td>\n      <td>10.0</td>\n      <td>0.769224</td>\n      <td>338.549769</td>\n      <td>10.0</td>\n      <td>0.468680</td>\n      <td>104.230941</td>\n      <td>1.5</td>\n      <td>0.548191</td>\n      <td>...</td>\n      <td>0</td>\n      <td>0</td>\n      <td>0</td>\n      <td>0</td>\n      <td>0</td>\n      <td>0</td>\n      <td>0</td>\n      <td>9999</td>\n      <td>policy 0</td>\n      <td>dikesnet</td>\n    </tr>\n  </tbody>\n</table>\n<p>10000 rows × 53 columns</p>\n</div>"
     },
     "execution_count": 17,
     "metadata": {},
     "output_type": "execute_result"
    }
   ],
   "source": [
    "experiments_2000s_0p = experiments_base\n",
    "experiments_2000s_0p"
   ],
   "metadata": {
    "collapsed": false,
    "ExecuteTime": {
     "start_time": "2023-06-12T16:37:09.554696Z",
     "end_time": "2023-06-12T16:37:09.593230Z"
    }
   }
  },
  {
   "cell_type": "code",
   "execution_count": 18,
   "outputs": [],
   "source": [
    "# Both saved to the data map as csv file\n",
    "outcomes_2000s_0p.to_csv('data/output_data/outcomes_2000s_0p.csv')\n",
    "experiments_2000s_0p.to_csv('data/output_data/experiments_2000s_0p.csv')"
   ],
   "metadata": {
    "collapsed": false,
    "ExecuteTime": {
     "start_time": "2023-06-12T16:37:10.146198Z",
     "end_time": "2023-06-12T16:37:10.404170Z"
    }
   }
  },
  {
   "cell_type": "code",
   "execution_count": 18,
   "outputs": [],
   "source": [],
   "metadata": {
    "collapsed": false,
    "ExecuteTime": {
     "start_time": "2023-06-12T16:37:11.567767Z",
     "end_time": "2023-06-12T16:37:11.570577Z"
    }
   }
  },
  {
   "cell_type": "code",
   "execution_count": null,
   "outputs": [],
   "source": [],
   "metadata": {
    "collapsed": false
   }
  }
 ],
 "metadata": {
  "kernelspec": {
   "display_name": "Python 3",
   "language": "python",
   "name": "python3"
  },
  "language_info": {
   "codemirror_mode": {
    "name": "ipython",
    "version": 2
   },
   "file_extension": ".py",
   "mimetype": "text/x-python",
   "name": "python",
   "nbconvert_exporter": "python",
   "pygments_lexer": "ipython2",
   "version": "2.7.6"
  }
 },
 "nbformat": 4,
 "nbformat_minor": 0
}
