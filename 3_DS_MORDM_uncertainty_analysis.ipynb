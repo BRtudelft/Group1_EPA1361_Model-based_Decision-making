{
 "cells": [
  {
   "cell_type": "markdown",
   "source": [
    "#  Directed Search: Uncertainty analysis\n",
    "\n",
    "In this part the candidate solutions provide by the previous step are tested on their robustness level as this is preferred by our client, Rijkswaterstaat. Two metrics are applied to identify the level of robustness being; the Signal-to-Noise ratio and the Maximum regret value. The Signal-to_Noise ratio determines how strong the signal of a policy is in comparison to the background noise under different scenarios. In this case the signal can be seen as the preferred outcomes while the noise would indicate the various external effects and unintended consequences. Maximum regret relates to the maximum amount of regret that is created when a policy in a new scenario is compared to a reference scenario. The outcome of this metric is preferred to be as low as possible.\n",
    "\n",
    "In the second step of MORDM outcomes and experiments were created by running 9 policies over 5000 scenarios.\n",
    "The results of this step are framed in 2 csv files which will be used as input for this step.\n",
    "\n",
    "Description of the uncertainty analysis can be found in chapter 3.2.3 in the report."
   ],
   "metadata": {
    "collapsed": false
   }
  },
  {
   "cell_type": "code",
   "execution_count": 7,
   "outputs": [
    {
     "name": "stderr",
     "output_type": "stream",
     "text": [
      "C:\\Users\\Kas\\OneDrive - Delft University of Technology\\Documenten\\GitHub\\Model-based-Decision-making\\venv\\Lib\\site-packages\\ema_workbench\\em_framework\\evaluators.py:58: UserWarning: ipyparallel not installed - IpyparalleEvaluator not available\n",
      "  warnings.warn(\"ipyparallel not installed - IpyparalleEvaluator not available\")\n",
      "C:\\Users\\Kas\\OneDrive - Delft University of Technology\\Documenten\\GitHub\\Model-based-Decision-making\\venv\\Lib\\site-packages\\ema_workbench\\analysis\\prim.py:30: ImportWarning: altair based interactive inspection not available\n",
      "  warnings.warn((\"altair based interactive \" \"inspection not available\"), ImportWarning)\n"
     ]
    },
    {
     "ename": "ModuleNotFoundError",
     "evalue": "No module named 'networkx'",
     "output_type": "error",
     "traceback": [
      "\u001B[1;31m---------------------------------------------------------------------------\u001B[0m",
      "\u001B[1;31mModuleNotFoundError\u001B[0m                       Traceback (most recent call last)",
      "Cell \u001B[1;32mIn[7], line 13\u001B[0m\n\u001B[0;32m     10\u001B[0m \u001B[38;5;28;01mfrom\u001B[39;00m \u001B[38;5;21;01mema_workbench\u001B[39;00m\u001B[38;5;21;01m.\u001B[39;00m\u001B[38;5;21;01manalysis\u001B[39;00m \u001B[38;5;28;01mimport\u001B[39;00m parcoords\n\u001B[0;32m     12\u001B[0m \u001B[38;5;66;03m# Import the dike_model\u001B[39;00m\n\u001B[1;32m---> 13\u001B[0m \u001B[38;5;28;01mfrom\u001B[39;00m \u001B[38;5;21;01mproblem_formulation\u001B[39;00m \u001B[38;5;28;01mimport\u001B[39;00m get_model_for_problem_formulation\n\u001B[0;32m     15\u001B[0m \u001B[38;5;66;03m# Define model\u001B[39;00m\n\u001B[0;32m     16\u001B[0m dike_model, planning_steps \u001B[38;5;241m=\u001B[39m get_model_for_problem_formulation(\u001B[38;5;241m2\u001B[39m)\n",
      "File \u001B[1;32m~\\OneDrive - Delft University of Technology\\Documenten\\GitHub\\Model-based-Decision-making\\problem_formulation.py:14\u001B[0m\n\u001B[0;32m      1\u001B[0m \u001B[38;5;124;03m\"\"\"\u001B[39;00m\n\u001B[0;32m      2\u001B[0m \u001B[38;5;124;03mCreated on Wed Mar 21 17:34:11 2018\u001B[39;00m\n\u001B[0;32m      3\u001B[0m \n\u001B[0;32m      4\u001B[0m \u001B[38;5;124;03m@author: ciullo\u001B[39;00m\n\u001B[0;32m      5\u001B[0m \u001B[38;5;124;03m\"\"\"\u001B[39;00m\n\u001B[0;32m      6\u001B[0m \u001B[38;5;28;01mfrom\u001B[39;00m \u001B[38;5;21;01mema_workbench\u001B[39;00m \u001B[38;5;28;01mimport\u001B[39;00m (\n\u001B[0;32m      7\u001B[0m     Model,\n\u001B[0;32m      8\u001B[0m     CategoricalParameter,\n\u001B[1;32m   (...)\u001B[0m\n\u001B[0;32m     12\u001B[0m     RealParameter,\n\u001B[0;32m     13\u001B[0m )\n\u001B[1;32m---> 14\u001B[0m \u001B[38;5;28;01mfrom\u001B[39;00m \u001B[38;5;21;01mdike_model_function\u001B[39;00m \u001B[38;5;28;01mimport\u001B[39;00m DikeNetwork  \u001B[38;5;66;03m# @UnresolvedImport\u001B[39;00m\n\u001B[0;32m     16\u001B[0m \u001B[38;5;28;01mimport\u001B[39;00m \u001B[38;5;21;01mnumpy\u001B[39;00m \u001B[38;5;28;01mas\u001B[39;00m \u001B[38;5;21;01mnp\u001B[39;00m\n\u001B[0;32m     19\u001B[0m \u001B[38;5;28;01mdef\u001B[39;00m \u001B[38;5;21msum_over\u001B[39m(\u001B[38;5;241m*\u001B[39margs):\n",
      "File \u001B[1;32m~\\OneDrive - Delft University of Technology\\Documenten\\GitHub\\Model-based-Decision-making\\dike_model_function.py:13\u001B[0m\n\u001B[0;32m      9\u001B[0m \u001B[38;5;28;01mfrom\u001B[39;00m \u001B[38;5;21;01mcollections\u001B[39;00m \u001B[38;5;28;01mimport\u001B[39;00m defaultdict\n\u001B[0;32m     11\u001B[0m \u001B[38;5;28;01mfrom\u001B[39;00m \u001B[38;5;21;01mema_workbench\u001B[39;00m \u001B[38;5;28;01mimport\u001B[39;00m ema_logging\n\u001B[1;32m---> 13\u001B[0m \u001B[38;5;28;01mimport\u001B[39;00m \u001B[38;5;21;01mfuns_generate_network\u001B[39;00m\n\u001B[0;32m     14\u001B[0m \u001B[38;5;28;01mfrom\u001B[39;00m \u001B[38;5;21;01mfuns_dikes\u001B[39;00m \u001B[38;5;28;01mimport\u001B[39;00m Lookuplin, dikefailure, init_node\n\u001B[0;32m     15\u001B[0m \u001B[38;5;28;01mfrom\u001B[39;00m \u001B[38;5;21;01mfuns_economy\u001B[39;00m \u001B[38;5;28;01mimport\u001B[39;00m cost_fun, discount, cost_evacuation\n",
      "File \u001B[1;32m~\\OneDrive - Delft University of Technology\\Documenten\\GitHub\\Model-based-Decision-making\\funs_generate_network.py:2\u001B[0m\n\u001B[0;32m      1\u001B[0m \u001B[38;5;28;01mimport\u001B[39;00m \u001B[38;5;21;01mnumpy\u001B[39;00m \u001B[38;5;28;01mas\u001B[39;00m \u001B[38;5;21;01mnp\u001B[39;00m\n\u001B[1;32m----> 2\u001B[0m \u001B[38;5;28;01mimport\u001B[39;00m \u001B[38;5;21;01mnetworkx\u001B[39;00m \u001B[38;5;28;01mas\u001B[39;00m \u001B[38;5;21;01mnx\u001B[39;00m\n\u001B[0;32m      3\u001B[0m \u001B[38;5;28;01mimport\u001B[39;00m \u001B[38;5;21;01mpandas\u001B[39;00m \u001B[38;5;28;01mas\u001B[39;00m \u001B[38;5;21;01mpd\u001B[39;00m\n\u001B[0;32m      4\u001B[0m \u001B[38;5;28;01mfrom\u001B[39;00m \u001B[38;5;21;01mfuns_dikes\u001B[39;00m \u001B[38;5;28;01mimport\u001B[39;00m Lookuplin  \u001B[38;5;66;03m# @UnresolvedImport\u001B[39;00m\n",
      "\u001B[1;31mModuleNotFoundError\u001B[0m: No module named 'networkx'"
     ]
    }
   ],
   "source": [
    "# Import necessary libraries\n",
    "import numpy as np\n",
    "import pandas as pd\n",
    "import seaborn as sns\n",
    "import matplotlib.pyplot as plt\n",
    "\n",
    "from ema_workbench import (Model, RealParameter, ScalarOutcome,\n",
    "                           MultiprocessingEvaluator, ema_logging,\n",
    "                           Constant, SequentialEvaluator, Policy)\n",
    "from ema_workbench.analysis import parcoords\n",
    "\n",
    "# Import the dike_model\n",
    "from problem_formulation import get_model_for_problem_formulation\n",
    "\n",
    "# Define model\n",
    "dike_model, planning_steps = get_model_for_problem_formulation(2)"
   ],
   "metadata": {
    "collapsed": false,
    "ExecuteTime": {
     "end_time": "2023-06-21T08:09:22.979773700Z",
     "start_time": "2023-06-21T08:08:29.640978100Z"
    }
   }
  },
  {
   "cell_type": "code",
   "execution_count": null,
   "outputs": [],
   "source": [
    "policies = pd.read_csv('data/output_data/MOEA_selected_policies.csv')\n",
    "policies_to_evaluate = []\n",
    "\n",
    "for i, policy in policies.iterrows():\n",
    "    policies_to_evaluate.append(Policy(str(i), **policy.to_dict()))"
   ],
   "metadata": {
    "collapsed": false
   }
  },
  {
   "cell_type": "code",
   "execution_count": 3,
   "outputs": [],
   "source": [
    "#Import of the csv files from the previous MORDM step\n",
    "uncertainty_outcomes = pd.read_csv('data/output_data/MOEA_uncertainty_outcomes.csv')\n",
    "uncertainty_experiments = pd.read_csv('data/output_data/MOEA_uncertainty_experiments.csv')"
   ],
   "metadata": {
    "collapsed": false,
    "ExecuteTime": {
     "start_time": "2023-06-21T09:15:40.710655Z",
     "end_time": "2023-06-21T09:15:41.417835Z"
    }
   }
  },
  {
   "cell_type": "code",
   "execution_count": 4,
   "outputs": [
    {
     "data": {
      "text/plain": "       Unnamed: 0  Expected Annual Damage  Dike Investment Costs  \\\n0               0            2.905471e+06           5.915904e+08   \n1               1            0.000000e+00           5.915904e+08   \n2               2            4.675528e+05           5.915904e+08   \n3               3            0.000000e+00           5.915904e+08   \n4               4            1.251384e+07           5.915904e+08   \n...           ...                     ...                    ...   \n49995       49995            0.000000e+00           4.853358e+08   \n49996       49996            0.000000e+00           4.853358e+08   \n49997       49997            0.000000e+00           4.853358e+08   \n49998       49998            0.000000e+00           4.853358e+08   \n49999       49999            0.000000e+00           4.853358e+08   \n\n       RfR Investment Costs  Evacuation Costs  Expected Number of Deaths  \\\n0               151900000.0        297.737877                   0.000271   \n1               151900000.0          0.000000                   0.000000   \n2               151900000.0         43.651835                   0.000048   \n3               151900000.0          0.000000                   0.000000   \n4               151900000.0        898.634622                   0.000688   \n...                     ...               ...                        ...   \n49995           182600000.0          0.000000                   0.000000   \n49996           182600000.0          0.000000                   0.000000   \n49997           182600000.0          0.000000                   0.000000   \n49998           182600000.0          0.000000                   0.000000   \n49999           182600000.0          0.000000                   0.000000   \n\n       policy  \n0           0  \n1           0  \n2           0  \n3           0  \n4           0  \n...       ...  \n49995       4  \n49996       4  \n49997       4  \n49998       4  \n49999       4  \n\n[50000 rows x 7 columns]",
      "text/html": "<div>\n<style scoped>\n    .dataframe tbody tr th:only-of-type {\n        vertical-align: middle;\n    }\n\n    .dataframe tbody tr th {\n        vertical-align: top;\n    }\n\n    .dataframe thead th {\n        text-align: right;\n    }\n</style>\n<table border=\"1\" class=\"dataframe\">\n  <thead>\n    <tr style=\"text-align: right;\">\n      <th></th>\n      <th>Unnamed: 0</th>\n      <th>Expected Annual Damage</th>\n      <th>Dike Investment Costs</th>\n      <th>RfR Investment Costs</th>\n      <th>Evacuation Costs</th>\n      <th>Expected Number of Deaths</th>\n      <th>policy</th>\n    </tr>\n  </thead>\n  <tbody>\n    <tr>\n      <th>0</th>\n      <td>0</td>\n      <td>2.905471e+06</td>\n      <td>5.915904e+08</td>\n      <td>151900000.0</td>\n      <td>297.737877</td>\n      <td>0.000271</td>\n      <td>0</td>\n    </tr>\n    <tr>\n      <th>1</th>\n      <td>1</td>\n      <td>0.000000e+00</td>\n      <td>5.915904e+08</td>\n      <td>151900000.0</td>\n      <td>0.000000</td>\n      <td>0.000000</td>\n      <td>0</td>\n    </tr>\n    <tr>\n      <th>2</th>\n      <td>2</td>\n      <td>4.675528e+05</td>\n      <td>5.915904e+08</td>\n      <td>151900000.0</td>\n      <td>43.651835</td>\n      <td>0.000048</td>\n      <td>0</td>\n    </tr>\n    <tr>\n      <th>3</th>\n      <td>3</td>\n      <td>0.000000e+00</td>\n      <td>5.915904e+08</td>\n      <td>151900000.0</td>\n      <td>0.000000</td>\n      <td>0.000000</td>\n      <td>0</td>\n    </tr>\n    <tr>\n      <th>4</th>\n      <td>4</td>\n      <td>1.251384e+07</td>\n      <td>5.915904e+08</td>\n      <td>151900000.0</td>\n      <td>898.634622</td>\n      <td>0.000688</td>\n      <td>0</td>\n    </tr>\n    <tr>\n      <th>...</th>\n      <td>...</td>\n      <td>...</td>\n      <td>...</td>\n      <td>...</td>\n      <td>...</td>\n      <td>...</td>\n      <td>...</td>\n    </tr>\n    <tr>\n      <th>49995</th>\n      <td>49995</td>\n      <td>0.000000e+00</td>\n      <td>4.853358e+08</td>\n      <td>182600000.0</td>\n      <td>0.000000</td>\n      <td>0.000000</td>\n      <td>4</td>\n    </tr>\n    <tr>\n      <th>49996</th>\n      <td>49996</td>\n      <td>0.000000e+00</td>\n      <td>4.853358e+08</td>\n      <td>182600000.0</td>\n      <td>0.000000</td>\n      <td>0.000000</td>\n      <td>4</td>\n    </tr>\n    <tr>\n      <th>49997</th>\n      <td>49997</td>\n      <td>0.000000e+00</td>\n      <td>4.853358e+08</td>\n      <td>182600000.0</td>\n      <td>0.000000</td>\n      <td>0.000000</td>\n      <td>4</td>\n    </tr>\n    <tr>\n      <th>49998</th>\n      <td>49998</td>\n      <td>0.000000e+00</td>\n      <td>4.853358e+08</td>\n      <td>182600000.0</td>\n      <td>0.000000</td>\n      <td>0.000000</td>\n      <td>4</td>\n    </tr>\n    <tr>\n      <th>49999</th>\n      <td>49999</td>\n      <td>0.000000e+00</td>\n      <td>4.853358e+08</td>\n      <td>182600000.0</td>\n      <td>0.000000</td>\n      <td>0.000000</td>\n      <td>4</td>\n    </tr>\n  </tbody>\n</table>\n<p>50000 rows × 7 columns</p>\n</div>"
     },
     "execution_count": 4,
     "metadata": {},
     "output_type": "execute_result"
    }
   ],
   "source": [
    "#uncertainty_outcomes = uncertainty_outcomes.drop(columns='Unnamed: 0')\n",
    "uncertainty_outcomes"
   ],
   "metadata": {
    "collapsed": false,
    "ExecuteTime": {
     "start_time": "2023-06-21T09:15:42.857103Z",
     "end_time": "2023-06-21T09:15:42.887839Z"
    }
   }
  },
  {
   "cell_type": "code",
   "execution_count": 5,
   "outputs": [
    {
     "data": {
      "text/plain": "       Unnamed: 0  A.0_ID flood wave shape    A.1_Bmax  A.1_Brate  A.1_pfail  \\\n0               0                       73  237.223619       10.0   0.822949   \n1               1                      100  217.582195        1.0   0.605151   \n2               2                      102  330.365728       10.0   0.536505   \n3               3                       38  198.899576       10.0   0.863812   \n4               4                       95  259.903908        1.5   0.430111   \n...           ...                      ...         ...        ...        ...   \n49995       49995                       25  333.392351        1.5   0.182541   \n49996       49996                       36   83.039895        1.0   0.946074   \n49997       49997                       35  331.179930        1.0   0.183885   \n49998       49998                       42  223.895330        1.0   0.887494   \n49999       49999                        5  338.686652        1.5   0.139679   \n\n         A.2_Bmax  A.2_Brate  A.2_pfail    A.3_Bmax  A.3_Brate  ...  \\\n0      257.939688        1.0   0.503687  191.079508       10.0  ...   \n1      247.388211        1.0   0.312620   53.665794        1.0  ...   \n2      199.599995       10.0   0.796105  290.208831        1.5  ...   \n3       67.180982        1.0   0.254501  199.763387        1.0  ...   \n4      116.302986        1.5   0.715382  258.385764        1.0  ...   \n...           ...        ...        ...         ...        ...  ...   \n49995  200.358237       10.0   0.491426  181.191046       10.0  ...   \n49996   49.079330        1.5   0.391886  226.166062        1.5  ...   \n49997  123.736414       10.0   0.144689  104.541520        1.5  ...   \n49998  211.866952        1.0   0.594167  331.685061       10.0  ...   \n49999   32.824082       10.0   0.078352  224.141823        1.5  ...   \n\n       A.3_DikeIncrease 2  A.4_DikeIncrease 0  A.4_DikeIncrease 1  \\\n0                       7                   3                   4   \n1                       7                   3                   4   \n2                       7                   3                   4   \n3                       7                   3                   4   \n4                       7                   3                   4   \n...                   ...                 ...                 ...   \n49995                   0                   6                   3   \n49996                   0                   6                   3   \n49997                   0                   6                   3   \n49998                   0                   6                   3   \n49999                   0                   6                   3   \n\n       A.4_DikeIncrease 2  A.5_DikeIncrease 0  A.5_DikeIncrease 1  \\\n0                       2                  10                   3   \n1                       2                  10                   3   \n2                       2                  10                   3   \n3                       2                  10                   3   \n4                       2                  10                   3   \n...                   ...                 ...                 ...   \n49995                   5                  10                   0   \n49996                   5                  10                   0   \n49997                   5                  10                   0   \n49998                   5                  10                   0   \n49999                   5                  10                   0   \n\n       A.5_DikeIncrease 2  scenario  policy     model  \n0                       3         0       0  dikesnet  \n1                       3         1       0  dikesnet  \n2                       3         2       0  dikesnet  \n3                       3         3       0  dikesnet  \n4                       3         4       0  dikesnet  \n...                   ...       ...     ...       ...  \n49995                   0      9995       4  dikesnet  \n49996                   0      9996       4  dikesnet  \n49997                   0      9997       4  dikesnet  \n49998                   0      9998       4  dikesnet  \n49999                   0      9999       4  dikesnet  \n\n[50000 rows x 54 columns]",
      "text/html": "<div>\n<style scoped>\n    .dataframe tbody tr th:only-of-type {\n        vertical-align: middle;\n    }\n\n    .dataframe tbody tr th {\n        vertical-align: top;\n    }\n\n    .dataframe thead th {\n        text-align: right;\n    }\n</style>\n<table border=\"1\" class=\"dataframe\">\n  <thead>\n    <tr style=\"text-align: right;\">\n      <th></th>\n      <th>Unnamed: 0</th>\n      <th>A.0_ID flood wave shape</th>\n      <th>A.1_Bmax</th>\n      <th>A.1_Brate</th>\n      <th>A.1_pfail</th>\n      <th>A.2_Bmax</th>\n      <th>A.2_Brate</th>\n      <th>A.2_pfail</th>\n      <th>A.3_Bmax</th>\n      <th>A.3_Brate</th>\n      <th>...</th>\n      <th>A.3_DikeIncrease 2</th>\n      <th>A.4_DikeIncrease 0</th>\n      <th>A.4_DikeIncrease 1</th>\n      <th>A.4_DikeIncrease 2</th>\n      <th>A.5_DikeIncrease 0</th>\n      <th>A.5_DikeIncrease 1</th>\n      <th>A.5_DikeIncrease 2</th>\n      <th>scenario</th>\n      <th>policy</th>\n      <th>model</th>\n    </tr>\n  </thead>\n  <tbody>\n    <tr>\n      <th>0</th>\n      <td>0</td>\n      <td>73</td>\n      <td>237.223619</td>\n      <td>10.0</td>\n      <td>0.822949</td>\n      <td>257.939688</td>\n      <td>1.0</td>\n      <td>0.503687</td>\n      <td>191.079508</td>\n      <td>10.0</td>\n      <td>...</td>\n      <td>7</td>\n      <td>3</td>\n      <td>4</td>\n      <td>2</td>\n      <td>10</td>\n      <td>3</td>\n      <td>3</td>\n      <td>0</td>\n      <td>0</td>\n      <td>dikesnet</td>\n    </tr>\n    <tr>\n      <th>1</th>\n      <td>1</td>\n      <td>100</td>\n      <td>217.582195</td>\n      <td>1.0</td>\n      <td>0.605151</td>\n      <td>247.388211</td>\n      <td>1.0</td>\n      <td>0.312620</td>\n      <td>53.665794</td>\n      <td>1.0</td>\n      <td>...</td>\n      <td>7</td>\n      <td>3</td>\n      <td>4</td>\n      <td>2</td>\n      <td>10</td>\n      <td>3</td>\n      <td>3</td>\n      <td>1</td>\n      <td>0</td>\n      <td>dikesnet</td>\n    </tr>\n    <tr>\n      <th>2</th>\n      <td>2</td>\n      <td>102</td>\n      <td>330.365728</td>\n      <td>10.0</td>\n      <td>0.536505</td>\n      <td>199.599995</td>\n      <td>10.0</td>\n      <td>0.796105</td>\n      <td>290.208831</td>\n      <td>1.5</td>\n      <td>...</td>\n      <td>7</td>\n      <td>3</td>\n      <td>4</td>\n      <td>2</td>\n      <td>10</td>\n      <td>3</td>\n      <td>3</td>\n      <td>2</td>\n      <td>0</td>\n      <td>dikesnet</td>\n    </tr>\n    <tr>\n      <th>3</th>\n      <td>3</td>\n      <td>38</td>\n      <td>198.899576</td>\n      <td>10.0</td>\n      <td>0.863812</td>\n      <td>67.180982</td>\n      <td>1.0</td>\n      <td>0.254501</td>\n      <td>199.763387</td>\n      <td>1.0</td>\n      <td>...</td>\n      <td>7</td>\n      <td>3</td>\n      <td>4</td>\n      <td>2</td>\n      <td>10</td>\n      <td>3</td>\n      <td>3</td>\n      <td>3</td>\n      <td>0</td>\n      <td>dikesnet</td>\n    </tr>\n    <tr>\n      <th>4</th>\n      <td>4</td>\n      <td>95</td>\n      <td>259.903908</td>\n      <td>1.5</td>\n      <td>0.430111</td>\n      <td>116.302986</td>\n      <td>1.5</td>\n      <td>0.715382</td>\n      <td>258.385764</td>\n      <td>1.0</td>\n      <td>...</td>\n      <td>7</td>\n      <td>3</td>\n      <td>4</td>\n      <td>2</td>\n      <td>10</td>\n      <td>3</td>\n      <td>3</td>\n      <td>4</td>\n      <td>0</td>\n      <td>dikesnet</td>\n    </tr>\n    <tr>\n      <th>...</th>\n      <td>...</td>\n      <td>...</td>\n      <td>...</td>\n      <td>...</td>\n      <td>...</td>\n      <td>...</td>\n      <td>...</td>\n      <td>...</td>\n      <td>...</td>\n      <td>...</td>\n      <td>...</td>\n      <td>...</td>\n      <td>...</td>\n      <td>...</td>\n      <td>...</td>\n      <td>...</td>\n      <td>...</td>\n      <td>...</td>\n      <td>...</td>\n      <td>...</td>\n      <td>...</td>\n    </tr>\n    <tr>\n      <th>49995</th>\n      <td>49995</td>\n      <td>25</td>\n      <td>333.392351</td>\n      <td>1.5</td>\n      <td>0.182541</td>\n      <td>200.358237</td>\n      <td>10.0</td>\n      <td>0.491426</td>\n      <td>181.191046</td>\n      <td>10.0</td>\n      <td>...</td>\n      <td>0</td>\n      <td>6</td>\n      <td>3</td>\n      <td>5</td>\n      <td>10</td>\n      <td>0</td>\n      <td>0</td>\n      <td>9995</td>\n      <td>4</td>\n      <td>dikesnet</td>\n    </tr>\n    <tr>\n      <th>49996</th>\n      <td>49996</td>\n      <td>36</td>\n      <td>83.039895</td>\n      <td>1.0</td>\n      <td>0.946074</td>\n      <td>49.079330</td>\n      <td>1.5</td>\n      <td>0.391886</td>\n      <td>226.166062</td>\n      <td>1.5</td>\n      <td>...</td>\n      <td>0</td>\n      <td>6</td>\n      <td>3</td>\n      <td>5</td>\n      <td>10</td>\n      <td>0</td>\n      <td>0</td>\n      <td>9996</td>\n      <td>4</td>\n      <td>dikesnet</td>\n    </tr>\n    <tr>\n      <th>49997</th>\n      <td>49997</td>\n      <td>35</td>\n      <td>331.179930</td>\n      <td>1.0</td>\n      <td>0.183885</td>\n      <td>123.736414</td>\n      <td>10.0</td>\n      <td>0.144689</td>\n      <td>104.541520</td>\n      <td>1.5</td>\n      <td>...</td>\n      <td>0</td>\n      <td>6</td>\n      <td>3</td>\n      <td>5</td>\n      <td>10</td>\n      <td>0</td>\n      <td>0</td>\n      <td>9997</td>\n      <td>4</td>\n      <td>dikesnet</td>\n    </tr>\n    <tr>\n      <th>49998</th>\n      <td>49998</td>\n      <td>42</td>\n      <td>223.895330</td>\n      <td>1.0</td>\n      <td>0.887494</td>\n      <td>211.866952</td>\n      <td>1.0</td>\n      <td>0.594167</td>\n      <td>331.685061</td>\n      <td>10.0</td>\n      <td>...</td>\n      <td>0</td>\n      <td>6</td>\n      <td>3</td>\n      <td>5</td>\n      <td>10</td>\n      <td>0</td>\n      <td>0</td>\n      <td>9998</td>\n      <td>4</td>\n      <td>dikesnet</td>\n    </tr>\n    <tr>\n      <th>49999</th>\n      <td>49999</td>\n      <td>5</td>\n      <td>338.686652</td>\n      <td>1.5</td>\n      <td>0.139679</td>\n      <td>32.824082</td>\n      <td>10.0</td>\n      <td>0.078352</td>\n      <td>224.141823</td>\n      <td>1.5</td>\n      <td>...</td>\n      <td>0</td>\n      <td>6</td>\n      <td>3</td>\n      <td>5</td>\n      <td>10</td>\n      <td>0</td>\n      <td>0</td>\n      <td>9999</td>\n      <td>4</td>\n      <td>dikesnet</td>\n    </tr>\n  </tbody>\n</table>\n<p>50000 rows × 54 columns</p>\n</div>"
     },
     "execution_count": 5,
     "metadata": {},
     "output_type": "execute_result"
    }
   ],
   "source": [
    "uncertainty_experiments"
   ],
   "metadata": {
    "collapsed": false,
    "ExecuteTime": {
     "start_time": "2023-06-21T09:15:45.161989Z",
     "end_time": "2023-06-21T09:15:45.188672Z"
    }
   }
  },
  {
   "cell_type": "markdown",
   "source": [
    "## 1. Signal-to-noise ratio\n",
    "\n",
    "The Signal-to-noise ratio is executed in three steps. First the definition on how to calculate the Signal-to-noise ratio is given. Next, the Signal-to noise ratio is calculated for every unique policy of which the data is stored in the correct data frame form. Lastly, this data is used to determine the limits of the results and to visualize the outcomes.\n",
    "\n",
    "In the first step the calculation on how to determine the Signal-to-noise ratio is formed. Depending on direction of the preferred outcome the Signal-to-noise ratio is either the mean divided by the standard deviation or the mean multiplied by the standard deviation. The preference of the outcome objectives dictates whether Signal-to-noise ratio is desired to be maximized or minimized. In this case it is favored that the outcomes of the objectives are as low as possible. Therefore, the focus will lie on a minimized Signal-to-noise ratio.\n"
   ],
   "metadata": {
    "collapsed": false
   }
  },
  {
   "cell_type": "code",
   "execution_count": 6,
   "outputs": [],
   "source": [
    "#Definition is created on how to calculate the Signal-to-Noise ratio\n",
    "data = uncertainty_outcomes.loc[:,[o.name for o in dike_model.outcomes]]\n",
    "\n",
    "def s_to_n(data, direction):\n",
    "    mean = np.mean(data)\n",
    "    std = np.std(data)\n",
    "\n",
    "#The Signal-to-noise ratio is calculated based upon the direction of each policy.\n",
    "    if direction==ScalarOutcome.MAXIMIZE:\n",
    "        return mean/std\n",
    "    else:\n",
    "        return mean*std"
   ],
   "metadata": {
    "collapsed": false,
    "ExecuteTime": {
     "start_time": "2023-06-21T09:16:06.743648Z",
     "end_time": "2023-06-21T09:16:06.744683Z"
    }
   }
  },
  {
   "cell_type": "markdown",
   "source": [
    "The second step in the process executes the defined method of calculating the Signal-to-Noise ratio and saves the data in a new dataframe. First, the code iterates over every unique policy in the experiments. The next iteration is on the outcomes in which the outcome is pulled for the current policy. These outcomes are used to calculate the Signal-to-noise ratio by utilizing the definition in the previous cell. In the last step these Signal-to-noise results are stored in the \"scores\" dictionary and later added to the \"overall-scores\" dictionary. Finally these results are converted to a data frame and used in the next step."
   ],
   "metadata": {
    "collapsed": false
   }
  },
  {
   "cell_type": "code",
   "execution_count": 7,
   "outputs": [
    {
     "data": {
      "text/plain": "   Expected Annual Damage  Dike Investment Costs  RfR Investment Costs  \\\n0            2.758945e+16              70.523070                   0.0   \n1            2.982867e+15              46.705509                   0.0   \n2            1.215021e+15              26.212740                   0.0   \n3            7.568295e+14               0.000000                   0.0   \n4            9.402667e+15              57.856532                   0.0   \n\n   Evacuation Costs  Expected Number of Deaths  \n0      4.374158e+06                   0.000190  \n1      7.586682e+05                   0.000021  \n2      4.338612e+05                   0.000011  \n3      6.140729e+04                   0.000052  \n4      9.454624e+05                   0.000103  ",
      "text/html": "<div>\n<style scoped>\n    .dataframe tbody tr th:only-of-type {\n        vertical-align: middle;\n    }\n\n    .dataframe tbody tr th {\n        vertical-align: top;\n    }\n\n    .dataframe thead th {\n        text-align: right;\n    }\n</style>\n<table border=\"1\" class=\"dataframe\">\n  <thead>\n    <tr style=\"text-align: right;\">\n      <th></th>\n      <th>Expected Annual Damage</th>\n      <th>Dike Investment Costs</th>\n      <th>RfR Investment Costs</th>\n      <th>Evacuation Costs</th>\n      <th>Expected Number of Deaths</th>\n    </tr>\n  </thead>\n  <tbody>\n    <tr>\n      <th>0</th>\n      <td>2.758945e+16</td>\n      <td>70.523070</td>\n      <td>0.0</td>\n      <td>4.374158e+06</td>\n      <td>0.000190</td>\n    </tr>\n    <tr>\n      <th>1</th>\n      <td>2.982867e+15</td>\n      <td>46.705509</td>\n      <td>0.0</td>\n      <td>7.586682e+05</td>\n      <td>0.000021</td>\n    </tr>\n    <tr>\n      <th>2</th>\n      <td>1.215021e+15</td>\n      <td>26.212740</td>\n      <td>0.0</td>\n      <td>4.338612e+05</td>\n      <td>0.000011</td>\n    </tr>\n    <tr>\n      <th>3</th>\n      <td>7.568295e+14</td>\n      <td>0.000000</td>\n      <td>0.0</td>\n      <td>6.140729e+04</td>\n      <td>0.000052</td>\n    </tr>\n    <tr>\n      <th>4</th>\n      <td>9.402667e+15</td>\n      <td>57.856532</td>\n      <td>0.0</td>\n      <td>9.454624e+05</td>\n      <td>0.000103</td>\n    </tr>\n  </tbody>\n</table>\n</div>"
     },
     "execution_count": 7,
     "metadata": {},
     "output_type": "execute_result"
    }
   ],
   "source": [
    "overall_scores = {}\n",
    "\n",
    "for policy in np.unique(uncertainty_experiments['policy']):\n",
    "    scores = {}\n",
    "\n",
    "    logical = uncertainty_experiments['policy']==policy\n",
    "\n",
    "    for outcome in dike_model.outcomes:\n",
    "        value  = uncertainty_outcomes[outcome.name][logical]\n",
    "        sn_ratio = s_to_n(value, outcome.kind)\n",
    "        scores[outcome.name] = sn_ratio\n",
    "    overall_scores[policy] = scores\n",
    "scores = pd.DataFrame.from_dict(overall_scores).T\n",
    "scores"
   ],
   "metadata": {
    "collapsed": false,
    "ExecuteTime": {
     "start_time": "2023-06-21T09:16:08.704128Z",
     "end_time": "2023-06-21T09:16:08.736626Z"
    }
   }
  },
  {
   "cell_type": "markdown",
   "source": [
    "The final step of the Signal-to-noise calculation focuses on the visualization of the results. For this purpose the parcoords method is used and imported from the EMA workbench. As a first step the scores data frame is renamed to \"data\". In a next step the limits of the results for each column are determined and the lower bound of the results is set to zero. Then the data with the limits is plotted using the parcoords method. The axis of the expected annual damage is inverted to visualize the limits for this outcome."
   ],
   "metadata": {
    "collapsed": false
   }
  },
  {
   "cell_type": "code",
   "execution_count": 1,
   "outputs": [
    {
     "ename": "ModuleNotFoundError",
     "evalue": "No module named 'ema_workbench'",
     "output_type": "error",
     "traceback": [
      "\u001B[1;31m---------------------------------------------------------------------------\u001B[0m",
      "\u001B[1;31mModuleNotFoundError\u001B[0m                       Traceback (most recent call last)",
      "Cell \u001B[1;32mIn[1], line 1\u001B[0m\n\u001B[1;32m----> 1\u001B[0m \u001B[38;5;28;01mfrom\u001B[39;00m \u001B[38;5;21;01mema_workbench\u001B[39;00m\u001B[38;5;21;01m.\u001B[39;00m\u001B[38;5;21;01manalysis\u001B[39;00m \u001B[38;5;28;01mimport\u001B[39;00m parcoords\n\u001B[0;32m      3\u001B[0m \u001B[38;5;66;03m#The data frame is renamed and the result limits are determined for the visualization.\u001B[39;00m\n\u001B[0;32m      4\u001B[0m data \u001B[38;5;241m=\u001B[39m scores\n",
      "\u001B[1;31mModuleNotFoundError\u001B[0m: No module named 'ema_workbench'"
     ]
    }
   ],
   "source": [
    "from ema_workbench.analysis import parcoords\n",
    "\n",
    "#The data frame is renamed and the result limits are determined for the visualization.\n",
    "data = scores\n",
    "limits = parcoords.get_limits(data)\n",
    "limits.loc[0, ['Expected Annual Damage', 'Dike Investment Costs', 'RfR Investment Costs', 'Evacuation Costs', 'Expected Number of Deaths']] = 0\n",
    "\n",
    "#The data is being plotted in a paracoords graph\n",
    "paraxes = parcoords.ParallelAxes(limits)\n",
    "paraxes.plot(data)\n",
    "#Swapped axis eruit\n",
    "#paraxes.invert_axis('Expected Annual Damage')\n",
    "plt.legend()\n",
    "plt.show()"
   ],
   "metadata": {
    "collapsed": false,
    "ExecuteTime": {
     "end_time": "2023-06-21T07:58:56.381684700Z",
     "start_time": "2023-06-21T07:58:56.354300700Z"
    }
   }
  },
  {
   "cell_type": "markdown",
   "source": [
    "The figure above indicates that none of the 5 policies are robust relating to the preferred objectives. In the ideal case all the coloured lines would cross the vertical lines on the lowest point which would indicate a low Signal-to-noise ratio.\n",
    "\n",
    "As none of all the lines relate to the preferred case trade-offs between the outcomes have to be made. It is seen that for all policies the Room for River (RfR) investment is zero. This is because the RfR investment is a decision variable that is independent of external uncertainties. This indicates that this variable can influence the other variables while remaining unaffected by other variables.\n",
    "\n",
    "\n",
    "\n",
    "and the same can be said for most policies relating to the Dike investment cost. However, there is a clear trade-off seen in the other objectives. For example whenever a policy has high evacuation costs, the expected number of death will be lower.\n"
   ],
   "metadata": {
    "collapsed": false
   }
  },
  {
   "cell_type": "markdown",
   "source": [
    "## 2. Maximum regret\n",
    "\n",
    "The maximum regret value provides another metric to determine the robustness of a policy. First the regret for each single policy needs to be tested under each scenario. The definition of regret is the difference in performance of a policy between a specific scenario and a reference scenario. The maximum height of this regret is than named as the maximum regret and is preferred to be as low as possible.\n",
    "\n",
    "KLOPT NIET MEER\n",
    "As we are dealing with outcomes that are preferred to be maximized and minimized, the regret values will not align and will lead to undesirable results. To fix this the absolute value is taken for the regret values so that it is possible to compare the results.\n"
   ],
   "metadata": {
    "collapsed": false
   }
  },
  {
   "cell_type": "markdown",
   "source": [
    "The crucial part of the maximum regret approach is the identification of the best possible outcome for each scenario. To ensure this the following steps were taken in the code.\n",
    "1. Two empty dictionaries are created to capture both the overall regret of the policies and the maximum regret.\n",
    "2. The creation of a dataframe that consists out of the outcome together with the policy and the scenario.\n",
    "3. The dataframe is reshaped by indexing on the policy and the scenario id\n",
    "4. Here the maximum value of each row is taken and applied to calculate the regret.\n",
    "5. Lastly, all the regret results are converted into a dictionary. Moreover, the maximum regret is selected from these results and converted into a separate dictionary."
   ],
   "metadata": {
    "collapsed": false
   }
  },
  {
   "cell_type": "code",
   "execution_count": 10,
   "outputs": [],
   "source": [
    "def calculate_regret(data,best):\n",
    "    return np.abs(best-data)"
   ],
   "metadata": {
    "collapsed": false,
    "ExecuteTime": {
     "start_time": "2023-06-21T09:16:47.213670Z",
     "end_time": "2023-06-21T09:16:47.229847Z"
    }
   }
  },
  {
   "cell_type": "code",
   "execution_count": 11,
   "outputs": [],
   "source": [
    "overall_regret = {}\n",
    "max_regret = {}\n",
    "\n",
    "for outcome in dike_model.outcomes:\n",
    "    policy_column = uncertainty_experiments['policy']\n",
    "\n",
    "    # create a DataFrame with all the relevent information\n",
    "    # i.e., policy, scenario_id, and scores\n",
    "    data = pd.DataFrame({outcome.name: uncertainty_outcomes[outcome.name],\n",
    "                         \"policy\":uncertainty_experiments['policy'],\n",
    "                         \"scenario\":uncertainty_experiments['scenario']})\n",
    "\n",
    "    # reorient the data by indexing with policy and scenario id\n",
    "    data = data.pivot(index='scenario', columns='policy')\n",
    "\n",
    "    # flatten the resulting hierarchical index resulting from\n",
    "    # pivoting, (might be a nicer solution possible)\n",
    "    data.columns = data.columns.get_level_values(1)\n",
    "\n",
    "    # we need to control the broadcasting.\n",
    "    # max returns a 1d vector across scenario id. By passing\n",
    "    # np.newaxis we ensure that the shape is the same as the data\n",
    "    # next we take the absolute value\n",
    "    #\n",
    "    # basically we take the difference of the maximum across\n",
    "    # the row and the actual values in the row\n",
    "    #\n",
    "    outcome_regret = (data.max(axis=1).values[:, np.newaxis] - data).abs()\n",
    "\n",
    "    overall_regret[outcome.name] = outcome_regret\n",
    "    max_regret[outcome.name] = outcome_regret.max()"
   ],
   "metadata": {
    "collapsed": false,
    "ExecuteTime": {
     "start_time": "2023-06-21T09:16:48.412950Z",
     "end_time": "2023-06-21T09:16:48.531776Z"
    }
   }
  },
  {
   "cell_type": "markdown",
   "source": [],
   "metadata": {
    "collapsed": false
   }
  },
  {
   "cell_type": "code",
   "execution_count": 12,
   "outputs": [
    {
     "data": {
      "text/plain": "<Figure size 640x480 with 2 Axes>",
      "image/png": "[encoded data removed]"
     },
     "metadata": {},
     "output_type": "display_data"
    }
   ],
   "source": [
    "max_regret = pd.DataFrame(max_regret)\n",
    "sns.heatmap(max_regret/max_regret.max(), cmap='viridis', annot=True)\n",
    "plt.show()"
   ],
   "metadata": {
    "collapsed": false,
    "ExecuteTime": {
     "start_time": "2023-06-21T09:16:50.942190Z",
     "end_time": "2023-06-21T09:16:51.215798Z"
    }
   }
  },
  {
   "cell_type": "code",
   "execution_count": 13,
   "outputs": [
    {
     "data": {
      "text/plain": "        Expected Annual Damage  Dike Investment Costs  RfR Investment Costs  \\\npolicy                                                                        \n0                 2.920225e+08           0.000000e+00           363800000.0   \n1                 1.710144e+09           1.997962e+08                   0.0   \n2                 1.772835e+09           1.518136e+08           273300000.0   \n3                 1.769864e+09           1.981846e+08           248500000.0   \n4                 8.948345e+08           1.062546e+08           333100000.0   \n\n        Evacuation Costs  Expected Number of Deaths  \npolicy                                               \n0           23100.567869                   0.195621  \n1           14270.143157                   0.206282  \n2           14586.968589                   0.190598  \n3           20488.311857                   0.131017  \n4           21847.849394                   0.221994  ",
      "text/html": "<div>\n<style scoped>\n    .dataframe tbody tr th:only-of-type {\n        vertical-align: middle;\n    }\n\n    .dataframe tbody tr th {\n        vertical-align: top;\n    }\n\n    .dataframe thead th {\n        text-align: right;\n    }\n</style>\n<table border=\"1\" class=\"dataframe\">\n  <thead>\n    <tr style=\"text-align: right;\">\n      <th></th>\n      <th>Expected Annual Damage</th>\n      <th>Dike Investment Costs</th>\n      <th>RfR Investment Costs</th>\n      <th>Evacuation Costs</th>\n      <th>Expected Number of Deaths</th>\n    </tr>\n    <tr>\n      <th>policy</th>\n      <th></th>\n      <th></th>\n      <th></th>\n      <th></th>\n      <th></th>\n    </tr>\n  </thead>\n  <tbody>\n    <tr>\n      <th>0</th>\n      <td>2.920225e+08</td>\n      <td>0.000000e+00</td>\n      <td>363800000.0</td>\n      <td>23100.567869</td>\n      <td>0.195621</td>\n    </tr>\n    <tr>\n      <th>1</th>\n      <td>1.710144e+09</td>\n      <td>1.997962e+08</td>\n      <td>0.0</td>\n      <td>14270.143157</td>\n      <td>0.206282</td>\n    </tr>\n    <tr>\n      <th>2</th>\n      <td>1.772835e+09</td>\n      <td>1.518136e+08</td>\n      <td>273300000.0</td>\n      <td>14586.968589</td>\n      <td>0.190598</td>\n    </tr>\n    <tr>\n      <th>3</th>\n      <td>1.769864e+09</td>\n      <td>1.981846e+08</td>\n      <td>248500000.0</td>\n      <td>20488.311857</td>\n      <td>0.131017</td>\n    </tr>\n    <tr>\n      <th>4</th>\n      <td>8.948345e+08</td>\n      <td>1.062546e+08</td>\n      <td>333100000.0</td>\n      <td>21847.849394</td>\n      <td>0.221994</td>\n    </tr>\n  </tbody>\n</table>\n</div>"
     },
     "execution_count": 13,
     "metadata": {},
     "output_type": "execute_result"
    }
   ],
   "source": [
    "max_regret"
   ],
   "metadata": {
    "collapsed": false,
    "ExecuteTime": {
     "start_time": "2023-06-21T09:16:54.338556Z",
     "end_time": "2023-06-21T09:16:54.365625Z"
    }
   }
  },
  {
   "cell_type": "markdown",
   "source": [
    "The heatmap above illustrates the relation between the policies and the objectives in terms of maximum regret. As mentioned before the favored results are as low as possible meaning that the maximum regret for a policy is little. From this image it is visible that policy 0 and policy 7 preform the worst while looking at all the objectives. What is interesting to see is that except for policy 8, all policies score really bad on evacuation costs."
   ],
   "metadata": {
    "collapsed": false
   }
  },
  {
   "cell_type": "code",
   "execution_count": null,
   "outputs": [],
   "source": [],
   "metadata": {
    "collapsed": false
   }
  }
 ],
 "metadata": {
  "kernelspec": {
   "display_name": "Python 3",
   "language": "python",
   "name": "python3"
  },
  "language_info": {
   "codemirror_mode": {
    "name": "ipython",
    "version": 2
   },
   "file_extension": ".py",
   "mimetype": "text/x-python",
   "name": "python",
   "nbconvert_exporter": "python",
   "pygments_lexer": "ipython2",
   "version": "2.7.6"
  }
 },
 "nbformat": 4,
 "nbformat_minor": 0
}
