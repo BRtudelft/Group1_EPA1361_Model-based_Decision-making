{
 "cells": [
  {
   "cell_type": "markdown",
   "source": [
    "# 2.1.2 Generating alternatives\n",
    "\n",
    "In this file the MOEA optimization algorithm is used to search through the lever space in order to find promising policies.\n",
    "\n",
    "The optimization relies on the *platypus-opt* library.\n",
    "\n",
    "- Define constraints\n",
    "- Create multiple seeds\n",
    "- Create reference set\n",
    "- Check of Convergence\n",
    "\n",
    "- Evt different reference set?"
   ],
   "metadata": {
    "collapsed": false
   }
  },
  {
   "cell_type": "markdown",
   "source": [
    "## 1. Defining objectives and running model\n",
    "For each outcome of interest it is defined whether the objective is to maximize or minimize it.\n",
    "\n",
    "The objectives follow from the problem formulation (2):\n",
    "- Expected damages\n",
    "- Dike investment costs\n",
    "- RfR costs: minimize\n",
    "- Evacuation costs\n",
    "- Casualties\n",
    "\n",
    "In this model, all objectives are seen as costs, and have to be minimized. This minimization is defined in *problem_formulation.py*"
   ],
   "metadata": {
    "collapsed": false
   }
  },
  {
   "cell_type": "markdown",
   "source": [
    "Model is run with the \"optimize\" function. Other kwargs are defined here:\n",
    "- algorithm: $\\epsilon$-NSGA2 (default)\n",
    "- nfe: number of function evaluations (determine conversion)\n",
    "- Searchover: levers\n",
    "- Reference: a scenario (worst case? -> hoe te bepalen??)\n",
    "- Constraints\n",
    "- Epsilons: epsilon distance"
   ],
   "metadata": {
    "collapsed": false
   }
  },
  {
   "cell_type": "code",
   "execution_count": 1,
   "outputs": [
    {
     "data": {
      "text/plain": "<Logger EMA (DEBUG)>"
     },
     "execution_count": 1,
     "metadata": {},
     "output_type": "execute_result"
    }
   ],
   "source": [
    "#Remove unused imports\n",
    "from ema_workbench import (Model, RealParameter, ScalarOutcome,\n",
    "                           MultiprocessingEvaluator, ema_logging,\n",
    "                           Constant)\n",
    "\n",
    "from problem_formulation import get_model_for_problem_formulation\n",
    "\n",
    "ema_logging.log_to_stderr(ema_logging.INFO)"
   ],
   "metadata": {
    "collapsed": false,
    "ExecuteTime": {
     "start_time": "2023-06-12T15:04:58.238116Z",
     "end_time": "2023-06-12T15:05:06.033480Z"
    }
   }
  },
  {
   "cell_type": "code",
   "execution_count": null,
   "outputs": [],
   "source": [],
   "metadata": {
    "collapsed": false
   }
  },
  {
   "cell_type": "code",
   "execution_count": null,
   "outputs": [],
   "source": [
    "#run model with optimize function\n",
    "with MultiprocessingEvaluator(dike_model) as evaluator:\n",
    "    results = evaluator.optimize(nfe=5000, searchover= 'levers', epsilons=0.01)\n",
    "\n"
   ],
   "metadata": {
    "collapsed": false
   }
  },
  {
   "cell_type": "code",
   "execution_count": null,
   "outputs": [],
   "source": [],
   "metadata": {
    "collapsed": false
   }
  }
 ],
 "metadata": {
  "kernelspec": {
   "display_name": "Python 3",
   "language": "python",
   "name": "python3"
  },
  "language_info": {
   "codemirror_mode": {
    "name": "ipython",
    "version": 2
   },
   "file_extension": ".py",
   "mimetype": "text/x-python",
   "name": "python",
   "nbconvert_exporter": "python",
   "pygments_lexer": "ipython2",
   "version": "2.7.6"
  }
 },
 "nbformat": 4,
 "nbformat_minor": 0
}
