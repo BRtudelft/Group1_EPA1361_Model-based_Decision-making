{
 "cells": [
  {
   "cell_type": "markdown",
   "source": [
    "# 2.1.2 Generating alternatives\n",
    "\n",
    "In this file the MOEA optimization algorithm is used to search through the lever space in order to find promising policies.\n",
    "\n",
    "The optimization relies on the *platypus-opt* library.\n",
    "\n",
    "- Define constraints\n",
    "- Create multiple seeds\n",
    "- Create reference set\n",
    "- Check of Convergence\n",
    "\n",
    "- Evt different reference set?"
   ],
   "metadata": {
    "collapsed": false
   }
  },
  {
   "cell_type": "markdown",
   "source": [
    "## 1. Defining objectives and running model\n",
    "For each outcome of interest it is defined whether the objective is to maximize or minimize it.\n",
    "\n",
    "The objectives follow from the problem formulation (2):\n",
    "- Expected damages\n",
    "- Dike investment costs\n",
    "- RfR costs: minimize\n",
    "- Evacuation costs\n",
    "- Casualties\n",
    "\n",
    "In this model, all objectives are seen as costs, and have to be minimized. This minimization is defined in *problem_formulation.py*"
   ],
   "metadata": {
    "collapsed": false
   }
  },
  {
   "cell_type": "markdown",
   "source": [
    "Model is run with the \"optimize\" function. Other kwargs are defined here:\n",
    "- algorithm: $\\epsilon$-NSGA2 (default)\n",
    "- nfe: number of function evaluations (determine conversion)\n",
    "- Searchover: levers\n",
    "- Reference: a scenario (worst case? -> hoe te bepalen??)\n",
    "- Constraints\n",
    "- Epsilons: epsilon distance"
   ],
   "metadata": {
    "collapsed": false
   }
  },
  {
   "cell_type": "code",
   "execution_count": 3,
   "outputs": [],
   "source": [
    "#Remove unused imports\n",
    "from ema_workbench import (Model, RealParameter, ScalarOutcome,\n",
    "                           MultiprocessingEvaluator, ema_logging,\n",
    "                           Constant)\n",
    "\n",
    "from problem_formulation import get_model_for_problem_formulation\n",
    "\n",
    "ema_logging.log_to_stderr(ema_logging.INFO)\n",
    "dike_model, planning_steps = get_model_for_problem_formulation(2)"
   ],
   "metadata": {
    "collapsed": false,
    "ExecuteTime": {
     "start_time": "2023-06-12T15:44:23.271104Z",
     "end_time": "2023-06-12T15:44:23.881512Z"
    }
   }
  },
  {
   "cell_type": "code",
   "execution_count": 4,
   "outputs": [
    {
     "name": "stderr",
     "output_type": "stream",
     "text": [
      "[MainProcess/INFO] pool started with 8 workers\n",
      "[MainProcess/INFO] terminating pool\n"
     ]
    },
    {
     "ename": "TypeError",
     "evalue": "object of type 'float' has no len()",
     "output_type": "error",
     "traceback": [
      "\u001B[1;31m---------------------------------------------------------------------------\u001B[0m",
      "\u001B[1;31mTypeError\u001B[0m                                 Traceback (most recent call last)",
      "Cell \u001B[1;32mIn[4], line 3\u001B[0m\n\u001B[0;32m      1\u001B[0m \u001B[38;5;66;03m#run model with optimize function\u001B[39;00m\n\u001B[0;32m      2\u001B[0m \u001B[38;5;28;01mwith\u001B[39;00m MultiprocessingEvaluator(dike_model) \u001B[38;5;28;01mas\u001B[39;00m evaluator:\n\u001B[1;32m----> 3\u001B[0m     results \u001B[38;5;241m=\u001B[39m \u001B[43mevaluator\u001B[49m\u001B[38;5;241;43m.\u001B[39;49m\u001B[43moptimize\u001B[49m\u001B[43m(\u001B[49m\u001B[43mnfe\u001B[49m\u001B[38;5;241;43m=\u001B[39;49m\u001B[38;5;241;43m5000\u001B[39;49m\u001B[43m,\u001B[49m\u001B[43m \u001B[49m\u001B[43msearchover\u001B[49m\u001B[38;5;241;43m=\u001B[39;49m\u001B[43m \u001B[49m\u001B[38;5;124;43m'\u001B[39;49m\u001B[38;5;124;43mlevers\u001B[39;49m\u001B[38;5;124;43m'\u001B[39;49m\u001B[43m,\u001B[49m\u001B[43m \u001B[49m\u001B[43mepsilons\u001B[49m\u001B[38;5;241;43m=\u001B[39;49m\u001B[38;5;241;43m0.01\u001B[39;49m\u001B[43m)\u001B[49m\n",
      "File \u001B[1;32mC:\\App\\Python\\Lib\\site-packages\\ema_workbench\\em_framework\\evaluators.py:248\u001B[0m, in \u001B[0;36mBaseEvaluator.optimize\u001B[1;34m(self, algorithm, nfe, searchover, reference, constraints, convergence_freq, logging_freq, variator, **kwargs)\u001B[0m\n\u001B[0;32m    230\u001B[0m \u001B[38;5;28;01mdef\u001B[39;00m \u001B[38;5;21moptimize\u001B[39m(\n\u001B[0;32m    231\u001B[0m     \u001B[38;5;28mself\u001B[39m,\n\u001B[0;32m    232\u001B[0m     algorithm\u001B[38;5;241m=\u001B[39mEpsNSGAII,\n\u001B[1;32m   (...)\u001B[0m\n\u001B[0;32m    240\u001B[0m     \u001B[38;5;241m*\u001B[39m\u001B[38;5;241m*\u001B[39mkwargs,\n\u001B[0;32m    241\u001B[0m ):\n\u001B[0;32m    242\u001B[0m \u001B[38;5;250m    \u001B[39m\u001B[38;5;124;03m\"\"\"convenience method for outcome optimization.\u001B[39;00m\n\u001B[0;32m    243\u001B[0m \n\u001B[0;32m    244\u001B[0m \u001B[38;5;124;03m    is forwarded to :func:optimize, with evaluator and models\u001B[39;00m\n\u001B[0;32m    245\u001B[0m \u001B[38;5;124;03m    arguments added in.\u001B[39;00m\n\u001B[0;32m    246\u001B[0m \n\u001B[0;32m    247\u001B[0m \u001B[38;5;124;03m    \"\"\"\u001B[39;00m\n\u001B[1;32m--> 248\u001B[0m     \u001B[38;5;28;01mreturn\u001B[39;00m \u001B[43moptimize\u001B[49m\u001B[43m(\u001B[49m\n\u001B[0;32m    249\u001B[0m \u001B[43m        \u001B[49m\u001B[38;5;28;43mself\u001B[39;49m\u001B[38;5;241;43m.\u001B[39;49m\u001B[43m_msis\u001B[49m\u001B[43m,\u001B[49m\n\u001B[0;32m    250\u001B[0m \u001B[43m        \u001B[49m\u001B[43malgorithm\u001B[49m\u001B[38;5;241;43m=\u001B[39;49m\u001B[43malgorithm\u001B[49m\u001B[43m,\u001B[49m\n\u001B[0;32m    251\u001B[0m \u001B[43m        \u001B[49m\u001B[43mnfe\u001B[49m\u001B[38;5;241;43m=\u001B[39;49m\u001B[38;5;28;43mint\u001B[39;49m\u001B[43m(\u001B[49m\u001B[43mnfe\u001B[49m\u001B[43m)\u001B[49m\u001B[43m,\u001B[49m\n\u001B[0;32m    252\u001B[0m \u001B[43m        \u001B[49m\u001B[43msearchover\u001B[49m\u001B[38;5;241;43m=\u001B[39;49m\u001B[43msearchover\u001B[49m\u001B[43m,\u001B[49m\n\u001B[0;32m    253\u001B[0m \u001B[43m        \u001B[49m\u001B[43mevaluator\u001B[49m\u001B[38;5;241;43m=\u001B[39;49m\u001B[38;5;28;43mself\u001B[39;49m\u001B[43m,\u001B[49m\n\u001B[0;32m    254\u001B[0m \u001B[43m        \u001B[49m\u001B[43mreference\u001B[49m\u001B[38;5;241;43m=\u001B[39;49m\u001B[43mreference\u001B[49m\u001B[43m,\u001B[49m\n\u001B[0;32m    255\u001B[0m \u001B[43m        \u001B[49m\u001B[43mconstraints\u001B[49m\u001B[38;5;241;43m=\u001B[39;49m\u001B[43mconstraints\u001B[49m\u001B[43m,\u001B[49m\n\u001B[0;32m    256\u001B[0m \u001B[43m        \u001B[49m\u001B[43mconvergence_freq\u001B[49m\u001B[38;5;241;43m=\u001B[39;49m\u001B[43mconvergence_freq\u001B[49m\u001B[43m,\u001B[49m\n\u001B[0;32m    257\u001B[0m \u001B[43m        \u001B[49m\u001B[43mlogging_freq\u001B[49m\u001B[38;5;241;43m=\u001B[39;49m\u001B[43mlogging_freq\u001B[49m\u001B[43m,\u001B[49m\n\u001B[0;32m    258\u001B[0m \u001B[43m        \u001B[49m\u001B[43mvariator\u001B[49m\u001B[38;5;241;43m=\u001B[39;49m\u001B[43mvariator\u001B[49m\u001B[43m,\u001B[49m\n\u001B[0;32m    259\u001B[0m \u001B[43m        \u001B[49m\u001B[38;5;241;43m*\u001B[39;49m\u001B[38;5;241;43m*\u001B[39;49m\u001B[43mkwargs\u001B[49m\u001B[43m,\u001B[49m\n\u001B[0;32m    260\u001B[0m \u001B[43m    \u001B[49m\u001B[43m)\u001B[49m\n",
      "File \u001B[1;32mC:\\App\\Python\\Lib\\site-packages\\ema_workbench\\em_framework\\evaluators.py:744\u001B[0m, in \u001B[0;36moptimize\u001B[1;34m(models, algorithm, nfe, searchover, evaluator, reference, convergence, constraints, convergence_freq, logging_freq, variator, **kwargs)\u001B[0m\n\u001B[0;32m    741\u001B[0m \u001B[38;5;28;01mif\u001B[39;00m \u001B[38;5;129;01mnot\u001B[39;00m evaluator:\n\u001B[0;32m    742\u001B[0m     evaluator \u001B[38;5;241m=\u001B[39m SequentialEvaluator(models)\n\u001B[1;32m--> 744\u001B[0m \u001B[38;5;28;01mreturn\u001B[39;00m \u001B[43m_optimize\u001B[49m\u001B[43m(\u001B[49m\n\u001B[0;32m    745\u001B[0m \u001B[43m    \u001B[49m\u001B[43mproblem\u001B[49m\u001B[43m,\u001B[49m\n\u001B[0;32m    746\u001B[0m \u001B[43m    \u001B[49m\u001B[43mevaluator\u001B[49m\u001B[43m,\u001B[49m\n\u001B[0;32m    747\u001B[0m \u001B[43m    \u001B[49m\u001B[43malgorithm\u001B[49m\u001B[43m,\u001B[49m\n\u001B[0;32m    748\u001B[0m \u001B[43m    \u001B[49m\u001B[43mconvergence\u001B[49m\u001B[43m,\u001B[49m\n\u001B[0;32m    749\u001B[0m \u001B[43m    \u001B[49m\u001B[43mnfe\u001B[49m\u001B[43m,\u001B[49m\n\u001B[0;32m    750\u001B[0m \u001B[43m    \u001B[49m\u001B[43mconvergence_freq\u001B[49m\u001B[43m,\u001B[49m\n\u001B[0;32m    751\u001B[0m \u001B[43m    \u001B[49m\u001B[43mlogging_freq\u001B[49m\u001B[43m,\u001B[49m\n\u001B[0;32m    752\u001B[0m \u001B[43m    \u001B[49m\u001B[43mvariator\u001B[49m\u001B[38;5;241;43m=\u001B[39;49m\u001B[43mvariator\u001B[49m\u001B[43m,\u001B[49m\n\u001B[0;32m    753\u001B[0m \u001B[43m    \u001B[49m\u001B[38;5;241;43m*\u001B[39;49m\u001B[38;5;241;43m*\u001B[39;49m\u001B[43mkwargs\u001B[49m\u001B[43m,\u001B[49m\n\u001B[0;32m    754\u001B[0m \u001B[43m\u001B[49m\u001B[43m)\u001B[49m\n",
      "File \u001B[1;32mC:\\App\\Python\\Lib\\site-packages\\ema_workbench\\em_framework\\optimization.py:1048\u001B[0m, in \u001B[0;36m_optimize\u001B[1;34m(problem, evaluator, algorithm, convergence, nfe, convergence_freq, logging_freq, variator, **kwargs)\u001B[0m\n\u001B[0;32m   1046\u001B[0m     \u001B[38;5;28;01mpass\u001B[39;00m\n\u001B[0;32m   1047\u001B[0m \u001B[38;5;28;01melse\u001B[39;00m:\n\u001B[1;32m-> 1048\u001B[0m     \u001B[38;5;28;01mif\u001B[39;00m \u001B[38;5;28;43mlen\u001B[39;49m\u001B[43m(\u001B[49m\u001B[43meps_values\u001B[49m\u001B[43m)\u001B[49m \u001B[38;5;241m!=\u001B[39m \u001B[38;5;28mlen\u001B[39m(problem\u001B[38;5;241m.\u001B[39moutcome_names):\n\u001B[0;32m   1049\u001B[0m         \u001B[38;5;28;01mraise\u001B[39;00m EMAError(\u001B[38;5;124m\"\u001B[39m\u001B[38;5;124mnumber of epsilon values does not match number \u001B[39m\u001B[38;5;124m\"\u001B[39m \u001B[38;5;124m\"\u001B[39m\u001B[38;5;124mof outcomes\u001B[39m\u001B[38;5;124m\"\u001B[39m)\n\u001B[0;32m   1051\u001B[0m \u001B[38;5;28;01mif\u001B[39;00m variator \u001B[38;5;129;01mis\u001B[39;00m \u001B[38;5;28;01mNone\u001B[39;00m:\n",
      "\u001B[1;31mTypeError\u001B[0m: object of type 'float' has no len()"
     ]
    }
   ],
   "source": [
    "#run model with optimize function\n",
    "with MultiprocessingEvaluator(dike_model, n_processes=-1) as evaluator:\n",
    "    results = evaluator.optimize(nfe=5000, searchover= 'levers', epsilons=0.01)"
   ],
   "metadata": {
    "collapsed": false
   }
  },
  {
   "cell_type": "code",
   "execution_count": null,
   "outputs": [],
   "source": [],
   "metadata": {
    "collapsed": false
   }
  }
 ],
 "metadata": {
  "kernelspec": {
   "display_name": "Python 3",
   "language": "python",
   "name": "python3"
  },
  "language_info": {
   "codemirror_mode": {
    "name": "ipython",
    "version": 2
   },
   "file_extension": ".py",
   "mimetype": "text/x-python",
   "name": "python",
   "nbconvert_exporter": "python",
   "pygments_lexer": "ipython2",
   "version": "2.7.6"
  }
 },
 "nbformat": 4,
 "nbformat_minor": 0
}
