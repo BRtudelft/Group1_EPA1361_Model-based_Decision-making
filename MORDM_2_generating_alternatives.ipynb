{
 "cells": [
  {
   "cell_type": "markdown",
   "source": [
    "# Generating alternatives\n",
    "\n",
    "In this file MEOA will be applied:\n",
    "\n",
    "- Define constraints\n",
    "- Create multiple seeds\n",
    "- Create reference set\n",
    "- Check of Convergence\n",
    "\n",
    "- Evt different reference set?"
   ],
   "metadata": {
    "collapsed": false
   }
  }
 ],
 "metadata": {
  "kernelspec": {
   "display_name": "Python 3",
   "language": "python",
   "name": "python3"
  },
  "language_info": {
   "codemirror_mode": {
    "name": "ipython",
    "version": 2
   },
   "file_extension": ".py",
   "mimetype": "text/x-python",
   "name": "python",
   "nbconvert_exporter": "python",
   "pygments_lexer": "ipython2",
   "version": "2.7.6"
  }
 },
 "nbformat": 4,
 "nbformat_minor": 0
}
