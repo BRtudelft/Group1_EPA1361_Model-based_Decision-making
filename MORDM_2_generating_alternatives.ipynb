{
 "cells": [
  {
   "cell_type": "markdown",
   "source": [
    "# 2.1.2 Generating alternatives\n",
    "\n",
    "In this file the MOEA optimization algorithm is used to search through the lever space in order to find promising policies.\n",
    "\n",
    "The optimization relies on the *platypus-opt* library.\n",
    "\n",
    "- Define constraints\n",
    "- Create multiple seeds\n",
    "- Create reference set\n",
    "- Check of Convergence\n",
    "\n",
    "- Evt different reference set?"
   ],
   "metadata": {
    "collapsed": false
   }
  },
  {
   "cell_type": "markdown",
   "source": [
    "## 1. Importing model and defining objectives\n",
    "For each outcome of interest it is defined whether the objective is to maximize or minimize it.\n",
    "\n",
    "The objectives follow from the problem formulation (2):\n",
    "- Expected damages: minimize\n",
    "- Dike investment costs: minimize\n",
    "- RfR costs: minimize\n",
    "- Evacuation costs: minimize\n",
    "- Casualties: minimize"
   ],
   "metadata": {
    "collapsed": false
   }
  },
  {
   "cell_type": "markdown",
   "source": [
    "Set-up the model with defined objectives"
   ],
   "metadata": {
    "collapsed": false
   }
  },
  {
   "cell_type": "code",
   "execution_count": null,
   "outputs": [],
   "source": [
    "from ema_workbench import (Model, RealParameter, ScalarOutcome,\n",
    "                           MultiprocessingEvaluator, ema_logging,\n",
    "                           Constant)\n",
    ")\n",
    "\n",
    "from problem_formulation import get_model_for_problem_formulation\n",
    "\n",
    "ema_logging.log_to_stderr(ema_logging.INFO)"
   ],
   "metadata": {
    "collapsed": false
   }
  },
  {
   "cell_type": "code",
   "execution_count": null,
   "outputs": [],
   "source": [
    "\n"
   ],
   "metadata": {
    "collapsed": false
   }
  },
  {
   "cell_type": "code",
   "execution_count": null,
   "outputs": [],
   "source": [
    "dike_model, planning_steps = get_model_for_problem_formulation(2)\n",
    "\n",
    "dike_model.outcomes = [ScalarOutcome]"
   ],
   "metadata": {
    "collapsed": false
   }
  }
 ],
 "metadata": {
  "kernelspec": {
   "display_name": "Python 3",
   "language": "python",
   "name": "python3"
  },
  "language_info": {
   "codemirror_mode": {
    "name": "ipython",
    "version": 2
   },
   "file_extension": ".py",
   "mimetype": "text/x-python",
   "name": "python",
   "nbconvert_exporter": "python",
   "pygments_lexer": "ipython2",
   "version": "2.7.6"
  }
 },
 "nbformat": 4,
 "nbformat_minor": 0
}
