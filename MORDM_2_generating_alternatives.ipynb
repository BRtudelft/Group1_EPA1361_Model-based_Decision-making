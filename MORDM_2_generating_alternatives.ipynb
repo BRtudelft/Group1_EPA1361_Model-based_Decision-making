{
 "cells": [
  {
   "cell_type": "markdown",
   "source": [
    "# 2.1.2 Generating alternatives\n",
    "\n",
    "In this file the MOEA optimization algorithm is used to search through the lever space in order to find promising policies.\n",
    "\n",
    "The optimization relies on the *platypus-opt* library.\n",
    "\n",
    "- Define constraints\n",
    "- Create multiple seeds\n",
    "- Create reference set\n",
    "- Check of Convergence\n",
    "\n",
    "- Evt different reference set? > moet gebruikt worden op basis van dike_model_optimization"
   ],
   "metadata": {
    "collapsed": false
   }
  },
  {
   "cell_type": "markdown",
   "source": [
    "## 1. Defining objectives and running model\n",
    "For each outcome of interest it is defined whether the objective is to maximize or minimize it.\n",
    "\n",
    "The objectives follow from the problem formulation (2):\n",
    "- Expected damages\n",
    "- Dike investment costs\n",
    "- RfR costs: minimize\n",
    "- Evacuation costs\n",
    "- Casualties\n",
    "\n",
    "In this model, all objectives are seen as costs, and have to be minimized. This minimization is defined in *problem_formulation.py*"
   ],
   "metadata": {
    "collapsed": false
   }
  },
  {
   "cell_type": "markdown",
   "source": [
    "Model is run with the \"optimize\" function. Other kwargs are defined here:\n",
    "- algorithm: $\\epsilon$-NSGA2 (default)\n",
    "- nfe: number of function evaluations (determine conversion)\n",
    "- Searchover: levers\n",
    "- Reference: a scenario (worst case? -> hoe te bepalen??)\n",
    "- Constraints\n",
    "- Epsilons: epsilon distance"
   ],
   "metadata": {
    "collapsed": false
   }
  },
  {
   "cell_type": "code",
   "execution_count": null,
   "outputs": [],
   "source": [
    "#Remove unused imports\n",
    "from ema_workbench import (Model, RealParameter, ScalarOutcome,\n",
    "                           MultiprocessingEvaluator, ema_logging,\n",
    "                           Constant, SequentialEvaluator)\n",
    "\n",
    "\n",
    "from problem_formulation import get_model_for_problem_formulation\n",
    "\n",
    "ema_logging.log_to_stderr(ema_logging.INFO)\n",
    "dike_model, planning_steps = get_model_for_problem_formulation(2)"
   ],
   "metadata": {
    "collapsed": false,
    "ExecuteTime": {
     "start_time": "2023-06-12T16:03:21.012150Z",
     "end_time": "2023-06-12T16:03:24.254887Z"
    }
   }
  },
  {
   "cell_type": "code",
   "execution_count": null,
   "outputs": [],
   "source": [
    "#run model with optimize function\n",
    "with SequentialEvaluator(dike_model) as evaluator:\n",
    "    results = evaluator.optimize(nfe=50, searchover= 'levers', epsilons=[0.1,]*len(dike_model.outcomes))"
   ],
   "metadata": {
    "collapsed": false
   }
  },
  {
   "cell_type": "code",
   "execution_count": null,
   "outputs": [],
   "source": [
    "\n"
   ],
   "metadata": {
    "collapsed": false,
    "ExecuteTime": {
     "start_time": "2023-06-12T16:31:49.621050Z",
     "end_time": "2023-06-12T16:32:49.614762Z"
    }
   }
  },
  {
   "cell_type": "markdown",
   "source": [
    "Error in markdown scenario die gedefinieerd moet worden."
   ],
   "metadata": {
    "collapsed": false
   }
  }
 ],
 "metadata": {
  "kernelspec": {
   "display_name": "Python 3",
   "language": "python",
   "name": "python3"
  },
  "language_info": {
   "codemirror_mode": {
    "name": "ipython",
    "version": 2
   },
   "file_extension": ".py",
   "mimetype": "text/x-python",
   "name": "python",
   "nbconvert_exporter": "python",
   "pygments_lexer": "ipython2",
   "version": "2.7.6"
  }
 },
 "nbformat": 4,
 "nbformat_minor": 0
}
