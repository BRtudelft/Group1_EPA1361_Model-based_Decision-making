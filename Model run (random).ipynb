{
 "cells": [
  {
   "cell_type": "markdown",
   "source": [
    "Imports"
   ],
   "metadata": {
    "collapsed": false
   }
  },
  {
   "cell_type": "code",
   "execution_count": 1,
   "outputs": [
    {
     "name": "stdout",
     "output_type": "stream",
     "text": [
      "2.0.1\n",
      "3.1\n"
     ]
    }
   ],
   "source": [
    "import pandas as pd\n",
    "import matplotlib.pyplot as plt\n",
    "import seaborn as sns\n",
    "import networkx as nx\n",
    "\n",
    "# make sure pandas is version 1.0 or higher\n",
    "# make sure networkx is verion 2.4 or higher\n",
    "print(pd.__version__)\n",
    "print(nx.__version__)"
   ],
   "metadata": {
    "collapsed": false,
    "ExecuteTime": {
     "start_time": "2023-06-12T11:03:22.723082Z",
     "end_time": "2023-06-12T11:03:22.865915Z"
    }
   }
  },
  {
   "cell_type": "code",
   "execution_count": 2,
   "outputs": [],
   "source": [
    "from ema_workbench import (\n",
    "    Model,\n",
    "    Policy,\n",
    "    ema_logging,\n",
    "    SequentialEvaluator,\n",
    "    MultiprocessingEvaluator,\n",
    ")\n",
    "from dike_model_function import DikeNetwork  # @UnresolvedImport\n",
    "from problem_formulation import get_model_for_problem_formulation, sum_over, sum_over_time\n"
   ],
   "metadata": {
    "collapsed": false,
    "ExecuteTime": {
     "start_time": "2023-06-12T11:03:23.734202Z",
     "end_time": "2023-06-12T11:03:24.913905Z"
    }
   }
  },
  {
   "cell_type": "markdown",
   "source": [
    "Problem formulation"
   ],
   "metadata": {
    "collapsed": false
   }
  },
  {
   "cell_type": "code",
   "execution_count": 3,
   "outputs": [],
   "source": [
    "ema_logging.log_to_stderr(ema_logging.INFO)\n",
    "\n",
    "# choose problem formulation number, between 0-5\n",
    "# each problem formulation has its own list of outcomes\n",
    "dike_model, planning_steps = get_model_for_problem_formulation(2)"
   ],
   "metadata": {
    "collapsed": false,
    "ExecuteTime": {
     "start_time": "2023-06-12T11:03:26.054292Z",
     "end_time": "2023-06-12T11:03:26.331991Z"
    }
   }
  },
  {
   "cell_type": "markdown",
   "source": [
    "Model zero policies"
   ],
   "metadata": {
    "collapsed": false,
    "ExecuteTime": {
     "start_time": "2023-06-12T11:03:26.730369Z",
     "end_time": "2023-06-12T11:03:26.730878Z"
    }
   },
   "outputs": [],
   "execution_count": 4
  },
  {
   "cell_type": "markdown",
   "source": [
    "Run model #1:\n",
    "\n",
    "Assumptions:\n",
    "Scenario's: 2000\n",
    "Policy's: 0"
   ],
   "metadata": {
    "collapsed": false
   }
  },
  {
   "cell_type": "code",
   "execution_count": null,
   "outputs": [
    {
     "name": "stderr",
     "output_type": "stream",
     "text": [
      "[MainProcess/INFO] pool started with 12 workers\n",
      "[MainProcess/INFO] performing 2000 scenarios * 1 policies * 1 model(s) = 2000 experiments\n",
      "  0%|                                                 | 0/2000 [00:00<?, ?it/s]"
     ]
    }
   ],
   "source": [
    "scenarios_base = 2000\n"
   ],
   "metadata": {
    "collapsed": false,
    "ExecuteTime": {
     "start_time": "2023-06-12T11:00:44.343151Z",
     "end_time": "2023-06-12T11:00:44.355579Z"
    }
   }
  },
  {
   "cell_type": "code",
   "execution_count": null,
   "outputs": [
    {
     "name": "stderr",
     "output_type": "stream",
     "text": [
      "[MainProcess/INFO] pool started with 12 workers\n",
      "[MainProcess/INFO] performing 2000 scenarios * 1 policies * 1 model(s) = 2000 experiments\n",
      " 19%|███████▍                               | 383/2000 [00:41<03:59,  6.76it/s]"
     ]
    }
   ],
   "source": [
    "# running the model through EMA workbench\n",
    "with MultiprocessingEvaluator(dike_model) as evaluator:\n",
    "    results_base = evaluator.perform_experiments(scenarios_base)"
   ],
   "metadata": {
    "collapsed": false,
    "ExecuteTime": {
     "start_time": "2023-06-12T10:52:00.413648Z",
     "end_time": "2023-06-12T10:55:53.468176Z"
    },
    "pycharm": {
     "is_executing": true
    }
   }
  },
  {
   "cell_type": "markdown",
   "source": [
    "Results 2000 scenarios / 5 policies (saved to csv)"
   ],
   "metadata": {
    "collapsed": false,
    "ExecuteTime": {
     "start_time": "2023-06-12T11:03:32.555698Z",
     "end_time": "2023-06-12T11:07:27.101041Z"
    }
   },
   "outputs": [
    {
     "name": "stderr",
     "output_type": "stream",
     "text": [
      "100%|██████████████████████████████████████| 2000/2000 [03:30<00:00,  9.48it/s]\n",
      "[MainProcess/INFO] experiments finished\n",
      "[MainProcess/INFO] terminating pool\n"
     ]
    }
   ],
   "execution_count": 5
  },
  {
   "cell_type": "code",
   "execution_count": null,
   "outputs": [],
   "source": [
    "experiments_base, outcomes_base = results_base\n",
    "policies = experiments_base['policy']\n",
    "outcomes_2000s_0p = pd.DataFrame.from_dict(outcomes_base)\n",
    "outcomes_2000s_0p['policy'] = policies\n"
   ],
   "metadata": {
    "collapsed": false,
    "ExecuteTime": {
     "start_time": "2023-06-12T10:57:11.635003Z",
     "end_time": "2023-06-12T10:57:11.648352Z"
    }
   }
  },
  {
   "cell_type": "code",
   "execution_count": 6,
   "outputs": [],
   "source": [
    "outcomes_2000s_0p"
   ],
   "metadata": {
    "collapsed": false,
    "ExecuteTime": {
     "start_time": "2023-06-12T11:07:34.956260Z",
     "end_time": "2023-06-12T11:07:34.964588Z"
    }
   }
  },
  {
   "cell_type": "code",
   "execution_count": 7,
   "outputs": [
    {
     "data": {
      "text/plain": "      Expected Annual Damage  Dike Investment Costs  RfR Investment Costs   \n0               8.646864e+08                      0                   0.0  \\\n1               2.660687e+08                      0                   0.0   \n2               8.017452e+08                      0                   0.0   \n3               3.292796e+08                      0                   0.0   \n4               1.292315e+09                      0                   0.0   \n...                      ...                    ...                   ...   \n1995            7.784940e+08                      0                   0.0   \n1996            2.315788e+09                      0                   0.0   \n1997            1.747601e+09                      0                   0.0   \n1998            2.833890e+09                      0                   0.0   \n1999            2.989025e+09                      0                   0.0   \n\n      Evacuation Costs  Expected Number of Deaths    policy  \n0                  0.0                   0.869460  policy 0  \n1                  0.0                   0.285667  policy 0  \n2                  0.0                   0.846650  policy 0  \n3                  0.0                   0.364474  policy 0  \n4                  0.0                   1.093121  policy 0  \n...                ...                        ...       ...  \n1995               0.0                   1.560618  policy 0  \n1996               0.0                   1.968372  policy 0  \n1997               0.0                   3.729163  policy 0  \n1998               0.0                   1.966087  policy 0  \n1999               0.0                   1.979330  policy 0  \n\n[2000 rows x 6 columns]",
      "text/html": "<div>\n<style scoped>\n    .dataframe tbody tr th:only-of-type {\n        vertical-align: middle;\n    }\n\n    .dataframe tbody tr th {\n        vertical-align: top;\n    }\n\n    .dataframe thead th {\n        text-align: right;\n    }\n</style>\n<table border=\"1\" class=\"dataframe\">\n  <thead>\n    <tr style=\"text-align: right;\">\n      <th></th>\n      <th>Expected Annual Damage</th>\n      <th>Dike Investment Costs</th>\n      <th>RfR Investment Costs</th>\n      <th>Evacuation Costs</th>\n      <th>Expected Number of Deaths</th>\n      <th>policy</th>\n    </tr>\n  </thead>\n  <tbody>\n    <tr>\n      <th>0</th>\n      <td>8.646864e+08</td>\n      <td>0</td>\n      <td>0.0</td>\n      <td>0.0</td>\n      <td>0.869460</td>\n      <td>policy 0</td>\n    </tr>\n    <tr>\n      <th>1</th>\n      <td>2.660687e+08</td>\n      <td>0</td>\n      <td>0.0</td>\n      <td>0.0</td>\n      <td>0.285667</td>\n      <td>policy 0</td>\n    </tr>\n    <tr>\n      <th>2</th>\n      <td>8.017452e+08</td>\n      <td>0</td>\n      <td>0.0</td>\n      <td>0.0</td>\n      <td>0.846650</td>\n      <td>policy 0</td>\n    </tr>\n    <tr>\n      <th>3</th>\n      <td>3.292796e+08</td>\n      <td>0</td>\n      <td>0.0</td>\n      <td>0.0</td>\n      <td>0.364474</td>\n      <td>policy 0</td>\n    </tr>\n    <tr>\n      <th>4</th>\n      <td>1.292315e+09</td>\n      <td>0</td>\n      <td>0.0</td>\n      <td>0.0</td>\n      <td>1.093121</td>\n      <td>policy 0</td>\n    </tr>\n    <tr>\n      <th>...</th>\n      <td>...</td>\n      <td>...</td>\n      <td>...</td>\n      <td>...</td>\n      <td>...</td>\n      <td>...</td>\n    </tr>\n    <tr>\n      <th>1995</th>\n      <td>7.784940e+08</td>\n      <td>0</td>\n      <td>0.0</td>\n      <td>0.0</td>\n      <td>1.560618</td>\n      <td>policy 0</td>\n    </tr>\n    <tr>\n      <th>1996</th>\n      <td>2.315788e+09</td>\n      <td>0</td>\n      <td>0.0</td>\n      <td>0.0</td>\n      <td>1.968372</td>\n      <td>policy 0</td>\n    </tr>\n    <tr>\n      <th>1997</th>\n      <td>1.747601e+09</td>\n      <td>0</td>\n      <td>0.0</td>\n      <td>0.0</td>\n      <td>3.729163</td>\n      <td>policy 0</td>\n    </tr>\n    <tr>\n      <th>1998</th>\n      <td>2.833890e+09</td>\n      <td>0</td>\n      <td>0.0</td>\n      <td>0.0</td>\n      <td>1.966087</td>\n      <td>policy 0</td>\n    </tr>\n    <tr>\n      <th>1999</th>\n      <td>2.989025e+09</td>\n      <td>0</td>\n      <td>0.0</td>\n      <td>0.0</td>\n      <td>1.979330</td>\n      <td>policy 0</td>\n    </tr>\n  </tbody>\n</table>\n<p>2000 rows × 6 columns</p>\n</div>"
     },
     "execution_count": 7,
     "metadata": {},
     "output_type": "execute_result"
    }
   ],
   "source": [
    "experiments_2000s_0p = experiments_base\n",
    "experiments_2000s_0p"
   ],
   "metadata": {
    "collapsed": false,
    "ExecuteTime": {
     "start_time": "2023-06-12T11:07:36.894452Z",
     "end_time": "2023-06-12T11:07:36.925366Z"
    }
   }
  },
  {
   "cell_type": "code",
   "execution_count": 8,
   "outputs": [
    {
     "data": {
      "text/plain": "      A.0_ID flood wave shape    A.1_Bmax A.1_Brate  A.1_pfail    A.2_Bmax   \n0                          84  164.274511       1.0   0.949851   58.548699  \\\n1                          42  200.897691      10.0   0.522919  282.236770   \n2                          91  151.379291       1.0   0.637352  347.562713   \n3                          72   79.879978       1.5   0.975691  108.855610   \n4                           8  265.767939       1.5   0.671629  198.942695   \n...                       ...         ...       ...        ...         ...   \n1995                      105  229.670512       1.0   0.812811  327.844227   \n1996                       96  318.318031       1.5   0.228975   36.948645   \n1997                       20  218.629078       1.5   0.482427   60.275735   \n1998                       23  221.821813       1.5   0.301325  169.236136   \n1999                       55  130.134737       1.5   0.292434   62.287573   \n\n     A.2_Brate  A.2_pfail    A.3_Bmax A.3_Brate  A.3_pfail  ...   \n0         10.0   0.064068  113.535959       1.0   0.519153  ...  \\\n1          1.5   0.630840  179.779106       1.5   0.615315  ...   \n2          1.5   0.910432  323.305677       1.0   0.814906  ...   \n3          1.5   0.341126   66.962162       1.0   0.447662  ...   \n4          1.0   0.718784  232.984803      10.0   0.526453  ...   \n...        ...        ...         ...       ...        ...  ...   \n1995       1.5   0.851433  163.521026      10.0   0.264583  ...   \n1996      10.0   0.296516  271.906091      10.0   0.286040  ...   \n1997       1.5   0.554591  104.757727      10.0   0.149467  ...   \n1998       1.5   0.384542   69.794722      10.0   0.618815  ...   \n1999       1.5   0.262501  173.087013      10.0   0.437810  ...   \n\n      A.3_DikeIncrease 2 A.4_DikeIncrease 0  A.4_DikeIncrease 1   \n0                      0                  0                   0  \\\n1                      0                  0                   0   \n2                      0                  0                   0   \n3                      0                  0                   0   \n4                      0                  0                   0   \n...                  ...                ...                 ...   \n1995                   0                  0                   0   \n1996                   0                  0                   0   \n1997                   0                  0                   0   \n1998                   0                  0                   0   \n1999                   0                  0                   0   \n\n      A.4_DikeIncrease 2 A.5_DikeIncrease 0  A.5_DikeIncrease 1   \n0                      0                  0                   0  \\\n1                      0                  0                   0   \n2                      0                  0                   0   \n3                      0                  0                   0   \n4                      0                  0                   0   \n...                  ...                ...                 ...   \n1995                   0                  0                   0   \n1996                   0                  0                   0   \n1997                   0                  0                   0   \n1998                   0                  0                   0   \n1999                   0                  0                   0   \n\n     A.5_DikeIncrease 2 scenario    policy     model  \n0                     0        0  policy 0  dikesnet  \n1                     0        1  policy 0  dikesnet  \n2                     0        2  policy 0  dikesnet  \n3                     0        3  policy 0  dikesnet  \n4                     0        4  policy 0  dikesnet  \n...                 ...      ...       ...       ...  \n1995                  0     1995  policy 0  dikesnet  \n1996                  0     1996  policy 0  dikesnet  \n1997                  0     1997  policy 0  dikesnet  \n1998                  0     1998  policy 0  dikesnet  \n1999                  0     1999  policy 0  dikesnet  \n\n[2000 rows x 53 columns]",
      "text/html": "<div>\n<style scoped>\n    .dataframe tbody tr th:only-of-type {\n        vertical-align: middle;\n    }\n\n    .dataframe tbody tr th {\n        vertical-align: top;\n    }\n\n    .dataframe thead th {\n        text-align: right;\n    }\n</style>\n<table border=\"1\" class=\"dataframe\">\n  <thead>\n    <tr style=\"text-align: right;\">\n      <th></th>\n      <th>A.0_ID flood wave shape</th>\n      <th>A.1_Bmax</th>\n      <th>A.1_Brate</th>\n      <th>A.1_pfail</th>\n      <th>A.2_Bmax</th>\n      <th>A.2_Brate</th>\n      <th>A.2_pfail</th>\n      <th>A.3_Bmax</th>\n      <th>A.3_Brate</th>\n      <th>A.3_pfail</th>\n      <th>...</th>\n      <th>A.3_DikeIncrease 2</th>\n      <th>A.4_DikeIncrease 0</th>\n      <th>A.4_DikeIncrease 1</th>\n      <th>A.4_DikeIncrease 2</th>\n      <th>A.5_DikeIncrease 0</th>\n      <th>A.5_DikeIncrease 1</th>\n      <th>A.5_DikeIncrease 2</th>\n      <th>scenario</th>\n      <th>policy</th>\n      <th>model</th>\n    </tr>\n  </thead>\n  <tbody>\n    <tr>\n      <th>0</th>\n      <td>84</td>\n      <td>164.274511</td>\n      <td>1.0</td>\n      <td>0.949851</td>\n      <td>58.548699</td>\n      <td>10.0</td>\n      <td>0.064068</td>\n      <td>113.535959</td>\n      <td>1.0</td>\n      <td>0.519153</td>\n      <td>...</td>\n      <td>0</td>\n      <td>0</td>\n      <td>0</td>\n      <td>0</td>\n      <td>0</td>\n      <td>0</td>\n      <td>0</td>\n      <td>0</td>\n      <td>policy 0</td>\n      <td>dikesnet</td>\n    </tr>\n    <tr>\n      <th>1</th>\n      <td>42</td>\n      <td>200.897691</td>\n      <td>10.0</td>\n      <td>0.522919</td>\n      <td>282.236770</td>\n      <td>1.5</td>\n      <td>0.630840</td>\n      <td>179.779106</td>\n      <td>1.5</td>\n      <td>0.615315</td>\n      <td>...</td>\n      <td>0</td>\n      <td>0</td>\n      <td>0</td>\n      <td>0</td>\n      <td>0</td>\n      <td>0</td>\n      <td>0</td>\n      <td>1</td>\n      <td>policy 0</td>\n      <td>dikesnet</td>\n    </tr>\n    <tr>\n      <th>2</th>\n      <td>91</td>\n      <td>151.379291</td>\n      <td>1.0</td>\n      <td>0.637352</td>\n      <td>347.562713</td>\n      <td>1.5</td>\n      <td>0.910432</td>\n      <td>323.305677</td>\n      <td>1.0</td>\n      <td>0.814906</td>\n      <td>...</td>\n      <td>0</td>\n      <td>0</td>\n      <td>0</td>\n      <td>0</td>\n      <td>0</td>\n      <td>0</td>\n      <td>0</td>\n      <td>2</td>\n      <td>policy 0</td>\n      <td>dikesnet</td>\n    </tr>\n    <tr>\n      <th>3</th>\n      <td>72</td>\n      <td>79.879978</td>\n      <td>1.5</td>\n      <td>0.975691</td>\n      <td>108.855610</td>\n      <td>1.5</td>\n      <td>0.341126</td>\n      <td>66.962162</td>\n      <td>1.0</td>\n      <td>0.447662</td>\n      <td>...</td>\n      <td>0</td>\n      <td>0</td>\n      <td>0</td>\n      <td>0</td>\n      <td>0</td>\n      <td>0</td>\n      <td>0</td>\n      <td>3</td>\n      <td>policy 0</td>\n      <td>dikesnet</td>\n    </tr>\n    <tr>\n      <th>4</th>\n      <td>8</td>\n      <td>265.767939</td>\n      <td>1.5</td>\n      <td>0.671629</td>\n      <td>198.942695</td>\n      <td>1.0</td>\n      <td>0.718784</td>\n      <td>232.984803</td>\n      <td>10.0</td>\n      <td>0.526453</td>\n      <td>...</td>\n      <td>0</td>\n      <td>0</td>\n      <td>0</td>\n      <td>0</td>\n      <td>0</td>\n      <td>0</td>\n      <td>0</td>\n      <td>4</td>\n      <td>policy 0</td>\n      <td>dikesnet</td>\n    </tr>\n    <tr>\n      <th>...</th>\n      <td>...</td>\n      <td>...</td>\n      <td>...</td>\n      <td>...</td>\n      <td>...</td>\n      <td>...</td>\n      <td>...</td>\n      <td>...</td>\n      <td>...</td>\n      <td>...</td>\n      <td>...</td>\n      <td>...</td>\n      <td>...</td>\n      <td>...</td>\n      <td>...</td>\n      <td>...</td>\n      <td>...</td>\n      <td>...</td>\n      <td>...</td>\n      <td>...</td>\n      <td>...</td>\n    </tr>\n    <tr>\n      <th>1995</th>\n      <td>105</td>\n      <td>229.670512</td>\n      <td>1.0</td>\n      <td>0.812811</td>\n      <td>327.844227</td>\n      <td>1.5</td>\n      <td>0.851433</td>\n      <td>163.521026</td>\n      <td>10.0</td>\n      <td>0.264583</td>\n      <td>...</td>\n      <td>0</td>\n      <td>0</td>\n      <td>0</td>\n      <td>0</td>\n      <td>0</td>\n      <td>0</td>\n      <td>0</td>\n      <td>1995</td>\n      <td>policy 0</td>\n      <td>dikesnet</td>\n    </tr>\n    <tr>\n      <th>1996</th>\n      <td>96</td>\n      <td>318.318031</td>\n      <td>1.5</td>\n      <td>0.228975</td>\n      <td>36.948645</td>\n      <td>10.0</td>\n      <td>0.296516</td>\n      <td>271.906091</td>\n      <td>10.0</td>\n      <td>0.286040</td>\n      <td>...</td>\n      <td>0</td>\n      <td>0</td>\n      <td>0</td>\n      <td>0</td>\n      <td>0</td>\n      <td>0</td>\n      <td>0</td>\n      <td>1996</td>\n      <td>policy 0</td>\n      <td>dikesnet</td>\n    </tr>\n    <tr>\n      <th>1997</th>\n      <td>20</td>\n      <td>218.629078</td>\n      <td>1.5</td>\n      <td>0.482427</td>\n      <td>60.275735</td>\n      <td>1.5</td>\n      <td>0.554591</td>\n      <td>104.757727</td>\n      <td>10.0</td>\n      <td>0.149467</td>\n      <td>...</td>\n      <td>0</td>\n      <td>0</td>\n      <td>0</td>\n      <td>0</td>\n      <td>0</td>\n      <td>0</td>\n      <td>0</td>\n      <td>1997</td>\n      <td>policy 0</td>\n      <td>dikesnet</td>\n    </tr>\n    <tr>\n      <th>1998</th>\n      <td>23</td>\n      <td>221.821813</td>\n      <td>1.5</td>\n      <td>0.301325</td>\n      <td>169.236136</td>\n      <td>1.5</td>\n      <td>0.384542</td>\n      <td>69.794722</td>\n      <td>10.0</td>\n      <td>0.618815</td>\n      <td>...</td>\n      <td>0</td>\n      <td>0</td>\n      <td>0</td>\n      <td>0</td>\n      <td>0</td>\n      <td>0</td>\n      <td>0</td>\n      <td>1998</td>\n      <td>policy 0</td>\n      <td>dikesnet</td>\n    </tr>\n    <tr>\n      <th>1999</th>\n      <td>55</td>\n      <td>130.134737</td>\n      <td>1.5</td>\n      <td>0.292434</td>\n      <td>62.287573</td>\n      <td>1.5</td>\n      <td>0.262501</td>\n      <td>173.087013</td>\n      <td>10.0</td>\n      <td>0.437810</td>\n      <td>...</td>\n      <td>0</td>\n      <td>0</td>\n      <td>0</td>\n      <td>0</td>\n      <td>0</td>\n      <td>0</td>\n      <td>0</td>\n      <td>1999</td>\n      <td>policy 0</td>\n      <td>dikesnet</td>\n    </tr>\n  </tbody>\n</table>\n<p>2000 rows × 53 columns</p>\n</div>"
     },
     "execution_count": 8,
     "metadata": {},
     "output_type": "execute_result"
    }
   ],
   "source": [
    "outcomes_2000s_0p.to_csv('output_data/outcomes_2000s_0p.csv')\n",
    "experiments_2000s_0p.to_csv('output_data/experiments_2000s_0p.csv')"
   ],
   "metadata": {
    "collapsed": false,
    "ExecuteTime": {
     "start_time": "2023-06-12T11:07:37.843641Z",
     "end_time": "2023-06-12T11:07:37.872765Z"
    }
   }
  },
  {
   "cell_type": "markdown",
   "source": [
    "Model random policies"
   ],
   "metadata": {
    "collapsed": false,
    "ExecuteTime": {
     "start_time": "2023-06-12T11:07:38.947613Z",
     "end_time": "2023-06-12T11:07:39.023094Z"
    }
   },
   "outputs": [],
   "execution_count": 9
  },
  {
   "cell_type": "code",
   "execution_count": 10,
   "outputs": [
    {
     "data": {
      "text/plain": "      Unnamed: 0  Expected Annual Damage  Dike Investment Costs   \n0              0            8.646864e+08                      0  \\\n1              1            2.660687e+08                      0   \n2              2            8.017452e+08                      0   \n3              3            3.292796e+08                      0   \n4              4            1.292315e+09                      0   \n...          ...                     ...                    ...   \n1995        1995            7.784940e+08                      0   \n1996        1996            2.315788e+09                      0   \n1997        1997            1.747601e+09                      0   \n1998        1998            2.833890e+09                      0   \n1999        1999            2.989025e+09                      0   \n\n      RfR Investment Costs  Evacuation Costs  Expected Number of Deaths   \n0                      0.0               0.0                   0.869460  \\\n1                      0.0               0.0                   0.285667   \n2                      0.0               0.0                   0.846650   \n3                      0.0               0.0                   0.364474   \n4                      0.0               0.0                   1.093121   \n...                    ...               ...                        ...   \n1995                   0.0               0.0                   1.560618   \n1996                   0.0               0.0                   1.968372   \n1997                   0.0               0.0                   3.729163   \n1998                   0.0               0.0                   1.966087   \n1999                   0.0               0.0                   1.979330   \n\n        policy  \n0     policy 0  \n1     policy 0  \n2     policy 0  \n3     policy 0  \n4     policy 0  \n...        ...  \n1995  policy 0  \n1996  policy 0  \n1997  policy 0  \n1998  policy 0  \n1999  policy 0  \n\n[2000 rows x 7 columns]",
      "text/html": "<div>\n<style scoped>\n    .dataframe tbody tr th:only-of-type {\n        vertical-align: middle;\n    }\n\n    .dataframe tbody tr th {\n        vertical-align: top;\n    }\n\n    .dataframe thead th {\n        text-align: right;\n    }\n</style>\n<table border=\"1\" class=\"dataframe\">\n  <thead>\n    <tr style=\"text-align: right;\">\n      <th></th>\n      <th>Unnamed: 0</th>\n      <th>Expected Annual Damage</th>\n      <th>Dike Investment Costs</th>\n      <th>RfR Investment Costs</th>\n      <th>Evacuation Costs</th>\n      <th>Expected Number of Deaths</th>\n      <th>policy</th>\n    </tr>\n  </thead>\n  <tbody>\n    <tr>\n      <th>0</th>\n      <td>0</td>\n      <td>8.646864e+08</td>\n      <td>0</td>\n      <td>0.0</td>\n      <td>0.0</td>\n      <td>0.869460</td>\n      <td>policy 0</td>\n    </tr>\n    <tr>\n      <th>1</th>\n      <td>1</td>\n      <td>2.660687e+08</td>\n      <td>0</td>\n      <td>0.0</td>\n      <td>0.0</td>\n      <td>0.285667</td>\n      <td>policy 0</td>\n    </tr>\n    <tr>\n      <th>2</th>\n      <td>2</td>\n      <td>8.017452e+08</td>\n      <td>0</td>\n      <td>0.0</td>\n      <td>0.0</td>\n      <td>0.846650</td>\n      <td>policy 0</td>\n    </tr>\n    <tr>\n      <th>3</th>\n      <td>3</td>\n      <td>3.292796e+08</td>\n      <td>0</td>\n      <td>0.0</td>\n      <td>0.0</td>\n      <td>0.364474</td>\n      <td>policy 0</td>\n    </tr>\n    <tr>\n      <th>4</th>\n      <td>4</td>\n      <td>1.292315e+09</td>\n      <td>0</td>\n      <td>0.0</td>\n      <td>0.0</td>\n      <td>1.093121</td>\n      <td>policy 0</td>\n    </tr>\n    <tr>\n      <th>...</th>\n      <td>...</td>\n      <td>...</td>\n      <td>...</td>\n      <td>...</td>\n      <td>...</td>\n      <td>...</td>\n      <td>...</td>\n    </tr>\n    <tr>\n      <th>1995</th>\n      <td>1995</td>\n      <td>7.784940e+08</td>\n      <td>0</td>\n      <td>0.0</td>\n      <td>0.0</td>\n      <td>1.560618</td>\n      <td>policy 0</td>\n    </tr>\n    <tr>\n      <th>1996</th>\n      <td>1996</td>\n      <td>2.315788e+09</td>\n      <td>0</td>\n      <td>0.0</td>\n      <td>0.0</td>\n      <td>1.968372</td>\n      <td>policy 0</td>\n    </tr>\n    <tr>\n      <th>1997</th>\n      <td>1997</td>\n      <td>1.747601e+09</td>\n      <td>0</td>\n      <td>0.0</td>\n      <td>0.0</td>\n      <td>3.729163</td>\n      <td>policy 0</td>\n    </tr>\n    <tr>\n      <th>1998</th>\n      <td>1998</td>\n      <td>2.833890e+09</td>\n      <td>0</td>\n      <td>0.0</td>\n      <td>0.0</td>\n      <td>1.966087</td>\n      <td>policy 0</td>\n    </tr>\n    <tr>\n      <th>1999</th>\n      <td>1999</td>\n      <td>2.989025e+09</td>\n      <td>0</td>\n      <td>0.0</td>\n      <td>0.0</td>\n      <td>1.979330</td>\n      <td>policy 0</td>\n    </tr>\n  </tbody>\n</table>\n<p>2000 rows × 7 columns</p>\n</div>"
     },
     "execution_count": 10,
     "metadata": {},
     "output_type": "execute_result"
    }
   ],
   "source": [
    "# Run model #2:\n",
    "#\n",
    "# Assumptions:\n",
    "# Scenarios: 2000\n",
    "# Policies: 500"
   ],
   "metadata": {
    "collapsed": false,
    "ExecuteTime": {
     "start_time": "2023-06-12T11:07:39.805004Z",
     "end_time": "2023-06-12T11:07:39.831089Z"
    }
   }
  },
  {
   "cell_type": "code",
   "execution_count": null,
   "outputs": [],
   "source": [
    "# scenarios = 2000\n",
    "# policies = 5"
   ],
   "metadata": {
    "collapsed": false
   }
  },
  {
   "cell_type": "code",
   "execution_count": null,
   "outputs": [],
   "source": [
    "# # running the model through EMA workbench\n",
    "# with MultiprocessingEvaluator(dike_model) as evaluator:\n",
    "#     results_base = evaluator.perform_experiments(scenarios, policies)"
   ],
   "metadata": {
    "collapsed": false
   }
  },
  {
   "cell_type": "markdown",
   "source": [
    "Results 2000 scenarios / 5 policies (saved to csv)"
   ],
   "metadata": {
    "collapsed": false
   },
   "outputs": []
  },
  {
   "cell_type": "code",
   "execution_count": null,
   "outputs": [],
   "source": [
    "# experiments, outcomes = results\n",
    "# policies = experiments['policy']\n",
    "# outcomes_random_2000s_5p = pd.DataFrame.from_dict(outcomes)\n",
    "# outcomes_random_2000s_5p['policy'] = policies"
   ],
   "metadata": {
    "collapsed": false
   }
  },
  {
   "cell_type": "code",
   "execution_count": null,
   "outputs": [],
   "source": [
    "# outcomes_random_2000s_5p"
   ],
   "metadata": {
    "collapsed": false
   }
  },
  {
   "cell_type": "code",
   "execution_count": null,
   "outputs": [],
   "source": [
    "# experiments_random_2000s_5p = experiments\n",
    "# experiments_random_2000s_5p"
   ],
   "metadata": {
    "collapsed": false
   }
  },
  {
   "cell_type": "code",
   "execution_count": null,
   "outputs": [],
   "source": [
    "# outcomes_random_2000s_5p.to_csv('output_data/outcomes_random_2000s_5p.csv')\n",
    "# experiments_random_2000s_5p.to_csv('output_data/experiments_random_2000s_5p.csv')"
   ],
   "metadata": {
    "collapsed": false
   }
  }
 ],
 "metadata": {
  "kernelspec": {
   "display_name": "Python 3",
   "language": "python",
   "name": "python3"
  },
  "language_info": {
   "codemirror_mode": {
    "name": "ipython",
    "version": 2
   },
   "file_extension": ".py",
   "mimetype": "text/x-python",
   "name": "python",
   "nbconvert_exporter": "python",
   "pygments_lexer": "ipython2",
   "version": "2.7.6"
  }
 },
 "nbformat": 4,
 "nbformat_minor": 0
}
