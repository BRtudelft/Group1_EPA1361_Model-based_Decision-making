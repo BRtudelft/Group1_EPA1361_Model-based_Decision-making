{
 "cells": [
  {
   "cell_type": "markdown",
   "source": [
    "# Directed Search: Scenario discovery & trade-off analysis\n",
    "\n",
    "Scenario discovery and trade-off analysis are used to detect the vulnerabilities of candidate solutions. Patient Rule Induction Method (PRIM) is used to identify policy vulnerabilities. For this analysis the results of the uncertainty analysis model simulation is used. In this simulation, the 9 policies of interest are evaluated under 5000 scenarios.\n",
    "\n"
   ],
   "metadata": {
    "collapsed": false
   }
  },
  {
   "cell_type": "code",
   "execution_count": 11,
   "outputs": [],
   "source": [
    "# Imports\n",
    "import pandas as pd\n",
    "import matplotlib.pyplot as plt\n",
    "import seaborn as sns\n",
    "import numpy as np\n",
    "\n",
    "from ema_workbench.analysis import prim\n",
    "from ema_workbench import ema_logging\n",
    "ema_logging.log_to_stderr(ema_logging.INFO)\n",
    "from ema_workbench import MultiprocessingEvaluator, ema_logging\n",
    "from ema_workbench import Samplers\n",
    "from ema_workbench.em_framework import get_SALib_problem\n",
    "from problem_formulation import get_model_for_problem_formulation\n",
    "import matplotlib.pyplot as plt\n"
   ],
   "metadata": {
    "collapsed": false,
    "ExecuteTime": {
     "start_time": "2023-06-20T10:49:45.464512Z",
     "end_time": "2023-06-20T10:49:45.884201Z"
    }
   }
  },
  {
   "cell_type": "code",
   "execution_count": 12,
   "outputs": [],
   "source": [
    "from SALib.analyze.sobol import analyze"
   ],
   "metadata": {
    "collapsed": false,
    "ExecuteTime": {
     "start_time": "2023-06-20T10:49:45.482945Z",
     "end_time": "2023-06-20T10:49:46.039596Z"
    }
   }
  },
  {
   "cell_type": "markdown",
   "source": [
    "### Importing results"
   ],
   "metadata": {
    "collapsed": false
   }
  },
  {
   "cell_type": "code",
   "execution_count": 13,
   "outputs": [],
   "source": [
    "experiments = pd.read_csv('data/output_data/experiments_uncertainty_simulation_5000s.csv')\n",
    "outcomes = pd.read_csv('data/output_data/outcomes_uncertainty_simulation_5000s.csv')"
   ],
   "metadata": {
    "collapsed": false,
    "ExecuteTime": {
     "start_time": "2023-06-20T10:49:45.495850Z",
     "end_time": "2023-06-20T10:49:46.313367Z"
    }
   }
  },
  {
   "cell_type": "markdown",
   "source": [
    "# 2.? Scenario discovery"
   ],
   "metadata": {
    "collapsed": false
   }
  },
  {
   "cell_type": "markdown",
   "source": [
    "## 2.? PRIM\n",
    "\n",
    "Below scenario discovery has been applied again, just like 1.2.2, using PRIM. It is chosen to focus at the 10% worst outcomes for both the number of expected deaths and the expected annual damage. This means that only 10% of all scenarios with either the highest number of expected deaths or the highest expected annual damage are included.\n",
    "\n",
    "The PRIM algorithm was used with the default value for the peeling alfa and a value of 0.8 as threshold. 0.8 was chosen after conducting a small sensitivity analysis, which showed that the use of another threshold did not lead to significantly different results\n",
    "\n",
    "\n",
    "Wel nog iets toevoegen over keuze van box!!\n",
    "### 2....? Expected Number of Deaths"
   ],
   "metadata": {
    "collapsed": false
   }
  },
  {
   "cell_type": "code",
   "execution_count": 14,
   "outputs": [
    {
     "data": {
      "text/plain": "       discount rate 0  discount rate 1  discount rate 2   \n0                  1.5              1.5              4.5  \\\n1                  3.5              4.5              3.5   \n2                  3.5              2.5              2.5   \n3                  2.5              2.5              3.5   \n4                  3.5              1.5              4.5   \n...                ...              ...              ...   \n44995              3.5              4.5              3.5   \n44996              1.5              1.5              2.5   \n44997              3.5              3.5              1.5   \n44998              3.5              4.5              1.5   \n44999              4.5              4.5              1.5   \n\n       A.0_ID flood wave shape    A.1_Bmax  A.1_pfail  A.1_Brate    A.2_Bmax   \n0                          119  323.428446   0.377191        1.5  131.061323  \\\n1                          121  167.993621   0.901348        1.0   42.789516   \n2                           82  176.902307   0.485454        1.5  314.770470   \n3                           25  259.339025   0.027976        1.5  117.269882   \n4                          109  179.274614   0.655612        1.0   53.193314   \n...                        ...         ...        ...        ...         ...   \n44995                       23  132.589527   0.444795       10.0  185.448554   \n44996                       47  225.003940   0.542024        1.0  243.679358   \n44997                       19   55.639644   0.074683        1.5  249.368578   \n44998                       42  101.033240   0.069266        1.0   41.679187   \n44999                       88  332.661919   0.256803        1.0  129.844963   \n\n       A.2_pfail  A.2_Brate    A.3_Bmax  A.3_pfail  A.3_Brate    A.4_Bmax   \n0       0.293888       10.0  124.479343   0.306328        1.0  273.991783  \\\n1       0.288916       10.0  196.810449   0.818037        1.5  150.732121   \n2       0.107622        1.0  198.576705   0.673845        1.5  109.758023   \n3       0.785194        1.0  327.156934   0.952394        1.5   32.924106   \n4       0.737245        1.0  163.865646   0.905633       10.0  184.904937   \n...          ...        ...         ...        ...        ...         ...   \n44995   0.965250        1.0  279.006844   0.717771        1.0   68.395770   \n44996   0.344594        1.5  318.874694   0.923207       10.0  291.907879   \n44997   0.668730        1.0  138.086117   0.516068       10.0   58.328495   \n44998   0.639812       10.0  335.528377   0.524703       10.0  337.150714   \n44999   0.234234        1.0  236.297289   0.178470        1.5   30.699992   \n\n       A.4_pfail  A.4_Brate    A.5_Bmax  A.5_pfail  A.5_Brate  \n0       0.761013        1.0  265.233231   0.685904        1.5  \n1       0.998636        1.0  154.752043   0.517362        1.0  \n2       0.669416       10.0  222.357229   0.275681        1.0  \n3       0.810848       10.0  173.315665   0.274442       10.0  \n4       0.069255        1.0  119.673285   0.695685        1.5  \n...          ...        ...         ...        ...        ...  \n44995   0.062068        1.0  228.614757   0.423266        1.5  \n44996   0.973366        1.0   64.264494   0.952759        1.0  \n44997   0.821887        1.5   79.448726   0.272984        1.0  \n44998   0.038436        1.0  342.418785   0.413884        1.5  \n44999   0.404649        1.0  110.397202   0.670354        1.0  \n\n[45000 rows x 19 columns]",
      "text/html": "<div>\n<style scoped>\n    .dataframe tbody tr th:only-of-type {\n        vertical-align: middle;\n    }\n\n    .dataframe tbody tr th {\n        vertical-align: top;\n    }\n\n    .dataframe thead th {\n        text-align: right;\n    }\n</style>\n<table border=\"1\" class=\"dataframe\">\n  <thead>\n    <tr style=\"text-align: right;\">\n      <th></th>\n      <th>discount rate 0</th>\n      <th>discount rate 1</th>\n      <th>discount rate 2</th>\n      <th>A.0_ID flood wave shape</th>\n      <th>A.1_Bmax</th>\n      <th>A.1_pfail</th>\n      <th>A.1_Brate</th>\n      <th>A.2_Bmax</th>\n      <th>A.2_pfail</th>\n      <th>A.2_Brate</th>\n      <th>A.3_Bmax</th>\n      <th>A.3_pfail</th>\n      <th>A.3_Brate</th>\n      <th>A.4_Bmax</th>\n      <th>A.4_pfail</th>\n      <th>A.4_Brate</th>\n      <th>A.5_Bmax</th>\n      <th>A.5_pfail</th>\n      <th>A.5_Brate</th>\n    </tr>\n  </thead>\n  <tbody>\n    <tr>\n      <th>0</th>\n      <td>1.5</td>\n      <td>1.5</td>\n      <td>4.5</td>\n      <td>119</td>\n      <td>323.428446</td>\n      <td>0.377191</td>\n      <td>1.5</td>\n      <td>131.061323</td>\n      <td>0.293888</td>\n      <td>10.0</td>\n      <td>124.479343</td>\n      <td>0.306328</td>\n      <td>1.0</td>\n      <td>273.991783</td>\n      <td>0.761013</td>\n      <td>1.0</td>\n      <td>265.233231</td>\n      <td>0.685904</td>\n      <td>1.5</td>\n    </tr>\n    <tr>\n      <th>1</th>\n      <td>3.5</td>\n      <td>4.5</td>\n      <td>3.5</td>\n      <td>121</td>\n      <td>167.993621</td>\n      <td>0.901348</td>\n      <td>1.0</td>\n      <td>42.789516</td>\n      <td>0.288916</td>\n      <td>10.0</td>\n      <td>196.810449</td>\n      <td>0.818037</td>\n      <td>1.5</td>\n      <td>150.732121</td>\n      <td>0.998636</td>\n      <td>1.0</td>\n      <td>154.752043</td>\n      <td>0.517362</td>\n      <td>1.0</td>\n    </tr>\n    <tr>\n      <th>2</th>\n      <td>3.5</td>\n      <td>2.5</td>\n      <td>2.5</td>\n      <td>82</td>\n      <td>176.902307</td>\n      <td>0.485454</td>\n      <td>1.5</td>\n      <td>314.770470</td>\n      <td>0.107622</td>\n      <td>1.0</td>\n      <td>198.576705</td>\n      <td>0.673845</td>\n      <td>1.5</td>\n      <td>109.758023</td>\n      <td>0.669416</td>\n      <td>10.0</td>\n      <td>222.357229</td>\n      <td>0.275681</td>\n      <td>1.0</td>\n    </tr>\n    <tr>\n      <th>3</th>\n      <td>2.5</td>\n      <td>2.5</td>\n      <td>3.5</td>\n      <td>25</td>\n      <td>259.339025</td>\n      <td>0.027976</td>\n      <td>1.5</td>\n      <td>117.269882</td>\n      <td>0.785194</td>\n      <td>1.0</td>\n      <td>327.156934</td>\n      <td>0.952394</td>\n      <td>1.5</td>\n      <td>32.924106</td>\n      <td>0.810848</td>\n      <td>10.0</td>\n      <td>173.315665</td>\n      <td>0.274442</td>\n      <td>10.0</td>\n    </tr>\n    <tr>\n      <th>4</th>\n      <td>3.5</td>\n      <td>1.5</td>\n      <td>4.5</td>\n      <td>109</td>\n      <td>179.274614</td>\n      <td>0.655612</td>\n      <td>1.0</td>\n      <td>53.193314</td>\n      <td>0.737245</td>\n      <td>1.0</td>\n      <td>163.865646</td>\n      <td>0.905633</td>\n      <td>10.0</td>\n      <td>184.904937</td>\n      <td>0.069255</td>\n      <td>1.0</td>\n      <td>119.673285</td>\n      <td>0.695685</td>\n      <td>1.5</td>\n    </tr>\n    <tr>\n      <th>...</th>\n      <td>...</td>\n      <td>...</td>\n      <td>...</td>\n      <td>...</td>\n      <td>...</td>\n      <td>...</td>\n      <td>...</td>\n      <td>...</td>\n      <td>...</td>\n      <td>...</td>\n      <td>...</td>\n      <td>...</td>\n      <td>...</td>\n      <td>...</td>\n      <td>...</td>\n      <td>...</td>\n      <td>...</td>\n      <td>...</td>\n      <td>...</td>\n    </tr>\n    <tr>\n      <th>44995</th>\n      <td>3.5</td>\n      <td>4.5</td>\n      <td>3.5</td>\n      <td>23</td>\n      <td>132.589527</td>\n      <td>0.444795</td>\n      <td>10.0</td>\n      <td>185.448554</td>\n      <td>0.965250</td>\n      <td>1.0</td>\n      <td>279.006844</td>\n      <td>0.717771</td>\n      <td>1.0</td>\n      <td>68.395770</td>\n      <td>0.062068</td>\n      <td>1.0</td>\n      <td>228.614757</td>\n      <td>0.423266</td>\n      <td>1.5</td>\n    </tr>\n    <tr>\n      <th>44996</th>\n      <td>1.5</td>\n      <td>1.5</td>\n      <td>2.5</td>\n      <td>47</td>\n      <td>225.003940</td>\n      <td>0.542024</td>\n      <td>1.0</td>\n      <td>243.679358</td>\n      <td>0.344594</td>\n      <td>1.5</td>\n      <td>318.874694</td>\n      <td>0.923207</td>\n      <td>10.0</td>\n      <td>291.907879</td>\n      <td>0.973366</td>\n      <td>1.0</td>\n      <td>64.264494</td>\n      <td>0.952759</td>\n      <td>1.0</td>\n    </tr>\n    <tr>\n      <th>44997</th>\n      <td>3.5</td>\n      <td>3.5</td>\n      <td>1.5</td>\n      <td>19</td>\n      <td>55.639644</td>\n      <td>0.074683</td>\n      <td>1.5</td>\n      <td>249.368578</td>\n      <td>0.668730</td>\n      <td>1.0</td>\n      <td>138.086117</td>\n      <td>0.516068</td>\n      <td>10.0</td>\n      <td>58.328495</td>\n      <td>0.821887</td>\n      <td>1.5</td>\n      <td>79.448726</td>\n      <td>0.272984</td>\n      <td>1.0</td>\n    </tr>\n    <tr>\n      <th>44998</th>\n      <td>3.5</td>\n      <td>4.5</td>\n      <td>1.5</td>\n      <td>42</td>\n      <td>101.033240</td>\n      <td>0.069266</td>\n      <td>1.0</td>\n      <td>41.679187</td>\n      <td>0.639812</td>\n      <td>10.0</td>\n      <td>335.528377</td>\n      <td>0.524703</td>\n      <td>10.0</td>\n      <td>337.150714</td>\n      <td>0.038436</td>\n      <td>1.0</td>\n      <td>342.418785</td>\n      <td>0.413884</td>\n      <td>1.5</td>\n    </tr>\n    <tr>\n      <th>44999</th>\n      <td>4.5</td>\n      <td>4.5</td>\n      <td>1.5</td>\n      <td>88</td>\n      <td>332.661919</td>\n      <td>0.256803</td>\n      <td>1.0</td>\n      <td>129.844963</td>\n      <td>0.234234</td>\n      <td>1.0</td>\n      <td>236.297289</td>\n      <td>0.178470</td>\n      <td>1.5</td>\n      <td>30.699992</td>\n      <td>0.404649</td>\n      <td>1.0</td>\n      <td>110.397202</td>\n      <td>0.670354</td>\n      <td>1.0</td>\n    </tr>\n  </tbody>\n</table>\n<p>45000 rows × 19 columns</p>\n</div>"
     },
     "execution_count": 14,
     "metadata": {},
     "output_type": "execute_result"
    }
   ],
   "source": [
    "# Find uncertainty_experiments\n",
    "# A list has been created of uncertainties in the model\n",
    "list_of_uncertainties = ['discount rate 0','discount rate 1','discount rate 2',\\\n",
    "'A.0_ID flood wave shape',\n",
    "'A.1_Bmax','A.1_pfail','A.1_Brate',\\\n",
    "'A.2_Bmax','A.2_pfail','A.2_Brate',\\\n",
    "'A.3_Bmax','A.3_pfail','A.3_Brate',\\\n",
    "'A.4_Bmax','A.4_pfail','A.4_Brate',\\\n",
    "'A.5_Bmax','A.5_pfail','A.5_Brate',]\n",
    "\n",
    "#experiments onbekend is nog niet duidelijk welke dataset hier gebruikt wordt.\n",
    "uncertainty_experiments = experiments.loc[:,list_of_uncertainties]\n",
    "uncertainty_experiments"
   ],
   "metadata": {
    "collapsed": false,
    "ExecuteTime": {
     "start_time": "2023-06-20T10:49:46.257728Z",
     "end_time": "2023-06-20T10:49:46.354691Z"
    }
   }
  },
  {
   "cell_type": "code",
   "execution_count": 15,
   "outputs": [],
   "source": [
    "# Juiste outcomes definieren"
   ],
   "metadata": {
    "collapsed": false,
    "ExecuteTime": {
     "start_time": "2023-06-20T10:49:46.265961Z",
     "end_time": "2023-06-20T10:49:46.355088Z"
    }
   }
  },
  {
   "cell_type": "code",
   "execution_count": 33,
   "outputs": [
    {
     "name": "stderr",
     "output_type": "stream",
     "text": [
      "[MainProcess/INFO] 45000 points remaining, containing 4500 cases of interest\n",
      "[MainProcess/INFO] mean: 0.9652509652509652, mass: 0.0518, coverage: 0.5, density: 0.9652509652509652 restricted_dimensions: 1\n"
     ]
    },
    {
     "ename": "AttributeError",
     "evalue": "",
     "output_type": "error",
     "traceback": [
      "\u001B[0;31m---------------------------------------------------------------------------\u001B[0m",
      "\u001B[0;31mAttributeError\u001B[0m                            Traceback (most recent call last)",
      "Cell \u001B[0;32mIn[33], line 8\u001B[0m\n\u001B[1;32m      5\u001B[0m prim_alg \u001B[38;5;241m=\u001B[39m prim\u001B[38;5;241m.\u001B[39mPrim(x, y, threshold\u001B[38;5;241m=\u001B[39m\u001B[38;5;241m0.8\u001B[39m)\n\u001B[1;32m      6\u001B[0m box1 \u001B[38;5;241m=\u001B[39m prim_alg\u001B[38;5;241m.\u001B[39mfind_box()\n\u001B[0;32m----> 8\u001B[0m \u001B[43mbox1\u001B[49m\u001B[38;5;241;43m.\u001B[39;49m\u001B[43minpect_tradeoff\u001B[49m(annotated\u001B[38;5;241m=\u001B[39m\u001B[38;5;28;01mTrue\u001B[39;00m)\n\u001B[1;32m      9\u001B[0m \u001B[38;5;66;03m#box1.show_tradeoff()\u001B[39;00m\n\u001B[1;32m     10\u001B[0m plt\u001B[38;5;241m.\u001B[39mshow()\n",
      "File \u001B[0;32m~/Documents/pythonProject2/lib/python3.11/site-packages/ema_workbench/analysis/prim.py:392\u001B[0m, in \u001B[0;36mPrimBox.__getattr__\u001B[0;34m(self, name)\u001B[0m\n\u001B[1;32m    390\u001B[0m     \u001B[38;5;28;01mreturn\u001B[39;00m \u001B[38;5;28mself\u001B[39m\u001B[38;5;241m.\u001B[39mbox_lims[\u001B[38;5;28mself\u001B[39m\u001B[38;5;241m.\u001B[39m_cur_box]\n\u001B[1;32m    391\u001B[0m \u001B[38;5;28;01melse\u001B[39;00m:\n\u001B[0;32m--> 392\u001B[0m     \u001B[38;5;28;01mraise\u001B[39;00m \u001B[38;5;167;01mAttributeError\u001B[39;00m\n",
      "\u001B[0;31mAttributeError\u001B[0m: "
     ]
    }
   ],
   "source": [
    "# applying PRIM to the 10% worst outcomes for the expected number of deaths (highest number of deaths)\n",
    "x = uncertainty_experiments\n",
    "y = outcomes['Expected Number of Deaths'] > np.percentile(outcomes['Expected Number of Deaths'],90)\n",
    "\n",
    "prim_alg = prim.Prim(x, y, threshold=0.8)\n",
    "box1 = prim_alg.find_box()\n",
    "\n",
    "box1.inspect_tradeoff(annotated=True)\n",
    "#box1.show_tradeoff()\n",
    "plt.show()"
   ],
   "metadata": {
    "collapsed": false,
    "ExecuteTime": {
     "start_time": "2023-06-20T11:08:31.501094Z",
     "end_time": "2023-06-20T11:08:47.889260Z"
    }
   }
  },
  {
   "cell_type": "code",
   "execution_count": null,
   "outputs": [],
   "source": [
    "box1.inspect(?)\n",
    "box1.inspect(?, style=\"graph\")\n",
    "box1.show_pairs_scatter(?)\n",
    "plt.show()"
   ],
   "metadata": {
    "collapsed": false
   }
  },
  {
   "cell_type": "markdown",
   "source": [
    "### 2....? Expected Annual Damage"
   ],
   "metadata": {
    "collapsed": false
   }
  },
  {
   "cell_type": "code",
   "execution_count": 31,
   "outputs": [
    {
     "name": "stderr",
     "output_type": "stream",
     "text": [
      "[MainProcess/INFO] 45000 points remaining, containing 4500 cases of interest\n",
      "[MainProcess/INFO] mean: 0.9579579579579579, mass: 0.0518, coverage: 0.49622222222222223, density: 0.9579579579579579 restricted_dimensions: 1\n"
     ]
    },
    {
     "data": {
      "text/plain": "<Figure size 640x480 with 2 Axes>",
      "image/png": "[encoded data removed]"
     },
     "metadata": {},
     "output_type": "display_data"
    }
   ],
   "source": [
    "x = uncertainty_experiments\n",
    "y = outcomes['Expected Annual Damage'] > np.percentile(outcomes['Expected Annual Damage'],90) #\n",
    "\n",
    "prim_alg = prim.Prim(x, y, threshold=0.8)\n",
    "box1 = prim_alg.find_box()\n",
    "\n",
    "#box1.show_tradeoff(annotated=True) # Deze is puur voor visualiseren en weten welk nummer op de grens zit\n",
    "box1.show_tradeoff()\n",
    "plt.show()"
   ],
   "metadata": {
    "collapsed": false,
    "ExecuteTime": {
     "start_time": "2023-06-20T11:07:17.245853Z",
     "end_time": "2023-06-20T11:07:35.798108Z"
    }
   }
  },
  {
   "cell_type": "code",
   "execution_count": null,
   "outputs": [],
   "source": [
    "box1.inspect(?)\n",
    "box1.inspect(?, style=\"graph\")\n",
    "box1.show_pairs_scatter(?)\n",
    "plt.show()"
   ],
   "metadata": {
    "collapsed": false
   }
  },
  {
   "cell_type": "markdown",
   "source": [
    "# 2.? Trade-off"
   ],
   "metadata": {
    "collapsed": false
   }
  },
  {
   "cell_type": "markdown",
   "source": [
    "parcoords.plot() is where each line represents an experiment and the color represents whether it is selected or not. This plot visualizes the trade-offs between different objectives or outcome values."
   ],
   "metadata": {
    "collapsed": false
   }
  },
  {
   "cell_type": "code",
   "execution_count": null,
   "outputs": [],
   "source": [
    "import matplotlib.pyplot as plt\n",
    "from ema_workbench.analysis import parcoords\n",
    "\n",
    "# Obtain the selected box from PRIM analysis\n",
    "selected_box = box1\n",
    "\n",
    "# Perform the trade-off analysis using selected box\n",
    "data = experiments.loc[selected_box.yi]\n",
    "data['Selected'] = selected_box.yi\n",
    "\n",
    "# Visualize the trade-offs using parallel coordinates plot\n",
    "fig, axes = plt.subplots(figsize=(10, 6))\n",
    "parcoords.plot(data, ax=axes, color='Selected', colormap='Set1')\n",
    "\n",
    "# Customize the plot\n",
    "plt.title('Trade-off Analysis')\n",
    "plt.xticks(rotation=45)\n",
    "plt.xlabel('Objectives')\n",
    "plt.ylabel('Outcome Values')\n",
    "plt.legend(loc='upper right')\n",
    "\n",
    "# Show the plot\n",
    "plt.show()"
   ],
   "metadata": {
    "collapsed": false
   }
  },
  {
   "cell_type": "markdown",
   "source": [],
   "metadata": {
    "collapsed": false
   }
  },
  {
   "cell_type": "markdown",
   "source": [],
   "metadata": {
    "collapsed": false
   }
  },
  {
   "cell_type": "markdown",
   "source": [],
   "metadata": {
    "collapsed": false
   }
  },
  {
   "cell_type": "markdown",
   "source": [
    "## SOBOL?"
   ],
   "metadata": {
    "collapsed": false
   }
  },
  {
   "cell_type": "code",
   "execution_count": null,
   "outputs": [],
   "source": [
    "dike_model, planning_steps = get_model_for_problem_formulation(2)"
   ],
   "metadata": {
    "collapsed": false,
    "ExecuteTime": {
     "start_time": "2023-06-19T14:25:59.294079Z",
     "end_time": "2023-06-19T14:25:59.709164Z"
    }
   }
  },
  {
   "cell_type": "code",
   "execution_count": null,
   "outputs": [],
   "source": [
    "problem = get_SALib_problem(dike_model.uncertainties)\n",
    "problem"
   ],
   "metadata": {
    "collapsed": false,
    "ExecuteTime": {
     "start_time": "2023-06-19T14:25:59.705798Z",
     "end_time": "2023-06-19T14:25:59.801823Z"
    }
   }
  },
  {
   "cell_type": "code",
   "execution_count": null,
   "outputs": [],
   "source": [
    "experiments = pd.read_csv('data/output_data/experiments_scenario_discovery_10s_sobol.csv', index_col=None) #OMZETTEN NAAR 20.000\n",
    "print(f\"Shape of data: {experiments.shape[0]} rows, {experiments.shape[1]} columns.\")\n",
    "experiments.head(10)"
   ],
   "metadata": {
    "collapsed": false,
    "ExecuteTime": {
     "start_time": "2023-06-19T14:25:59.749407Z",
     "end_time": "2023-06-19T14:25:59.928802Z"
    }
   }
  },
  {
   "cell_type": "code",
   "execution_count": null,
   "outputs": [],
   "source": [
    "results = pd.read_csv('data/output_data/results_scenario_discovery_10s_sobol.csv', index_col=None) #OMZETTEN NAAR 20.000\n",
    "print(f\"Shape of data: {results.shape[0]} rows, {results.shape[1]} columns.\")\n",
    "results.head(10)"
   ],
   "metadata": {
    "collapsed": false,
    "ExecuteTime": {
     "start_time": "2023-06-19T14:25:59.877481Z",
     "end_time": "2023-06-19T14:25:59.960123Z"
    }
   }
  },
  {
   "cell_type": "code",
   "execution_count": null,
   "outputs": [],
   "source": [
    "results['Expected Annual Damage'].shape"
   ],
   "metadata": {
    "collapsed": false,
    "ExecuteTime": {
     "start_time": "2023-06-19T14:25:59.943933Z",
     "end_time": "2023-06-19T14:26:00.054660Z"
    }
   }
  },
  {
   "cell_type": "code",
   "execution_count": null,
   "outputs": [],
   "source": [
    "sobol_results = {}\n",
    "\n",
    "for policy in experiments.policy.unique():\n",
    "    logical = experiments.policy == policy\n",
    "    y = results.loc[logical,'Expected Annual Damage'].values\n",
    "    indices = analyze(problem, y)\n",
    "    sobol_results[policy] = indices\n",
    "\n",
    "fig, axes = plt.subplots(3,1)\n",
    "fig.set_size_inches(10, 15)\n",
    "indices.plot(ax=axes)"
   ],
   "metadata": {
    "collapsed": false,
    "ExecuteTime": {
     "start_time": "2023-06-19T14:27:10.692259Z",
     "end_time": "2023-06-19T14:27:17.459383Z"
    }
   }
  },
  {
   "cell_type": "markdown",
   "source": [],
   "metadata": {
    "collapsed": false
   }
  },
  {
   "cell_type": "markdown",
   "source": [
    "The Sobol method is a global sensitivity analysis technique that allows you to assess the relative importance of\n",
    "input variables (uncertainties) in influencing the output of a model. While you have already selected 9 policies\n",
    "of interest, the Sobol' analysis can provide valuable insights into the uncertainty and variability associated\n",
    "with these policies.\n",
    "\n",
    "Here's why the uncertainty analysis using the Sobol method can still be useful:\n",
    "\n",
    "## Identifying influential factors:\n",
    "The Sobol' method quantifies the contribution of each input variable to the output variability. By assessing the sensitivity indices, you can identify which input variables have the most significant impact on the output. This information can help you focus your efforts on the most influential factors and prioritize them in your decision-making process.\n",
    "### A1_pfail, A2_pfail and A3_pfail are influential factors\n",
    "## Ranking policies:\n",
    "While you have selected 9 policies, the Sobol' analysis can help rank these policies based on their performance under different input conditions. It provides insights into how sensitive each policy is to changes in the input variables. By understanding the relative performance and robustness of the policies across different scenarios, you can make informed decisions about their implementation.\n",
    "## Trade-off analysis:\n",
    "The Sobol' analysis can help you understand the trade-offs between different objectives and input variables. By assessing the sensitivity indices, you can identify potential interactions and dependencies between input variables and assess the implications for your chosen policies. This can aid in understanding the trade-offs involved and making more informed decisions that consider the uncertainties associated with each policy.\n",
    "## Robustness assessment:\n",
    "The Sobol' analysis allows you to assess the robustness of your policies by examining their performance across different input variations. It helps you understand how sensitive your policies are to uncertainties and variations in the input variables. Robust policies exhibit consistent performance even under different scenarios, providing confidence in their effectiveness.\n",
    "In summary, while you have already selected specific policies of interest, the Sobol' analysis provides valuable insights into the uncertainty and sensitivity of the input variables associated with these policies. It helps you understand the relative importance of different factors, rank the policies, analyze trade-offs, and assess their robustness. These insights can enhance your decision-making process and help you make more informed choices regarding the implementation of the selected policies."
   ],
   "metadata": {
    "collapsed": false
   }
  },
  {
   "cell_type": "markdown",
   "source": [],
   "metadata": {
    "collapsed": false
   }
  },
  {
   "cell_type": "markdown",
   "source": [],
   "metadata": {
    "collapsed": false
   }
  },
  {
   "cell_type": "markdown",
   "source": [],
   "metadata": {
    "collapsed": false
   }
  },
  {
   "cell_type": "code",
   "execution_count": null,
   "outputs": [],
   "source": [
    "# Read and view the data\n",
    "data = pd.read_csv('data/output_data/policies.csv', index_col=None)\n",
    "print(f\"Shape of data: {data.shape[0]} rows, {data.shape[1]} columns.\")\n",
    "data.head(3)"
   ],
   "metadata": {
    "collapsed": false,
    "ExecuteTime": {
     "start_time": "2023-06-19T14:26:06.871922Z",
     "end_time": "2023-06-19T14:26:07.106065Z"
    }
   }
  },
  {
   "cell_type": "code",
   "execution_count": null,
   "outputs": [],
   "source": [
    "# Select the experiments\n",
    "x = data.iloc[:, 2:11] #zelf verzetten naar goede aantal colommen\n",
    "print(f\"Columns in x: {x.columns.values}\")"
   ],
   "metadata": {
    "collapsed": false,
    "ExecuteTime": {
     "start_time": "2023-06-19T14:26:06.896656Z",
     "end_time": "2023-06-19T14:26:07.121511Z"
    }
   }
  },
  {
   "cell_type": "code",
   "execution_count": null,
   "outputs": [],
   "source": [
    "# Select the outcome\n",
    "y = data.iloc[:, 15].values #zelfde hiervoor"
   ],
   "metadata": {
    "collapsed": false,
    "ExecuteTime": {
     "start_time": "2023-06-19T14:26:06.905700Z",
     "end_time": "2023-06-19T14:26:07.121687Z"
    }
   }
  },
  {
   "cell_type": "markdown",
   "source": [
    "## Prim"
   ],
   "metadata": {
    "collapsed": false
   }
  },
  {
   "cell_type": "code",
   "execution_count": null,
   "outputs": [],
   "source": [
    "prim_alg = prim.Prim(x, y, threshold=0.8, peel_alpha=0.1)\n",
    "box1 = prim_alg.find_box()"
   ],
   "metadata": {
    "collapsed": false
   }
  },
  {
   "cell_type": "code",
   "execution_count": null,
   "outputs": [],
   "source": [
    "box1.show_tradeoff(annotated=True)\n",
    "plt.show()"
   ],
   "metadata": {
    "collapsed": false
   }
  },
  {
   "cell_type": "code",
   "execution_count": null,
   "outputs": [],
   "source": [
    "point = 19\n",
    "box1.inspect(point)"
   ],
   "metadata": {
    "collapsed": false
   }
  },
  {
   "cell_type": "code",
   "execution_count": null,
   "outputs": [],
   "source": [
    "box1.inspect(point, style='graph')\n",
    "plt.show()"
   ],
   "metadata": {
    "collapsed": false
   }
  },
  {
   "cell_type": "code",
   "execution_count": null,
   "outputs": [],
   "source": [
    "box1.resample(point)"
   ],
   "metadata": {
    "collapsed": false
   }
  },
  {
   "cell_type": "code",
   "execution_count": null,
   "outputs": [],
   "source": [
    "box1.select(21)\n",
    "box1.show_pairs_scatter()\n",
    "fig = plt.gcf()\n",
    "fig.set_size_inches(12,12)\n",
    "plt.show()"
   ],
   "metadata": {
    "collapsed": false
   }
  },
  {
   "cell_type": "code",
   "execution_count": null,
   "outputs": [],
   "source": [
    "# Read and select the data\n",
    "data = pd.read_csv('./data/Rozenberg et al 2014.csv', index_col=None)\n",
    "x = data.iloc[:, 0:7]\n",
    "y = data.iloc[:, 7].values # change to higher index for different SSP's"
   ],
   "metadata": {
    "collapsed": false
   }
  },
  {
   "cell_type": "code",
   "execution_count": null,
   "outputs": [],
   "source": [
    "# Peel alpha controls the leniency of the algorithm, the higher, the less lenient\n",
    "# The meaning of peel_alpha is the percentile of the data that is to be removed\n",
    "prim_obj = prim.Prim(x, y, mass_min=0.001, threshold=0.16,\n",
    "                     peel_alpha=0.01)\n",
    "box2 = prim_obj.find_box()"
   ],
   "metadata": {
    "collapsed": false
   }
  },
  {
   "cell_type": "code",
   "execution_count": null,
   "outputs": [],
   "source": [
    "# Plot the trade-off curve\n",
    "box2.show_tradeoff(annotated=True)\n",
    "plt.show()"
   ],
   "metadata": {
    "collapsed": false
   }
  },
  {
   "cell_type": "code",
   "execution_count": null,
   "outputs": [],
   "source": [
    "# Inspect a specific point on the trade-off curve\n",
    "box2.inspect(3)\n",
    "plt.show()"
   ],
   "metadata": {
    "collapsed": false
   }
  }
 ],
 "metadata": {
  "kernelspec": {
   "display_name": "Python 3",
   "language": "python",
   "name": "python3"
  },
  "language_info": {
   "codemirror_mode": {
    "name": "ipython",
    "version": 2
   },
   "file_extension": ".py",
   "mimetype": "text/x-python",
   "name": "python",
   "nbconvert_exporter": "python",
   "pygments_lexer": "ipython2",
   "version": "2.7.6"
  }
 },
 "nbformat": 4,
 "nbformat_minor": 0
}
