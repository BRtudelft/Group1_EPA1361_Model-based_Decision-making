{
 "cells": [
  {
   "cell_type": "code",
   "execution_count": 1,
   "metadata": {
    "ExecuteTime": {
     "start_time": "2023-06-15T14:13:58.849762Z",
     "end_time": "2023-06-15T14:13:59.233386Z"
    }
   },
   "outputs": [],
   "source": [
    "import numpy as np\n",
    "import scipy as sp\n",
    "import pandas as pd\n",
    "import matplotlib.pyplot as plt\n",
    "import seaborn as sns\n",
    "import networkx as nx"
   ]
  },
  {
   "cell_type": "code",
   "execution_count": 2,
   "metadata": {
    "ExecuteTime": {
     "start_time": "2023-06-15T14:13:59.233386Z",
     "end_time": "2023-06-15T14:13:59.241311Z"
    }
   },
   "outputs": [
    {
     "name": "stdout",
     "output_type": "stream",
     "text": [
      "1.5.3\n",
      "3.0\n"
     ]
    }
   ],
   "source": [
    "# make sure pandas is version 1.0 or higher\n",
    "# make sure networkx is verion 2.4 or higher\n",
    "print(pd.__version__)\n",
    "print(nx.__version__)"
   ]
  },
  {
   "cell_type": "code",
   "execution_count": 3,
   "metadata": {
    "scrolled": true,
    "ExecuteTime": {
     "start_time": "2023-06-15T14:13:59.241311Z",
     "end_time": "2023-06-15T14:14:00.668193Z"
    }
   },
   "outputs": [],
   "source": [
    "from ema_workbench import (\n",
    "    Model,\n",
    "    Policy,\n",
    "    ema_logging,\n",
    "    SequentialEvaluator,\n",
    "    MultiprocessingEvaluator,\n",
    ")\n",
    "from dike_model_function import DikeNetwork  # @UnresolvedImport\n",
    "from problem_formulation import get_model_for_problem_formulation, sum_over, sum_over_time\n",
    "\n"
   ]
  },
  {
   "cell_type": "code",
   "execution_count": 4,
   "metadata": {
    "ExecuteTime": {
     "start_time": "2023-06-15T14:14:00.668193Z",
     "end_time": "2023-06-15T14:14:01.241912Z"
    }
   },
   "outputs": [],
   "source": [
    "ema_logging.log_to_stderr(ema_logging.INFO)\n",
    "\n",
    "# choose problem formulation number, between 0-5\n",
    "# each problem formulation has its own list of outcomes\n",
    "dike_model, planning_steps = get_model_for_problem_formulation(3)"
   ]
  },
  {
   "cell_type": "code",
   "execution_count": 5,
   "metadata": {
    "ExecuteTime": {
     "start_time": "2023-06-15T14:14:01.241912Z",
     "end_time": "2023-06-15T14:14:01.256820Z"
    }
   },
   "outputs": [
    {
     "name": "stdout",
     "output_type": "stream",
     "text": [
      "CategoricalParameter('discount rate 0', [0, 1, 2, 3])\n",
      "CategoricalParameter('discount rate 1', [0, 1, 2, 3])\n",
      "CategoricalParameter('discount rate 2', [0, 1, 2, 3])\n",
      "IntegerParameter('A.0_ID flood wave shape', 0, 132, resolution=None, default=None, variable_name=['A.0_ID flood wave shape'], pff=False)\n",
      "RealParameter('A.1_Bmax', 30, 350, resolution=None, default=None, variable_name=['A.1_Bmax'], pff=False)\n",
      "RealParameter('A.1_pfail', 0, 1, resolution=None, default=None, variable_name=['A.1_pfail'], pff=False)\n",
      "CategoricalParameter('A.1_Brate', [0, 1, 2])\n",
      "RealParameter('A.2_Bmax', 30, 350, resolution=None, default=None, variable_name=['A.2_Bmax'], pff=False)\n",
      "RealParameter('A.2_pfail', 0, 1, resolution=None, default=None, variable_name=['A.2_pfail'], pff=False)\n",
      "CategoricalParameter('A.2_Brate', [0, 1, 2])\n",
      "RealParameter('A.3_Bmax', 30, 350, resolution=None, default=None, variable_name=['A.3_Bmax'], pff=False)\n",
      "RealParameter('A.3_pfail', 0, 1, resolution=None, default=None, variable_name=['A.3_pfail'], pff=False)\n",
      "CategoricalParameter('A.3_Brate', [0, 1, 2])\n",
      "RealParameter('A.4_Bmax', 30, 350, resolution=None, default=None, variable_name=['A.4_Bmax'], pff=False)\n",
      "RealParameter('A.4_pfail', 0, 1, resolution=None, default=None, variable_name=['A.4_pfail'], pff=False)\n",
      "CategoricalParameter('A.4_Brate', [0, 1, 2])\n",
      "RealParameter('A.5_Bmax', 30, 350, resolution=None, default=None, variable_name=['A.5_Bmax'], pff=False)\n",
      "RealParameter('A.5_pfail', 0, 1, resolution=None, default=None, variable_name=['A.5_pfail'], pff=False)\n",
      "CategoricalParameter('A.5_Brate', [0, 1, 2])\n"
     ]
    }
   ],
   "source": [
    "# enlisting uncertainties, their types (RealParameter/IntegerParameter/CategoricalParameter), lower boundary, and upper boundary\n",
    "import copy\n",
    "\n",
    "for unc in dike_model.uncertainties:\n",
    "    print(repr(unc))\n",
    "\n",
    "uncertainties = copy.deepcopy(dike_model.uncertainties)"
   ]
  },
  {
   "cell_type": "code",
   "execution_count": 6,
   "metadata": {
    "ExecuteTime": {
     "start_time": "2023-06-15T14:14:01.256820Z",
     "end_time": "2023-06-15T14:14:01.317549Z"
    }
   },
   "outputs": [
    {
     "name": "stdout",
     "output_type": "stream",
     "text": [
      "IntegerParameter('0_RfR 0', 0, 1, resolution=None, default=None, variable_name=['0_RfR 0'], pff=False)\n",
      "IntegerParameter('0_RfR 1', 0, 1, resolution=None, default=None, variable_name=['0_RfR 1'], pff=False)\n",
      "IntegerParameter('0_RfR 2', 0, 1, resolution=None, default=None, variable_name=['0_RfR 2'], pff=False)\n",
      "IntegerParameter('1_RfR 0', 0, 1, resolution=None, default=None, variable_name=['1_RfR 0'], pff=False)\n",
      "IntegerParameter('1_RfR 1', 0, 1, resolution=None, default=None, variable_name=['1_RfR 1'], pff=False)\n",
      "IntegerParameter('1_RfR 2', 0, 1, resolution=None, default=None, variable_name=['1_RfR 2'], pff=False)\n",
      "IntegerParameter('2_RfR 0', 0, 1, resolution=None, default=None, variable_name=['2_RfR 0'], pff=False)\n",
      "IntegerParameter('2_RfR 1', 0, 1, resolution=None, default=None, variable_name=['2_RfR 1'], pff=False)\n",
      "IntegerParameter('2_RfR 2', 0, 1, resolution=None, default=None, variable_name=['2_RfR 2'], pff=False)\n",
      "IntegerParameter('3_RfR 0', 0, 1, resolution=None, default=None, variable_name=['3_RfR 0'], pff=False)\n",
      "IntegerParameter('3_RfR 1', 0, 1, resolution=None, default=None, variable_name=['3_RfR 1'], pff=False)\n",
      "IntegerParameter('3_RfR 2', 0, 1, resolution=None, default=None, variable_name=['3_RfR 2'], pff=False)\n",
      "IntegerParameter('4_RfR 0', 0, 1, resolution=None, default=None, variable_name=['4_RfR 0'], pff=False)\n",
      "IntegerParameter('4_RfR 1', 0, 1, resolution=None, default=None, variable_name=['4_RfR 1'], pff=False)\n",
      "IntegerParameter('4_RfR 2', 0, 1, resolution=None, default=None, variable_name=['4_RfR 2'], pff=False)\n",
      "IntegerParameter('EWS_DaysToThreat', 0, 4, resolution=None, default=None, variable_name=['EWS_DaysToThreat'], pff=False)\n",
      "IntegerParameter('A.1_DikeIncrease 0', 0, 10, resolution=None, default=None, variable_name=['A.1_DikeIncrease 0'], pff=False)\n",
      "IntegerParameter('A.1_DikeIncrease 1', 0, 10, resolution=None, default=None, variable_name=['A.1_DikeIncrease 1'], pff=False)\n",
      "IntegerParameter('A.1_DikeIncrease 2', 0, 10, resolution=None, default=None, variable_name=['A.1_DikeIncrease 2'], pff=False)\n",
      "IntegerParameter('A.2_DikeIncrease 0', 0, 10, resolution=None, default=None, variable_name=['A.2_DikeIncrease 0'], pff=False)\n",
      "IntegerParameter('A.2_DikeIncrease 1', 0, 10, resolution=None, default=None, variable_name=['A.2_DikeIncrease 1'], pff=False)\n",
      "IntegerParameter('A.2_DikeIncrease 2', 0, 10, resolution=None, default=None, variable_name=['A.2_DikeIncrease 2'], pff=False)\n",
      "IntegerParameter('A.3_DikeIncrease 0', 0, 10, resolution=None, default=None, variable_name=['A.3_DikeIncrease 0'], pff=False)\n",
      "IntegerParameter('A.3_DikeIncrease 1', 0, 10, resolution=None, default=None, variable_name=['A.3_DikeIncrease 1'], pff=False)\n",
      "IntegerParameter('A.3_DikeIncrease 2', 0, 10, resolution=None, default=None, variable_name=['A.3_DikeIncrease 2'], pff=False)\n",
      "IntegerParameter('A.4_DikeIncrease 0', 0, 10, resolution=None, default=None, variable_name=['A.4_DikeIncrease 0'], pff=False)\n",
      "IntegerParameter('A.4_DikeIncrease 1', 0, 10, resolution=None, default=None, variable_name=['A.4_DikeIncrease 1'], pff=False)\n",
      "IntegerParameter('A.4_DikeIncrease 2', 0, 10, resolution=None, default=None, variable_name=['A.4_DikeIncrease 2'], pff=False)\n",
      "IntegerParameter('A.5_DikeIncrease 0', 0, 10, resolution=None, default=None, variable_name=['A.5_DikeIncrease 0'], pff=False)\n",
      "IntegerParameter('A.5_DikeIncrease 1', 0, 10, resolution=None, default=None, variable_name=['A.5_DikeIncrease 1'], pff=False)\n",
      "IntegerParameter('A.5_DikeIncrease 2', 0, 10, resolution=None, default=None, variable_name=['A.5_DikeIncrease 2'], pff=False)\n"
     ]
    }
   ],
   "source": [
    "# enlisting policy levers, their types (RealParameter/IntegerParameter), lower boundary, and upper boundary\n",
    "for policy in dike_model.levers:\n",
    "    print(repr(policy))\n",
    "\n",
    "levers = copy.deepcopy(dike_model.levers)"
   ]
  },
  {
   "cell_type": "code",
   "execution_count": 7,
   "metadata": {
    "ExecuteTime": {
     "start_time": "2023-06-15T14:14:01.277350Z",
     "end_time": "2023-06-15T14:14:01.325578Z"
    }
   },
   "outputs": [
    {
     "name": "stdout",
     "output_type": "stream",
     "text": [
      "ScalarOutcome('A.1 Total Costs', variable_name=('A.1_Expected Annual Damage', 'A.1_Dike Investment Costs'), function=<function sum_over at 0x00000143B76B3920>)\n",
      "ScalarOutcome('A.1_Expected Number of Deaths', variable_name=('A.1_Expected Number of Deaths',), function=<function sum_over at 0x00000143B76B3920>)\n",
      "ScalarOutcome('A.2 Total Costs', variable_name=('A.2_Expected Annual Damage', 'A.2_Dike Investment Costs'), function=<function sum_over at 0x00000143B76B3920>)\n",
      "ScalarOutcome('A.2_Expected Number of Deaths', variable_name=('A.2_Expected Number of Deaths',), function=<function sum_over at 0x00000143B76B3920>)\n",
      "ScalarOutcome('A.3 Total Costs', variable_name=('A.3_Expected Annual Damage', 'A.3_Dike Investment Costs'), function=<function sum_over at 0x00000143B76B3920>)\n",
      "ScalarOutcome('A.3_Expected Number of Deaths', variable_name=('A.3_Expected Number of Deaths',), function=<function sum_over at 0x00000143B76B3920>)\n",
      "ScalarOutcome('A.4 Total Costs', variable_name=('A.4_Expected Annual Damage', 'A.4_Dike Investment Costs'), function=<function sum_over at 0x00000143B76B3920>)\n",
      "ScalarOutcome('A.4_Expected Number of Deaths', variable_name=('A.4_Expected Number of Deaths',), function=<function sum_over at 0x00000143B76B3920>)\n",
      "ScalarOutcome('A.5 Total Costs', variable_name=('A.5_Expected Annual Damage', 'A.5_Dike Investment Costs'), function=<function sum_over at 0x00000143B76B3920>)\n",
      "ScalarOutcome('A.5_Expected Number of Deaths', variable_name=('A.5_Expected Number of Deaths',), function=<function sum_over at 0x00000143B76B3920>)\n",
      "ScalarOutcome('RfR Total Costs', variable_name=('RfR Total Costs',), function=<function sum_over at 0x00000143B76B3920>)\n",
      "ScalarOutcome('Expected Evacuation Costs', variable_name=('Expected Evacuation Costs',), function=<function sum_over at 0x00000143B76B3920>)\n"
     ]
    }
   ],
   "source": [
    "# enlisting outcomes\n",
    "for outcome in dike_model.outcomes:\n",
    "    print(repr(outcome))"
   ]
  },
  {
   "cell_type": "code",
   "execution_count": 8,
   "metadata": {
    "ExecuteTime": {
     "start_time": "2023-06-15T14:14:01.285544Z",
     "end_time": "2023-06-15T14:14:57.562971Z"
    }
   },
   "outputs": [
    {
     "name": "stderr",
     "output_type": "stream",
     "text": [
      "[MainProcess/INFO] pool started with 8 workers\n",
      "[MainProcess/INFO] performing 50 scenarios * 4 policies * 1 model(s) = 200 experiments\n",
      "100%|████████████████████████████████████████| 200/200 [00:30<00:00,  6.52it/s]\n",
      "[MainProcess/INFO] experiments finished\n",
      "[MainProcess/INFO] terminating pool\n"
     ]
    }
   ],
   "source": [
    "# running the model through EMA workbench\n",
    "with MultiprocessingEvaluator(dike_model) as evaluator:\n",
    "    results = evaluator.perform_experiments(scenarios=50, policies=4)"
   ]
  },
  {
   "cell_type": "code",
   "execution_count": 9,
   "metadata": {
    "scrolled": true,
    "ExecuteTime": {
     "start_time": "2023-06-15T14:14:57.562971Z",
     "end_time": "2023-06-15T14:14:57.621319Z"
    }
   },
   "outputs": [
    {
     "name": "stdout",
     "output_type": "stream",
     "text": [
      "dict_keys(['A.1 Total Costs', 'A.1_Expected Number of Deaths', 'A.2 Total Costs', 'A.2_Expected Number of Deaths', 'A.3 Total Costs', 'A.3_Expected Number of Deaths', 'A.4 Total Costs', 'A.4_Expected Number of Deaths', 'A.5 Total Costs', 'A.5_Expected Number of Deaths', 'RfR Total Costs', 'Expected Evacuation Costs'])\n"
     ]
    },
    {
     "data": {
      "text/plain": "     A.0_ID flood wave shape    A.1_Bmax A.1_Brate  A.1_pfail    A.2_Bmax  \\\n0                         63  244.105711       1.5   0.343704  181.465372   \n1                         20   79.431296      10.0   0.393160  162.436160   \n2                        116  224.214562       1.5   0.493552   98.624236   \n3                        104  147.964842      10.0   0.096888  325.479986   \n4                        123  328.191901       1.0   0.505815   75.261977   \n..                       ...         ...       ...        ...         ...   \n195                       90  347.973775      10.0   0.371776   65.030027   \n196                       38   51.231251      10.0   0.936268  145.121469   \n197                       49  255.030824      10.0   0.635773  194.540789   \n198                       71   41.251978       1.0   0.047743  337.671684   \n199                       57  109.706125      10.0   0.569548  215.190354   \n\n    A.2_Brate  A.2_pfail    A.3_Bmax A.3_Brate  A.3_pfail  ...  \\\n0         1.5   0.774083   75.866448       1.0   0.899438  ...   \n1         1.5   0.785231  152.621572       1.0   0.258774  ...   \n2         1.5   0.917265  146.546343       1.0   0.522980  ...   \n3         1.5   0.701673  163.223575       1.5   0.821364  ...   \n4         1.0   0.158080  265.945630      10.0   0.103125  ...   \n..        ...        ...         ...       ...        ...  ...   \n195      10.0   0.485395  210.734850       1.5   0.066146  ...   \n196       1.0   0.679753   60.237529       1.5   0.541675  ...   \n197       1.5   0.268327  298.967798      10.0   0.190201  ...   \n198      10.0   0.505117  196.792430       1.5   0.859833  ...   \n199       1.0   0.390747   42.865267       1.0   0.600446  ...   \n\n     A.4_DikeIncrease 0 A.4_DikeIncrease 1  A.4_DikeIncrease 2  \\\n0                    10                  2                   0   \n1                    10                  2                   0   \n2                    10                  2                   0   \n3                    10                  2                   0   \n4                    10                  2                   0   \n..                  ...                ...                 ...   \n195                   2                  2                   5   \n196                   2                  2                   5   \n197                   2                  2                   5   \n198                   2                  2                   5   \n199                   2                  2                   5   \n\n     A.5_DikeIncrease 0 A.5_DikeIncrease 1  A.5_DikeIncrease 2  \\\n0                     7                  9                   9   \n1                     7                  9                   9   \n2                     7                  9                   9   \n3                     7                  9                   9   \n4                     7                  9                   9   \n..                  ...                ...                 ...   \n195                   9                  6                   3   \n196                   9                  6                   3   \n197                   9                  6                   3   \n198                   9                  6                   3   \n199                   9                  6                   3   \n\n    EWS_DaysToThreat scenario policy     model  \n0                  3        4      0  dikesnet  \n1                  3        5      0  dikesnet  \n2                  3        6      0  dikesnet  \n3                  3        7      0  dikesnet  \n4                  3        8      0  dikesnet  \n..               ...      ...    ...       ...  \n195                1       49      3  dikesnet  \n196                1       50      3  dikesnet  \n197                1       51      3  dikesnet  \n198                1       52      3  dikesnet  \n199                1       53      3  dikesnet  \n\n[200 rows x 53 columns]",
      "text/html": "<div>\n<style scoped>\n    .dataframe tbody tr th:only-of-type {\n        vertical-align: middle;\n    }\n\n    .dataframe tbody tr th {\n        vertical-align: top;\n    }\n\n    .dataframe thead th {\n        text-align: right;\n    }\n</style>\n<table border=\"1\" class=\"dataframe\">\n  <thead>\n    <tr style=\"text-align: right;\">\n      <th></th>\n      <th>A.0_ID flood wave shape</th>\n      <th>A.1_Bmax</th>\n      <th>A.1_Brate</th>\n      <th>A.1_pfail</th>\n      <th>A.2_Bmax</th>\n      <th>A.2_Brate</th>\n      <th>A.2_pfail</th>\n      <th>A.3_Bmax</th>\n      <th>A.3_Brate</th>\n      <th>A.3_pfail</th>\n      <th>...</th>\n      <th>A.4_DikeIncrease 0</th>\n      <th>A.4_DikeIncrease 1</th>\n      <th>A.4_DikeIncrease 2</th>\n      <th>A.5_DikeIncrease 0</th>\n      <th>A.5_DikeIncrease 1</th>\n      <th>A.5_DikeIncrease 2</th>\n      <th>EWS_DaysToThreat</th>\n      <th>scenario</th>\n      <th>policy</th>\n      <th>model</th>\n    </tr>\n  </thead>\n  <tbody>\n    <tr>\n      <th>0</th>\n      <td>63</td>\n      <td>244.105711</td>\n      <td>1.5</td>\n      <td>0.343704</td>\n      <td>181.465372</td>\n      <td>1.5</td>\n      <td>0.774083</td>\n      <td>75.866448</td>\n      <td>1.0</td>\n      <td>0.899438</td>\n      <td>...</td>\n      <td>10</td>\n      <td>2</td>\n      <td>0</td>\n      <td>7</td>\n      <td>9</td>\n      <td>9</td>\n      <td>3</td>\n      <td>4</td>\n      <td>0</td>\n      <td>dikesnet</td>\n    </tr>\n    <tr>\n      <th>1</th>\n      <td>20</td>\n      <td>79.431296</td>\n      <td>10.0</td>\n      <td>0.393160</td>\n      <td>162.436160</td>\n      <td>1.5</td>\n      <td>0.785231</td>\n      <td>152.621572</td>\n      <td>1.0</td>\n      <td>0.258774</td>\n      <td>...</td>\n      <td>10</td>\n      <td>2</td>\n      <td>0</td>\n      <td>7</td>\n      <td>9</td>\n      <td>9</td>\n      <td>3</td>\n      <td>5</td>\n      <td>0</td>\n      <td>dikesnet</td>\n    </tr>\n    <tr>\n      <th>2</th>\n      <td>116</td>\n      <td>224.214562</td>\n      <td>1.5</td>\n      <td>0.493552</td>\n      <td>98.624236</td>\n      <td>1.5</td>\n      <td>0.917265</td>\n      <td>146.546343</td>\n      <td>1.0</td>\n      <td>0.522980</td>\n      <td>...</td>\n      <td>10</td>\n      <td>2</td>\n      <td>0</td>\n      <td>7</td>\n      <td>9</td>\n      <td>9</td>\n      <td>3</td>\n      <td>6</td>\n      <td>0</td>\n      <td>dikesnet</td>\n    </tr>\n    <tr>\n      <th>3</th>\n      <td>104</td>\n      <td>147.964842</td>\n      <td>10.0</td>\n      <td>0.096888</td>\n      <td>325.479986</td>\n      <td>1.5</td>\n      <td>0.701673</td>\n      <td>163.223575</td>\n      <td>1.5</td>\n      <td>0.821364</td>\n      <td>...</td>\n      <td>10</td>\n      <td>2</td>\n      <td>0</td>\n      <td>7</td>\n      <td>9</td>\n      <td>9</td>\n      <td>3</td>\n      <td>7</td>\n      <td>0</td>\n      <td>dikesnet</td>\n    </tr>\n    <tr>\n      <th>4</th>\n      <td>123</td>\n      <td>328.191901</td>\n      <td>1.0</td>\n      <td>0.505815</td>\n      <td>75.261977</td>\n      <td>1.0</td>\n      <td>0.158080</td>\n      <td>265.945630</td>\n      <td>10.0</td>\n      <td>0.103125</td>\n      <td>...</td>\n      <td>10</td>\n      <td>2</td>\n      <td>0</td>\n      <td>7</td>\n      <td>9</td>\n      <td>9</td>\n      <td>3</td>\n      <td>8</td>\n      <td>0</td>\n      <td>dikesnet</td>\n    </tr>\n    <tr>\n      <th>...</th>\n      <td>...</td>\n      <td>...</td>\n      <td>...</td>\n      <td>...</td>\n      <td>...</td>\n      <td>...</td>\n      <td>...</td>\n      <td>...</td>\n      <td>...</td>\n      <td>...</td>\n      <td>...</td>\n      <td>...</td>\n      <td>...</td>\n      <td>...</td>\n      <td>...</td>\n      <td>...</td>\n      <td>...</td>\n      <td>...</td>\n      <td>...</td>\n      <td>...</td>\n      <td>...</td>\n    </tr>\n    <tr>\n      <th>195</th>\n      <td>90</td>\n      <td>347.973775</td>\n      <td>10.0</td>\n      <td>0.371776</td>\n      <td>65.030027</td>\n      <td>10.0</td>\n      <td>0.485395</td>\n      <td>210.734850</td>\n      <td>1.5</td>\n      <td>0.066146</td>\n      <td>...</td>\n      <td>2</td>\n      <td>2</td>\n      <td>5</td>\n      <td>9</td>\n      <td>6</td>\n      <td>3</td>\n      <td>1</td>\n      <td>49</td>\n      <td>3</td>\n      <td>dikesnet</td>\n    </tr>\n    <tr>\n      <th>196</th>\n      <td>38</td>\n      <td>51.231251</td>\n      <td>10.0</td>\n      <td>0.936268</td>\n      <td>145.121469</td>\n      <td>1.0</td>\n      <td>0.679753</td>\n      <td>60.237529</td>\n      <td>1.5</td>\n      <td>0.541675</td>\n      <td>...</td>\n      <td>2</td>\n      <td>2</td>\n      <td>5</td>\n      <td>9</td>\n      <td>6</td>\n      <td>3</td>\n      <td>1</td>\n      <td>50</td>\n      <td>3</td>\n      <td>dikesnet</td>\n    </tr>\n    <tr>\n      <th>197</th>\n      <td>49</td>\n      <td>255.030824</td>\n      <td>10.0</td>\n      <td>0.635773</td>\n      <td>194.540789</td>\n      <td>1.5</td>\n      <td>0.268327</td>\n      <td>298.967798</td>\n      <td>10.0</td>\n      <td>0.190201</td>\n      <td>...</td>\n      <td>2</td>\n      <td>2</td>\n      <td>5</td>\n      <td>9</td>\n      <td>6</td>\n      <td>3</td>\n      <td>1</td>\n      <td>51</td>\n      <td>3</td>\n      <td>dikesnet</td>\n    </tr>\n    <tr>\n      <th>198</th>\n      <td>71</td>\n      <td>41.251978</td>\n      <td>1.0</td>\n      <td>0.047743</td>\n      <td>337.671684</td>\n      <td>10.0</td>\n      <td>0.505117</td>\n      <td>196.792430</td>\n      <td>1.5</td>\n      <td>0.859833</td>\n      <td>...</td>\n      <td>2</td>\n      <td>2</td>\n      <td>5</td>\n      <td>9</td>\n      <td>6</td>\n      <td>3</td>\n      <td>1</td>\n      <td>52</td>\n      <td>3</td>\n      <td>dikesnet</td>\n    </tr>\n    <tr>\n      <th>199</th>\n      <td>57</td>\n      <td>109.706125</td>\n      <td>10.0</td>\n      <td>0.569548</td>\n      <td>215.190354</td>\n      <td>1.0</td>\n      <td>0.390747</td>\n      <td>42.865267</td>\n      <td>1.0</td>\n      <td>0.600446</td>\n      <td>...</td>\n      <td>2</td>\n      <td>2</td>\n      <td>5</td>\n      <td>9</td>\n      <td>6</td>\n      <td>3</td>\n      <td>1</td>\n      <td>53</td>\n      <td>3</td>\n      <td>dikesnet</td>\n    </tr>\n  </tbody>\n</table>\n<p>200 rows × 53 columns</p>\n</div>"
     },
     "execution_count": 9,
     "metadata": {},
     "output_type": "execute_result"
    }
   ],
   "source": [
    "# observing the simulation runs\n",
    "experiments, outcomes = results\n",
    "print(outcomes.keys())\n",
    "experiments"
   ]
  },
  {
   "cell_type": "code",
   "execution_count": 10,
   "metadata": {
    "ExecuteTime": {
     "start_time": "2023-06-15T14:14:57.621319Z",
     "end_time": "2023-06-15T14:14:57.711463Z"
    }
   },
   "outputs": [
    {
     "data": {
      "text/plain": "     A.1 Total Costs  A.1_Expected Number of Deaths  A.2 Total Costs  \\\n0       2.348818e+08                            0.0     2.136741e+08   \n1       2.348818e+08                            0.0     2.141910e+08   \n2       2.348818e+08                            0.0     2.116656e+08   \n3       2.348818e+08                            0.0     2.147145e+08   \n4       2.348818e+08                            0.0     2.711682e+08   \n..               ...                            ...              ...   \n195     0.000000e+00                            0.0     1.080835e+08   \n196     0.000000e+00                            0.0     1.080835e+08   \n197     0.000000e+00                            0.0     1.082274e+08   \n198     0.000000e+00                            0.0     1.080835e+08   \n199     0.000000e+00                            0.0     1.080835e+08   \n\n     A.2_Expected Number of Deaths  A.3 Total Costs  \\\n0                         0.000289     9.041765e+07   \n1                         0.000290     9.041765e+07   \n2                         0.000000     9.041765e+07   \n3                         0.000535     9.041765e+07   \n4                         0.006322     9.041765e+07   \n..                             ...              ...   \n195                       0.000000     1.256387e+08   \n196                       0.000000     1.253972e+08   \n197                       0.000068     1.253972e+08   \n198                       0.000000     1.253972e+08   \n199                       0.000000     1.253972e+08   \n\n     A.3_Expected Number of Deaths  A.4 Total Costs  \\\n0                         0.000000     3.064440e+07   \n1                         0.000000     3.064440e+07   \n2                         0.000000     3.064440e+07   \n3                         0.000000     3.064440e+07   \n4                         0.000000     3.064440e+07   \n..                             ...              ...   \n195                       0.000118     2.866840e+07   \n196                       0.000000     2.783483e+07   \n197                       0.000000     2.783483e+07   \n198                       0.000000     1.384299e+08   \n199                       0.000000     2.908099e+07   \n\n     A.4_Expected Number of Deaths  A.5 Total Costs  \\\n0                         0.000000     2.023168e+08   \n1                         0.000000     2.023168e+08   \n2                         0.000000     2.023168e+08   \n3                         0.000000     2.023168e+08   \n4                         0.000000     2.023168e+08   \n..                             ...              ...   \n195                       0.000115     1.578502e+08   \n196                       0.000000     1.578502e+08   \n197                       0.000000     1.578502e+08   \n198                       0.011368     1.578502e+08   \n199                       0.000316     1.578502e+08   \n\n     A.5_Expected Number of Deaths  RfR Total Costs  Expected Evacuation Costs  \n0                              0.0     1.486700e+09                 131.755060  \n1                              0.0     1.486700e+09                 131.914449  \n2                              0.0     1.486700e+09                   0.000000  \n3                              0.0     1.486700e+09                 244.139472  \n4                              0.0     1.486700e+09                3194.735625  \n..                             ...              ...                        ...  \n195                            0.0     1.339800e+09                  25.022915  \n196                            0.0     1.339800e+09                   0.000000  \n197                            0.0     1.339800e+09                   5.041960  \n198                            0.0     1.339800e+09                3439.266233  \n199                            0.0     1.339800e+09                  66.423943  \n\n[200 rows x 12 columns]",
      "text/html": "<div>\n<style scoped>\n    .dataframe tbody tr th:only-of-type {\n        vertical-align: middle;\n    }\n\n    .dataframe tbody tr th {\n        vertical-align: top;\n    }\n\n    .dataframe thead th {\n        text-align: right;\n    }\n</style>\n<table border=\"1\" class=\"dataframe\">\n  <thead>\n    <tr style=\"text-align: right;\">\n      <th></th>\n      <th>A.1 Total Costs</th>\n      <th>A.1_Expected Number of Deaths</th>\n      <th>A.2 Total Costs</th>\n      <th>A.2_Expected Number of Deaths</th>\n      <th>A.3 Total Costs</th>\n      <th>A.3_Expected Number of Deaths</th>\n      <th>A.4 Total Costs</th>\n      <th>A.4_Expected Number of Deaths</th>\n      <th>A.5 Total Costs</th>\n      <th>A.5_Expected Number of Deaths</th>\n      <th>RfR Total Costs</th>\n      <th>Expected Evacuation Costs</th>\n    </tr>\n  </thead>\n  <tbody>\n    <tr>\n      <th>0</th>\n      <td>2.348818e+08</td>\n      <td>0.0</td>\n      <td>2.136741e+08</td>\n      <td>0.000289</td>\n      <td>9.041765e+07</td>\n      <td>0.000000</td>\n      <td>3.064440e+07</td>\n      <td>0.000000</td>\n      <td>2.023168e+08</td>\n      <td>0.0</td>\n      <td>1.486700e+09</td>\n      <td>131.755060</td>\n    </tr>\n    <tr>\n      <th>1</th>\n      <td>2.348818e+08</td>\n      <td>0.0</td>\n      <td>2.141910e+08</td>\n      <td>0.000290</td>\n      <td>9.041765e+07</td>\n      <td>0.000000</td>\n      <td>3.064440e+07</td>\n      <td>0.000000</td>\n      <td>2.023168e+08</td>\n      <td>0.0</td>\n      <td>1.486700e+09</td>\n      <td>131.914449</td>\n    </tr>\n    <tr>\n      <th>2</th>\n      <td>2.348818e+08</td>\n      <td>0.0</td>\n      <td>2.116656e+08</td>\n      <td>0.000000</td>\n      <td>9.041765e+07</td>\n      <td>0.000000</td>\n      <td>3.064440e+07</td>\n      <td>0.000000</td>\n      <td>2.023168e+08</td>\n      <td>0.0</td>\n      <td>1.486700e+09</td>\n      <td>0.000000</td>\n    </tr>\n    <tr>\n      <th>3</th>\n      <td>2.348818e+08</td>\n      <td>0.0</td>\n      <td>2.147145e+08</td>\n      <td>0.000535</td>\n      <td>9.041765e+07</td>\n      <td>0.000000</td>\n      <td>3.064440e+07</td>\n      <td>0.000000</td>\n      <td>2.023168e+08</td>\n      <td>0.0</td>\n      <td>1.486700e+09</td>\n      <td>244.139472</td>\n    </tr>\n    <tr>\n      <th>4</th>\n      <td>2.348818e+08</td>\n      <td>0.0</td>\n      <td>2.711682e+08</td>\n      <td>0.006322</td>\n      <td>9.041765e+07</td>\n      <td>0.000000</td>\n      <td>3.064440e+07</td>\n      <td>0.000000</td>\n      <td>2.023168e+08</td>\n      <td>0.0</td>\n      <td>1.486700e+09</td>\n      <td>3194.735625</td>\n    </tr>\n    <tr>\n      <th>...</th>\n      <td>...</td>\n      <td>...</td>\n      <td>...</td>\n      <td>...</td>\n      <td>...</td>\n      <td>...</td>\n      <td>...</td>\n      <td>...</td>\n      <td>...</td>\n      <td>...</td>\n      <td>...</td>\n      <td>...</td>\n    </tr>\n    <tr>\n      <th>195</th>\n      <td>0.000000e+00</td>\n      <td>0.0</td>\n      <td>1.080835e+08</td>\n      <td>0.000000</td>\n      <td>1.256387e+08</td>\n      <td>0.000118</td>\n      <td>2.866840e+07</td>\n      <td>0.000115</td>\n      <td>1.578502e+08</td>\n      <td>0.0</td>\n      <td>1.339800e+09</td>\n      <td>25.022915</td>\n    </tr>\n    <tr>\n      <th>196</th>\n      <td>0.000000e+00</td>\n      <td>0.0</td>\n      <td>1.080835e+08</td>\n      <td>0.000000</td>\n      <td>1.253972e+08</td>\n      <td>0.000000</td>\n      <td>2.783483e+07</td>\n      <td>0.000000</td>\n      <td>1.578502e+08</td>\n      <td>0.0</td>\n      <td>1.339800e+09</td>\n      <td>0.000000</td>\n    </tr>\n    <tr>\n      <th>197</th>\n      <td>0.000000e+00</td>\n      <td>0.0</td>\n      <td>1.082274e+08</td>\n      <td>0.000068</td>\n      <td>1.253972e+08</td>\n      <td>0.000000</td>\n      <td>2.783483e+07</td>\n      <td>0.000000</td>\n      <td>1.578502e+08</td>\n      <td>0.0</td>\n      <td>1.339800e+09</td>\n      <td>5.041960</td>\n    </tr>\n    <tr>\n      <th>198</th>\n      <td>0.000000e+00</td>\n      <td>0.0</td>\n      <td>1.080835e+08</td>\n      <td>0.000000</td>\n      <td>1.253972e+08</td>\n      <td>0.000000</td>\n      <td>1.384299e+08</td>\n      <td>0.011368</td>\n      <td>1.578502e+08</td>\n      <td>0.0</td>\n      <td>1.339800e+09</td>\n      <td>3439.266233</td>\n    </tr>\n    <tr>\n      <th>199</th>\n      <td>0.000000e+00</td>\n      <td>0.0</td>\n      <td>1.080835e+08</td>\n      <td>0.000000</td>\n      <td>1.253972e+08</td>\n      <td>0.000000</td>\n      <td>2.908099e+07</td>\n      <td>0.000316</td>\n      <td>1.578502e+08</td>\n      <td>0.0</td>\n      <td>1.339800e+09</td>\n      <td>66.423943</td>\n    </tr>\n  </tbody>\n</table>\n<p>200 rows × 12 columns</p>\n</div>"
     },
     "execution_count": 10,
     "metadata": {},
     "output_type": "execute_result"
    }
   ],
   "source": [
    "# only works because we have scalar outcomes\n",
    "pd.DataFrame(outcomes)"
   ]
  },
  {
   "cell_type": "code",
   "execution_count": 11,
   "metadata": {
    "ExecuteTime": {
     "start_time": "2023-06-15T14:14:57.667880Z",
     "end_time": "2023-06-15T14:14:57.751463Z"
    }
   },
   "outputs": [],
   "source": [
    "# defining specific policies\n",
    "# for example,\n",
    "# Policy 0 is a \"do nothing\" policy\n",
    "# policy 1 is about extra protection in upper boundary\n",
    "# policy 2 is about extra protection in lower boundary\n",
    "# policy 3 is extra protection in random locations\n",
    "# policy 4 is performing all room for the river projects in first timestep\n",
    "# Policy 5 is raising all dike-rings with 5 dm\n",
    "# Delta Commission wants ultimate protection of drinkwater and water safety (people)\n",
    "# Environmental interest group want least room for river?\n",
    "# Transport company wants the best protection of roadnetwork, so wants either increase in dike height or rfr on non road networks\n",
    "# Gelderland province wants protection in dike ring 1(heigh dikes, compensation),2(height dikes, compensation),3 (high dikes) and want to give least rfr\n",
    "# Overijssel province wants protection in dike ring 4 (no rfr, ecological farming?) and 5 (high dikes, because city near) and want to give least rfr or Gelderland to give rfr\n",
    "# Rijkswaterstaat wants the road network to be kept in good condition and the state to keep functioning. Everyone should be accessible. Rijkswaterstaat also wants all actors to be content and also have interest in all the dike rings\n",
    "\n",
    "def get_do_nothing_dict():\n",
    "    return {l.name: 0 for l in dike_model.levers}\n",
    "\n",
    "\n",
    "policies = [\n",
    "    Policy(\n",
    "        \"Provinces\",\n",
    "        **dict(\n",
    "            get_do_nothing_dict(),\n",
    "            **{\"1_RfR 1\":1, \"A1_DikeIncrease 0\":5,\"A2_DikeIncrease 0\":5, \"A3_DikeIncrease 0\":10,\"A4_DikeIncrease 0\":5,\"A4_DikeIncrease 0\":10}\n",
    "        )\n",
    "    ),\n",
    "        Policy(\n",
    "        \"proposedpolicyRWS\",\n",
    "        **dict(\n",
    "            get_do_nothing_dict(),\n",
    "            **{\"0_RfR 1\":1, \"A3_DikeIncrease 0\":5, \"A.5_DikeIncrease 0\":5}\n",
    "        )\n",
    "    ),\n",
    "        Policy(\n",
    "        \"Delta Commission\",\n",
    "        **dict(\n",
    "            get_do_nothing_dict(),\n",
    "            **{\"A.1_DikeIncrease 0\":5,\"A.2_DikeIncrease 0\":5,\"A.3_DikeIncrease 0\":5,\"A.4_DikeIncrease 0\":5,\"A.5_DikeIncrease 0\":5}\n",
    "        )\n",
    "    ),\n",
    "]"
   ]
  },
  {
   "cell_type": "code",
   "execution_count": null,
   "metadata": {
    "ExecuteTime": {
     "start_time": "2023-06-05T13:57:04.306968Z",
     "end_time": "2023-06-05T13:58:45.538938Z"
    },
    "pycharm": {
     "is_executing": true
    }
   },
   "outputs": [
    {
     "name": "stderr",
     "output_type": "stream",
     "text": [
      "[MainProcess/INFO] pool started with 8 workers\n",
      "[MainProcess/INFO] performing 250 scenarios * 3 policies * 1 model(s) = 750 experiments\n",
      " 17%|██████▌                                 | 124/750 [00:27<01:58,  5.28it/s]"
     ]
    }
   ],
   "source": [
    "# pass the policies list to EMA workbench experiment runs\n",
    "n_scenarios = 250\n",
    "with MultiprocessingEvaluator(dike_model) as evaluator:\n",
    "    results = evaluator.perform_experiments(n_scenarios, policies)"
   ]
  },
  {
   "cell_type": "code",
   "execution_count": null,
   "metadata": {
    "ExecuteTime": {
     "start_time": "2023-06-05T13:58:45.542536Z",
     "end_time": "2023-06-05T13:58:45.545184Z"
    },
    "pycharm": {
     "is_executing": true
    }
   },
   "outputs": [],
   "source": [
    "experiments, outcomes = results"
   ]
  },
  {
   "cell_type": "code",
   "execution_count": null,
   "metadata": {
    "ExecuteTime": {
     "start_time": "2023-06-05T13:58:45.545184Z",
     "end_time": "2023-06-05T13:58:45.570592Z"
    },
    "pycharm": {
     "is_executing": true
    }
   },
   "outputs": [],
   "source": [
    "# only works because we have scalar outcomes\n",
    "pd.DataFrame(outcomes)"
   ]
  },
  {
   "cell_type": "code",
   "execution_count": null,
   "outputs": [],
   "source": [
    "experiments"
   ],
   "metadata": {
    "collapsed": false,
    "ExecuteTime": {
     "start_time": "2023-06-05T13:58:45.570592Z",
     "end_time": "2023-06-05T13:58:45.660804Z"
    },
    "pycharm": {
     "is_executing": true
    }
   }
  },
  {
   "cell_type": "code",
   "execution_count": null,
   "outputs": [],
   "source": [
    "policies = experiments['policy']\n",
    "data = pd.DataFrame.from_dict(outcomes)\n",
    "data['policy'] = policies"
   ],
   "metadata": {
    "collapsed": false,
    "ExecuteTime": {
     "start_time": "2023-06-05T13:58:45.600588Z",
     "end_time": "2023-06-05T13:58:45.660804Z"
    },
    "pycharm": {
     "is_executing": true
    }
   }
  },
  {
   "cell_type": "code",
   "execution_count": null,
   "outputs": [],
   "source": [
    "data"
   ],
   "metadata": {
    "collapsed": false,
    "ExecuteTime": {
     "start_time": "2023-06-05T13:58:45.607997Z",
     "end_time": "2023-06-05T13:58:45.676426Z"
    },
    "pycharm": {
     "is_executing": true
    }
   }
  },
  {
   "cell_type": "code",
   "execution_count": null,
   "outputs": [],
   "source": [
    "sns.pairplot(data, hue='policy',  vars=outcomes.keys(), )\n",
    "plt.show()"
   ],
   "metadata": {
    "collapsed": false,
    "ExecuteTime": {
     "start_time": "2023-06-05T13:58:45.629557Z",
     "end_time": "2023-06-05T13:59:28.935609Z"
    },
    "pycharm": {
     "is_executing": true
    }
   }
  },
  {
   "cell_type": "markdown",
   "source": [
    "What is the impact of each uncertainty to the outcomes? -> Feature scoring"
   ],
   "metadata": {
    "collapsed": false
   }
  },
  {
   "cell_type": "code",
   "execution_count": null,
   "outputs": [],
   "source": [
    "from ema_workbench.analysis import feature_scoring\n",
    "\n",
    "x = experiments\n",
    "y = outcomes\n",
    "\n",
    "fs = feature_scoring.get_feature_scores_all(x, y)\n",
    "sns.heatmap(fs, cmap=\"viridis\", annot=True)\n",
    "plt.show()"
   ],
   "metadata": {
    "collapsed": false,
    "ExecuteTime": {
     "start_time": "2023-06-05T13:59:28.935609Z",
     "end_time": "2023-06-05T13:59:32.220790Z"
    },
    "pycharm": {
     "is_executing": true
    }
   }
  },
  {
   "cell_type": "markdown",
   "source": [
    "Dit voor Rijkswaterstaat; 0 polciy met alleen EWS op 3 dagen"
   ],
   "metadata": {
    "collapsed": false
   }
  },
  {
   "cell_type": "code",
   "execution_count": null,
   "outputs": [],
   "source": [
    "# Model set-up\n",
    "import pandas as pd\n",
    "import networkx as nx\n",
    "\n",
    "# make sure pandas is version 1.0 or higher\n",
    "# make sure networkx is verion 2.4 or higher\n",
    "print(pd.__version__)\n",
    "print(nx.__version__)\n",
    "from ema_workbench import (\n",
    "    ema_logging,\n",
    "    MultiprocessingEvaluator,\n",
    "    Policy\n",
    ")\n",
    "from problem_formulation import get_model_for_problem_formulation\n",
    "\n",
    "### Problem formulation\n",
    "ema_logging.log_to_stderr(ema_logging.INFO)\n",
    "\n",
    "# choose problem formulation number, between 0-5\n",
    "# each problem formulation has its own list of outcomes\n",
    "# we chose #2 because Rijkswaterstaat is interested in highly aggregated outcomes\n",
    "dike_model, planning_steps = get_model_for_problem_formulation(2)\n",
    "\n",
    "\n",
    "### Model zero policies\n",
    "def get_do_nothing_dict():\n",
    "    return {l.name: 0 for l in dike_model.levers}\n",
    "\n",
    "\n",
    "policies = [\n",
    "    Policy(\n",
    "        \"policy 0\",\n",
    "        **dict(\n",
    "            get_do_nothing_dict(),\n",
    "            **{}\n",
    "        )\n",
    "    ),\n",
    "    Policy(\n",
    "        \"policy 1:day to threat\",\n",
    "        **dict(\n",
    "            get_do_nothing_dict(),\n",
    "            **{\"0_RfR 0\": 1}\n",
    "        )\n",
    "    )\n",
    "]\n"
   ],
   "metadata": {
    "collapsed": false,
    "ExecuteTime": {
     "start_time": "2023-06-14T14:33:38.816824Z",
     "end_time": "2023-06-14T14:33:40.737054Z"
    },
    "pycharm": {
     "is_executing": true
    }
   }
  },
  {
   "cell_type": "code",
   "execution_count": null,
   "outputs": [],
   "source": [
    "scenarios_RWS = 5000\n",
    "# running the model through EMA workbench\n",
    "with MultiprocessingEvaluator(dike_model, n_processes= -1) as evaluator:\n",
    "    results_RWS = evaluator.perform_experiments(scenarios_RWS, policies)\n",
    "\n",
    "experiments_RWS, outcomes_RWS = results_RWS\n",
    "# Policy distinction is necessary because of the legend.\n",
    "policies = experiments_RWS['policy']\n",
    "outcomes_RWS = pd.DataFrame.from_dict(outcomes_RWS)\n",
    "outcomes_RWS['policy'] = policies"
   ],
   "metadata": {
    "collapsed": false,
    "ExecuteTime": {
     "start_time": "2023-06-14T14:33:41.804063Z",
     "end_time": "2023-06-14T14:53:27.421620Z"
    },
    "pycharm": {
     "is_executing": true
    }
   }
  },
  {
   "cell_type": "code",
   "execution_count": null,
   "outputs": [],
   "source": [
    " # Both saved to the data map as csv file\n",
    "outcomes_RWS.to_csv('data/output_data/outcomes_RWS.csv')\n",
    "experiments_RWS.to_csv('data/output_data/experiments_RWS.csv')"
   ],
   "metadata": {
    "collapsed": false,
    "ExecuteTime": {
     "start_time": "2023-06-14T14:53:30.220602Z",
     "end_time": "2023-06-14T14:53:30.468186Z"
    },
    "pycharm": {
     "is_executing": true
    }
   }
  },
  {
   "cell_type": "markdown",
   "source": [
    "# Outcomes"
   ],
   "metadata": {
    "collapsed": false
   }
  },
  {
   "cell_type": "code",
   "execution_count": null,
   "outputs": [],
   "source": [
    "import numpy as np\n",
    "import scipy as sp\n",
    "import pandas as pd\n",
    "import matplotlib.pyplot as plt\n",
    "import seaborn as sns\n",
    "import networkx as nx\n",
    "\n",
    "# Problem formulation\n",
    "\n",
    "experiments = pd.read_csv('data/output_data/experiments_RWS.csv')\n",
    "outcomes = pd.read_csv('data/output_data/outcomes_RWS.csv')\n",
    "\n",
    "experiments = experiments.drop(columns='Unnamed: 0')\n",
    "outcomes = outcomes.drop(columns='Unnamed: 0')\n",
    "\n",
    "# Multiscatter plot\n",
    "sns.pairplot(outcomes, hue='policy')\n",
    "plt.show()"
   ],
   "metadata": {
    "collapsed": false,
    "ExecuteTime": {
     "start_time": "2023-06-14T14:53:51.076933Z",
     "end_time": "2023-06-14T14:54:07.084274Z"
    },
    "pycharm": {
     "is_executing": true
    }
   }
  },
  {
   "cell_type": "code",
   "execution_count": null,
   "outputs": [],
   "source": [
    "# Feature scoring\n",
    "list_of_uncertainties = ['discount rate 0', 'discount rate 1', 'discount rate 2', \\\n",
    "                         'A.0_ID flood wave shape',\n",
    "                         'A.1_Bmax', 'A.1_pfail', 'A.1_Brate', \\\n",
    "                         'A.2_Bmax', 'A.2_pfail', 'A.2_Brate', \\\n",
    "                         'A.3_Bmax', 'A.3_pfail', 'A.3_Brate', \\\n",
    "                         'A.4_Bmax', 'A.4_pfail', 'A.4_Brate', \\\n",
    "                         'A.5_Bmax', 'A.5_pfail', 'A.5_Brate', ]\n",
    "\n",
    "uncertainty_experiments = experiments.loc[:, list_of_uncertainties]\n",
    "uncertainty_experiments\n",
    "from ema_workbench.analysis import feature_scoring\n",
    "\n",
    "fs = feature_scoring.get_feature_scores_all(uncertainty_experiments, outcomes.drop(columns='policy'))\n",
    "sns.heatmap(fs, cmap=\"viridis\", annot=True)\n",
    "plt.show()"
   ],
   "metadata": {
    "collapsed": false,
    "ExecuteTime": {
     "start_time": "2023-06-14T14:54:17.297224Z",
     "end_time": "2023-06-14T14:54:22.568182Z"
    },
    "pycharm": {
     "is_executing": true
    }
   }
  },
  {
   "cell_type": "code",
   "execution_count": null,
   "outputs": [],
   "source": [
    "# PRIM\n",
    "from ema_workbench.analysis import prim\n",
    "\n",
    "x = uncertainty_experiments\n",
    "y = outcomes['Expected Number of Deaths'] > np.percentile(outcomes['Expected Number of Deaths'], 10)  #\n",
    "# WE MOETEN EEN THRESHOLD NOG KIEZEN!\n",
    "\n",
    "prim_alg = prim.Prim(x, y, threshold=0.5)\n",
    "box1 = prim_alg.find_box()\n",
    "\n",
    "box1.show_tradeoff()\n",
    "plt.show()\n",
    "\n",
    "box1.inspect(20)\n",
    "box1.inspect(20, style=\"graph\")\n",
    "box1.show_pairs_scatter(20)\n",
    "plt.show()"
   ],
   "metadata": {
    "collapsed": false,
    "ExecuteTime": {
     "start_time": "2023-06-14T14:54:22.570850Z",
     "end_time": "2023-06-14T14:54:31.455936Z"
    },
    "pycharm": {
     "is_executing": true
    }
   }
  },
  {
   "cell_type": "code",
   "execution_count": null,
   "outputs": [],
   "source": [
    "# Dimensional stacking\n",
    "from ema_workbench.analysis import dimensional_stacking\n",
    "\n",
    "x = uncertainty_experiments\n",
    "y = outcomes['Expected Number of Deaths'].values < np.percentile(outcomes['Expected Number of Deaths'], 10)\n",
    "dimensional_stacking.create_pivot_plot(x, y)\n",
    "plt.show()"
   ],
   "metadata": {
    "collapsed": false,
    "ExecuteTime": {
     "start_time": "2023-06-14T14:58:17.669496Z",
     "end_time": "2023-06-14T14:58:19.060782Z"
    },
    "pycharm": {
     "is_executing": true
    }
   }
  },
  {
   "cell_type": "code",
   "execution_count": null,
   "outputs": [],
   "source": [],
   "metadata": {
    "collapsed": false,
    "pycharm": {
     "is_executing": true
    }
   }
  }
 ],
 "metadata": {
  "kernelspec": {
   "display_name": "Python 3 (ipykernel)",
   "language": "python",
   "name": "python3"
  },
  "language_info": {
   "codemirror_mode": {
    "name": "ipython",
    "version": 3
   },
   "file_extension": ".py",
   "mimetype": "text/x-python",
   "name": "python",
   "nbconvert_exporter": "python",
   "pygments_lexer": "ipython3",
   "version": "3.9.16"
  }
 },
 "nbformat": 4,
 "nbformat_minor": 4
}
