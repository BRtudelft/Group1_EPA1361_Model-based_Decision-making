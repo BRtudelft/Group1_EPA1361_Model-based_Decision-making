{
 "cells": [
  {
   "cell_type": "code",
   "execution_count": 41,
   "metadata": {
    "collapsed": true,
    "ExecuteTime": {
     "start_time": "2023-06-07T11:38:26.212970Z",
     "end_time": "2023-06-07T11:38:26.290623Z"
    }
   },
   "outputs": [],
   "source": [
    "import numpy as np\n",
    "import scipy as sp\n",
    "import pandas as pd\n",
    "import matplotlib.pyplot as plt\n",
    "import seaborn as sns\n",
    "import networkx as nx"
   ]
  },
  {
   "cell_type": "code",
   "execution_count": 42,
   "outputs": [],
   "source": [
    "import numpy as np\n",
    "import scipy as sp\n",
    "import pandas as pd\n",
    "import matplotlib.pyplot as plt\n",
    "import seaborn as sns\n",
    "import networkx as nx"
   ],
   "metadata": {
    "collapsed": false,
    "ExecuteTime": {
     "start_time": "2023-06-07T11:38:26.296111Z",
     "end_time": "2023-06-07T11:38:26.366929Z"
    }
   }
  },
  {
   "cell_type": "code",
   "execution_count": 43,
   "outputs": [
    {
     "name": "stdout",
     "output_type": "stream",
     "text": [
      "2.0.1\n",
      "3.1\n"
     ]
    }
   ],
   "source": [
    "# make sure pandas is version 1.0 or higher\n",
    "# make sure networkx is verion 2.4 or higher\n",
    "print(pd.__version__)\n",
    "print(nx.__version__)"
   ],
   "metadata": {
    "collapsed": false,
    "ExecuteTime": {
     "start_time": "2023-06-07T11:38:26.372267Z",
     "end_time": "2023-06-07T11:38:26.382485Z"
    }
   }
  },
  {
   "cell_type": "code",
   "execution_count": 44,
   "outputs": [],
   "source": [
    "from ema_workbench import (\n",
    "    Model,\n",
    "    Policy,\n",
    "    ema_logging,\n",
    "    SequentialEvaluator,\n",
    "    MultiprocessingEvaluator,\n",
    ")\n",
    "from dike_model_function import DikeNetwork  # @UnresolvedImport\n",
    "from problem_formulation import get_model_for_problem_formulation, sum_over, sum_over_time\n",
    "\n"
   ],
   "metadata": {
    "collapsed": false,
    "ExecuteTime": {
     "start_time": "2023-06-07T11:38:26.403976Z",
     "end_time": "2023-06-07T11:38:26.424244Z"
    }
   }
  },
  {
   "cell_type": "code",
   "execution_count": 45,
   "outputs": [],
   "source": [
    "ema_logging.log_to_stderr(ema_logging.INFO)\n",
    "\n",
    "# choose problem formulation number, between 0-5\n",
    "# each problem formulation has its own list of outcomes\n",
    "dike_model, planning_steps = get_model_for_problem_formulation(0)"
   ],
   "metadata": {
    "collapsed": false,
    "ExecuteTime": {
     "start_time": "2023-06-07T11:38:26.486949Z",
     "end_time": "2023-06-07T11:38:27.487464Z"
    }
   }
  },
  {
   "cell_type": "code",
   "execution_count": 46,
   "outputs": [
    {
     "name": "stdout",
     "output_type": "stream",
     "text": [
      "CategoricalParameter('discount rate 0', [0, 1, 2, 3])\n",
      "CategoricalParameter('discount rate 1', [0, 1, 2, 3])\n",
      "CategoricalParameter('discount rate 2', [0, 1, 2, 3])\n",
      "IntegerParameter('A.0_ID flood wave shape', 0, 132, resolution=None, default=None, variable_name=['A.0_ID flood wave shape'], pff=False)\n",
      "RealParameter('A.1_Bmax', 30, 350, resolution=None, default=None, variable_name=['A.1_Bmax'], pff=False)\n",
      "RealParameter('A.1_pfail', 0, 1, resolution=None, default=None, variable_name=['A.1_pfail'], pff=False)\n",
      "CategoricalParameter('A.1_Brate', [0, 1, 2])\n",
      "RealParameter('A.2_Bmax', 30, 350, resolution=None, default=None, variable_name=['A.2_Bmax'], pff=False)\n",
      "RealParameter('A.2_pfail', 0, 1, resolution=None, default=None, variable_name=['A.2_pfail'], pff=False)\n",
      "CategoricalParameter('A.2_Brate', [0, 1, 2])\n",
      "RealParameter('A.3_Bmax', 30, 350, resolution=None, default=None, variable_name=['A.3_Bmax'], pff=False)\n",
      "RealParameter('A.3_pfail', 0, 1, resolution=None, default=None, variable_name=['A.3_pfail'], pff=False)\n",
      "CategoricalParameter('A.3_Brate', [0, 1, 2])\n",
      "RealParameter('A.4_Bmax', 30, 350, resolution=None, default=None, variable_name=['A.4_Bmax'], pff=False)\n",
      "RealParameter('A.4_pfail', 0, 1, resolution=None, default=None, variable_name=['A.4_pfail'], pff=False)\n",
      "CategoricalParameter('A.4_Brate', [0, 1, 2])\n",
      "RealParameter('A.5_Bmax', 30, 350, resolution=None, default=None, variable_name=['A.5_Bmax'], pff=False)\n",
      "RealParameter('A.5_pfail', 0, 1, resolution=None, default=None, variable_name=['A.5_pfail'], pff=False)\n",
      "CategoricalParameter('A.5_Brate', [0, 1, 2])\n"
     ]
    }
   ],
   "source": [
    "# enlisting uncertainties, their types (RealParameter/IntegerParameter/CategoricalParameter), lower boundary, and upper boundary\n",
    "import copy\n",
    "\n",
    "for unc in dike_model.uncertainties:\n",
    "    print(repr(unc))\n",
    "\n",
    "uncertainties = copy.deepcopy(dike_model.uncertainties)"
   ],
   "metadata": {
    "collapsed": false,
    "ExecuteTime": {
     "start_time": "2023-06-07T11:38:27.525127Z",
     "end_time": "2023-06-07T11:38:27.541709Z"
    }
   }
  },
  {
   "cell_type": "code",
   "execution_count": 47,
   "outputs": [
    {
     "name": "stdout",
     "output_type": "stream",
     "text": [
      "IntegerParameter('0_RfR 0', 0, 1, resolution=None, default=None, variable_name=['0_RfR 0'], pff=False)\n",
      "IntegerParameter('0_RfR 1', 0, 1, resolution=None, default=None, variable_name=['0_RfR 1'], pff=False)\n",
      "IntegerParameter('0_RfR 2', 0, 1, resolution=None, default=None, variable_name=['0_RfR 2'], pff=False)\n",
      "IntegerParameter('1_RfR 0', 0, 1, resolution=None, default=None, variable_name=['1_RfR 0'], pff=False)\n",
      "IntegerParameter('1_RfR 1', 0, 1, resolution=None, default=None, variable_name=['1_RfR 1'], pff=False)\n",
      "IntegerParameter('1_RfR 2', 0, 1, resolution=None, default=None, variable_name=['1_RfR 2'], pff=False)\n",
      "IntegerParameter('2_RfR 0', 0, 1, resolution=None, default=None, variable_name=['2_RfR 0'], pff=False)\n",
      "IntegerParameter('2_RfR 1', 0, 1, resolution=None, default=None, variable_name=['2_RfR 1'], pff=False)\n",
      "IntegerParameter('2_RfR 2', 0, 1, resolution=None, default=None, variable_name=['2_RfR 2'], pff=False)\n",
      "IntegerParameter('3_RfR 0', 0, 1, resolution=None, default=None, variable_name=['3_RfR 0'], pff=False)\n",
      "IntegerParameter('3_RfR 1', 0, 1, resolution=None, default=None, variable_name=['3_RfR 1'], pff=False)\n",
      "IntegerParameter('3_RfR 2', 0, 1, resolution=None, default=None, variable_name=['3_RfR 2'], pff=False)\n",
      "IntegerParameter('4_RfR 0', 0, 1, resolution=None, default=None, variable_name=['4_RfR 0'], pff=False)\n",
      "IntegerParameter('4_RfR 1', 0, 1, resolution=None, default=None, variable_name=['4_RfR 1'], pff=False)\n",
      "IntegerParameter('4_RfR 2', 0, 1, resolution=None, default=None, variable_name=['4_RfR 2'], pff=False)\n",
      "IntegerParameter('EWS_DaysToThreat', 0, 4, resolution=None, default=None, variable_name=['EWS_DaysToThreat'], pff=False)\n",
      "IntegerParameter('A.1_DikeIncrease 0', 0, 10, resolution=None, default=None, variable_name=['A.1_DikeIncrease 0'], pff=False)\n",
      "IntegerParameter('A.1_DikeIncrease 1', 0, 10, resolution=None, default=None, variable_name=['A.1_DikeIncrease 1'], pff=False)\n",
      "IntegerParameter('A.1_DikeIncrease 2', 0, 10, resolution=None, default=None, variable_name=['A.1_DikeIncrease 2'], pff=False)\n",
      "IntegerParameter('A.2_DikeIncrease 0', 0, 10, resolution=None, default=None, variable_name=['A.2_DikeIncrease 0'], pff=False)\n",
      "IntegerParameter('A.2_DikeIncrease 1', 0, 10, resolution=None, default=None, variable_name=['A.2_DikeIncrease 1'], pff=False)\n",
      "IntegerParameter('A.2_DikeIncrease 2', 0, 10, resolution=None, default=None, variable_name=['A.2_DikeIncrease 2'], pff=False)\n",
      "IntegerParameter('A.3_DikeIncrease 0', 0, 10, resolution=None, default=None, variable_name=['A.3_DikeIncrease 0'], pff=False)\n",
      "IntegerParameter('A.3_DikeIncrease 1', 0, 10, resolution=None, default=None, variable_name=['A.3_DikeIncrease 1'], pff=False)\n",
      "IntegerParameter('A.3_DikeIncrease 2', 0, 10, resolution=None, default=None, variable_name=['A.3_DikeIncrease 2'], pff=False)\n",
      "IntegerParameter('A.4_DikeIncrease 0', 0, 10, resolution=None, default=None, variable_name=['A.4_DikeIncrease 0'], pff=False)\n",
      "IntegerParameter('A.4_DikeIncrease 1', 0, 10, resolution=None, default=None, variable_name=['A.4_DikeIncrease 1'], pff=False)\n",
      "IntegerParameter('A.4_DikeIncrease 2', 0, 10, resolution=None, default=None, variable_name=['A.4_DikeIncrease 2'], pff=False)\n",
      "IntegerParameter('A.5_DikeIncrease 0', 0, 10, resolution=None, default=None, variable_name=['A.5_DikeIncrease 0'], pff=False)\n",
      "IntegerParameter('A.5_DikeIncrease 1', 0, 10, resolution=None, default=None, variable_name=['A.5_DikeIncrease 1'], pff=False)\n",
      "IntegerParameter('A.5_DikeIncrease 2', 0, 10, resolution=None, default=None, variable_name=['A.5_DikeIncrease 2'], pff=False)\n"
     ]
    }
   ],
   "source": [
    "# enlisting policy levers, their types (RealParameter/IntegerParameter), lower boundary, and upper boundary\n",
    "for policy in dike_model.levers:\n",
    "    print(repr(policy))\n",
    "\n",
    "levers = copy.deepcopy(dike_model.levers)"
   ],
   "metadata": {
    "collapsed": false,
    "ExecuteTime": {
     "start_time": "2023-06-07T11:38:27.564125Z",
     "end_time": "2023-06-07T11:38:27.592108Z"
    }
   }
  },
  {
   "cell_type": "code",
   "execution_count": 48,
   "outputs": [
    {
     "name": "stdout",
     "output_type": "stream",
     "text": [
      "ScalarOutcome('All Costs', variable_name=('A.1_Expected Annual Damage', 'A.2_Expected Annual Damage', 'A.3_Expected Annual Damage', 'A.4_Expected Annual Damage', 'A.5_Expected Annual Damage', 'A.1_Dike Investment Costs', 'A.2_Dike Investment Costs', 'A.3_Dike Investment Costs', 'A.4_Dike Investment Costs', 'A.5_Dike Investment Costs', 'RfR Total Costs', 'Expected Evacuation Costs'), function=<function sum_over at 0x124b422a0>)\n",
      "ScalarOutcome('Expected Number of Deaths', variable_name=('A.1_Expected Number of Deaths', 'A.2_Expected Number of Deaths', 'A.3_Expected Number of Deaths', 'A.4_Expected Number of Deaths', 'A.5_Expected Number of Deaths'), function=<function sum_over at 0x124b422a0>)\n"
     ]
    }
   ],
   "source": [
    "# enlisting outcomes\n",
    "for outcome in dike_model.outcomes:\n",
    "    print(repr(outcome))"
   ],
   "metadata": {
    "collapsed": false,
    "ExecuteTime": {
     "start_time": "2023-06-07T11:38:27.582021Z",
     "end_time": "2023-06-07T11:38:27.592675Z"
    }
   }
  },
  {
   "cell_type": "code",
   "execution_count": 49,
   "outputs": [
    {
     "name": "stderr",
     "output_type": "stream",
     "text": [
      "[MainProcess/INFO] pool started with 4 workers\n",
      "[MainProcess/INFO] performing 50 scenarios * 4 policies * 1 model(s) = 200 experiments\n",
      "100%|████████████████████████████████████████| 200/200 [01:01<00:00,  3.27it/s]\n",
      "[MainProcess/INFO] experiments finished\n",
      "[MainProcess/INFO] terminating pool\n"
     ]
    }
   ],
   "source": [
    "# running the model through EMA workbench\n",
    "with MultiprocessingEvaluator(dike_model) as evaluator:\n",
    "    results = evaluator.perform_experiments(scenarios=50, policies=4)"
   ],
   "metadata": {
    "collapsed": false,
    "ExecuteTime": {
     "start_time": "2023-06-07T11:38:27.612329Z",
     "end_time": "2023-06-07T11:39:45.716922Z"
    }
   }
  },
  {
   "cell_type": "code",
   "execution_count": 50,
   "outputs": [
    {
     "name": "stdout",
     "output_type": "stream",
     "text": [
      "dict_keys(['All Costs', 'Expected Number of Deaths'])\n"
     ]
    },
    {
     "data": {
      "text/plain": "     A.0_ID flood wave shape    A.1_Bmax A.1_Brate  A.1_pfail    A.2_Bmax   \n0                         38  168.735147       1.0   0.664375  172.300581  \\\n1                         86   92.351841       1.5   0.008415  298.042149   \n2                         60  206.334366       1.0   0.977028  288.649930   \n3                         77  342.418796      10.0   0.773943   85.935307   \n4                         48  239.036942      10.0   0.861787  331.684756   \n..                       ...         ...       ...        ...         ...   \n195                       83  251.330690       1.5   0.193897  227.560833   \n196                       23  212.473481       1.5   0.883131   72.566660   \n197                       88  102.158067       1.5   0.629903  257.211455   \n198                       96  122.004126      10.0   0.996169  244.617339   \n199                       99  146.516675       1.0   0.477898  211.549850   \n\n    A.2_Brate  A.2_pfail    A.3_Bmax A.3_Brate  A.3_pfail  ...   \n0        10.0   0.785289  122.020328       1.0   0.621984  ...  \\\n1         1.0   0.016538   69.758774      10.0   0.667847  ...   \n2         1.5   0.512781  181.448668      10.0   0.647655  ...   \n3        10.0   0.318704   92.060486      10.0   0.186670  ...   \n4        10.0   0.569022  150.240045       1.0   0.040660  ...   \n..        ...        ...         ...       ...        ...  ...   \n195      10.0   0.471072  104.288768      10.0   0.733045  ...   \n196      10.0   0.385941  243.027289       1.0   0.581654  ...   \n197       1.0   0.744322  329.073740       1.5   0.336118  ...   \n198      10.0   0.848496  290.116319       1.0   0.377999  ...   \n199       1.5   0.594880  272.255106       1.0   0.809862  ...   \n\n     A.4_DikeIncrease 0 A.4_DikeIncrease 1  A.4_DikeIncrease 2   \n0                     1                  6                  10  \\\n1                     1                  6                  10   \n2                     1                  6                  10   \n3                     1                  6                  10   \n4                     1                  6                  10   \n..                  ...                ...                 ...   \n195                   8                  8                   8   \n196                   8                  8                   8   \n197                   8                  8                   8   \n198                   8                  8                   8   \n199                   8                  8                   8   \n\n     A.5_DikeIncrease 0 A.5_DikeIncrease 1  A.5_DikeIncrease 2   \n0                     5                  1                   8  \\\n1                     5                  1                   8   \n2                     5                  1                   8   \n3                     5                  1                   8   \n4                     5                  1                   8   \n..                  ...                ...                 ...   \n195                   2                  3                   2   \n196                   2                  3                   2   \n197                   2                  3                   2   \n198                   2                  3                   2   \n199                   2                  3                   2   \n\n    EWS_DaysToThreat scenario policy     model  \n0                  4      312    308  dikesnet  \n1                  4      313    308  dikesnet  \n2                  4      314    308  dikesnet  \n3                  4      315    308  dikesnet  \n4                  4      316    308  dikesnet  \n..               ...      ...    ...       ...  \n195                1      357    311  dikesnet  \n196                1      358    311  dikesnet  \n197                1      359    311  dikesnet  \n198                1      360    311  dikesnet  \n199                1      361    311  dikesnet  \n\n[200 rows x 53 columns]",
      "text/html": "<div>\n<style scoped>\n    .dataframe tbody tr th:only-of-type {\n        vertical-align: middle;\n    }\n\n    .dataframe tbody tr th {\n        vertical-align: top;\n    }\n\n    .dataframe thead th {\n        text-align: right;\n    }\n</style>\n<table border=\"1\" class=\"dataframe\">\n  <thead>\n    <tr style=\"text-align: right;\">\n      <th></th>\n      <th>A.0_ID flood wave shape</th>\n      <th>A.1_Bmax</th>\n      <th>A.1_Brate</th>\n      <th>A.1_pfail</th>\n      <th>A.2_Bmax</th>\n      <th>A.2_Brate</th>\n      <th>A.2_pfail</th>\n      <th>A.3_Bmax</th>\n      <th>A.3_Brate</th>\n      <th>A.3_pfail</th>\n      <th>...</th>\n      <th>A.4_DikeIncrease 0</th>\n      <th>A.4_DikeIncrease 1</th>\n      <th>A.4_DikeIncrease 2</th>\n      <th>A.5_DikeIncrease 0</th>\n      <th>A.5_DikeIncrease 1</th>\n      <th>A.5_DikeIncrease 2</th>\n      <th>EWS_DaysToThreat</th>\n      <th>scenario</th>\n      <th>policy</th>\n      <th>model</th>\n    </tr>\n  </thead>\n  <tbody>\n    <tr>\n      <th>0</th>\n      <td>38</td>\n      <td>168.735147</td>\n      <td>1.0</td>\n      <td>0.664375</td>\n      <td>172.300581</td>\n      <td>10.0</td>\n      <td>0.785289</td>\n      <td>122.020328</td>\n      <td>1.0</td>\n      <td>0.621984</td>\n      <td>...</td>\n      <td>1</td>\n      <td>6</td>\n      <td>10</td>\n      <td>5</td>\n      <td>1</td>\n      <td>8</td>\n      <td>4</td>\n      <td>312</td>\n      <td>308</td>\n      <td>dikesnet</td>\n    </tr>\n    <tr>\n      <th>1</th>\n      <td>86</td>\n      <td>92.351841</td>\n      <td>1.5</td>\n      <td>0.008415</td>\n      <td>298.042149</td>\n      <td>1.0</td>\n      <td>0.016538</td>\n      <td>69.758774</td>\n      <td>10.0</td>\n      <td>0.667847</td>\n      <td>...</td>\n      <td>1</td>\n      <td>6</td>\n      <td>10</td>\n      <td>5</td>\n      <td>1</td>\n      <td>8</td>\n      <td>4</td>\n      <td>313</td>\n      <td>308</td>\n      <td>dikesnet</td>\n    </tr>\n    <tr>\n      <th>2</th>\n      <td>60</td>\n      <td>206.334366</td>\n      <td>1.0</td>\n      <td>0.977028</td>\n      <td>288.649930</td>\n      <td>1.5</td>\n      <td>0.512781</td>\n      <td>181.448668</td>\n      <td>10.0</td>\n      <td>0.647655</td>\n      <td>...</td>\n      <td>1</td>\n      <td>6</td>\n      <td>10</td>\n      <td>5</td>\n      <td>1</td>\n      <td>8</td>\n      <td>4</td>\n      <td>314</td>\n      <td>308</td>\n      <td>dikesnet</td>\n    </tr>\n    <tr>\n      <th>3</th>\n      <td>77</td>\n      <td>342.418796</td>\n      <td>10.0</td>\n      <td>0.773943</td>\n      <td>85.935307</td>\n      <td>10.0</td>\n      <td>0.318704</td>\n      <td>92.060486</td>\n      <td>10.0</td>\n      <td>0.186670</td>\n      <td>...</td>\n      <td>1</td>\n      <td>6</td>\n      <td>10</td>\n      <td>5</td>\n      <td>1</td>\n      <td>8</td>\n      <td>4</td>\n      <td>315</td>\n      <td>308</td>\n      <td>dikesnet</td>\n    </tr>\n    <tr>\n      <th>4</th>\n      <td>48</td>\n      <td>239.036942</td>\n      <td>10.0</td>\n      <td>0.861787</td>\n      <td>331.684756</td>\n      <td>10.0</td>\n      <td>0.569022</td>\n      <td>150.240045</td>\n      <td>1.0</td>\n      <td>0.040660</td>\n      <td>...</td>\n      <td>1</td>\n      <td>6</td>\n      <td>10</td>\n      <td>5</td>\n      <td>1</td>\n      <td>8</td>\n      <td>4</td>\n      <td>316</td>\n      <td>308</td>\n      <td>dikesnet</td>\n    </tr>\n    <tr>\n      <th>...</th>\n      <td>...</td>\n      <td>...</td>\n      <td>...</td>\n      <td>...</td>\n      <td>...</td>\n      <td>...</td>\n      <td>...</td>\n      <td>...</td>\n      <td>...</td>\n      <td>...</td>\n      <td>...</td>\n      <td>...</td>\n      <td>...</td>\n      <td>...</td>\n      <td>...</td>\n      <td>...</td>\n      <td>...</td>\n      <td>...</td>\n      <td>...</td>\n      <td>...</td>\n      <td>...</td>\n    </tr>\n    <tr>\n      <th>195</th>\n      <td>83</td>\n      <td>251.330690</td>\n      <td>1.5</td>\n      <td>0.193897</td>\n      <td>227.560833</td>\n      <td>10.0</td>\n      <td>0.471072</td>\n      <td>104.288768</td>\n      <td>10.0</td>\n      <td>0.733045</td>\n      <td>...</td>\n      <td>8</td>\n      <td>8</td>\n      <td>8</td>\n      <td>2</td>\n      <td>3</td>\n      <td>2</td>\n      <td>1</td>\n      <td>357</td>\n      <td>311</td>\n      <td>dikesnet</td>\n    </tr>\n    <tr>\n      <th>196</th>\n      <td>23</td>\n      <td>212.473481</td>\n      <td>1.5</td>\n      <td>0.883131</td>\n      <td>72.566660</td>\n      <td>10.0</td>\n      <td>0.385941</td>\n      <td>243.027289</td>\n      <td>1.0</td>\n      <td>0.581654</td>\n      <td>...</td>\n      <td>8</td>\n      <td>8</td>\n      <td>8</td>\n      <td>2</td>\n      <td>3</td>\n      <td>2</td>\n      <td>1</td>\n      <td>358</td>\n      <td>311</td>\n      <td>dikesnet</td>\n    </tr>\n    <tr>\n      <th>197</th>\n      <td>88</td>\n      <td>102.158067</td>\n      <td>1.5</td>\n      <td>0.629903</td>\n      <td>257.211455</td>\n      <td>1.0</td>\n      <td>0.744322</td>\n      <td>329.073740</td>\n      <td>1.5</td>\n      <td>0.336118</td>\n      <td>...</td>\n      <td>8</td>\n      <td>8</td>\n      <td>8</td>\n      <td>2</td>\n      <td>3</td>\n      <td>2</td>\n      <td>1</td>\n      <td>359</td>\n      <td>311</td>\n      <td>dikesnet</td>\n    </tr>\n    <tr>\n      <th>198</th>\n      <td>96</td>\n      <td>122.004126</td>\n      <td>10.0</td>\n      <td>0.996169</td>\n      <td>244.617339</td>\n      <td>10.0</td>\n      <td>0.848496</td>\n      <td>290.116319</td>\n      <td>1.0</td>\n      <td>0.377999</td>\n      <td>...</td>\n      <td>8</td>\n      <td>8</td>\n      <td>8</td>\n      <td>2</td>\n      <td>3</td>\n      <td>2</td>\n      <td>1</td>\n      <td>360</td>\n      <td>311</td>\n      <td>dikesnet</td>\n    </tr>\n    <tr>\n      <th>199</th>\n      <td>99</td>\n      <td>146.516675</td>\n      <td>1.0</td>\n      <td>0.477898</td>\n      <td>211.549850</td>\n      <td>1.5</td>\n      <td>0.594880</td>\n      <td>272.255106</td>\n      <td>1.0</td>\n      <td>0.809862</td>\n      <td>...</td>\n      <td>8</td>\n      <td>8</td>\n      <td>8</td>\n      <td>2</td>\n      <td>3</td>\n      <td>2</td>\n      <td>1</td>\n      <td>361</td>\n      <td>311</td>\n      <td>dikesnet</td>\n    </tr>\n  </tbody>\n</table>\n<p>200 rows × 53 columns</p>\n</div>"
     },
     "execution_count": 50,
     "metadata": {},
     "output_type": "execute_result"
    }
   ],
   "source": [
    "# observing the simulation runs\n",
    "experiments, outcomes = results\n",
    "print(outcomes.keys())\n",
    "experiments"
   ],
   "metadata": {
    "collapsed": false,
    "ExecuteTime": {
     "start_time": "2023-06-07T11:39:45.803130Z",
     "end_time": "2023-06-07T11:39:45.890435Z"
    }
   }
  },
  {
   "cell_type": "code",
   "execution_count": 51,
   "outputs": [
    {
     "data": {
      "text/plain": "        All Costs  Expected Number of Deaths\n0    1.599132e+09                   0.000163\n1    1.654068e+09                   0.006468\n2    1.596288e+09                   0.000000\n3    1.615880e+09                   0.002488\n4    1.667821e+09                   0.018633\n..            ...                        ...\n195  1.436697e+09                   0.006248\n196  1.444758e+09                   0.008694\n197  1.506249e+09                   0.025946\n198  1.443335e+09                   0.015738\n199  1.435421e+09                   0.004274\n\n[200 rows x 2 columns]",
      "text/html": "<div>\n<style scoped>\n    .dataframe tbody tr th:only-of-type {\n        vertical-align: middle;\n    }\n\n    .dataframe tbody tr th {\n        vertical-align: top;\n    }\n\n    .dataframe thead th {\n        text-align: right;\n    }\n</style>\n<table border=\"1\" class=\"dataframe\">\n  <thead>\n    <tr style=\"text-align: right;\">\n      <th></th>\n      <th>All Costs</th>\n      <th>Expected Number of Deaths</th>\n    </tr>\n  </thead>\n  <tbody>\n    <tr>\n      <th>0</th>\n      <td>1.599132e+09</td>\n      <td>0.000163</td>\n    </tr>\n    <tr>\n      <th>1</th>\n      <td>1.654068e+09</td>\n      <td>0.006468</td>\n    </tr>\n    <tr>\n      <th>2</th>\n      <td>1.596288e+09</td>\n      <td>0.000000</td>\n    </tr>\n    <tr>\n      <th>3</th>\n      <td>1.615880e+09</td>\n      <td>0.002488</td>\n    </tr>\n    <tr>\n      <th>4</th>\n      <td>1.667821e+09</td>\n      <td>0.018633</td>\n    </tr>\n    <tr>\n      <th>...</th>\n      <td>...</td>\n      <td>...</td>\n    </tr>\n    <tr>\n      <th>195</th>\n      <td>1.436697e+09</td>\n      <td>0.006248</td>\n    </tr>\n    <tr>\n      <th>196</th>\n      <td>1.444758e+09</td>\n      <td>0.008694</td>\n    </tr>\n    <tr>\n      <th>197</th>\n      <td>1.506249e+09</td>\n      <td>0.025946</td>\n    </tr>\n    <tr>\n      <th>198</th>\n      <td>1.443335e+09</td>\n      <td>0.015738</td>\n    </tr>\n    <tr>\n      <th>199</th>\n      <td>1.435421e+09</td>\n      <td>0.004274</td>\n    </tr>\n  </tbody>\n</table>\n<p>200 rows × 2 columns</p>\n</div>"
     },
     "execution_count": 51,
     "metadata": {},
     "output_type": "execute_result"
    }
   ],
   "source": [
    "# only works because we have scalar outcomes\n",
    "pd.DataFrame(outcomes)"
   ],
   "metadata": {
    "collapsed": false,
    "ExecuteTime": {
     "start_time": "2023-06-07T11:39:45.898545Z",
     "end_time": "2023-06-07T11:39:45.938589Z"
    }
   }
  },
  {
   "cell_type": "code",
   "execution_count": 52,
   "outputs": [],
   "source": [
    "# defining specific policies\n",
    "# for example,\n",
    "# Policy 0 is a \"do nothing\" policy\n",
    "# policy 1 is about extra protection in upper boundary\n",
    "# policy 2 is about extra protection in lower boundary\n",
    "# policy 3 is extra protection in random locations\n",
    "# policy 4 is performing all room for the river projects in first timestep\n",
    "# Policy 5 is raising all dike-rings with 5 dm\n",
    "\n",
    "# Delta Commission wants ultimate protection of drinkwater and water safety (people)\n",
    "\n",
    "# Environmental interest group want least room for river?\n",
    "\n",
    "# Transport company wants the best protection of roadnetwork, so wants either increase in dike height or rfr on non road networks\n",
    "\n",
    "# Gelderland province wants rfr and money for compensation for 1 and 2, for dike ring 3 they want high dikes. Want dike ring 4 to give rfr, because small.\n",
    "# dike ring 1 rural, rfr rather not, but no dikes due to drought.\n",
    "# dike ring 2 rural, rfr rather not, but no dikes due to drought.\n",
    "# dike ring 3 urban, higher dikes, no rfr. Might suggest recreational water, thus rfr.\n",
    "\n",
    "# Overijssel province don't want rfr and want higher dikes near city. They want Gelderland to give rfr in 1 and 2, because it positively impacts them, makes sense due to upstream. Voor 4 is verhoging van dijken een probleem ivm watervoorziening tijdens droogte. Boeren zijn gewillig voor compensatie.\n",
    "# dike ring 4 rural, want no higher dikes due to drought and no rfr due to farming, but are willing to get compensation. Rather small rfr, so probably cheap.\n",
    "# dike ring 5 urban, wants higher dikes to protect city, don't have space for rfr.\n",
    "\n",
    "# Rijkswaterstaat wants the road network to be kept in good condition and the state to keep functioning. Everyone should be accessible. Rijkswaterstaat also wants all actors to be content and also have interest in all the dike rings\n",
    "\n",
    "def get_do_nothing_dict():\n",
    "    return {l.name: 0 for l in dike_model.levers}\n",
    "\n",
    "\n",
    "policies = [\n",
    "    Policy(\n",
    "        \"policy 0\",\n",
    "        **dict(\n",
    "            get_do_nothing_dict(),\n",
    "            **{}\n",
    "        )\n",
    "    ),\n",
    "    # Policy(\n",
    "    #     \"policy 1\",\n",
    "    #     **dict(\n",
    "    #         get_do_nothing_dict(),\n",
    "    #         **{\"0_RfR 0\": 1, \"0_RfR 1\": 1, \"0_RfR 2\": 1, \"A.1_DikeIncrease 0\": 5}\n",
    "    #     )\n",
    "    # ),\n",
    "    # Policy(\n",
    "    #     \"policy 2\",\n",
    "    #     **dict(\n",
    "    #         get_do_nothing_dict(),\n",
    "    #         **{\"4_RfR 0\": 1, \"4_RfR 1\": 1, \"4_RfR 2\": 1, \"A.5_DikeIncrease 0\": 5}\n",
    "    #     )\n",
    "    # ),\n",
    "    # Policy(\n",
    "    #     \"policy 3\",\n",
    "    #     **dict(\n",
    "    #         get_do_nothing_dict(),\n",
    "    #         **{\"1_RfR 0\": 1, \"2_RfR 1\": 1, \"3_RfR 2\": 1, \"A.3_DikeIncrease 0\": 5}\n",
    "    #     )\n",
    "    # ),\n",
    "    #\n",
    "    #     Policy(\n",
    "    #     \"policy 4\",\n",
    "    #     **dict(\n",
    "    #         get_do_nothing_dict(),\n",
    "    #         **{\"0_RfR 0\": 1, \"1_RfR 0\": 1, \"2_RfR 0\": 1, \"3_RfR 0\": 1,\"4_RfR 0\": 1}\n",
    "    #     )\n",
    "    # ),\n",
    "        Policy(\n",
    "        \"Rijkswaterstaat\",\n",
    "        **dict(\n",
    "            get_do_nothing_dict(),\n",
    "            **{\"0_RfR 0\": 1, \"1_RfR 0\": 1, \"2_RfR 0\": 1, \"3_RfR 0\": 1, \"A.5_DikeIncrease 0\":5}\n",
    "        )\n",
    "    ),\n",
    "    #     Policy(\n",
    "    #     \"Delta Commission\", #Delta Commission wants to spend least possible, rfr and evac, environment\n",
    "    #     **dict(\n",
    "    #         get_do_nothing_dict(),\n",
    "    #         **{\"0_RfR 0\": 1, \"1_RfR 0\": 1, \"2_RfR 0\": 1, \"3_RfR 0\": 1, \"A.5_DikeIncrease 0\":5}\n",
    "    #     )\n",
    "    # ),\n",
    "    #     Policy(\n",
    "    #     \"Environmental interest group\",\n",
    "    #     **dict(\n",
    "    #         get_do_nothing_dict(),\n",
    "    #         **{\"0_RfR 0\": 1, \"1_RfR 0\": 1, \"2_RfR 0\": 1, \"3_RfR 0\": 1, \"4_RfR 0\": 1}\n",
    "    #     )\n",
    "    # ),\n",
    "    #     Policy(\n",
    "    #     \"Transport company\", #against broadening the river\n",
    "    #     **dict(\n",
    "    #         get_do_nothing_dict(),\n",
    "    #         **{\"A.1_DikeIncrease 0\":5,\"A.2_DikeIncrease 0\":5,\"A.3_DikeIncrease 0\":5,\"A.4_DikeIncrease 0\":5,\"A.5_DikeIncrease 0\":5}\n",
    "    #     )\n",
    "    # ),\n",
    "        Policy(\n",
    "        \"Gelderland province\",\n",
    "        **dict(\n",
    "            get_do_nothing_dict(),\n",
    "            **{\"A.3_DikeIncrease 0\":5, \"A.5_DikeIncrease 0\":5, \"3_RfR 3\": 1}\n",
    "        )\n",
    "    ),\n",
    "            Policy(\n",
    "        \"Dike ring 1\",\n",
    "        **dict(\n",
    "            get_do_nothing_dict(),\n",
    "            **{\"0_RfR 0\":1, \"1_RfR 0\":1, \"3_RfR 0\": 1,\"A.3_DikeIncrease 0\":5, \"A.5_DikeIncrease 0\":5}\n",
    "        )\n",
    "    ),\n",
    "            Policy(\n",
    "        \"Dike ring 2\",\n",
    "        **dict(\n",
    "            get_do_nothing_dict(),\n",
    "            **{\"0_RfR 0\":1, \"1_RfR 0\":1, \"3_RfR 0\": 1,\"A.3_DikeIncrease 0\":5, \"A.5_DikeIncrease 0\":5}\n",
    "        )\n",
    "    ),\n",
    "            Policy(\n",
    "        \"Dike ring 3\",\n",
    "        **dict(\n",
    "            get_do_nothing_dict(),\n",
    "            **{\"0_RfR 0\":1, \"1_RfR 0\":1, \"3_RfR 0\": 1, \"A.3_DikeIncrease 0\":5, \"A.5_DikeIncrease 0\":5}\n",
    "        )\n",
    "    ),\n",
    "        Policy(\n",
    "        \"Overijssel province\",\n",
    "        **dict(\n",
    "            get_do_nothing_dict(),\n",
    "            **{\"0_RfR 0\":1, \"1_RfR 0\":1, \"2_RfR 0\": 1, \"A.5_DikeIncrease 0\":5}\n",
    "        )\n",
    "    ),\n",
    "            Policy(\n",
    "        \"Dike ring 4\",\n",
    "        **dict(\n",
    "            get_do_nothing_dict(),\n",
    "            **{\"0_RfR 0\":1, \"1_RfR 0\":1, \"2_RfR 0\": 1, \"3_RfR 0\": 1, \"A.5_DikeIncrease 0\":5}\n",
    "        )\n",
    "    ),\n",
    "            Policy(\n",
    "        \"Dike ring 5\",\n",
    "        **dict(\n",
    "            get_do_nothing_dict(),\n",
    "            **{\"0_RfR 0\":1, \"1_RfR 0\":1, \"2_RfR 0\": 1, \"3_RfR 0\": 1, \"A.5_DikeIncrease 0\":5}\n",
    "        )\n",
    "    ),\n",
    "]"
   ],
   "metadata": {
    "collapsed": false,
    "ExecuteTime": {
     "start_time": "2023-06-07T11:39:45.906771Z",
     "end_time": "2023-06-07T11:39:45.991031Z"
    }
   }
  },
  {
   "cell_type": "code",
   "execution_count": null,
   "outputs": [
    {
     "name": "stderr",
     "output_type": "stream",
     "text": [
      "[MainProcess/INFO] pool started with 4 workers\n",
      "[MainProcess/INFO] performing 100 scenarios * 9 policies * 1 model(s) = 900 experiments\n",
      " 15%|██████                                  | 136/900 [00:57<05:02,  2.52it/s]"
     ]
    }
   ],
   "source": [
    "# pass the policies list to EMA workbench experiment runs\n",
    "n_scenarios = 100\n",
    "with MultiprocessingEvaluator(dike_model) as evaluator:\n",
    "    results = evaluator.perform_experiments(n_scenarios, policies)"
   ],
   "metadata": {
    "collapsed": false,
    "ExecuteTime": {
     "start_time": "2023-06-05T15:04:29.961896Z",
     "end_time": "2023-06-05T15:07:12.284145Z"
    },
    "pycharm": {
     "is_executing": true
    }
   }
  },
  {
   "cell_type": "code",
   "execution_count": null,
   "outputs": [],
   "source": [
    "experiments, outcomes = results"
   ],
   "metadata": {
    "collapsed": false,
    "ExecuteTime": {
     "start_time": "2023-06-05T15:07:12.288093Z",
     "end_time": "2023-06-05T15:07:12.290741Z"
    },
    "pycharm": {
     "is_executing": true
    }
   }
  },
  {
   "cell_type": "code",
   "execution_count": null,
   "outputs": [],
   "source": [
    "# only works because we have scalar outcomes\n",
    "pd.DataFrame(outcomes)"
   ],
   "metadata": {
    "collapsed": false,
    "ExecuteTime": {
     "start_time": "2023-06-05T15:07:12.295752Z",
     "end_time": "2023-06-05T15:07:12.333592Z"
    },
    "pycharm": {
     "is_executing": true
    }
   }
  },
  {
   "cell_type": "code",
   "execution_count": null,
   "outputs": [],
   "source": [
    "experiments"
   ],
   "metadata": {
    "collapsed": false,
    "ExecuteTime": {
     "start_time": "2023-06-05T15:07:12.346796Z",
     "end_time": "2023-06-05T15:07:12.435519Z"
    },
    "pycharm": {
     "is_executing": true
    }
   }
  },
  {
   "cell_type": "code",
   "execution_count": null,
   "outputs": [],
   "source": [
    "policies = experiments['policy']\n",
    "data = pd.DataFrame.from_dict(outcomes)\n",
    "data['policy'] = policies"
   ],
   "metadata": {
    "collapsed": false,
    "ExecuteTime": {
     "start_time": "2023-06-05T15:07:12.366228Z",
     "end_time": "2023-06-05T15:07:12.444200Z"
    },
    "pycharm": {
     "is_executing": true
    }
   }
  },
  {
   "cell_type": "code",
   "execution_count": null,
   "outputs": [],
   "source": [
    "data"
   ],
   "metadata": {
    "collapsed": false,
    "ExecuteTime": {
     "start_time": "2023-06-05T15:07:12.378580Z",
     "end_time": "2023-06-05T15:07:12.449748Z"
    },
    "pycharm": {
     "is_executing": true
    }
   }
  },
  {
   "cell_type": "code",
   "execution_count": null,
   "outputs": [],
   "source": [
    "sns.pairplot(data, hue='policy',  vars=outcomes.keys(), )\n",
    "plt.show()"
   ],
   "metadata": {
    "collapsed": false,
    "ExecuteTime": {
     "start_time": "2023-06-05T15:07:12.395113Z",
     "end_time": "2023-06-05T15:07:14.764181Z"
    },
    "pycharm": {
     "is_executing": true
    }
   }
  },
  {
   "cell_type": "markdown",
   "source": [
    "What is the impact of each uncertainty to the outcomes? -> Feature scoring"
   ],
   "metadata": {
    "collapsed": false
   }
  },
  {
   "cell_type": "code",
   "execution_count": null,
   "outputs": [],
   "source": [
    "from ema_workbench.analysis import feature_scoring\n",
    "\n",
    "x = experiments\n",
    "y = outcomes\n",
    "\n",
    "fs = feature_scoring.get_feature_scores_all(x, y)\n",
    "sns.heatmap(fs, cmap=\"viridis\", annot=True)\n",
    "plt.show()"
   ],
   "metadata": {
    "collapsed": false,
    "ExecuteTime": {
     "start_time": "2023-06-05T15:07:14.766707Z",
     "end_time": "2023-06-05T15:07:15.719508Z"
    },
    "pycharm": {
     "is_executing": true
    }
   }
  }
 ],
 "metadata": {
  "kernelspec": {
   "display_name": "Python 3",
   "language": "python",
   "name": "python3"
  },
  "language_info": {
   "codemirror_mode": {
    "name": "ipython",
    "version": 2
   },
   "file_extension": ".py",
   "mimetype": "text/x-python",
   "name": "python",
   "nbconvert_exporter": "python",
   "pygments_lexer": "ipython2",
   "version": "2.7.6"
  }
 },
 "nbformat": 4,
 "nbformat_minor": 0
}
