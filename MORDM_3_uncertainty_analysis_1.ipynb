{
 "cells": [
  {
   "cell_type": "markdown",
   "source": [
    "# Uncertainty analysis\n",
    "\n",
    "In this part the candidate solutions provide by the previous step are tested on their robustness level as this is prefered by our client, Rijkswaterstaat. Two metrics are applied to identify the level of robustness being; the Signal-to-Noise ratio and the Maximum regret value.\n",
    "\n",
    "> 2 csv files gemaakt met outcomes en experiments van de 9 policies over 5000 scenarios\n",
    "> Kort uitleggen wat signal-to-noise en maximum regret eigenlijk zijn\n",
    "\n"
   ],
   "metadata": {
    "collapsed": false
   }
  },
  {
   "cell_type": "markdown",
   "source": [
    "Eerst heb je weer de resultaten vanuit stap 2 met de verschillende policy options.\n",
    "Wanneer dit er teveel zijn kan je nog verder verminderen met extra constraints (kijk document van Kwakkel)\n",
    "De runs van de scenarios moeten in een aparte python file komen te staan.\n",
    "\n",
    "> importeren van de 2 csv files zoals gegenereerd in dike_model_uncertainty_simulation"
   ],
   "metadata": {
    "collapsed": false
   }
  },
  {
   "cell_type": "code",
   "execution_count": 9,
   "outputs": [],
   "source": [
    "# Import necessary libraries\n",
    "import numpy as np\n",
    "import pandas as pd\n",
    "import seaborn as sns\n",
    "import matplotlib.pyplot as plt\n",
    "\n",
    "from ema_workbench import (Model, RealParameter, ScalarOutcome,\n",
    "                           MultiprocessingEvaluator, ema_logging,\n",
    "                           Constant, SequentialEvaluator, Policy)\n",
    "from ema_workbench.analysis import parcoords\n",
    "\n",
    "# Import the dike_model - onduidelijk of dit nodig is\n",
    "from problem_formulation import get_model_for_problem_formulation\n",
    "\n",
    "# Define model\n",
    "dike_model, planning_steps = get_model_for_problem_formulation(2)"
   ],
   "metadata": {
    "collapsed": false,
    "ExecuteTime": {
     "start_time": "2023-06-19T10:04:04.609223Z",
     "end_time": "2023-06-19T10:04:05.700170Z"
    }
   }
  },
  {
   "cell_type": "code",
   "execution_count": 10,
   "outputs": [],
   "source": [
    "policies = pd.read_csv('data/output_data/policies.csv')\n",
    "policies_to_evaluate = []\n",
    "\n",
    "for i, policy in policies.iterrows():\n",
    "    policies_to_evaluate.append(Policy(str(i), **policy.to_dict()))"
   ],
   "metadata": {
    "collapsed": false,
    "ExecuteTime": {
     "start_time": "2023-06-19T10:04:06.166652Z",
     "end_time": "2023-06-19T10:04:06.180230Z"
    }
   }
  },
  {
   "cell_type": "code",
   "execution_count": 11,
   "outputs": [],
   "source": [
    "uncertainty_outcomes = pd.read_csv('data/output_data/outcomes_uncertainty_simulation_5000s.csv')\n",
    "uncertainty_experiments = pd.read_csv('data/output_data/experiments_uncertainty_simulation_5000s.csv')"
   ],
   "metadata": {
    "collapsed": false,
    "ExecuteTime": {
     "start_time": "2023-06-19T10:04:08.267923Z",
     "end_time": "2023-06-19T10:04:09.006221Z"
    }
   }
  },
  {
   "cell_type": "code",
   "execution_count": 6,
   "outputs": [
    {
     "data": {
      "text/plain": "       Unnamed: 0  Expected Annual Damage  Dike Investment Costs  \\\n0               0            1.298340e+07           2.272627e+08   \n1               1            8.960759e+06           2.272627e+08   \n2               2            3.102178e+07           2.272627e+08   \n3               3            2.204922e+09           2.272627e+08   \n4               4            4.365725e+06           2.272627e+08   \n...           ...                     ...                    ...   \n44995       44995            2.576930e+07           1.252766e+08   \n44996       44996            0.000000e+00           1.252766e+08   \n44997       44997            2.898542e+08           1.252766e+08   \n44998       44998            4.459176e+08           1.252766e+08   \n44999       44999            2.884820e+07           1.252766e+08   \n\n       RfR Investment Costs  Evacuation Costs  Expected Number of Deaths  \\\n0                30700000.0        622.811506                   0.001405   \n1                30700000.0        621.736842                   0.001399   \n2                30700000.0       1749.951117                   0.003745   \n3                30700000.0      25186.549868                   0.182174   \n4                30700000.0        286.858792                   0.000312   \n...                     ...               ...                        ...   \n44995           351800000.0       1870.258571                   0.002317   \n44996           351800000.0          0.000000                   0.000000   \n44997           351800000.0       2804.461927                   0.027663   \n44998           351800000.0       6174.357411                   0.044204   \n44999           351800000.0       1241.513849                   0.007321   \n\n       policy  \n0           0  \n1           0  \n2           0  \n3           0  \n4           0  \n...       ...  \n44995       8  \n44996       8  \n44997       8  \n44998       8  \n44999       8  \n\n[45000 rows x 7 columns]",
      "text/html": "<div>\n<style scoped>\n    .dataframe tbody tr th:only-of-type {\n        vertical-align: middle;\n    }\n\n    .dataframe tbody tr th {\n        vertical-align: top;\n    }\n\n    .dataframe thead th {\n        text-align: right;\n    }\n</style>\n<table border=\"1\" class=\"dataframe\">\n  <thead>\n    <tr style=\"text-align: right;\">\n      <th></th>\n      <th>Unnamed: 0</th>\n      <th>Expected Annual Damage</th>\n      <th>Dike Investment Costs</th>\n      <th>RfR Investment Costs</th>\n      <th>Evacuation Costs</th>\n      <th>Expected Number of Deaths</th>\n      <th>policy</th>\n    </tr>\n  </thead>\n  <tbody>\n    <tr>\n      <th>0</th>\n      <td>0</td>\n      <td>1.298340e+07</td>\n      <td>2.272627e+08</td>\n      <td>30700000.0</td>\n      <td>622.811506</td>\n      <td>0.001405</td>\n      <td>0</td>\n    </tr>\n    <tr>\n      <th>1</th>\n      <td>1</td>\n      <td>8.960759e+06</td>\n      <td>2.272627e+08</td>\n      <td>30700000.0</td>\n      <td>621.736842</td>\n      <td>0.001399</td>\n      <td>0</td>\n    </tr>\n    <tr>\n      <th>2</th>\n      <td>2</td>\n      <td>3.102178e+07</td>\n      <td>2.272627e+08</td>\n      <td>30700000.0</td>\n      <td>1749.951117</td>\n      <td>0.003745</td>\n      <td>0</td>\n    </tr>\n    <tr>\n      <th>3</th>\n      <td>3</td>\n      <td>2.204922e+09</td>\n      <td>2.272627e+08</td>\n      <td>30700000.0</td>\n      <td>25186.549868</td>\n      <td>0.182174</td>\n      <td>0</td>\n    </tr>\n    <tr>\n      <th>4</th>\n      <td>4</td>\n      <td>4.365725e+06</td>\n      <td>2.272627e+08</td>\n      <td>30700000.0</td>\n      <td>286.858792</td>\n      <td>0.000312</td>\n      <td>0</td>\n    </tr>\n    <tr>\n      <th>...</th>\n      <td>...</td>\n      <td>...</td>\n      <td>...</td>\n      <td>...</td>\n      <td>...</td>\n      <td>...</td>\n      <td>...</td>\n    </tr>\n    <tr>\n      <th>44995</th>\n      <td>44995</td>\n      <td>2.576930e+07</td>\n      <td>1.252766e+08</td>\n      <td>351800000.0</td>\n      <td>1870.258571</td>\n      <td>0.002317</td>\n      <td>8</td>\n    </tr>\n    <tr>\n      <th>44996</th>\n      <td>44996</td>\n      <td>0.000000e+00</td>\n      <td>1.252766e+08</td>\n      <td>351800000.0</td>\n      <td>0.000000</td>\n      <td>0.000000</td>\n      <td>8</td>\n    </tr>\n    <tr>\n      <th>44997</th>\n      <td>44997</td>\n      <td>2.898542e+08</td>\n      <td>1.252766e+08</td>\n      <td>351800000.0</td>\n      <td>2804.461927</td>\n      <td>0.027663</td>\n      <td>8</td>\n    </tr>\n    <tr>\n      <th>44998</th>\n      <td>44998</td>\n      <td>4.459176e+08</td>\n      <td>1.252766e+08</td>\n      <td>351800000.0</td>\n      <td>6174.357411</td>\n      <td>0.044204</td>\n      <td>8</td>\n    </tr>\n    <tr>\n      <th>44999</th>\n      <td>44999</td>\n      <td>2.884820e+07</td>\n      <td>1.252766e+08</td>\n      <td>351800000.0</td>\n      <td>1241.513849</td>\n      <td>0.007321</td>\n      <td>8</td>\n    </tr>\n  </tbody>\n</table>\n<p>45000 rows × 7 columns</p>\n</div>"
     },
     "execution_count": 6,
     "metadata": {},
     "output_type": "execute_result"
    }
   ],
   "source": [
    "uncertainty_outcomes"
   ],
   "metadata": {
    "collapsed": false,
    "ExecuteTime": {
     "start_time": "2023-06-19T10:00:22.753924Z",
     "end_time": "2023-06-19T10:00:22.800474Z"
    }
   }
  },
  {
   "cell_type": "code",
   "execution_count": 7,
   "outputs": [
    {
     "data": {
      "text/plain": "       Unnamed: 0  A.0_ID flood wave shape    A.1_Bmax  A.1_Brate  A.1_pfail  \\\n0               0                      119  323.428446        1.5   0.377191   \n1               1                      121  167.993621        1.0   0.901348   \n2               2                       82  176.902307        1.5   0.485454   \n3               3                       25  259.339025        1.5   0.027976   \n4               4                      109  179.274614        1.0   0.655612   \n...           ...                      ...         ...        ...        ...   \n44995       44995                       23  132.589527       10.0   0.444795   \n44996       44996                       47  225.003940        1.0   0.542024   \n44997       44997                       19   55.639644        1.5   0.074683   \n44998       44998                       42  101.033240        1.0   0.069266   \n44999       44999                       88  332.661919        1.0   0.256803   \n\n         A.2_Bmax  A.2_Brate  A.2_pfail    A.3_Bmax  A.3_Brate  ...  \\\n0      131.061323       10.0   0.293888  124.479343        1.0  ...   \n1       42.789516       10.0   0.288916  196.810449        1.5  ...   \n2      314.770470        1.0   0.107622  198.576705        1.5  ...   \n3      117.269882        1.0   0.785194  327.156934        1.5  ...   \n4       53.193314        1.0   0.737245  163.865646       10.0  ...   \n...           ...        ...        ...         ...        ...  ...   \n44995  185.448554        1.0   0.965250  279.006844        1.0  ...   \n44996  243.679358        1.5   0.344594  318.874694       10.0  ...   \n44997  249.368578        1.0   0.668730  138.086117       10.0  ...   \n44998   41.679187       10.0   0.639812  335.528377       10.0  ...   \n44999  129.844963        1.0   0.234234  236.297289        1.5  ...   \n\n       A.3_DikeIncrease 2  A.4_DikeIncrease 0  A.4_DikeIncrease 1  \\\n0                       1                   5                   1   \n1                       1                   5                   1   \n2                       1                   5                   1   \n3                       1                   5                   1   \n4                       1                   5                   1   \n...                   ...                 ...                 ...   \n44995                   0                   2                   3   \n44996                   0                   2                   3   \n44997                   0                   2                   3   \n44998                   0                   2                   3   \n44999                   0                   2                   3   \n\n       A.4_DikeIncrease 2  A.5_DikeIncrease 0  A.5_DikeIncrease 1  \\\n0                       2                   7                   0   \n1                       2                   7                   0   \n2                       2                   7                   0   \n3                       2                   7                   0   \n4                       2                   7                   0   \n...                   ...                 ...                 ...   \n44995                   0                   4                   0   \n44996                   0                   4                   0   \n44997                   0                   4                   0   \n44998                   0                   4                   0   \n44999                   0                   4                   0   \n\n       A.5_DikeIncrease 2  scenario  policy     model  \n0                       0         0       0  dikesnet  \n1                       0         1       0  dikesnet  \n2                       0         2       0  dikesnet  \n3                       0         3       0  dikesnet  \n4                       0         4       0  dikesnet  \n...                   ...       ...     ...       ...  \n44995                   0      4995       8  dikesnet  \n44996                   0      4996       8  dikesnet  \n44997                   0      4997       8  dikesnet  \n44998                   0      4998       8  dikesnet  \n44999                   0      4999       8  dikesnet  \n\n[45000 rows x 54 columns]",
      "text/html": "<div>\n<style scoped>\n    .dataframe tbody tr th:only-of-type {\n        vertical-align: middle;\n    }\n\n    .dataframe tbody tr th {\n        vertical-align: top;\n    }\n\n    .dataframe thead th {\n        text-align: right;\n    }\n</style>\n<table border=\"1\" class=\"dataframe\">\n  <thead>\n    <tr style=\"text-align: right;\">\n      <th></th>\n      <th>Unnamed: 0</th>\n      <th>A.0_ID flood wave shape</th>\n      <th>A.1_Bmax</th>\n      <th>A.1_Brate</th>\n      <th>A.1_pfail</th>\n      <th>A.2_Bmax</th>\n      <th>A.2_Brate</th>\n      <th>A.2_pfail</th>\n      <th>A.3_Bmax</th>\n      <th>A.3_Brate</th>\n      <th>...</th>\n      <th>A.3_DikeIncrease 2</th>\n      <th>A.4_DikeIncrease 0</th>\n      <th>A.4_DikeIncrease 1</th>\n      <th>A.4_DikeIncrease 2</th>\n      <th>A.5_DikeIncrease 0</th>\n      <th>A.5_DikeIncrease 1</th>\n      <th>A.5_DikeIncrease 2</th>\n      <th>scenario</th>\n      <th>policy</th>\n      <th>model</th>\n    </tr>\n  </thead>\n  <tbody>\n    <tr>\n      <th>0</th>\n      <td>0</td>\n      <td>119</td>\n      <td>323.428446</td>\n      <td>1.5</td>\n      <td>0.377191</td>\n      <td>131.061323</td>\n      <td>10.0</td>\n      <td>0.293888</td>\n      <td>124.479343</td>\n      <td>1.0</td>\n      <td>...</td>\n      <td>1</td>\n      <td>5</td>\n      <td>1</td>\n      <td>2</td>\n      <td>7</td>\n      <td>0</td>\n      <td>0</td>\n      <td>0</td>\n      <td>0</td>\n      <td>dikesnet</td>\n    </tr>\n    <tr>\n      <th>1</th>\n      <td>1</td>\n      <td>121</td>\n      <td>167.993621</td>\n      <td>1.0</td>\n      <td>0.901348</td>\n      <td>42.789516</td>\n      <td>10.0</td>\n      <td>0.288916</td>\n      <td>196.810449</td>\n      <td>1.5</td>\n      <td>...</td>\n      <td>1</td>\n      <td>5</td>\n      <td>1</td>\n      <td>2</td>\n      <td>7</td>\n      <td>0</td>\n      <td>0</td>\n      <td>1</td>\n      <td>0</td>\n      <td>dikesnet</td>\n    </tr>\n    <tr>\n      <th>2</th>\n      <td>2</td>\n      <td>82</td>\n      <td>176.902307</td>\n      <td>1.5</td>\n      <td>0.485454</td>\n      <td>314.770470</td>\n      <td>1.0</td>\n      <td>0.107622</td>\n      <td>198.576705</td>\n      <td>1.5</td>\n      <td>...</td>\n      <td>1</td>\n      <td>5</td>\n      <td>1</td>\n      <td>2</td>\n      <td>7</td>\n      <td>0</td>\n      <td>0</td>\n      <td>2</td>\n      <td>0</td>\n      <td>dikesnet</td>\n    </tr>\n    <tr>\n      <th>3</th>\n      <td>3</td>\n      <td>25</td>\n      <td>259.339025</td>\n      <td>1.5</td>\n      <td>0.027976</td>\n      <td>117.269882</td>\n      <td>1.0</td>\n      <td>0.785194</td>\n      <td>327.156934</td>\n      <td>1.5</td>\n      <td>...</td>\n      <td>1</td>\n      <td>5</td>\n      <td>1</td>\n      <td>2</td>\n      <td>7</td>\n      <td>0</td>\n      <td>0</td>\n      <td>3</td>\n      <td>0</td>\n      <td>dikesnet</td>\n    </tr>\n    <tr>\n      <th>4</th>\n      <td>4</td>\n      <td>109</td>\n      <td>179.274614</td>\n      <td>1.0</td>\n      <td>0.655612</td>\n      <td>53.193314</td>\n      <td>1.0</td>\n      <td>0.737245</td>\n      <td>163.865646</td>\n      <td>10.0</td>\n      <td>...</td>\n      <td>1</td>\n      <td>5</td>\n      <td>1</td>\n      <td>2</td>\n      <td>7</td>\n      <td>0</td>\n      <td>0</td>\n      <td>4</td>\n      <td>0</td>\n      <td>dikesnet</td>\n    </tr>\n    <tr>\n      <th>...</th>\n      <td>...</td>\n      <td>...</td>\n      <td>...</td>\n      <td>...</td>\n      <td>...</td>\n      <td>...</td>\n      <td>...</td>\n      <td>...</td>\n      <td>...</td>\n      <td>...</td>\n      <td>...</td>\n      <td>...</td>\n      <td>...</td>\n      <td>...</td>\n      <td>...</td>\n      <td>...</td>\n      <td>...</td>\n      <td>...</td>\n      <td>...</td>\n      <td>...</td>\n      <td>...</td>\n    </tr>\n    <tr>\n      <th>44995</th>\n      <td>44995</td>\n      <td>23</td>\n      <td>132.589527</td>\n      <td>10.0</td>\n      <td>0.444795</td>\n      <td>185.448554</td>\n      <td>1.0</td>\n      <td>0.965250</td>\n      <td>279.006844</td>\n      <td>1.0</td>\n      <td>...</td>\n      <td>0</td>\n      <td>2</td>\n      <td>3</td>\n      <td>0</td>\n      <td>4</td>\n      <td>0</td>\n      <td>0</td>\n      <td>4995</td>\n      <td>8</td>\n      <td>dikesnet</td>\n    </tr>\n    <tr>\n      <th>44996</th>\n      <td>44996</td>\n      <td>47</td>\n      <td>225.003940</td>\n      <td>1.0</td>\n      <td>0.542024</td>\n      <td>243.679358</td>\n      <td>1.5</td>\n      <td>0.344594</td>\n      <td>318.874694</td>\n      <td>10.0</td>\n      <td>...</td>\n      <td>0</td>\n      <td>2</td>\n      <td>3</td>\n      <td>0</td>\n      <td>4</td>\n      <td>0</td>\n      <td>0</td>\n      <td>4996</td>\n      <td>8</td>\n      <td>dikesnet</td>\n    </tr>\n    <tr>\n      <th>44997</th>\n      <td>44997</td>\n      <td>19</td>\n      <td>55.639644</td>\n      <td>1.5</td>\n      <td>0.074683</td>\n      <td>249.368578</td>\n      <td>1.0</td>\n      <td>0.668730</td>\n      <td>138.086117</td>\n      <td>10.0</td>\n      <td>...</td>\n      <td>0</td>\n      <td>2</td>\n      <td>3</td>\n      <td>0</td>\n      <td>4</td>\n      <td>0</td>\n      <td>0</td>\n      <td>4997</td>\n      <td>8</td>\n      <td>dikesnet</td>\n    </tr>\n    <tr>\n      <th>44998</th>\n      <td>44998</td>\n      <td>42</td>\n      <td>101.033240</td>\n      <td>1.0</td>\n      <td>0.069266</td>\n      <td>41.679187</td>\n      <td>10.0</td>\n      <td>0.639812</td>\n      <td>335.528377</td>\n      <td>10.0</td>\n      <td>...</td>\n      <td>0</td>\n      <td>2</td>\n      <td>3</td>\n      <td>0</td>\n      <td>4</td>\n      <td>0</td>\n      <td>0</td>\n      <td>4998</td>\n      <td>8</td>\n      <td>dikesnet</td>\n    </tr>\n    <tr>\n      <th>44999</th>\n      <td>44999</td>\n      <td>88</td>\n      <td>332.661919</td>\n      <td>1.0</td>\n      <td>0.256803</td>\n      <td>129.844963</td>\n      <td>1.0</td>\n      <td>0.234234</td>\n      <td>236.297289</td>\n      <td>1.5</td>\n      <td>...</td>\n      <td>0</td>\n      <td>2</td>\n      <td>3</td>\n      <td>0</td>\n      <td>4</td>\n      <td>0</td>\n      <td>0</td>\n      <td>4999</td>\n      <td>8</td>\n      <td>dikesnet</td>\n    </tr>\n  </tbody>\n</table>\n<p>45000 rows × 54 columns</p>\n</div>"
     },
     "execution_count": 7,
     "metadata": {},
     "output_type": "execute_result"
    }
   ],
   "source": [
    "uncertainty_experiments"
   ],
   "metadata": {
    "collapsed": false,
    "ExecuteTime": {
     "start_time": "2023-06-19T10:00:39.245161Z",
     "end_time": "2023-06-19T10:00:39.297042Z"
    }
   }
  },
  {
   "cell_type": "markdown",
   "source": [
    "## Signal-to-noise ratio\n",
    "\n",
    "The Signal-to-noise ratio is executed in three steps. First the definition on how to calculate the Signal-to-noise ratio is given. Next, the Signal-to noise ratio is calculated for every unique policy of which the data is stored in the correct data frame form. Lastly, this data is used to determine the limits of the results and to visualize the outcomes.\n"
   ],
   "metadata": {
    "collapsed": false
   }
  },
  {
   "cell_type": "code",
   "execution_count": 8,
   "outputs": [],
   "source": [
    "#Definition is created on how to calculate the Signal-to-Noise ratio\n",
    "\n",
    "def s_to_n(uncertainty_outcomes, direction):\n",
    "    mean = np.mean(uncertainty_outcomes)\n",
    "    std = np.std(uncertainty_outcomes)\n",
    "\n",
    "#The Signal-to-noise ratio is calculated based upon the direction of each policy.\n",
    "    if direction==ScalarOutcome.MAXIMIZE:\n",
    "        return mean/std\n",
    "    else:\n",
    "        return mean*std"
   ],
   "metadata": {
    "collapsed": false,
    "ExecuteTime": {
     "start_time": "2023-06-19T10:03:24.277705Z",
     "end_time": "2023-06-19T10:03:24.278215Z"
    }
   }
  },
  {
   "cell_type": "markdown",
   "source": [
    "The second step in the process executes the defined method of calculating the Signal-to-Noise ratio and saves the data in a new dataframe. First, the code iterates over every unique policy in the experiments. The next iteration is on the outcomes in which the outcome is pulled for the current policy. These outcomes are used to calculate the Signal-to-noise ratio by utilizing the definition in the previous cell. In the last step these Signal-to-noise results are stored in the \"scores\" dictionary and later added to the \"overall-scores\" dictionary. Finally these results are converted to a data frame and used in the next step."
   ],
   "metadata": {
    "collapsed": false
   }
  },
  {
   "cell_type": "code",
   "execution_count": 15,
   "outputs": [
    {
     "ename": "AttributeError",
     "evalue": "'DataFrame' object has no attribute 'name'",
     "output_type": "error",
     "traceback": [
      "\u001B[1;31m---------------------------------------------------------------------------\u001B[0m",
      "\u001B[1;31mAttributeError\u001B[0m                            Traceback (most recent call last)",
      "\u001B[1;32m~\\AppData\\Local\\Temp\\ipykernel_7448\\2702162027.py\u001B[0m in \u001B[0;36m?\u001B[1;34m()\u001B[0m\n\u001B[0;32m      4\u001B[0m \u001B[1;33m\u001B[0m\u001B[0m\n\u001B[0;32m      5\u001B[0m     \u001B[0mlogical\u001B[0m \u001B[1;33m=\u001B[0m \u001B[0muncertainty_experiments\u001B[0m\u001B[1;33m[\u001B[0m\u001B[1;34m'policy'\u001B[0m\u001B[1;33m]\u001B[0m\u001B[1;33m==\u001B[0m\u001B[0mpolicy\u001B[0m\u001B[1;33m\u001B[0m\u001B[1;33m\u001B[0m\u001B[0m\n\u001B[0;32m      6\u001B[0m \u001B[1;33m\u001B[0m\u001B[0m\n\u001B[0;32m      7\u001B[0m     \u001B[1;32mfor\u001B[0m \u001B[0moutcome\u001B[0m \u001B[1;32min\u001B[0m \u001B[0mdike_model\u001B[0m\u001B[1;33m.\u001B[0m\u001B[0moutcomes\u001B[0m\u001B[1;33m:\u001B[0m\u001B[1;33m\u001B[0m\u001B[1;33m\u001B[0m\u001B[0m\n\u001B[1;32m----> 8\u001B[1;33m         \u001B[0mvalue\u001B[0m  \u001B[1;33m=\u001B[0m \u001B[0muncertainty_outcomes\u001B[0m\u001B[1;33m[\u001B[0m\u001B[0muncertainty_outcomes\u001B[0m\u001B[1;33m.\u001B[0m\u001B[0mname\u001B[0m\u001B[1;33m]\u001B[0m\u001B[1;33m[\u001B[0m\u001B[0mlogical\u001B[0m\u001B[1;33m]\u001B[0m\u001B[1;33m\u001B[0m\u001B[1;33m\u001B[0m\u001B[0m\n\u001B[0m\u001B[0;32m      9\u001B[0m         \u001B[0msn_ratio\u001B[0m \u001B[1;33m=\u001B[0m \u001B[0ms_to_n\u001B[0m\u001B[1;33m(\u001B[0m\u001B[0mvalue\u001B[0m\u001B[1;33m,\u001B[0m \u001B[0muncertainty_outcomes\u001B[0m\u001B[1;33m.\u001B[0m\u001B[0mkind\u001B[0m\u001B[1;33m)\u001B[0m\u001B[1;33m\u001B[0m\u001B[1;33m\u001B[0m\u001B[0m\n\u001B[0;32m     10\u001B[0m         \u001B[0mscores\u001B[0m\u001B[1;33m[\u001B[0m\u001B[0muncertainty_outcomes\u001B[0m\u001B[1;33m.\u001B[0m\u001B[0mname\u001B[0m\u001B[1;33m]\u001B[0m \u001B[1;33m=\u001B[0m \u001B[0msn_ratio\u001B[0m\u001B[1;33m\u001B[0m\u001B[1;33m\u001B[0m\u001B[0m\n\u001B[0;32m     11\u001B[0m     \u001B[0moverall_scores\u001B[0m\u001B[1;33m[\u001B[0m\u001B[0mpolicy\u001B[0m\u001B[1;33m]\u001B[0m \u001B[1;33m=\u001B[0m \u001B[0mscores\u001B[0m\u001B[1;33m\u001B[0m\u001B[1;33m\u001B[0m\u001B[0m\n",
      "\u001B[1;32mC:\\App\\Python\\Lib\\site-packages\\pandas\\core\\generic.py\u001B[0m in \u001B[0;36m?\u001B[1;34m(self, name)\u001B[0m\n\u001B[0;32m   5898\u001B[0m             \u001B[1;32mand\u001B[0m \u001B[0mname\u001B[0m \u001B[1;32mnot\u001B[0m \u001B[1;32min\u001B[0m \u001B[0mself\u001B[0m\u001B[1;33m.\u001B[0m\u001B[0m_accessors\u001B[0m\u001B[1;33m\u001B[0m\u001B[1;33m\u001B[0m\u001B[0m\n\u001B[0;32m   5899\u001B[0m             \u001B[1;32mand\u001B[0m \u001B[0mself\u001B[0m\u001B[1;33m.\u001B[0m\u001B[0m_info_axis\u001B[0m\u001B[1;33m.\u001B[0m\u001B[0m_can_hold_identifiers_and_holds_name\u001B[0m\u001B[1;33m(\u001B[0m\u001B[0mname\u001B[0m\u001B[1;33m)\u001B[0m\u001B[1;33m\u001B[0m\u001B[1;33m\u001B[0m\u001B[0m\n\u001B[0;32m   5900\u001B[0m         ):\n\u001B[0;32m   5901\u001B[0m             \u001B[1;32mreturn\u001B[0m \u001B[0mself\u001B[0m\u001B[1;33m[\u001B[0m\u001B[0mname\u001B[0m\u001B[1;33m]\u001B[0m\u001B[1;33m\u001B[0m\u001B[1;33m\u001B[0m\u001B[0m\n\u001B[1;32m-> 5902\u001B[1;33m         \u001B[1;32mreturn\u001B[0m \u001B[0mobject\u001B[0m\u001B[1;33m.\u001B[0m\u001B[0m__getattribute__\u001B[0m\u001B[1;33m(\u001B[0m\u001B[0mself\u001B[0m\u001B[1;33m,\u001B[0m \u001B[0mname\u001B[0m\u001B[1;33m)\u001B[0m\u001B[1;33m\u001B[0m\u001B[1;33m\u001B[0m\u001B[0m\n\u001B[0m",
      "\u001B[1;31mAttributeError\u001B[0m: 'DataFrame' object has no attribute 'name'"
     ]
    }
   ],
   "source": [
    "overall_scores = {}\n",
    "for policy in np.unique(uncertainty_experiments['policy']):\n",
    "    scores = {}\n",
    "\n",
    "    logical = uncertainty_experiments['policy']==policy\n",
    "\n",
    "    for outcome in dike_model.outcomes:\n",
    "        value  = uncertainty_outcomes[uncertainty_outcomes.name][logical]\n",
    "        sn_ratio = s_to_n(value, uncertainty_outcomes.kind)\n",
    "        scores[uncertainty_outcomes.name] = sn_ratio\n",
    "    overall_scores[policy] = scores\n",
    "scores = pd.DataFrame.from_dict(overall_scores).T\n",
    "scores"
   ],
   "metadata": {
    "collapsed": false
   }
  },
  {
   "cell_type": "markdown",
   "source": [
    "The final step of the Signal-to-noise calculation focuses on the visualization of the results. For this purpose the parcoords method is used and imported from the EMA workbench. As a first step the scores data frame is renamed to \"data\". In a next step the limits of the results for each column are determined and the lower bound of the results is set to zero. Then the data with the limits is plotted using the parcoords method. The axis of the max_P is inverted as a low score for this objective is preferred."
   ],
   "metadata": {
    "collapsed": false
   }
  },
  {
   "cell_type": "code",
   "execution_count": null,
   "outputs": [],
   "source": [
    "from ema_workbench.analysis import parcoords\n",
    "\n",
    "#The data frame is renamed and the result limits are determined for the visualization.\n",
    "data = scores\n",
    "limits = parcoords.get_limits(data)\n",
    "limits.loc[0, ['utility', 'inertia', 'reliability', 'max_P']] = 0\n",
    "\n",
    "#The data is being plotted and the inverted axis is taken of max_P\n",
    "paraxes = parcoords.ParallelAxes(limits)\n",
    "paraxes.plot(data)\n",
    "paraxes.invert_axis('max_P')\n",
    "plt.show()"
   ],
   "metadata": {
    "collapsed": false
   }
  },
  {
   "cell_type": "markdown",
   "source": [
    "## Maximum regret\n",
    "\n",
    "The maximum regret value provides another metric to determine the robustness of a policy. First the regret for each single policy needs to be tested under each scenario. The definition of regret is the difference in performance of a policy between a specific scenario and a reference scenario. The maximum height of this regret is than named as the maximum regret and is preferred to be as low as possible.\n",
    "\n",
    "As we are dealing with outcomes that are preferred to be maximized and minimized, the regret values will not align and will lead to undesirable results. To fix this the absolute value is taken for the regret values so that it is possible to compare the results.\n"
   ],
   "metadata": {
    "collapsed": false
   }
  },
  {
   "cell_type": "markdown",
   "source": [
    "The crucial part of the maximum regret approach is the identification of the best possible outcome for each scenario. To ensure this the following steps were taken in the code.\n",
    "1. Two empty dictionaries are created to capture both the overall regret of the policies and the maximum regret.\n",
    "2. The creation of a dataframe that consists out of the outcome together with the policy and the scenario.\n",
    "3. The dataframe is reshaped by indexing on the policy and the scenario id\n",
    "4. Here the maximum value of each row is taken and applied to calculate the regret.\n",
    "5. Lastly, all the regret results are converted into a dictionary. Moreover, the maximum regret is selected from these results and converted into a separate dictionary."
   ],
   "metadata": {
    "collapsed": false
   }
  },
  {
   "cell_type": "code",
   "execution_count": null,
   "outputs": [],
   "source": [
    "experiments, outcomes = results\n",
    "\n",
    "overall_regret = {}\n",
    "max_regret = {}\n",
    "for outcome in model.outcomes:\n",
    "    policy_column = experiments['policy']\n",
    "\n",
    "    # create a DataFrame with all the relevent information\n",
    "    # i.e., policy, scenario_id, and scores\n",
    "    data = pd.DataFrame({outcome.name: outcomes[outcome.name],\n",
    "                         \"policy\":experiments['policy'],\n",
    "                         \"scenario\":experiments['scenario']})\n",
    "\n",
    "    # reorient the data by indexing with policy and scenario id\n",
    "    data = data.pivot(index='scenario', columns='policy')\n",
    "\n",
    "    # flatten the resulting hierarchical index resulting from\n",
    "    # pivoting, (might be a nicer solution possible)\n",
    "    data.columns = data.columns.get_level_values(1)\n",
    "\n",
    "    # we need to control the broadcasting.\n",
    "    # max returns a 1d vector across scenario id. By passing\n",
    "    # np.newaxis we ensure that the shape is the same as the data\n",
    "    # next we take the absolute value\n",
    "    #\n",
    "    # basically we take the difference of the maximum across\n",
    "    # the row and the actual values in the row\n",
    "    #\n",
    "    outcome_regret = (data.max(axis=1).values[:, np.newaxis] - data).abs()\n",
    "\n",
    "    overall_regret[outcome.name] = outcome_regret\n",
    "    max_regret[outcome.name] = outcome_regret.max()"
   ],
   "metadata": {
    "collapsed": false
   }
  },
  {
   "cell_type": "markdown",
   "source": [],
   "metadata": {
    "collapsed": false
   }
  },
  {
   "cell_type": "code",
   "execution_count": null,
   "outputs": [],
   "source": [
    "max_regret = pd.DataFrame(max_regret)\n",
    "sns.heatmap(max_regret/max_regret.max(), cmap='viridis', annot=True)\n",
    "plt.show()"
   ],
   "metadata": {
    "collapsed": false
   }
  }
 ],
 "metadata": {
  "kernelspec": {
   "display_name": "Python 3",
   "language": "python",
   "name": "python3"
  },
  "language_info": {
   "codemirror_mode": {
    "name": "ipython",
    "version": 2
   },
   "file_extension": ".py",
   "mimetype": "text/x-python",
   "name": "python",
   "nbconvert_exporter": "python",
   "pygments_lexer": "ipython2",
   "version": "2.7.6"
  }
 },
 "nbformat": 4,
 "nbformat_minor": 0
}
