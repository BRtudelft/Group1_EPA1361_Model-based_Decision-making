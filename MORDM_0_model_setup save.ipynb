{
 "cells": [
  {
   "cell_type": "markdown",
   "source": [
    "# Model set-up\n",
    "Run with 2000 scenarios, no policies applies\n",
    "\n",
    "Can be later on added to the first chapter.\n",
    "\n",
    "Imports needed in the model set up are listed below"
   ],
   "metadata": {
    "collapsed": false
   }
  },
  {
   "cell_type": "code",
   "execution_count": 65,
   "outputs": [
    {
     "name": "stdout",
     "output_type": "stream",
     "text": [
      "2.0.1\n",
      "3.1\n"
     ]
    }
   ],
   "source": [
    "import pandas as pd\n",
    "import networkx as nx\n",
    "\n",
    "# make sure pandas is version 1.0 or higher\n",
    "# make sure networkx is verion 2.4 or higher\n",
    "print(pd.__version__)\n",
    "print(nx.__version__)"
   ],
   "metadata": {
    "collapsed": false,
    "ExecuteTime": {
     "start_time": "2023-06-12T15:13:12.090724Z",
     "end_time": "2023-06-12T15:13:12.107183Z"
    }
   }
  },
  {
   "cell_type": "code",
   "execution_count": 66,
   "outputs": [],
   "source": [
    "from ema_workbench import (\n",
    "    ema_logging,\n",
    "    MultiprocessingEvaluator,\n",
    "    Policy\n",
    ")\n",
    "from problem_formulation import get_model_for_problem_formulation"
   ],
   "metadata": {
    "collapsed": false,
    "ExecuteTime": {
     "start_time": "2023-06-12T15:13:12.379246Z",
     "end_time": "2023-06-12T15:13:12.385750Z"
    }
   }
  },
  {
   "cell_type": "markdown",
   "source": [
    "### Problem formulation"
   ],
   "metadata": {
    "collapsed": false
   }
  },
  {
   "cell_type": "code",
   "execution_count": 67,
   "outputs": [],
   "source": [
    "ema_logging.log_to_stderr(ema_logging.INFO)\n",
    "\n",
    "# choose problem formulation number, between 0-5\n",
    "# each problem formulation has its own list of outcomes\n",
    "# we chose #2 because Rijkswaterstaat is interested in highly aggregated outcomes\n",
    "dike_model, planning_steps = get_model_for_problem_formulation(2)"
   ],
   "metadata": {
    "collapsed": false,
    "ExecuteTime": {
     "start_time": "2023-06-12T15:13:14.495017Z",
     "end_time": "2023-06-12T15:13:14.627646Z"
    }
   }
  },
  {
   "cell_type": "markdown",
   "source": [
    "### Model zero policies"
   ],
   "metadata": {
    "collapsed": false,
    "ExecuteTime": {
     "start_time": "2023-06-12T11:15:24.328204Z",
     "end_time": "2023-06-12T11:15:24.331014Z"
    }
   },
   "outputs": [],
   "execution_count": 4
  },
  {
   "cell_type": "code",
   "execution_count": 68,
   "outputs": [],
   "source": [
    "def get_do_nothing_dict():\n",
    "    return {l.name: 0 for l in dike_model.levers}\n",
    "\n",
    "\n",
    "policies = [\n",
    "    Policy(\n",
    "        \"policy 0\",\n",
    "        **dict(\n",
    "            get_do_nothing_dict(),\n",
    "            **{}\n",
    "        )\n",
    "    )\n",
    "]"
   ],
   "metadata": {
    "collapsed": false,
    "ExecuteTime": {
     "start_time": "2023-06-12T15:13:15.592839Z",
     "end_time": "2023-06-12T15:13:15.596737Z"
    }
   }
  },
  {
   "cell_type": "markdown",
   "source": [
    "Run model #1:\n",
    "\n",
    "Assumptions:\n",
    "Scenario's: 2000\n",
    "Policy's: 0\n",
    "\n",
    "We chose to run the setup with 0 policies because those will be completely random\n",
    "and not useful for further analysis, but it would increase the runtime significantly."
   ],
   "metadata": {
    "collapsed": false
   }
  },
  {
   "cell_type": "code",
   "execution_count": 69,
   "outputs": [],
   "source": [
    "scenarios_base = 5000"
   ],
   "metadata": {
    "collapsed": false,
    "ExecuteTime": {
     "start_time": "2023-06-12T15:13:17.318631Z",
     "end_time": "2023-06-12T15:13:17.327780Z"
    }
   }
  },
  {
   "cell_type": "code",
   "execution_count": 70,
   "outputs": [
    {
     "name": "stderr",
     "output_type": "stream",
     "text": [
      "[MainProcess/INFO] pool started with 12 workers\n",
      "[MainProcess/INFO] performing 5000 scenarios * 1 policies * 1 model(s) = 5000 experiments\n",
      "100%|██████████████████████████████████████| 5000/5000 [06:31<00:00, 12.76it/s]\n",
      "[MainProcess/INFO] experiments finished\n",
      "[MainProcess/INFO] terminating pool\n"
     ]
    }
   ],
   "source": [
    "# running the model through EMA workbench\n",
    "with MultiprocessingEvaluator(dike_model, n_processes=-1) as evaluator:\n",
    "    results_base = evaluator.perform_experiments(scenarios_base, policies)"
   ],
   "metadata": {
    "collapsed": false,
    "ExecuteTime": {
     "start_time": "2023-06-12T15:13:17.879794Z",
     "end_time": "2023-06-12T15:20:11.181392Z"
    }
   }
  },
  {
   "cell_type": "markdown",
   "source": [
    "Results of 2000 scenarios and 0 policies saved to csv"
   ],
   "metadata": {
    "collapsed": false,
    "ExecuteTime": {
     "start_time": "2023-06-12T11:15:24.333010Z",
     "end_time": "2023-06-12T11:19:19.661577Z"
    }
   },
   "outputs": [
    {
     "name": "stderr",
     "output_type": "stream",
     "text": [
      "[MainProcess/INFO] pool started with 12 workers\n",
      "[MainProcess/INFO] performing 2000 scenarios * 1 policies * 1 model(s) = 2000 experiments\n",
      "100%|██████████████████████████████████████| 2000/2000 [03:33<00:00,  9.35it/s]\n",
      "[MainProcess/INFO] experiments finished\n",
      "[MainProcess/INFO] terminating pool\n"
     ]
    }
   ],
   "execution_count": 5
  },
  {
   "cell_type": "code",
   "execution_count": 71,
   "outputs": [],
   "source": [
    "experiments_base, outcomes_base = results_base\n",
    "# Policy distinction is necessary because of the legend.\n",
    "policies = experiments_base['policy']\n",
    "outcomes_2000s_0p = pd.DataFrame.from_dict(outcomes_base)\n",
    "outcomes_2000s_0p['policy'] = policies"
   ],
   "metadata": {
    "collapsed": false,
    "ExecuteTime": {
     "start_time": "2023-06-12T15:20:14.152855Z",
     "end_time": "2023-06-12T15:20:14.160195Z"
    }
   }
  },
  {
   "cell_type": "code",
   "execution_count": 72,
   "outputs": [
    {
     "data": {
      "text/plain": "      Expected Annual Damage  Dike Investment Costs  RfR Investment Costs   \n0               8.731065e+08                      0                   0.0  \\\n1               3.737378e+08                      0                   0.0   \n2               2.686783e+09                      0                   0.0   \n3               1.863891e+08                      0                   0.0   \n4               1.585577e+08                      0                   0.0   \n...                      ...                    ...                   ...   \n4995            2.203876e+09                      0                   0.0   \n4996            1.887812e+08                      0                   0.0   \n4997            2.112066e+08                      0                   0.0   \n4998            2.967097e+08                      0                   0.0   \n4999            2.790139e+09                      0                   0.0   \n\n      Evacuation Costs  Expected Number of Deaths    policy  \n0                  0.0                   0.904528  policy 0  \n1                  0.0                   0.238125  policy 0  \n2                  0.0                   1.553294  policy 0  \n3                  0.0                   0.226572  policy 0  \n4                  0.0                   0.126337  policy 0  \n...                ...                        ...       ...  \n4995               0.0                   3.367279  policy 0  \n4996               0.0                   0.224633  policy 0  \n4997               0.0                   0.210737  policy 0  \n4998               0.0                   0.176772  policy 0  \n4999               0.0                   2.711268  policy 0  \n\n[5000 rows x 6 columns]",
      "text/html": "<div>\n<style scoped>\n    .dataframe tbody tr th:only-of-type {\n        vertical-align: middle;\n    }\n\n    .dataframe tbody tr th {\n        vertical-align: top;\n    }\n\n    .dataframe thead th {\n        text-align: right;\n    }\n</style>\n<table border=\"1\" class=\"dataframe\">\n  <thead>\n    <tr style=\"text-align: right;\">\n      <th></th>\n      <th>Expected Annual Damage</th>\n      <th>Dike Investment Costs</th>\n      <th>RfR Investment Costs</th>\n      <th>Evacuation Costs</th>\n      <th>Expected Number of Deaths</th>\n      <th>policy</th>\n    </tr>\n  </thead>\n  <tbody>\n    <tr>\n      <th>0</th>\n      <td>8.731065e+08</td>\n      <td>0</td>\n      <td>0.0</td>\n      <td>0.0</td>\n      <td>0.904528</td>\n      <td>policy 0</td>\n    </tr>\n    <tr>\n      <th>1</th>\n      <td>3.737378e+08</td>\n      <td>0</td>\n      <td>0.0</td>\n      <td>0.0</td>\n      <td>0.238125</td>\n      <td>policy 0</td>\n    </tr>\n    <tr>\n      <th>2</th>\n      <td>2.686783e+09</td>\n      <td>0</td>\n      <td>0.0</td>\n      <td>0.0</td>\n      <td>1.553294</td>\n      <td>policy 0</td>\n    </tr>\n    <tr>\n      <th>3</th>\n      <td>1.863891e+08</td>\n      <td>0</td>\n      <td>0.0</td>\n      <td>0.0</td>\n      <td>0.226572</td>\n      <td>policy 0</td>\n    </tr>\n    <tr>\n      <th>4</th>\n      <td>1.585577e+08</td>\n      <td>0</td>\n      <td>0.0</td>\n      <td>0.0</td>\n      <td>0.126337</td>\n      <td>policy 0</td>\n    </tr>\n    <tr>\n      <th>...</th>\n      <td>...</td>\n      <td>...</td>\n      <td>...</td>\n      <td>...</td>\n      <td>...</td>\n      <td>...</td>\n    </tr>\n    <tr>\n      <th>4995</th>\n      <td>2.203876e+09</td>\n      <td>0</td>\n      <td>0.0</td>\n      <td>0.0</td>\n      <td>3.367279</td>\n      <td>policy 0</td>\n    </tr>\n    <tr>\n      <th>4996</th>\n      <td>1.887812e+08</td>\n      <td>0</td>\n      <td>0.0</td>\n      <td>0.0</td>\n      <td>0.224633</td>\n      <td>policy 0</td>\n    </tr>\n    <tr>\n      <th>4997</th>\n      <td>2.112066e+08</td>\n      <td>0</td>\n      <td>0.0</td>\n      <td>0.0</td>\n      <td>0.210737</td>\n      <td>policy 0</td>\n    </tr>\n    <tr>\n      <th>4998</th>\n      <td>2.967097e+08</td>\n      <td>0</td>\n      <td>0.0</td>\n      <td>0.0</td>\n      <td>0.176772</td>\n      <td>policy 0</td>\n    </tr>\n    <tr>\n      <th>4999</th>\n      <td>2.790139e+09</td>\n      <td>0</td>\n      <td>0.0</td>\n      <td>0.0</td>\n      <td>2.711268</td>\n      <td>policy 0</td>\n    </tr>\n  </tbody>\n</table>\n<p>5000 rows × 6 columns</p>\n</div>"
     },
     "execution_count": 72,
     "metadata": {},
     "output_type": "execute_result"
    }
   ],
   "source": [
    "# Print outcomes\n",
    "outcomes_2000s_0p"
   ],
   "metadata": {
    "collapsed": false,
    "ExecuteTime": {
     "start_time": "2023-06-12T15:20:14.764041Z",
     "end_time": "2023-06-12T15:20:14.796747Z"
    }
   }
  },
  {
   "cell_type": "code",
   "execution_count": 73,
   "outputs": [
    {
     "data": {
      "text/plain": "      A.0_ID flood wave shape    A.1_Bmax A.1_Brate  A.1_pfail    A.2_Bmax   \n0                           8  144.513300       1.5   0.561047  214.564739  \\\n1                          43  190.132777      10.0   0.497141  299.100122   \n2                          94   97.073765       1.5   0.300335  337.648085   \n3                         123  111.952992      10.0   0.637967  113.114623   \n4                          53  164.926792      10.0   0.635318  294.831196   \n...                       ...         ...       ...        ...         ...   \n4995                       77  225.129593       1.5   0.413980  252.253576   \n4996                      128  148.398998       1.0   0.630517  258.160307   \n4997                      112   94.401179       1.0   0.598193  299.724845   \n4998                       51  314.286960       1.0   0.515598  230.922151   \n4999                       69  276.430436      10.0   0.168976  310.318328   \n\n     A.2_Brate  A.2_pfail    A.3_Bmax A.3_Brate  A.3_pfail  ...   \n0         10.0   0.808000   32.891691       1.0   0.803138  ...  \\\n1          1.0   0.896576  298.677160       1.0   0.850908  ...   \n2         10.0   0.746209  186.850496       1.0   0.853440  ...   \n3          1.0   0.810133  113.868838       1.0   0.858169  ...   \n4         10.0   0.703472  237.700937      10.0   0.893302  ...   \n...        ...        ...         ...       ...        ...  ...   \n4995      10.0   0.719931  291.537524       1.0   0.060407  ...   \n4996      10.0   0.591347  129.481371       1.5   0.777331  ...   \n4997       1.0   0.990399  188.477864      10.0   0.677312  ...   \n4998       1.5   0.662691  165.943039      10.0   0.746852  ...   \n4999       1.5   0.927325  141.281038       1.5   0.026710  ...   \n\n      A.3_DikeIncrease 2 A.4_DikeIncrease 0  A.4_DikeIncrease 1   \n0                      0                  0                   0  \\\n1                      0                  0                   0   \n2                      0                  0                   0   \n3                      0                  0                   0   \n4                      0                  0                   0   \n...                  ...                ...                 ...   \n4995                   0                  0                   0   \n4996                   0                  0                   0   \n4997                   0                  0                   0   \n4998                   0                  0                   0   \n4999                   0                  0                   0   \n\n      A.4_DikeIncrease 2 A.5_DikeIncrease 0  A.5_DikeIncrease 1   \n0                      0                  0                   0  \\\n1                      0                  0                   0   \n2                      0                  0                   0   \n3                      0                  0                   0   \n4                      0                  0                   0   \n...                  ...                ...                 ...   \n4995                   0                  0                   0   \n4996                   0                  0                   0   \n4997                   0                  0                   0   \n4998                   0                  0                   0   \n4999                   0                  0                   0   \n\n     A.5_DikeIncrease 2 scenario    policy     model  \n0                     0     9000  policy 0  dikesnet  \n1                     0     9001  policy 0  dikesnet  \n2                     0     9002  policy 0  dikesnet  \n3                     0     9003  policy 0  dikesnet  \n4                     0     9004  policy 0  dikesnet  \n...                 ...      ...       ...       ...  \n4995                  0    13995  policy 0  dikesnet  \n4996                  0    13996  policy 0  dikesnet  \n4997                  0    13997  policy 0  dikesnet  \n4998                  0    13998  policy 0  dikesnet  \n4999                  0    13999  policy 0  dikesnet  \n\n[5000 rows x 53 columns]",
      "text/html": "<div>\n<style scoped>\n    .dataframe tbody tr th:only-of-type {\n        vertical-align: middle;\n    }\n\n    .dataframe tbody tr th {\n        vertical-align: top;\n    }\n\n    .dataframe thead th {\n        text-align: right;\n    }\n</style>\n<table border=\"1\" class=\"dataframe\">\n  <thead>\n    <tr style=\"text-align: right;\">\n      <th></th>\n      <th>A.0_ID flood wave shape</th>\n      <th>A.1_Bmax</th>\n      <th>A.1_Brate</th>\n      <th>A.1_pfail</th>\n      <th>A.2_Bmax</th>\n      <th>A.2_Brate</th>\n      <th>A.2_pfail</th>\n      <th>A.3_Bmax</th>\n      <th>A.3_Brate</th>\n      <th>A.3_pfail</th>\n      <th>...</th>\n      <th>A.3_DikeIncrease 2</th>\n      <th>A.4_DikeIncrease 0</th>\n      <th>A.4_DikeIncrease 1</th>\n      <th>A.4_DikeIncrease 2</th>\n      <th>A.5_DikeIncrease 0</th>\n      <th>A.5_DikeIncrease 1</th>\n      <th>A.5_DikeIncrease 2</th>\n      <th>scenario</th>\n      <th>policy</th>\n      <th>model</th>\n    </tr>\n  </thead>\n  <tbody>\n    <tr>\n      <th>0</th>\n      <td>8</td>\n      <td>144.513300</td>\n      <td>1.5</td>\n      <td>0.561047</td>\n      <td>214.564739</td>\n      <td>10.0</td>\n      <td>0.808000</td>\n      <td>32.891691</td>\n      <td>1.0</td>\n      <td>0.803138</td>\n      <td>...</td>\n      <td>0</td>\n      <td>0</td>\n      <td>0</td>\n      <td>0</td>\n      <td>0</td>\n      <td>0</td>\n      <td>0</td>\n      <td>9000</td>\n      <td>policy 0</td>\n      <td>dikesnet</td>\n    </tr>\n    <tr>\n      <th>1</th>\n      <td>43</td>\n      <td>190.132777</td>\n      <td>10.0</td>\n      <td>0.497141</td>\n      <td>299.100122</td>\n      <td>1.0</td>\n      <td>0.896576</td>\n      <td>298.677160</td>\n      <td>1.0</td>\n      <td>0.850908</td>\n      <td>...</td>\n      <td>0</td>\n      <td>0</td>\n      <td>0</td>\n      <td>0</td>\n      <td>0</td>\n      <td>0</td>\n      <td>0</td>\n      <td>9001</td>\n      <td>policy 0</td>\n      <td>dikesnet</td>\n    </tr>\n    <tr>\n      <th>2</th>\n      <td>94</td>\n      <td>97.073765</td>\n      <td>1.5</td>\n      <td>0.300335</td>\n      <td>337.648085</td>\n      <td>10.0</td>\n      <td>0.746209</td>\n      <td>186.850496</td>\n      <td>1.0</td>\n      <td>0.853440</td>\n      <td>...</td>\n      <td>0</td>\n      <td>0</td>\n      <td>0</td>\n      <td>0</td>\n      <td>0</td>\n      <td>0</td>\n      <td>0</td>\n      <td>9002</td>\n      <td>policy 0</td>\n      <td>dikesnet</td>\n    </tr>\n    <tr>\n      <th>3</th>\n      <td>123</td>\n      <td>111.952992</td>\n      <td>10.0</td>\n      <td>0.637967</td>\n      <td>113.114623</td>\n      <td>1.0</td>\n      <td>0.810133</td>\n      <td>113.868838</td>\n      <td>1.0</td>\n      <td>0.858169</td>\n      <td>...</td>\n      <td>0</td>\n      <td>0</td>\n      <td>0</td>\n      <td>0</td>\n      <td>0</td>\n      <td>0</td>\n      <td>0</td>\n      <td>9003</td>\n      <td>policy 0</td>\n      <td>dikesnet</td>\n    </tr>\n    <tr>\n      <th>4</th>\n      <td>53</td>\n      <td>164.926792</td>\n      <td>10.0</td>\n      <td>0.635318</td>\n      <td>294.831196</td>\n      <td>10.0</td>\n      <td>0.703472</td>\n      <td>237.700937</td>\n      <td>10.0</td>\n      <td>0.893302</td>\n      <td>...</td>\n      <td>0</td>\n      <td>0</td>\n      <td>0</td>\n      <td>0</td>\n      <td>0</td>\n      <td>0</td>\n      <td>0</td>\n      <td>9004</td>\n      <td>policy 0</td>\n      <td>dikesnet</td>\n    </tr>\n    <tr>\n      <th>...</th>\n      <td>...</td>\n      <td>...</td>\n      <td>...</td>\n      <td>...</td>\n      <td>...</td>\n      <td>...</td>\n      <td>...</td>\n      <td>...</td>\n      <td>...</td>\n      <td>...</td>\n      <td>...</td>\n      <td>...</td>\n      <td>...</td>\n      <td>...</td>\n      <td>...</td>\n      <td>...</td>\n      <td>...</td>\n      <td>...</td>\n      <td>...</td>\n      <td>...</td>\n      <td>...</td>\n    </tr>\n    <tr>\n      <th>4995</th>\n      <td>77</td>\n      <td>225.129593</td>\n      <td>1.5</td>\n      <td>0.413980</td>\n      <td>252.253576</td>\n      <td>10.0</td>\n      <td>0.719931</td>\n      <td>291.537524</td>\n      <td>1.0</td>\n      <td>0.060407</td>\n      <td>...</td>\n      <td>0</td>\n      <td>0</td>\n      <td>0</td>\n      <td>0</td>\n      <td>0</td>\n      <td>0</td>\n      <td>0</td>\n      <td>13995</td>\n      <td>policy 0</td>\n      <td>dikesnet</td>\n    </tr>\n    <tr>\n      <th>4996</th>\n      <td>128</td>\n      <td>148.398998</td>\n      <td>1.0</td>\n      <td>0.630517</td>\n      <td>258.160307</td>\n      <td>10.0</td>\n      <td>0.591347</td>\n      <td>129.481371</td>\n      <td>1.5</td>\n      <td>0.777331</td>\n      <td>...</td>\n      <td>0</td>\n      <td>0</td>\n      <td>0</td>\n      <td>0</td>\n      <td>0</td>\n      <td>0</td>\n      <td>0</td>\n      <td>13996</td>\n      <td>policy 0</td>\n      <td>dikesnet</td>\n    </tr>\n    <tr>\n      <th>4997</th>\n      <td>112</td>\n      <td>94.401179</td>\n      <td>1.0</td>\n      <td>0.598193</td>\n      <td>299.724845</td>\n      <td>1.0</td>\n      <td>0.990399</td>\n      <td>188.477864</td>\n      <td>10.0</td>\n      <td>0.677312</td>\n      <td>...</td>\n      <td>0</td>\n      <td>0</td>\n      <td>0</td>\n      <td>0</td>\n      <td>0</td>\n      <td>0</td>\n      <td>0</td>\n      <td>13997</td>\n      <td>policy 0</td>\n      <td>dikesnet</td>\n    </tr>\n    <tr>\n      <th>4998</th>\n      <td>51</td>\n      <td>314.286960</td>\n      <td>1.0</td>\n      <td>0.515598</td>\n      <td>230.922151</td>\n      <td>1.5</td>\n      <td>0.662691</td>\n      <td>165.943039</td>\n      <td>10.0</td>\n      <td>0.746852</td>\n      <td>...</td>\n      <td>0</td>\n      <td>0</td>\n      <td>0</td>\n      <td>0</td>\n      <td>0</td>\n      <td>0</td>\n      <td>0</td>\n      <td>13998</td>\n      <td>policy 0</td>\n      <td>dikesnet</td>\n    </tr>\n    <tr>\n      <th>4999</th>\n      <td>69</td>\n      <td>276.430436</td>\n      <td>10.0</td>\n      <td>0.168976</td>\n      <td>310.318328</td>\n      <td>1.5</td>\n      <td>0.927325</td>\n      <td>141.281038</td>\n      <td>1.5</td>\n      <td>0.026710</td>\n      <td>...</td>\n      <td>0</td>\n      <td>0</td>\n      <td>0</td>\n      <td>0</td>\n      <td>0</td>\n      <td>0</td>\n      <td>0</td>\n      <td>13999</td>\n      <td>policy 0</td>\n      <td>dikesnet</td>\n    </tr>\n  </tbody>\n</table>\n<p>5000 rows × 53 columns</p>\n</div>"
     },
     "execution_count": 73,
     "metadata": {},
     "output_type": "execute_result"
    }
   ],
   "source": [
    "experiments_2000s_0p = experiments_base\n",
    "experiments_2000s_0p"
   ],
   "metadata": {
    "collapsed": false,
    "ExecuteTime": {
     "start_time": "2023-06-12T15:20:15.497779Z",
     "end_time": "2023-06-12T15:20:15.525114Z"
    }
   }
  },
  {
   "cell_type": "code",
   "execution_count": 74,
   "outputs": [],
   "source": [
    "# Both saved to the data map as csv file\n",
    "outcomes_2000s_0p.to_csv('data/output_data/outcomes_2000s_0p.csv')\n",
    "experiments_2000s_0p.to_csv('data/output_data/experiments_2000s_0p.csv')"
   ],
   "metadata": {
    "collapsed": false,
    "ExecuteTime": {
     "start_time": "2023-06-12T15:20:16.216459Z",
     "end_time": "2023-06-12T15:20:16.337941Z"
    }
   }
  },
  {
   "cell_type": "code",
   "execution_count": 55,
   "outputs": [],
   "source": [],
   "metadata": {
    "collapsed": false,
    "ExecuteTime": {
     "start_time": "2023-06-12T15:10:40.728223Z",
     "end_time": "2023-06-12T15:10:40.765583Z"
    }
   }
  }
 ],
 "metadata": {
  "kernelspec": {
   "display_name": "Python 3",
   "language": "python",
   "name": "python3"
  },
  "language_info": {
   "codemirror_mode": {
    "name": "ipython",
    "version": 2
   },
   "file_extension": ".py",
   "mimetype": "text/x-python",
   "name": "python",
   "nbconvert_exporter": "python",
   "pygments_lexer": "ipython2",
   "version": "2.7.6"
  }
 },
 "nbformat": 4,
 "nbformat_minor": 0
}
