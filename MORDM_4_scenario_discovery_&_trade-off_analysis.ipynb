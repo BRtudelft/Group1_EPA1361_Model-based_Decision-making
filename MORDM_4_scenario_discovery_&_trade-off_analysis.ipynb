{
 "cells": [
  {
   "cell_type": "markdown",
   "source": [
    "# Scenario discovery & trade-off analysis\n",
    "\n",
    "Check robustness of policies\n",
    "- PRIM\n",
    "- Sobol\n",
    "- Exam trade-offs\n",
    "\n",
    "Evt: MORO - dan ook aanpassen in tekst - checken robustness\n",
    "\n",
    "Uitzoeken: multi-scenario mordm toepassen"
   ],
   "metadata": {
    "collapsed": false
   }
  },
  {
   "cell_type": "code",
   "execution_count": 1,
   "outputs": [],
   "source": [
    "#imports\n",
    "import pandas as pd\n",
    "import matplotlib.pyplot as plt\n",
    "import seaborn as sns\n",
    "\n",
    "from ema_workbench.analysis import prim\n",
    "from ema_workbench import ema_logging\n",
    "ema_logging.log_to_stderr(ema_logging.INFO)\n",
    "\n",
    "import matplotlib.pyplot as plt"
   ],
   "metadata": {
    "collapsed": false,
    "ExecuteTime": {
     "start_time": "2023-06-19T10:57:29.342721Z",
     "end_time": "2023-06-19T10:57:35.321042Z"
    }
   }
  },
  {
   "cell_type": "code",
   "execution_count": 4,
   "outputs": [
    {
     "name": "stdout",
     "output_type": "stream",
     "text": [
      "Shape of data: 9 rows, 32 columns.\n"
     ]
    },
    {
     "data": {
      "text/plain": "   Unnamed: 0  0_RfR 0  0_RfR 1  0_RfR 2  1_RfR 0  1_RfR 1  1_RfR 2  2_RfR 0   \n0           0        0        0        0        0        0        0        0  \\\n1          10        0        1        0        0        0        0        0   \n2          15        0        0        0        0        0        0        0   \n\n   2_RfR 1  2_RfR 2  ...  A.2_DikeIncrease 2  A.3_DikeIncrease 0   \n0        1        0  ...                   0                   7  \\\n1        0        0  ...                   0                   6   \n2        0        1  ...                   0                   6   \n\n   A.3_DikeIncrease 1  A.3_DikeIncrease 2  A.4_DikeIncrease 0   \n0                   0                   1                   5  \\\n1                   0                   0                   2   \n2                   0                   0                   2   \n\n   A.4_DikeIncrease 1  A.4_DikeIncrease 2  A.5_DikeIncrease 0   \n0                   1                   2                   7  \\\n1                   0                   0                   3   \n2                   0                   0                   5   \n\n   A.5_DikeIncrease 1  A.5_DikeIncrease 2  \n0                   0                   0  \n1                   0                   0  \n2                   0                   0  \n\n[3 rows x 32 columns]",
      "text/html": "<div>\n<style scoped>\n    .dataframe tbody tr th:only-of-type {\n        vertical-align: middle;\n    }\n\n    .dataframe tbody tr th {\n        vertical-align: top;\n    }\n\n    .dataframe thead th {\n        text-align: right;\n    }\n</style>\n<table border=\"1\" class=\"dataframe\">\n  <thead>\n    <tr style=\"text-align: right;\">\n      <th></th>\n      <th>Unnamed: 0</th>\n      <th>0_RfR 0</th>\n      <th>0_RfR 1</th>\n      <th>0_RfR 2</th>\n      <th>1_RfR 0</th>\n      <th>1_RfR 1</th>\n      <th>1_RfR 2</th>\n      <th>2_RfR 0</th>\n      <th>2_RfR 1</th>\n      <th>2_RfR 2</th>\n      <th>...</th>\n      <th>A.2_DikeIncrease 2</th>\n      <th>A.3_DikeIncrease 0</th>\n      <th>A.3_DikeIncrease 1</th>\n      <th>A.3_DikeIncrease 2</th>\n      <th>A.4_DikeIncrease 0</th>\n      <th>A.4_DikeIncrease 1</th>\n      <th>A.4_DikeIncrease 2</th>\n      <th>A.5_DikeIncrease 0</th>\n      <th>A.5_DikeIncrease 1</th>\n      <th>A.5_DikeIncrease 2</th>\n    </tr>\n  </thead>\n  <tbody>\n    <tr>\n      <th>0</th>\n      <td>0</td>\n      <td>0</td>\n      <td>0</td>\n      <td>0</td>\n      <td>0</td>\n      <td>0</td>\n      <td>0</td>\n      <td>0</td>\n      <td>1</td>\n      <td>0</td>\n      <td>...</td>\n      <td>0</td>\n      <td>7</td>\n      <td>0</td>\n      <td>1</td>\n      <td>5</td>\n      <td>1</td>\n      <td>2</td>\n      <td>7</td>\n      <td>0</td>\n      <td>0</td>\n    </tr>\n    <tr>\n      <th>1</th>\n      <td>10</td>\n      <td>0</td>\n      <td>1</td>\n      <td>0</td>\n      <td>0</td>\n      <td>0</td>\n      <td>0</td>\n      <td>0</td>\n      <td>0</td>\n      <td>0</td>\n      <td>...</td>\n      <td>0</td>\n      <td>6</td>\n      <td>0</td>\n      <td>0</td>\n      <td>2</td>\n      <td>0</td>\n      <td>0</td>\n      <td>3</td>\n      <td>0</td>\n      <td>0</td>\n    </tr>\n    <tr>\n      <th>2</th>\n      <td>15</td>\n      <td>0</td>\n      <td>0</td>\n      <td>0</td>\n      <td>0</td>\n      <td>0</td>\n      <td>0</td>\n      <td>0</td>\n      <td>0</td>\n      <td>1</td>\n      <td>...</td>\n      <td>0</td>\n      <td>6</td>\n      <td>0</td>\n      <td>0</td>\n      <td>2</td>\n      <td>0</td>\n      <td>0</td>\n      <td>5</td>\n      <td>0</td>\n      <td>0</td>\n    </tr>\n  </tbody>\n</table>\n<p>3 rows × 32 columns</p>\n</div>"
     },
     "execution_count": 4,
     "metadata": {},
     "output_type": "execute_result"
    }
   ],
   "source": [
    "# Read and view the data\n",
    "data = pd.read_csv('data/output_data/policies.csv', index_col=None)\n",
    "print(f\"Shape of data: {data.shape[0]} rows, {data.shape[1]} columns.\")\n",
    "data.head(3)"
   ],
   "metadata": {
    "collapsed": false,
    "ExecuteTime": {
     "start_time": "2023-06-19T10:58:52.435308Z",
     "end_time": "2023-06-19T10:58:52.541571Z"
    }
   }
  },
  {
   "cell_type": "code",
   "execution_count": 5,
   "outputs": [
    {
     "name": "stdout",
     "output_type": "stream",
     "text": [
      "Columns in x: ['0_RfR 1' '0_RfR 2' '1_RfR 0' '1_RfR 1' '1_RfR 2' '2_RfR 0' '2_RfR 1'\n",
      " '2_RfR 2' '3_RfR 0']\n"
     ]
    }
   ],
   "source": [
    "# Select the experiments\n",
    "x = data.iloc[:, 2:11] #zelf verzetten naar goede aantal colommen\n",
    "print(f\"Columns in x: {x.columns.values}\")"
   ],
   "metadata": {
    "collapsed": false,
    "ExecuteTime": {
     "start_time": "2023-06-19T10:58:55.425202Z",
     "end_time": "2023-06-19T10:58:55.504334Z"
    }
   }
  },
  {
   "cell_type": "code",
   "execution_count": 6,
   "outputs": [],
   "source": [
    "# Select the outcome\n",
    "y = data.iloc[:, 15].values #zelfde hiervoor"
   ],
   "metadata": {
    "collapsed": false,
    "ExecuteTime": {
     "start_time": "2023-06-19T10:58:56.443267Z",
     "end_time": "2023-06-19T10:58:56.484688Z"
    }
   }
  },
  {
   "cell_type": "markdown",
   "source": [
    "## Prim"
   ],
   "metadata": {
    "collapsed": false
   }
  },
  {
   "cell_type": "code",
   "execution_count": 7,
   "outputs": [
    {
     "ename": "AssertionError",
     "evalue": "",
     "output_type": "error",
     "traceback": [
      "\u001B[0;31m---------------------------------------------------------------------------\u001B[0m",
      "\u001B[0;31mAssertionError\u001B[0m                            Traceback (most recent call last)",
      "Cell \u001B[0;32mIn[7], line 1\u001B[0m\n\u001B[0;32m----> 1\u001B[0m prim_alg \u001B[38;5;241m=\u001B[39m \u001B[43mprim\u001B[49m\u001B[38;5;241;43m.\u001B[39;49m\u001B[43mPrim\u001B[49m\u001B[43m(\u001B[49m\u001B[43mx\u001B[49m\u001B[43m,\u001B[49m\u001B[43m \u001B[49m\u001B[43my\u001B[49m\u001B[43m,\u001B[49m\u001B[43m \u001B[49m\u001B[43mthreshold\u001B[49m\u001B[38;5;241;43m=\u001B[39;49m\u001B[38;5;241;43m0.8\u001B[39;49m\u001B[43m,\u001B[49m\u001B[43m \u001B[49m\u001B[43mpeel_alpha\u001B[49m\u001B[38;5;241;43m=\u001B[39;49m\u001B[38;5;241;43m0.1\u001B[39;49m\u001B[43m)\u001B[49m\n\u001B[1;32m      2\u001B[0m box1 \u001B[38;5;241m=\u001B[39m prim_alg\u001B[38;5;241m.\u001B[39mfind_box()\n",
      "File \u001B[0;32m~/Documents/pythonProject2/lib/python3.11/site-packages/ema_workbench/analysis/prim.py:979\u001B[0m, in \u001B[0;36mPrim.__init__\u001B[0;34m(self, x, y, threshold, obj_function, peel_alpha, paste_alpha, mass_min, threshold_type, mode, update_function)\u001B[0m\n\u001B[1;32m    965\u001B[0m \u001B[38;5;28;01mdef\u001B[39;00m \u001B[38;5;21m__init__\u001B[39m(\n\u001B[1;32m    966\u001B[0m     \u001B[38;5;28mself\u001B[39m,\n\u001B[1;32m    967\u001B[0m     x,\n\u001B[0;32m   (...)\u001B[0m\n\u001B[1;32m    976\u001B[0m     update_function\u001B[38;5;241m=\u001B[39m\u001B[38;5;124m\"\u001B[39m\u001B[38;5;124mdefault\u001B[39m\u001B[38;5;124m\"\u001B[39m,\n\u001B[1;32m    977\u001B[0m ):\n\u001B[1;32m    978\u001B[0m     \u001B[38;5;28;01massert\u001B[39;00m mode \u001B[38;5;129;01min\u001B[39;00m {sdutil\u001B[38;5;241m.\u001B[39mRuleInductionType\u001B[38;5;241m.\u001B[39mBINARY, sdutil\u001B[38;5;241m.\u001B[39mRuleInductionType\u001B[38;5;241m.\u001B[39mREGRESSION}\n\u001B[0;32m--> 979\u001B[0m     \u001B[38;5;28;01massert\u001B[39;00m \u001B[38;5;28mself\u001B[39m\u001B[38;5;241m.\u001B[39m_assert_mode(y, mode, update_function)\n\u001B[1;32m    980\u001B[0m     \u001B[38;5;66;03m# preprocess x\u001B[39;00m\n\u001B[1;32m    981\u001B[0m     x \u001B[38;5;241m=\u001B[39m x\u001B[38;5;241m.\u001B[39mcopy()\n",
      "\u001B[0;31mAssertionError\u001B[0m: "
     ]
    }
   ],
   "source": [
    "prim_alg = prim.Prim(x, y, threshold=0.8, peel_alpha=0.1)\n",
    "box1 = prim_alg.find_box()"
   ],
   "metadata": {
    "collapsed": false
   }
  },
  {
   "cell_type": "code",
   "execution_count": null,
   "outputs": [],
   "source": [
    "box1.show_tradeoff(annotated=True)\n",
    "plt.show()"
   ],
   "metadata": {
    "collapsed": false
   }
  },
  {
   "cell_type": "code",
   "execution_count": null,
   "outputs": [],
   "source": [
    "point = 19\n",
    "box1.inspect(point)"
   ],
   "metadata": {
    "collapsed": false
   }
  },
  {
   "cell_type": "code",
   "execution_count": null,
   "outputs": [],
   "source": [
    "box1.inspect(point, style='graph')\n",
    "plt.show()"
   ],
   "metadata": {
    "collapsed": false
   }
  },
  {
   "cell_type": "code",
   "execution_count": null,
   "outputs": [],
   "source": [
    "box1.resample(point)"
   ],
   "metadata": {
    "collapsed": false
   }
  },
  {
   "cell_type": "code",
   "execution_count": null,
   "outputs": [],
   "source": [
    "box1.select(21)\n",
    "box1.show_pairs_scatter()\n",
    "fig = plt.gcf()\n",
    "fig.set_size_inches(12,12)\n",
    "plt.show()"
   ],
   "metadata": {
    "collapsed": false
   }
  },
  {
   "cell_type": "code",
   "execution_count": null,
   "outputs": [],
   "source": [
    "# Read and select the data\n",
    "data = pd.read_csv('./data/Rozenberg et al 2014.csv', index_col=None)\n",
    "x = data.iloc[:, 0:7]\n",
    "y = data.iloc[:, 7].values # change to higher index for different SSP's"
   ],
   "metadata": {
    "collapsed": false
   }
  },
  {
   "cell_type": "code",
   "execution_count": null,
   "outputs": [],
   "source": [
    "# Peel alpha controls the leniency of the algorithm, the higher, the less lenient\n",
    "# The meaning of peel_alpha is the percentile of the data that is to be removed\n",
    "prim_obj = prim.Prim(x, y, mass_min=0.001, threshold=0.16,\n",
    "                     peel_alpha=0.01)\n",
    "box2 = prim_obj.find_box()"
   ],
   "metadata": {
    "collapsed": false
   }
  },
  {
   "cell_type": "code",
   "execution_count": null,
   "outputs": [],
   "source": [
    "# Plot the trade-off curve\n",
    "box2.show_tradeoff(annotated=True)\n",
    "plt.show()"
   ],
   "metadata": {
    "collapsed": false
   }
  },
  {
   "cell_type": "code",
   "execution_count": null,
   "outputs": [],
   "source": [
    "# Inspect a specific point on the trade-off curve\n",
    "box2.inspect(3)\n",
    "plt.show()"
   ],
   "metadata": {
    "collapsed": false
   }
  }
 ],
 "metadata": {
  "kernelspec": {
   "display_name": "Python 3",
   "language": "python",
   "name": "python3"
  },
  "language_info": {
   "codemirror_mode": {
    "name": "ipython",
    "version": 2
   },
   "file_extension": ".py",
   "mimetype": "text/x-python",
   "name": "python",
   "nbconvert_exporter": "python",
   "pygments_lexer": "ipython2",
   "version": "2.7.6"
  }
 },
 "nbformat": 4,
 "nbformat_minor": 0
}
