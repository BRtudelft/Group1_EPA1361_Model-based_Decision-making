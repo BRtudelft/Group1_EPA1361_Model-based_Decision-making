{
 "cells": [
  {
   "cell_type": "markdown",
   "source": [
    "# Scenario discovery & trade-off analysis\n",
    "\n",
    "Check robustness of policies\n",
    "- PRIM\n",
    "- Sobol\n",
    "- Exam trade-offs\n",
    "\n",
    "Evt: MORO - dan ook aanpassen in tekst - checken robustness\n",
    "\n",
    "Uitzoeken: multi-scenario mordm toepassen"
   ],
   "metadata": {
    "collapsed": false
   }
  },
  {
   "cell_type": "code",
   "execution_count": 4,
   "outputs": [],
   "source": [
    "# Imports\n",
    "import pandas as pd\n",
    "import matplotlib.pyplot as plt\n",
    "import seaborn as sns\n",
    "\n",
    "from ema_workbench.analysis import prim\n",
    "from ema_workbench import ema_logging\n",
    "ema_logging.log_to_stderr(ema_logging.INFO)\n",
    "from ema_workbench import MultiprocessingEvaluator, ema_logging\n",
    "from ema_workbench import Samplers\n",
    "from ema_workbench.em_framework import get_SALib_problem\n",
    "from problem_formulation import get_model_for_problem_formulation\n",
    "import matplotlib.pyplot as plt\n"
   ],
   "metadata": {
    "collapsed": false,
    "ExecuteTime": {
     "start_time": "2023-06-19T14:02:47.910985Z",
     "end_time": "2023-06-19T14:02:52.553394Z"
    }
   }
  },
  {
   "cell_type": "code",
   "execution_count": 2,
   "outputs": [],
   "source": [
    "from SALib.analyze.sobol import analyze"
   ],
   "metadata": {
    "collapsed": false,
    "ExecuteTime": {
     "start_time": "2023-06-19T14:02:38.576234Z",
     "end_time": "2023-06-19T14:02:38.639722Z"
    }
   }
  },
  {
   "cell_type": "code",
   "execution_count": 5,
   "outputs": [],
   "source": [
    "dike_model, planning_steps = get_model_for_problem_formulation(2)"
   ],
   "metadata": {
    "collapsed": false,
    "ExecuteTime": {
     "start_time": "2023-06-19T14:02:56.714408Z",
     "end_time": "2023-06-19T14:02:57.566522Z"
    }
   }
  },
  {
   "cell_type": "code",
   "execution_count": 6,
   "outputs": [
    {
     "data": {
      "text/plain": "{'num_vars': 19,\n 'names': ['A.0_ID flood wave shape',\n  'A.1_Bmax',\n  'A.1_Brate',\n  'A.1_pfail',\n  'A.2_Bmax',\n  'A.2_Brate',\n  'A.2_pfail',\n  'A.3_Bmax',\n  'A.3_Brate',\n  'A.3_pfail',\n  'A.4_Bmax',\n  'A.4_Brate',\n  'A.4_pfail',\n  'A.5_Bmax',\n  'A.5_Brate',\n  'A.5_pfail',\n  'discount rate 0',\n  'discount rate 1',\n  'discount rate 2'],\n 'bounds': [(0, 133),\n  (30, 350),\n  (0, 3),\n  (0, 1),\n  (30, 350),\n  (0, 3),\n  (0, 1),\n  (30, 350),\n  (0, 3),\n  (0, 1),\n  (30, 350),\n  (0, 3),\n  (0, 1),\n  (30, 350),\n  (0, 3),\n  (0, 1),\n  (0, 4),\n  (0, 4),\n  (0, 4)]}"
     },
     "execution_count": 6,
     "metadata": {},
     "output_type": "execute_result"
    }
   ],
   "source": [
    "problem = get_SALib_problem(dike_model.uncertainties)\n",
    "problem"
   ],
   "metadata": {
    "collapsed": false,
    "ExecuteTime": {
     "start_time": "2023-06-19T14:03:03.539678Z",
     "end_time": "2023-06-19T14:03:03.560333Z"
    }
   }
  },
  {
   "cell_type": "code",
   "execution_count": 12,
   "outputs": [
    {
     "name": "stdout",
     "output_type": "stream",
     "text": [
      "Shape of data: 3600 rows, 54 columns.\n"
     ]
    },
    {
     "data": {
      "text/plain": "   Unnamed: 0  A.0_ID flood wave shape    A.1_Bmax  A.1_Brate  A.1_pfail  \\\n0           0                       34   82.144825        1.0   0.185025   \n1           1                      101   82.144825        1.0   0.185025   \n2           2                       34  230.780348        1.0   0.185025   \n3           3                       34   82.144825       10.0   0.185025   \n4           4                       34   82.144825        1.0   0.708126   \n5           5                       34   82.144825        1.0   0.185025   \n6           6                       34   82.144825        1.0   0.185025   \n7           7                       34   82.144825        1.0   0.185025   \n8           8                       34   82.144825        1.0   0.185025   \n9           9                       34   82.144825        1.0   0.185025   \n\n     A.2_Bmax  A.2_Brate  A.2_pfail    A.3_Bmax  A.3_Brate  ...  \\\n0   36.183953        1.5   0.575771  308.202626        1.5  ...   \n1   36.183953        1.5   0.575771  308.202626        1.5  ...   \n2   36.183953        1.5   0.575771  308.202626        1.5  ...   \n3   36.183953        1.5   0.575771  308.202626        1.5  ...   \n4   36.183953        1.5   0.575771  308.202626        1.5  ...   \n5  138.086776        1.5   0.575771  308.202626        1.5  ...   \n6   36.183953        1.5   0.575771  308.202626        1.5  ...   \n7   36.183953        1.5   0.873721  308.202626        1.5  ...   \n8   36.183953        1.5   0.575771  138.025520        1.5  ...   \n9   36.183953        1.5   0.575771  308.202626       10.0  ...   \n\n   A.3_DikeIncrease 2  A.4_DikeIncrease 0  A.4_DikeIncrease 1  \\\n0                   1                   5                   1   \n1                   1                   5                   1   \n2                   1                   5                   1   \n3                   1                   5                   1   \n4                   1                   5                   1   \n5                   1                   5                   1   \n6                   1                   5                   1   \n7                   1                   5                   1   \n8                   1                   5                   1   \n9                   1                   5                   1   \n\n   A.4_DikeIncrease 2  A.5_DikeIncrease 0  A.5_DikeIncrease 1  \\\n0                   2                   7                   0   \n1                   2                   7                   0   \n2                   2                   7                   0   \n3                   2                   7                   0   \n4                   2                   7                   0   \n5                   2                   7                   0   \n6                   2                   7                   0   \n7                   2                   7                   0   \n8                   2                   7                   0   \n9                   2                   7                   0   \n\n   A.5_DikeIncrease 2  scenario  policy     model  \n0                   0         0       0  dikesnet  \n1                   0         1       0  dikesnet  \n2                   0         2       0  dikesnet  \n3                   0         3       0  dikesnet  \n4                   0         4       0  dikesnet  \n5                   0         5       0  dikesnet  \n6                   0         6       0  dikesnet  \n7                   0         7       0  dikesnet  \n8                   0         8       0  dikesnet  \n9                   0         9       0  dikesnet  \n\n[10 rows x 54 columns]",
      "text/html": "<div>\n<style scoped>\n    .dataframe tbody tr th:only-of-type {\n        vertical-align: middle;\n    }\n\n    .dataframe tbody tr th {\n        vertical-align: top;\n    }\n\n    .dataframe thead th {\n        text-align: right;\n    }\n</style>\n<table border=\"1\" class=\"dataframe\">\n  <thead>\n    <tr style=\"text-align: right;\">\n      <th></th>\n      <th>Unnamed: 0</th>\n      <th>A.0_ID flood wave shape</th>\n      <th>A.1_Bmax</th>\n      <th>A.1_Brate</th>\n      <th>A.1_pfail</th>\n      <th>A.2_Bmax</th>\n      <th>A.2_Brate</th>\n      <th>A.2_pfail</th>\n      <th>A.3_Bmax</th>\n      <th>A.3_Brate</th>\n      <th>...</th>\n      <th>A.3_DikeIncrease 2</th>\n      <th>A.4_DikeIncrease 0</th>\n      <th>A.4_DikeIncrease 1</th>\n      <th>A.4_DikeIncrease 2</th>\n      <th>A.5_DikeIncrease 0</th>\n      <th>A.5_DikeIncrease 1</th>\n      <th>A.5_DikeIncrease 2</th>\n      <th>scenario</th>\n      <th>policy</th>\n      <th>model</th>\n    </tr>\n  </thead>\n  <tbody>\n    <tr>\n      <th>0</th>\n      <td>0</td>\n      <td>34</td>\n      <td>82.144825</td>\n      <td>1.0</td>\n      <td>0.185025</td>\n      <td>36.183953</td>\n      <td>1.5</td>\n      <td>0.575771</td>\n      <td>308.202626</td>\n      <td>1.5</td>\n      <td>...</td>\n      <td>1</td>\n      <td>5</td>\n      <td>1</td>\n      <td>2</td>\n      <td>7</td>\n      <td>0</td>\n      <td>0</td>\n      <td>0</td>\n      <td>0</td>\n      <td>dikesnet</td>\n    </tr>\n    <tr>\n      <th>1</th>\n      <td>1</td>\n      <td>101</td>\n      <td>82.144825</td>\n      <td>1.0</td>\n      <td>0.185025</td>\n      <td>36.183953</td>\n      <td>1.5</td>\n      <td>0.575771</td>\n      <td>308.202626</td>\n      <td>1.5</td>\n      <td>...</td>\n      <td>1</td>\n      <td>5</td>\n      <td>1</td>\n      <td>2</td>\n      <td>7</td>\n      <td>0</td>\n      <td>0</td>\n      <td>1</td>\n      <td>0</td>\n      <td>dikesnet</td>\n    </tr>\n    <tr>\n      <th>2</th>\n      <td>2</td>\n      <td>34</td>\n      <td>230.780348</td>\n      <td>1.0</td>\n      <td>0.185025</td>\n      <td>36.183953</td>\n      <td>1.5</td>\n      <td>0.575771</td>\n      <td>308.202626</td>\n      <td>1.5</td>\n      <td>...</td>\n      <td>1</td>\n      <td>5</td>\n      <td>1</td>\n      <td>2</td>\n      <td>7</td>\n      <td>0</td>\n      <td>0</td>\n      <td>2</td>\n      <td>0</td>\n      <td>dikesnet</td>\n    </tr>\n    <tr>\n      <th>3</th>\n      <td>3</td>\n      <td>34</td>\n      <td>82.144825</td>\n      <td>10.0</td>\n      <td>0.185025</td>\n      <td>36.183953</td>\n      <td>1.5</td>\n      <td>0.575771</td>\n      <td>308.202626</td>\n      <td>1.5</td>\n      <td>...</td>\n      <td>1</td>\n      <td>5</td>\n      <td>1</td>\n      <td>2</td>\n      <td>7</td>\n      <td>0</td>\n      <td>0</td>\n      <td>3</td>\n      <td>0</td>\n      <td>dikesnet</td>\n    </tr>\n    <tr>\n      <th>4</th>\n      <td>4</td>\n      <td>34</td>\n      <td>82.144825</td>\n      <td>1.0</td>\n      <td>0.708126</td>\n      <td>36.183953</td>\n      <td>1.5</td>\n      <td>0.575771</td>\n      <td>308.202626</td>\n      <td>1.5</td>\n      <td>...</td>\n      <td>1</td>\n      <td>5</td>\n      <td>1</td>\n      <td>2</td>\n      <td>7</td>\n      <td>0</td>\n      <td>0</td>\n      <td>4</td>\n      <td>0</td>\n      <td>dikesnet</td>\n    </tr>\n    <tr>\n      <th>5</th>\n      <td>5</td>\n      <td>34</td>\n      <td>82.144825</td>\n      <td>1.0</td>\n      <td>0.185025</td>\n      <td>138.086776</td>\n      <td>1.5</td>\n      <td>0.575771</td>\n      <td>308.202626</td>\n      <td>1.5</td>\n      <td>...</td>\n      <td>1</td>\n      <td>5</td>\n      <td>1</td>\n      <td>2</td>\n      <td>7</td>\n      <td>0</td>\n      <td>0</td>\n      <td>5</td>\n      <td>0</td>\n      <td>dikesnet</td>\n    </tr>\n    <tr>\n      <th>6</th>\n      <td>6</td>\n      <td>34</td>\n      <td>82.144825</td>\n      <td>1.0</td>\n      <td>0.185025</td>\n      <td>36.183953</td>\n      <td>1.5</td>\n      <td>0.575771</td>\n      <td>308.202626</td>\n      <td>1.5</td>\n      <td>...</td>\n      <td>1</td>\n      <td>5</td>\n      <td>1</td>\n      <td>2</td>\n      <td>7</td>\n      <td>0</td>\n      <td>0</td>\n      <td>6</td>\n      <td>0</td>\n      <td>dikesnet</td>\n    </tr>\n    <tr>\n      <th>7</th>\n      <td>7</td>\n      <td>34</td>\n      <td>82.144825</td>\n      <td>1.0</td>\n      <td>0.185025</td>\n      <td>36.183953</td>\n      <td>1.5</td>\n      <td>0.873721</td>\n      <td>308.202626</td>\n      <td>1.5</td>\n      <td>...</td>\n      <td>1</td>\n      <td>5</td>\n      <td>1</td>\n      <td>2</td>\n      <td>7</td>\n      <td>0</td>\n      <td>0</td>\n      <td>7</td>\n      <td>0</td>\n      <td>dikesnet</td>\n    </tr>\n    <tr>\n      <th>8</th>\n      <td>8</td>\n      <td>34</td>\n      <td>82.144825</td>\n      <td>1.0</td>\n      <td>0.185025</td>\n      <td>36.183953</td>\n      <td>1.5</td>\n      <td>0.575771</td>\n      <td>138.025520</td>\n      <td>1.5</td>\n      <td>...</td>\n      <td>1</td>\n      <td>5</td>\n      <td>1</td>\n      <td>2</td>\n      <td>7</td>\n      <td>0</td>\n      <td>0</td>\n      <td>8</td>\n      <td>0</td>\n      <td>dikesnet</td>\n    </tr>\n    <tr>\n      <th>9</th>\n      <td>9</td>\n      <td>34</td>\n      <td>82.144825</td>\n      <td>1.0</td>\n      <td>0.185025</td>\n      <td>36.183953</td>\n      <td>1.5</td>\n      <td>0.575771</td>\n      <td>308.202626</td>\n      <td>10.0</td>\n      <td>...</td>\n      <td>1</td>\n      <td>5</td>\n      <td>1</td>\n      <td>2</td>\n      <td>7</td>\n      <td>0</td>\n      <td>0</td>\n      <td>9</td>\n      <td>0</td>\n      <td>dikesnet</td>\n    </tr>\n  </tbody>\n</table>\n<p>10 rows × 54 columns</p>\n</div>"
     },
     "execution_count": 12,
     "metadata": {},
     "output_type": "execute_result"
    }
   ],
   "source": [
    "experiments = pd.read_csv('data/output_data/experiments_scenario_discovery_10s_sobol.csv', index_col=None)\n",
    "print(f\"Shape of data: {experiments.shape[0]} rows, {experiments.shape[1]} columns.\")\n",
    "experiments.head(10)"
   ],
   "metadata": {
    "collapsed": false,
    "ExecuteTime": {
     "start_time": "2023-06-19T14:04:42.203067Z",
     "end_time": "2023-06-19T14:04:42.277651Z"
    }
   }
  },
  {
   "cell_type": "code",
   "execution_count": 8,
   "outputs": [
    {
     "name": "stdout",
     "output_type": "stream",
     "text": [
      "Shape of data: 3600 rows, 6 columns.\n"
     ]
    },
    {
     "data": {
      "text/plain": "   Unnamed: 0  Expected Annual Damage  Dike Investment Costs  \\\n0           0            9.804904e+07           2.272627e+08   \n1           1            9.662522e+07           2.272627e+08   \n2           2            9.804904e+07           2.272627e+08   \n3           3            9.804904e+07           2.272627e+08   \n4           4            0.000000e+00           2.272627e+08   \n5           5            9.804904e+07           2.272627e+08   \n6           6            9.804904e+07           2.272627e+08   \n7           7            9.804904e+07           2.272627e+08   \n8           8            9.804904e+07           2.272627e+08   \n9           9            9.804904e+07           2.272627e+08   \n\n   RfR Investment Costs  Evacuation Costs  Expected Number of Deaths  \n0            30700000.0       1624.073114                   0.008354  \n1            30700000.0       1568.221124                   0.008212  \n2            30700000.0       1624.073114                   0.008354  \n3            30700000.0       1624.073114                   0.008354  \n4            30700000.0          0.000000                   0.000000  \n5            30700000.0       1624.073114                   0.008354  \n6            30700000.0       1624.073114                   0.008354  \n7            30700000.0       1624.073114                   0.008354  \n8            30700000.0       1624.073114                   0.008354  \n9            30700000.0       1624.073114                   0.008354  ",
      "text/html": "<div>\n<style scoped>\n    .dataframe tbody tr th:only-of-type {\n        vertical-align: middle;\n    }\n\n    .dataframe tbody tr th {\n        vertical-align: top;\n    }\n\n    .dataframe thead th {\n        text-align: right;\n    }\n</style>\n<table border=\"1\" class=\"dataframe\">\n  <thead>\n    <tr style=\"text-align: right;\">\n      <th></th>\n      <th>Unnamed: 0</th>\n      <th>Expected Annual Damage</th>\n      <th>Dike Investment Costs</th>\n      <th>RfR Investment Costs</th>\n      <th>Evacuation Costs</th>\n      <th>Expected Number of Deaths</th>\n    </tr>\n  </thead>\n  <tbody>\n    <tr>\n      <th>0</th>\n      <td>0</td>\n      <td>9.804904e+07</td>\n      <td>2.272627e+08</td>\n      <td>30700000.0</td>\n      <td>1624.073114</td>\n      <td>0.008354</td>\n    </tr>\n    <tr>\n      <th>1</th>\n      <td>1</td>\n      <td>9.662522e+07</td>\n      <td>2.272627e+08</td>\n      <td>30700000.0</td>\n      <td>1568.221124</td>\n      <td>0.008212</td>\n    </tr>\n    <tr>\n      <th>2</th>\n      <td>2</td>\n      <td>9.804904e+07</td>\n      <td>2.272627e+08</td>\n      <td>30700000.0</td>\n      <td>1624.073114</td>\n      <td>0.008354</td>\n    </tr>\n    <tr>\n      <th>3</th>\n      <td>3</td>\n      <td>9.804904e+07</td>\n      <td>2.272627e+08</td>\n      <td>30700000.0</td>\n      <td>1624.073114</td>\n      <td>0.008354</td>\n    </tr>\n    <tr>\n      <th>4</th>\n      <td>4</td>\n      <td>0.000000e+00</td>\n      <td>2.272627e+08</td>\n      <td>30700000.0</td>\n      <td>0.000000</td>\n      <td>0.000000</td>\n    </tr>\n    <tr>\n      <th>5</th>\n      <td>5</td>\n      <td>9.804904e+07</td>\n      <td>2.272627e+08</td>\n      <td>30700000.0</td>\n      <td>1624.073114</td>\n      <td>0.008354</td>\n    </tr>\n    <tr>\n      <th>6</th>\n      <td>6</td>\n      <td>9.804904e+07</td>\n      <td>2.272627e+08</td>\n      <td>30700000.0</td>\n      <td>1624.073114</td>\n      <td>0.008354</td>\n    </tr>\n    <tr>\n      <th>7</th>\n      <td>7</td>\n      <td>9.804904e+07</td>\n      <td>2.272627e+08</td>\n      <td>30700000.0</td>\n      <td>1624.073114</td>\n      <td>0.008354</td>\n    </tr>\n    <tr>\n      <th>8</th>\n      <td>8</td>\n      <td>9.804904e+07</td>\n      <td>2.272627e+08</td>\n      <td>30700000.0</td>\n      <td>1624.073114</td>\n      <td>0.008354</td>\n    </tr>\n    <tr>\n      <th>9</th>\n      <td>9</td>\n      <td>9.804904e+07</td>\n      <td>2.272627e+08</td>\n      <td>30700000.0</td>\n      <td>1624.073114</td>\n      <td>0.008354</td>\n    </tr>\n  </tbody>\n</table>\n</div>"
     },
     "execution_count": 8,
     "metadata": {},
     "output_type": "execute_result"
    }
   ],
   "source": [
    "results = pd.read_csv('data/output_data/results_scenario_discovery_10s_sobol.csv', index_col=None)\n",
    "print(f\"Shape of data: {results.shape[0]} rows, {results.shape[1]} columns.\")\n",
    "results.head(10)"
   ],
   "metadata": {
    "collapsed": false,
    "ExecuteTime": {
     "start_time": "2023-06-19T14:03:59.069635Z",
     "end_time": "2023-06-19T14:03:59.136381Z"
    }
   }
  },
  {
   "cell_type": "code",
   "execution_count": 9,
   "outputs": [
    {
     "data": {
      "text/plain": "(3600,)"
     },
     "execution_count": 9,
     "metadata": {},
     "output_type": "execute_result"
    }
   ],
   "source": [
    "results['Expected Annual Damage'].shape"
   ],
   "metadata": {
    "collapsed": false,
    "ExecuteTime": {
     "start_time": "2023-06-19T14:04:00.712336Z",
     "end_time": "2023-06-19T14:04:00.727274Z"
    }
   }
  },
  {
   "cell_type": "code",
   "execution_count": 13,
   "outputs": [
    {
     "name": "stdout",
     "output_type": "stream",
     "text": [
      "0\n",
      "0        True\n",
      "1        True\n",
      "2        True\n",
      "3        True\n",
      "4        True\n",
      "        ...  \n",
      "3595    False\n",
      "3596    False\n",
      "3597    False\n",
      "3598    False\n",
      "3599    False\n",
      "Name: policy, Length: 3600, dtype: bool\n",
      "0      9.804904e+07\n",
      "1      9.662522e+07\n",
      "2      9.804904e+07\n",
      "3      9.804904e+07\n",
      "4      0.000000e+00\n",
      "           ...     \n",
      "395    4.902323e+08\n",
      "396    4.902323e+08\n",
      "397    5.659225e+08\n",
      "398    5.994163e+08\n",
      "399    4.902323e+08\n",
      "Name: Expected Annual Damage, Length: 400, dtype: float64\n"
     ]
    },
    {
     "ename": "ValueError",
     "evalue": "Cannot index with multidimensional key",
     "output_type": "error",
     "traceback": [
      "\u001B[1;31m---------------------------------------------------------------------------\u001B[0m",
      "\u001B[1;31mValueError\u001B[0m                                Traceback (most recent call last)",
      "Cell \u001B[1;32mIn[13], line 9\u001B[0m\n\u001B[0;32m      7\u001B[0m     y \u001B[38;5;241m=\u001B[39m results[\u001B[38;5;124m'\u001B[39m\u001B[38;5;124mExpected Annual Damage\u001B[39m\u001B[38;5;124m'\u001B[39m][logical]\n\u001B[0;32m      8\u001B[0m     \u001B[38;5;28mprint\u001B[39m(y)\n\u001B[1;32m----> 9\u001B[0m     indices \u001B[38;5;241m=\u001B[39m \u001B[43manalyze\u001B[49m\u001B[43m(\u001B[49m\u001B[43mproblem\u001B[49m\u001B[43m,\u001B[49m\u001B[43m \u001B[49m\u001B[43my\u001B[49m\u001B[43m)\u001B[49m\n\u001B[0;32m     10\u001B[0m     sobol_results[policy] \u001B[38;5;241m=\u001B[39m indices\n\u001B[0;32m     12\u001B[0m fig, axes \u001B[38;5;241m=\u001B[39m plt\u001B[38;5;241m.\u001B[39msubplots(\u001B[38;5;241m1\u001B[39m,\u001B[38;5;241m3\u001B[39m)\n",
      "File \u001B[1;32mC:\\App\\Python\\Lib\\site-packages\\SALib\\analyze\\sobol.py:140\u001B[0m, in \u001B[0;36manalyze\u001B[1;34m(problem, Y, calc_second_order, num_resamples, conf_level, print_to_console, parallel, n_processors, keep_resamples, seed)\u001B[0m\n\u001B[0;32m    138\u001B[0m \u001B[38;5;28;01mfor\u001B[39;00m j \u001B[38;5;129;01min\u001B[39;00m \u001B[38;5;28mrange\u001B[39m(D):\n\u001B[0;32m    139\u001B[0m     S[\u001B[38;5;124m\"\u001B[39m\u001B[38;5;124mS1\u001B[39m\u001B[38;5;124m\"\u001B[39m][j] \u001B[38;5;241m=\u001B[39m first_order(A, AB[:, j], B)\n\u001B[1;32m--> 140\u001B[0m     S1_conf_j \u001B[38;5;241m=\u001B[39m first_order(\u001B[43mA\u001B[49m\u001B[43m[\u001B[49m\u001B[43mr\u001B[49m\u001B[43m]\u001B[49m, AB[r, j], B[r])\n\u001B[0;32m    142\u001B[0m     \u001B[38;5;28;01mif\u001B[39;00m keep_resamples:\n\u001B[0;32m    143\u001B[0m         S[\u001B[38;5;124m\"\u001B[39m\u001B[38;5;124mS1_conf_all\u001B[39m\u001B[38;5;124m\"\u001B[39m][:, j] \u001B[38;5;241m=\u001B[39m S1_conf_j\n",
      "File \u001B[1;32mC:\\App\\Python\\Lib\\site-packages\\pandas\\core\\series.py:1007\u001B[0m, in \u001B[0;36mSeries.__getitem__\u001B[1;34m(self, key)\u001B[0m\n\u001B[0;32m   1004\u001B[0m     key \u001B[38;5;241m=\u001B[39m np\u001B[38;5;241m.\u001B[39masarray(key, dtype\u001B[38;5;241m=\u001B[39m\u001B[38;5;28mbool\u001B[39m)\n\u001B[0;32m   1005\u001B[0m     \u001B[38;5;28;01mreturn\u001B[39;00m \u001B[38;5;28mself\u001B[39m\u001B[38;5;241m.\u001B[39m_get_values(key)\n\u001B[1;32m-> 1007\u001B[0m \u001B[38;5;28;01mreturn\u001B[39;00m \u001B[38;5;28;43mself\u001B[39;49m\u001B[38;5;241;43m.\u001B[39;49m\u001B[43m_get_with\u001B[49m\u001B[43m(\u001B[49m\u001B[43mkey\u001B[49m\u001B[43m)\u001B[49m\n",
      "File \u001B[1;32mC:\\App\\Python\\Lib\\site-packages\\pandas\\core\\series.py:1042\u001B[0m, in \u001B[0;36mSeries._get_with\u001B[1;34m(self, key)\u001B[0m\n\u001B[0;32m   1038\u001B[0m \u001B[38;5;28;01mif\u001B[39;00m key_type \u001B[38;5;241m==\u001B[39m \u001B[38;5;124m\"\u001B[39m\u001B[38;5;124minteger\u001B[39m\u001B[38;5;124m\"\u001B[39m:\n\u001B[0;32m   1039\u001B[0m     \u001B[38;5;66;03m# We need to decide whether to treat this as a positional indexer\u001B[39;00m\n\u001B[0;32m   1040\u001B[0m     \u001B[38;5;66;03m#  (i.e. self.iloc) or label-based (i.e. self.loc)\u001B[39;00m\n\u001B[0;32m   1041\u001B[0m     \u001B[38;5;28;01mif\u001B[39;00m \u001B[38;5;129;01mnot\u001B[39;00m \u001B[38;5;28mself\u001B[39m\u001B[38;5;241m.\u001B[39mindex\u001B[38;5;241m.\u001B[39m_should_fallback_to_positional:\n\u001B[1;32m-> 1042\u001B[0m         \u001B[38;5;28;01mreturn\u001B[39;00m \u001B[38;5;28;43mself\u001B[39;49m\u001B[38;5;241;43m.\u001B[39;49m\u001B[43mloc\u001B[49m\u001B[43m[\u001B[49m\u001B[43mkey\u001B[49m\u001B[43m]\u001B[49m\n\u001B[0;32m   1043\u001B[0m     \u001B[38;5;28;01melse\u001B[39;00m:\n\u001B[0;32m   1044\u001B[0m         \u001B[38;5;28;01mreturn\u001B[39;00m \u001B[38;5;28mself\u001B[39m\u001B[38;5;241m.\u001B[39miloc[key]\n",
      "File \u001B[1;32mC:\\App\\Python\\Lib\\site-packages\\pandas\\core\\indexing.py:1073\u001B[0m, in \u001B[0;36m_LocationIndexer.__getitem__\u001B[1;34m(self, key)\u001B[0m\n\u001B[0;32m   1070\u001B[0m axis \u001B[38;5;241m=\u001B[39m \u001B[38;5;28mself\u001B[39m\u001B[38;5;241m.\u001B[39maxis \u001B[38;5;129;01mor\u001B[39;00m \u001B[38;5;241m0\u001B[39m\n\u001B[0;32m   1072\u001B[0m maybe_callable \u001B[38;5;241m=\u001B[39m com\u001B[38;5;241m.\u001B[39mapply_if_callable(key, \u001B[38;5;28mself\u001B[39m\u001B[38;5;241m.\u001B[39mobj)\n\u001B[1;32m-> 1073\u001B[0m \u001B[38;5;28;01mreturn\u001B[39;00m \u001B[38;5;28;43mself\u001B[39;49m\u001B[38;5;241;43m.\u001B[39;49m\u001B[43m_getitem_axis\u001B[49m\u001B[43m(\u001B[49m\u001B[43mmaybe_callable\u001B[49m\u001B[43m,\u001B[49m\u001B[43m \u001B[49m\u001B[43maxis\u001B[49m\u001B[38;5;241;43m=\u001B[39;49m\u001B[43maxis\u001B[49m\u001B[43m)\u001B[49m\n",
      "File \u001B[1;32mC:\\App\\Python\\Lib\\site-packages\\pandas\\core\\indexing.py:1299\u001B[0m, in \u001B[0;36m_LocIndexer._getitem_axis\u001B[1;34m(self, key, axis)\u001B[0m\n\u001B[0;32m   1296\u001B[0m \u001B[38;5;28;01mif\u001B[39;00m \u001B[38;5;129;01mnot\u001B[39;00m (\u001B[38;5;28misinstance\u001B[39m(key, \u001B[38;5;28mtuple\u001B[39m) \u001B[38;5;129;01mand\u001B[39;00m \u001B[38;5;28misinstance\u001B[39m(labels, MultiIndex)):\n\u001B[0;32m   1298\u001B[0m     \u001B[38;5;28;01mif\u001B[39;00m \u001B[38;5;28mhasattr\u001B[39m(key, \u001B[38;5;124m\"\u001B[39m\u001B[38;5;124mndim\u001B[39m\u001B[38;5;124m\"\u001B[39m) \u001B[38;5;129;01mand\u001B[39;00m key\u001B[38;5;241m.\u001B[39mndim \u001B[38;5;241m>\u001B[39m \u001B[38;5;241m1\u001B[39m:\n\u001B[1;32m-> 1299\u001B[0m         \u001B[38;5;28;01mraise\u001B[39;00m \u001B[38;5;167;01mValueError\u001B[39;00m(\u001B[38;5;124m\"\u001B[39m\u001B[38;5;124mCannot index with multidimensional key\u001B[39m\u001B[38;5;124m\"\u001B[39m)\n\u001B[0;32m   1301\u001B[0m     \u001B[38;5;28;01mreturn\u001B[39;00m \u001B[38;5;28mself\u001B[39m\u001B[38;5;241m.\u001B[39m_getitem_iterable(key, axis\u001B[38;5;241m=\u001B[39maxis)\n\u001B[0;32m   1303\u001B[0m \u001B[38;5;66;03m# nested tuple slicing\u001B[39;00m\n",
      "\u001B[1;31mValueError\u001B[0m: Cannot index with multidimensional key"
     ]
    }
   ],
   "source": [
    "sobol_results = {}\n",
    "\n",
    "for policy in experiments.policy.unique():\n",
    "    print(policy)\n",
    "    logical = experiments.policy == policy\n",
    "    print(logical)\n",
    "    y = results['Expected Annual Damage'][logical]\n",
    "    print(y)\n",
    "    indices = analyze(problem, y)\n",
    "    sobol_results[policy] = indices\n",
    "\n",
    "fig, axes = plt.subplots(1,3)\n",
    "fig.set_size_inches(8, 4)\n",
    "indices.plot(ax=axes)"
   ],
   "metadata": {
    "collapsed": false
   }
  },
  {
   "cell_type": "markdown",
   "source": [],
   "metadata": {
    "collapsed": false
   }
  },
  {
   "cell_type": "markdown",
   "source": [],
   "metadata": {
    "collapsed": false
   }
  },
  {
   "cell_type": "markdown",
   "source": [],
   "metadata": {
    "collapsed": false
   }
  },
  {
   "cell_type": "markdown",
   "source": [],
   "metadata": {
    "collapsed": false
   }
  },
  {
   "cell_type": "markdown",
   "source": [],
   "metadata": {
    "collapsed": false
   }
  },
  {
   "cell_type": "code",
   "execution_count": null,
   "outputs": [],
   "source": [
    "# Read and view the data\n",
    "data = pd.read_csv('data/output_data/policies.csv', index_col=None)\n",
    "print(f\"Shape of data: {data.shape[0]} rows, {data.shape[1]} columns.\")\n",
    "data.head(3)"
   ],
   "metadata": {
    "collapsed": false,
    "ExecuteTime": {
     "start_time": "2023-06-19T11:01:26.706859Z",
     "end_time": "2023-06-19T11:01:26.750318Z"
    }
   }
  },
  {
   "cell_type": "code",
   "execution_count": null,
   "outputs": [],
   "source": [
    "# Select the experiments\n",
    "x = data.iloc[:, 2:11] #zelf verzetten naar goede aantal colommen\n",
    "print(f\"Columns in x: {x.columns.values}\")"
   ],
   "metadata": {
    "collapsed": false,
    "ExecuteTime": {
     "start_time": "2023-06-19T10:58:55.425202Z",
     "end_time": "2023-06-19T10:58:55.504334Z"
    }
   }
  },
  {
   "cell_type": "code",
   "execution_count": null,
   "outputs": [],
   "source": [
    "# Select the outcome\n",
    "y = data.iloc[:, 15].values #zelfde hiervoor"
   ],
   "metadata": {
    "collapsed": false,
    "ExecuteTime": {
     "start_time": "2023-06-19T10:58:56.443267Z",
     "end_time": "2023-06-19T10:58:56.484688Z"
    }
   }
  },
  {
   "cell_type": "markdown",
   "source": [
    "## Prim"
   ],
   "metadata": {
    "collapsed": false
   }
  },
  {
   "cell_type": "code",
   "execution_count": null,
   "outputs": [],
   "source": [
    "prim_alg = prim.Prim(x, y, threshold=0.8, peel_alpha=0.1)\n",
    "box1 = prim_alg.find_box()"
   ],
   "metadata": {
    "collapsed": false
   }
  },
  {
   "cell_type": "code",
   "execution_count": null,
   "outputs": [],
   "source": [
    "box1.show_tradeoff(annotated=True)\n",
    "plt.show()"
   ],
   "metadata": {
    "collapsed": false
   }
  },
  {
   "cell_type": "code",
   "execution_count": null,
   "outputs": [],
   "source": [
    "point = 19\n",
    "box1.inspect(point)"
   ],
   "metadata": {
    "collapsed": false
   }
  },
  {
   "cell_type": "code",
   "execution_count": null,
   "outputs": [],
   "source": [
    "box1.inspect(point, style='graph')\n",
    "plt.show()"
   ],
   "metadata": {
    "collapsed": false
   }
  },
  {
   "cell_type": "code",
   "execution_count": null,
   "outputs": [],
   "source": [
    "box1.resample(point)"
   ],
   "metadata": {
    "collapsed": false
   }
  },
  {
   "cell_type": "code",
   "execution_count": null,
   "outputs": [],
   "source": [
    "box1.select(21)\n",
    "box1.show_pairs_scatter()\n",
    "fig = plt.gcf()\n",
    "fig.set_size_inches(12,12)\n",
    "plt.show()"
   ],
   "metadata": {
    "collapsed": false
   }
  },
  {
   "cell_type": "code",
   "execution_count": null,
   "outputs": [],
   "source": [
    "# Read and select the data\n",
    "data = pd.read_csv('./data/Rozenberg et al 2014.csv', index_col=None)\n",
    "x = data.iloc[:, 0:7]\n",
    "y = data.iloc[:, 7].values # change to higher index for different SSP's"
   ],
   "metadata": {
    "collapsed": false
   }
  },
  {
   "cell_type": "code",
   "execution_count": null,
   "outputs": [],
   "source": [
    "# Peel alpha controls the leniency of the algorithm, the higher, the less lenient\n",
    "# The meaning of peel_alpha is the percentile of the data that is to be removed\n",
    "prim_obj = prim.Prim(x, y, mass_min=0.001, threshold=0.16,\n",
    "                     peel_alpha=0.01)\n",
    "box2 = prim_obj.find_box()"
   ],
   "metadata": {
    "collapsed": false
   }
  },
  {
   "cell_type": "code",
   "execution_count": null,
   "outputs": [],
   "source": [
    "# Plot the trade-off curve\n",
    "box2.show_tradeoff(annotated=True)\n",
    "plt.show()"
   ],
   "metadata": {
    "collapsed": false
   }
  },
  {
   "cell_type": "code",
   "execution_count": null,
   "outputs": [],
   "source": [
    "# Inspect a specific point on the trade-off curve\n",
    "box2.inspect(3)\n",
    "plt.show()"
   ],
   "metadata": {
    "collapsed": false
   }
  }
 ],
 "metadata": {
  "kernelspec": {
   "display_name": "Python 3",
   "language": "python",
   "name": "python3"
  },
  "language_info": {
   "codemirror_mode": {
    "name": "ipython",
    "version": 2
   },
   "file_extension": ".py",
   "mimetype": "text/x-python",
   "name": "python",
   "nbconvert_exporter": "python",
   "pygments_lexer": "ipython2",
   "version": "2.7.6"
  }
 },
 "nbformat": 4,
 "nbformat_minor": 0
}
