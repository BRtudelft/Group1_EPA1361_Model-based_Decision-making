{
 "cells": [
  {
   "cell_type": "markdown",
   "source": [
    "# Scenario discovery & trade-off analysis\n",
    "\n",
    "Check robustness of policies\n",
    "- PRIM\n",
    "- Sobol\n",
    "- Exam trade-offs\n",
    "\n",
    "Evt: MORO - dan ook aanpassen in tekst - checken robustness\n",
    "\n",
    "Uitzoeken: multi-scenario mordm toepassen"
   ],
   "metadata": {
    "collapsed": false
   }
  },
  {
   "cell_type": "code",
   "execution_count": null,
   "outputs": [],
   "source": [],
   "metadata": {
    "collapsed": false
   }
  }
 ],
 "metadata": {
  "kernelspec": {
   "display_name": "Python 3",
   "language": "python",
   "name": "python3"
  },
  "language_info": {
   "codemirror_mode": {
    "name": "ipython",
    "version": 2
   },
   "file_extension": ".py",
   "mimetype": "text/x-python",
   "name": "python",
   "nbconvert_exporter": "python",
   "pygments_lexer": "ipython2",
   "version": "2.7.6"
  }
 },
 "nbformat": 4,
 "nbformat_minor": 0
}
